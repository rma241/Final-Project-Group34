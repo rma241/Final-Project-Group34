{
 "cells": [
  {
   "cell_type": "markdown",
   "id": "d4c5a136-e872-4846-9965-9ddc5251a0b3",
   "metadata": {},
   "source": [
    "# NYC Apartment Search\n",
    "\n",
    "_[Project prompt](https://docs.google.com/document/d/1BYVyFBDcTywdUlanH0ysfOrNWPgl7UkqXA7NeewTzxA/edit#heading=h.bpxu7uvknnbk)_\n",
    "\n",
    "_This scaffolding notebook may be used to help setup your final project. It's **totally optional** whether you make use of this or not._\n",
    "\n",
    "_If you do use this notebook, everything provided is optional as well - you may remove or add code as you wish._\n",
    "\n",
    "_**All code below should be consider \"pseudo-code\" - not functional by itself, and only an idea of a possible approach.**_"
   ]
  },
  {
   "cell_type": "markdown",
   "id": "bdf11fa0-4684-4f5e-8048-0f4cc5f4f243",
   "metadata": {},
   "source": [
    "## Setup"
   ]
  },
  {
   "cell_type": "code",
   "execution_count": 1,
   "id": "0f675d4b-794e-407c-aac9-b85c4a3975d2",
   "metadata": {},
   "outputs": [],
   "source": [
    "# All import statements needed for the project, for example:\n",
    "\n",
    "import json\n",
    "import pathlib\n",
    "import urllib.parse\n",
    "import geoalchemy2 as gdb\n",
    "from geoalchemy2 import WKTElement\n",
    "from geoalchemy2 import Geometry\n",
    "import geopandas as gpd\n",
    "import matplotlib.pyplot as plt\n",
    "import pandas as pd\n",
    "import requests\n",
    "import shapely\n",
    "import sqlalchemy as db\n",
    "from sqlalchemy import create_engine, text\n",
    "import numpy as np\n",
    "from shapely import wkt\n",
    "import psycopg2\n",
    "\n",
    "from sqlalchemy.orm import declarative_base"
   ]
  },
  {
   "cell_type": "code",
   "execution_count": 2,
   "id": "70a62277-51cf-48a2-81d2-9b2127088a7e",
   "metadata": {},
   "outputs": [],
   "source": [
    "# Any constants you might need; some have been added for you\n",
    "\n",
    "# Where data files will be read from/written to - this should already exist\n",
    "DATA_DIR = pathlib.Path(\"data\")\n",
    "#DATA_DIR = pathlib.Path(\"/Users/sun/Documents/GitHub/Final-Project-Group34/data\")\n",
    "ZIPCODE_DATA_FILE = DATA_DIR / \"nyc_zipcodes\" / \"nyc_zipcodes.shp\" \n",
    "ZILLOW_DATA_FILE = DATA_DIR / \"zillow_rent_data.csv\"\n",
    "\n",
    "\n",
    "NYC_DATA_APP_TOKEN = \"ViHT9fZpI3IQw23Bqm2tTgCVE\"\n",
    "BASE_NYC_DATA_URL = \"https://data.cityofnewyork.us/\"\n",
    "NYC_DATA_311 = \"erm2-nwe9.geojson\"\n",
    "NYC_DATA_TREES = \"5rq2-4hqu.geojson\"\n",
    "\n",
    "DB_NAME = \"Final_project\"\n",
    "DB_USER = \"postgres\"\n",
    "DB_PASSWORD = \"yq001018\"\n",
    "DB_HOST = \"localhost\"  \n",
    "DB_PORT = \"5432\" \n",
    "\n",
    "DB_URL = f\"postgresql://{DB_USER}:{DB_PASSWORD}@{DB_HOST}:{DB_PORT}/{DB_NAME}\"\n",
    "DB_SCHEMA_FILE = \"schema.sql\"\n",
    "\n",
    "# directory where DB queries for Part 3 will be saved\n",
    "QUERY_DIR = pathlib.Path(\"/Users/sun/Documents/GitHub/Final-Project-Group34/queries\")\n",
    "QUERY_DIR = pathlib.Path(\"queries\")\n",
    "\n",
    "# 2015-01-01\n",
    "endpoint_331 = f\"{BASE_NYC_DATA_URL}resource/{NYC_DATA_311}?\\\n",
    "$select= unique_key, created_date,incident_zip,complaint_type&\\\n",
    "$where= created_date between '2022-10-01' and'2023-10-01'&$limit=24336506&\\\n",
    "$$app_token={NYC_DATA_APP_TOKEN}\"\n",
    "\n",
    "endpoint_trees = f\"{BASE_NYC_DATA_URL}resource/{NYC_DATA_TREES}?\"\\\n",
    "                 \"$select=tree_id,the_geom,zipcode,zip_city,health,spc_common&\"\\\n",
    "                 f\"$$app_token={NYC_DATA_APP_TOKEN}&$limit=65000 &$where= zip_city='New York'\""
   ]
  },
  {
   "cell_type": "markdown",
   "id": "52476a07-9bf2-4b7a-8cb7-93648bb4d303",
   "metadata": {},
   "source": [
    "## Part 1: Data Preprocessing"
   ]
  },
  {
   "cell_type": "code",
   "execution_count": 20,
   "id": "ee245240-2fbb-45b8-9a92-4e2368f62c60",
   "metadata": {},
   "outputs": [],
   "source": [
    "def load_and_clean_zipcodes():\n",
    "    zipcodes_df = gpd.read_file(ZIPCODE_DATA_FILE)\n",
    "    zipcodes_df = zipcodes_df[zipcodes_df['PO_NAME'] == 'New York']\n",
    "    zipcodes_df[[\"ZIPCODE\",\"geometry\"]]\n",
    "    zipcodes_df.rename(columns={'ZIPCODE': 'zipcode'}, inplace=True)\n",
    "    return zipcodes_df[[\"zipcode\",\"geometry\"]]"
   ]
  },
  {
   "cell_type": "code",
   "execution_count": 21,
   "id": "eed2a5a9-1027-4c41-bbb5-039c32ce7e9b",
   "metadata": {},
   "outputs": [],
   "source": [
    "def download_and_clean_311_data():\n",
    "    content = requests.get(endpoint_331)\n",
    "    data_331 = gpd.read_file(content.text)\n",
    "    return data_331[[\"unique_key\",\"created_date\",\"incident_zip\",\"complaint_type\"]]"
   ]
  },
  {
   "cell_type": "code",
   "execution_count": 22,
   "id": "39c4b1bc-c841-4b87-8301-1dc2cafeccc7",
   "metadata": {},
   "outputs": [],
   "source": [
    "def download_and_clean_tree_data():\n",
    "    content = requests.get(endpoint_trees)\n",
    "    data_tree = gpd.read_file(content.text).reset_index()\n",
    "    data_tree.rename(columns={data_tree.columns[4]: 'species'}, inplace=True)\n",
    "    data_tree.rename(columns={data_tree.columns[6]: 'geometry'}, inplace=True)\n",
    "    return data_tree[[\"tree_id\",\"geometry\",\"zipcode\",\"health\",\"species\"]]"
   ]
  },
  {
   "cell_type": "code",
   "execution_count": 23,
   "id": "747ff49f-a18b-4fc0-8da6-6834a10d11ce",
   "metadata": {},
   "outputs": [],
   "source": [
    "def load_and_clean_zillow_data():\n",
    "    zillow_df = gpd.read_file(ZILLOW_DATA_FILE)\n",
    "    zillow_df = zillow_df[zillow_df['City'] == 'New York']\n",
    "    date_columns = [col for col in zillow_df if col >= '2015-01-31' and col <= '2023-09-30']\n",
    "\n",
    "    for col in date_columns:\n",
    "        zillow_df[col] = pd.to_numeric(zillow_df[col], errors='coerce')\n",
    "    \n",
    "    zillow_df['AverageRent'] = zillow_df[date_columns].mean(axis=1, skipna=True,)\n",
    "    zillow_df.rename(columns={'RegionName': 'Zip_code'},inplace=True)\n",
    "    return zillow_df[[\"RegionID\",'Zip_code',\"AverageRent\"] + date_columns]"
   ]
  },
  {
   "cell_type": "code",
   "execution_count": 24,
   "id": "345ebc2c-14f1-490c-9857-11f1e332e3bc",
   "metadata": {},
   "outputs": [],
   "source": [
    "def load_all_data():\n",
    "    geodf_zipcode_data = load_and_clean_zipcodes()\n",
    "    geodf_311_data = download_and_clean_311_data()\n",
    "    geodf_tree_data = download_and_clean_tree_data()\n",
    "    df_zillow_data = load_and_clean_zillow_data()\n",
    "    return (\n",
    "        geodf_zipcode_data,\n",
    "        geodf_311_data,\n",
    "        geodf_tree_data,\n",
    "        df_zillow_data\n",
    "    )"
   ]
  },
  {
   "cell_type": "code",
   "execution_count": 25,
   "id": "f2768bc8-4130-4298-be28-13d4b250a666",
   "metadata": {},
   "outputs": [],
   "source": [
    "geodf_zipcode_data, geodf_311_data, geodf_tree_data, df_zillow_data = load_all_data()"
   ]
  },
  {
   "cell_type": "code",
   "execution_count": 26,
   "id": "23ad8bbc-bf91-457e-97db-a945fabeee29",
   "metadata": {
    "scrolled": false
   },
   "outputs": [
    {
     "name": "stdout",
     "output_type": "stream",
     "text": [
      "<class 'geopandas.geodataframe.GeoDataFrame'>\n",
      "Int64Index: 110 entries, 21 to 262\n",
      "Data columns (total 2 columns):\n",
      " #   Column    Non-Null Count  Dtype   \n",
      "---  ------    --------------  -----   \n",
      " 0   zipcode   110 non-null    object  \n",
      " 1   geometry  110 non-null    geometry\n",
      "dtypes: geometry(1), object(1)\n",
      "memory usage: 2.6+ KB\n"
     ]
    }
   ],
   "source": [
    "# Show basic info about each dataframe\n",
    "geodf_zipcode_data.info()"
   ]
  },
  {
   "cell_type": "code",
   "execution_count": 27,
   "id": "ec68f4be-f365-46c1-91a1-ab75deb75ff4",
   "metadata": {},
   "outputs": [
    {
     "data": {
      "text/html": [
       "<div>\n",
       "<style scoped>\n",
       "    .dataframe tbody tr th:only-of-type {\n",
       "        vertical-align: middle;\n",
       "    }\n",
       "\n",
       "    .dataframe tbody tr th {\n",
       "        vertical-align: top;\n",
       "    }\n",
       "\n",
       "    .dataframe thead th {\n",
       "        text-align: right;\n",
       "    }\n",
       "</style>\n",
       "<table border=\"1\" class=\"dataframe\">\n",
       "  <thead>\n",
       "    <tr style=\"text-align: right;\">\n",
       "      <th></th>\n",
       "      <th>zipcode</th>\n",
       "      <th>geometry</th>\n",
       "    </tr>\n",
       "  </thead>\n",
       "  <tbody>\n",
       "    <tr>\n",
       "      <th>21</th>\n",
       "      <td>10034</td>\n",
       "      <td>POLYGON ((1006203.169 257345.657, 1006214.666 ...</td>\n",
       "    </tr>\n",
       "    <tr>\n",
       "      <th>22</th>\n",
       "      <td>10033</td>\n",
       "      <td>POLYGON ((1003020.865 256049.162, 1003096.046 ...</td>\n",
       "    </tr>\n",
       "    <tr>\n",
       "      <th>24</th>\n",
       "      <td>10040</td>\n",
       "      <td>POLYGON ((1002564.135 253724.773, 1002596.698 ...</td>\n",
       "    </tr>\n",
       "    <tr>\n",
       "      <th>32</th>\n",
       "      <td>10032</td>\n",
       "      <td>POLYGON ((998935.853 249154.260, 998945.457 24...</td>\n",
       "    </tr>\n",
       "    <tr>\n",
       "      <th>36</th>\n",
       "      <td>10031</td>\n",
       "      <td>POLYGON ((1000830.039 241801.590, 1000913.103 ...</td>\n",
       "    </tr>\n",
       "  </tbody>\n",
       "</table>\n",
       "</div>"
      ],
      "text/plain": [
       "   zipcode                                           geometry\n",
       "21   10034  POLYGON ((1006203.169 257345.657, 1006214.666 ...\n",
       "22   10033  POLYGON ((1003020.865 256049.162, 1003096.046 ...\n",
       "24   10040  POLYGON ((1002564.135 253724.773, 1002596.698 ...\n",
       "32   10032  POLYGON ((998935.853 249154.260, 998945.457 24...\n",
       "36   10031  POLYGON ((1000830.039 241801.590, 1000913.103 ..."
      ]
     },
     "execution_count": 27,
     "metadata": {},
     "output_type": "execute_result"
    }
   ],
   "source": [
    "# Show first 5 entries about each dataframe\n",
    "geodf_zipcode_data.head()"
   ]
  },
  {
   "cell_type": "code",
   "execution_count": 28,
   "id": "6a803b68-2f07-44b8-8b24-d4f16c9e03fe",
   "metadata": {},
   "outputs": [
    {
     "name": "stdout",
     "output_type": "stream",
     "text": [
      "<class 'pandas.core.frame.DataFrame'>\n",
      "RangeIndex: 3144569 entries, 0 to 3144568\n",
      "Data columns (total 4 columns):\n",
      " #   Column          Dtype         \n",
      "---  ------          -----         \n",
      " 0   unique_key      object        \n",
      " 1   created_date    datetime64[ns]\n",
      " 2   incident_zip    object        \n",
      " 3   complaint_type  object        \n",
      "dtypes: datetime64[ns](1), object(3)\n",
      "memory usage: 96.0+ MB\n"
     ]
    }
   ],
   "source": [
    "geodf_311_data.info()"
   ]
  },
  {
   "cell_type": "code",
   "execution_count": 29,
   "id": "14705df9-ea77-4d57-ac8e-1845f80a216d",
   "metadata": {},
   "outputs": [
    {
     "data": {
      "text/html": [
       "<div>\n",
       "<style scoped>\n",
       "    .dataframe tbody tr th:only-of-type {\n",
       "        vertical-align: middle;\n",
       "    }\n",
       "\n",
       "    .dataframe tbody tr th {\n",
       "        vertical-align: top;\n",
       "    }\n",
       "\n",
       "    .dataframe thead th {\n",
       "        text-align: right;\n",
       "    }\n",
       "</style>\n",
       "<table border=\"1\" class=\"dataframe\">\n",
       "  <thead>\n",
       "    <tr style=\"text-align: right;\">\n",
       "      <th></th>\n",
       "      <th>unique_key</th>\n",
       "      <th>created_date</th>\n",
       "      <th>incident_zip</th>\n",
       "      <th>complaint_type</th>\n",
       "    </tr>\n",
       "  </thead>\n",
       "  <tbody>\n",
       "    <tr>\n",
       "      <th>0</th>\n",
       "      <td>58974915</td>\n",
       "      <td>2023-09-30 23:59:58</td>\n",
       "      <td>11226</td>\n",
       "      <td>Noise - Street/Sidewalk</td>\n",
       "    </tr>\n",
       "    <tr>\n",
       "      <th>1</th>\n",
       "      <td>58972386</td>\n",
       "      <td>2023-09-30 23:59:38</td>\n",
       "      <td>11361</td>\n",
       "      <td>Noise - Residential</td>\n",
       "    </tr>\n",
       "    <tr>\n",
       "      <th>2</th>\n",
       "      <td>58973465</td>\n",
       "      <td>2023-09-30 23:59:35</td>\n",
       "      <td>10002</td>\n",
       "      <td>Noise - Commercial</td>\n",
       "    </tr>\n",
       "    <tr>\n",
       "      <th>3</th>\n",
       "      <td>58974769</td>\n",
       "      <td>2023-09-30 23:59:34</td>\n",
       "      <td>11435</td>\n",
       "      <td>Noise - Residential</td>\n",
       "    </tr>\n",
       "    <tr>\n",
       "      <th>4</th>\n",
       "      <td>58968700</td>\n",
       "      <td>2023-09-30 23:59:28</td>\n",
       "      <td>11226</td>\n",
       "      <td>Noise - Residential</td>\n",
       "    </tr>\n",
       "  </tbody>\n",
       "</table>\n",
       "</div>"
      ],
      "text/plain": [
       "  unique_key        created_date incident_zip           complaint_type\n",
       "0   58974915 2023-09-30 23:59:58        11226  Noise - Street/Sidewalk\n",
       "1   58972386 2023-09-30 23:59:38        11361      Noise - Residential\n",
       "2   58973465 2023-09-30 23:59:35        10002       Noise - Commercial\n",
       "3   58974769 2023-09-30 23:59:34        11435      Noise - Residential\n",
       "4   58968700 2023-09-30 23:59:28        11226      Noise - Residential"
      ]
     },
     "execution_count": 29,
     "metadata": {},
     "output_type": "execute_result"
    }
   ],
   "source": [
    "geodf_311_data.head()"
   ]
  },
  {
   "cell_type": "code",
   "execution_count": 30,
   "id": "e6006cd2-3a00-4660-8d2a-a660b9bfd91e",
   "metadata": {},
   "outputs": [
    {
     "name": "stdout",
     "output_type": "stream",
     "text": [
      "<class 'geopandas.geodataframe.GeoDataFrame'>\n",
      "RangeIndex: 64488 entries, 0 to 64487\n",
      "Data columns (total 5 columns):\n",
      " #   Column    Non-Null Count  Dtype   \n",
      "---  ------    --------------  -----   \n",
      " 0   tree_id   64488 non-null  object  \n",
      " 1   geometry  64488 non-null  geometry\n",
      " 2   zipcode   64488 non-null  object  \n",
      " 3   health    61495 non-null  object  \n",
      " 4   species   61496 non-null  object  \n",
      "dtypes: geometry(1), object(4)\n",
      "memory usage: 2.5+ MB\n"
     ]
    }
   ],
   "source": [
    "geodf_tree_data.info()"
   ]
  },
  {
   "cell_type": "code",
   "execution_count": 31,
   "id": "07f880ef-c5fc-4159-8174-21ccd44f492d",
   "metadata": {},
   "outputs": [
    {
     "data": {
      "text/html": [
       "<div>\n",
       "<style scoped>\n",
       "    .dataframe tbody tr th:only-of-type {\n",
       "        vertical-align: middle;\n",
       "    }\n",
       "\n",
       "    .dataframe tbody tr th {\n",
       "        vertical-align: top;\n",
       "    }\n",
       "\n",
       "    .dataframe thead th {\n",
       "        text-align: right;\n",
       "    }\n",
       "</style>\n",
       "<table border=\"1\" class=\"dataframe\">\n",
       "  <thead>\n",
       "    <tr style=\"text-align: right;\">\n",
       "      <th></th>\n",
       "      <th>tree_id</th>\n",
       "      <th>geometry</th>\n",
       "      <th>zipcode</th>\n",
       "      <th>health</th>\n",
       "      <th>species</th>\n",
       "    </tr>\n",
       "  </thead>\n",
       "  <tbody>\n",
       "    <tr>\n",
       "      <th>0</th>\n",
       "      <td>190422</td>\n",
       "      <td>POINT (-73.98495 40.77005)</td>\n",
       "      <td>10023</td>\n",
       "      <td>Good</td>\n",
       "      <td>honeylocust</td>\n",
       "    </tr>\n",
       "    <tr>\n",
       "      <th>1</th>\n",
       "      <td>190426</td>\n",
       "      <td>POINT (-73.98534 40.77021)</td>\n",
       "      <td>10023</td>\n",
       "      <td>Good</td>\n",
       "      <td>honeylocust</td>\n",
       "    </tr>\n",
       "    <tr>\n",
       "      <th>2</th>\n",
       "      <td>208649</td>\n",
       "      <td>POINT (-73.98730 40.76272)</td>\n",
       "      <td>10019</td>\n",
       "      <td>Good</td>\n",
       "      <td>American linden</td>\n",
       "    </tr>\n",
       "    <tr>\n",
       "      <th>3</th>\n",
       "      <td>193310</td>\n",
       "      <td>POINT (-73.96046 40.77217)</td>\n",
       "      <td>10021</td>\n",
       "      <td>Good</td>\n",
       "      <td>honeylocust</td>\n",
       "    </tr>\n",
       "    <tr>\n",
       "      <th>4</th>\n",
       "      <td>199760</td>\n",
       "      <td>POINT (-73.98096 40.78209)</td>\n",
       "      <td>10024</td>\n",
       "      <td>Fair</td>\n",
       "      <td>willow oak</td>\n",
       "    </tr>\n",
       "  </tbody>\n",
       "</table>\n",
       "</div>"
      ],
      "text/plain": [
       "  tree_id                    geometry zipcode health          species\n",
       "0  190422  POINT (-73.98495 40.77005)   10023   Good      honeylocust\n",
       "1  190426  POINT (-73.98534 40.77021)   10023   Good      honeylocust\n",
       "2  208649  POINT (-73.98730 40.76272)   10019   Good  American linden\n",
       "3  193310  POINT (-73.96046 40.77217)   10021   Good      honeylocust\n",
       "4  199760  POINT (-73.98096 40.78209)   10024   Fair       willow oak"
      ]
     },
     "execution_count": 31,
     "metadata": {},
     "output_type": "execute_result"
    }
   ],
   "source": [
    "geodf_tree_data.head()"
   ]
  },
  {
   "cell_type": "code",
   "execution_count": 32,
   "id": "59724f74-5f1e-435c-b843-f381a875dd4a",
   "metadata": {},
   "outputs": [
    {
     "name": "stdout",
     "output_type": "stream",
     "text": [
      "<class 'pandas.core.frame.DataFrame'>\n",
      "Int64Index: 145 entries, 4 to 6721\n",
      "Columns: 108 entries, RegionID to 2023-09-30\n",
      "dtypes: float64(106), object(2)\n",
      "memory usage: 123.5+ KB\n"
     ]
    }
   ],
   "source": [
    "df_zillow_data.info()"
   ]
  },
  {
   "cell_type": "code",
   "execution_count": 33,
   "id": "e29ae5d9-9768-4590-a2f2-dd63b07dd712",
   "metadata": {},
   "outputs": [
    {
     "data": {
      "text/html": [
       "<div>\n",
       "<style scoped>\n",
       "    .dataframe tbody tr th:only-of-type {\n",
       "        vertical-align: middle;\n",
       "    }\n",
       "\n",
       "    .dataframe tbody tr th {\n",
       "        vertical-align: top;\n",
       "    }\n",
       "\n",
       "    .dataframe thead th {\n",
       "        text-align: right;\n",
       "    }\n",
       "</style>\n",
       "<table border=\"1\" class=\"dataframe\">\n",
       "  <thead>\n",
       "    <tr style=\"text-align: right;\">\n",
       "      <th></th>\n",
       "      <th>RegionID</th>\n",
       "      <th>Zip_code</th>\n",
       "      <th>AverageRent</th>\n",
       "      <th>2015-01-31</th>\n",
       "      <th>2015-02-28</th>\n",
       "      <th>2015-03-31</th>\n",
       "      <th>2015-04-30</th>\n",
       "      <th>2015-05-31</th>\n",
       "      <th>2015-06-30</th>\n",
       "      <th>2015-07-31</th>\n",
       "      <th>...</th>\n",
       "      <th>2022-12-31</th>\n",
       "      <th>2023-01-31</th>\n",
       "      <th>2023-02-28</th>\n",
       "      <th>2023-03-31</th>\n",
       "      <th>2023-04-30</th>\n",
       "      <th>2023-05-31</th>\n",
       "      <th>2023-06-30</th>\n",
       "      <th>2023-07-31</th>\n",
       "      <th>2023-08-31</th>\n",
       "      <th>2023-09-30</th>\n",
       "    </tr>\n",
       "  </thead>\n",
       "  <tbody>\n",
       "    <tr>\n",
       "      <th>4</th>\n",
       "      <td>62093</td>\n",
       "      <td>11385</td>\n",
       "      <td>2476.923402</td>\n",
       "      <td>NaN</td>\n",
       "      <td>2087.527084</td>\n",
       "      <td>NaN</td>\n",
       "      <td>2149.924252</td>\n",
       "      <td>2166.263698</td>\n",
       "      <td>2148.992886</td>\n",
       "      <td>2190.098591</td>\n",
       "      <td>...</td>\n",
       "      <td>2935.808220</td>\n",
       "      <td>2895.699421</td>\n",
       "      <td>2873.209025</td>\n",
       "      <td>2881.906361</td>\n",
       "      <td>2913.546218</td>\n",
       "      <td>2963.964134</td>\n",
       "      <td>3005.735342</td>\n",
       "      <td>3034.413822</td>\n",
       "      <td>3064.476503</td>\n",
       "      <td>3079.585783</td>\n",
       "    </tr>\n",
       "    <tr>\n",
       "      <th>6</th>\n",
       "      <td>62019</td>\n",
       "      <td>11208</td>\n",
       "      <td>2560.469803</td>\n",
       "      <td>NaN</td>\n",
       "      <td>NaN</td>\n",
       "      <td>NaN</td>\n",
       "      <td>NaN</td>\n",
       "      <td>NaN</td>\n",
       "      <td>NaN</td>\n",
       "      <td>NaN</td>\n",
       "      <td>...</td>\n",
       "      <td>2508.670432</td>\n",
       "      <td>2588.030194</td>\n",
       "      <td>2613.790654</td>\n",
       "      <td>2585.561351</td>\n",
       "      <td>2633.200754</td>\n",
       "      <td>2672.038493</td>\n",
       "      <td>2806.918757</td>\n",
       "      <td>2765.224364</td>\n",
       "      <td>2737.547470</td>\n",
       "      <td>2728.733333</td>\n",
       "    </tr>\n",
       "    <tr>\n",
       "      <th>12</th>\n",
       "      <td>62046</td>\n",
       "      <td>11236</td>\n",
       "      <td>2323.980013</td>\n",
       "      <td>NaN</td>\n",
       "      <td>NaN</td>\n",
       "      <td>NaN</td>\n",
       "      <td>NaN</td>\n",
       "      <td>NaN</td>\n",
       "      <td>NaN</td>\n",
       "      <td>NaN</td>\n",
       "      <td>...</td>\n",
       "      <td>NaN</td>\n",
       "      <td>NaN</td>\n",
       "      <td>NaN</td>\n",
       "      <td>NaN</td>\n",
       "      <td>NaN</td>\n",
       "      <td>NaN</td>\n",
       "      <td>NaN</td>\n",
       "      <td>NaN</td>\n",
       "      <td>2285.460026</td>\n",
       "      <td>2362.500000</td>\n",
       "    </tr>\n",
       "    <tr>\n",
       "      <th>13</th>\n",
       "      <td>61807</td>\n",
       "      <td>10467</td>\n",
       "      <td>1861.072982</td>\n",
       "      <td>NaN</td>\n",
       "      <td>NaN</td>\n",
       "      <td>NaN</td>\n",
       "      <td>NaN</td>\n",
       "      <td>NaN</td>\n",
       "      <td>NaN</td>\n",
       "      <td>NaN</td>\n",
       "      <td>...</td>\n",
       "      <td>2145.642295</td>\n",
       "      <td>2155.617718</td>\n",
       "      <td>2172.346611</td>\n",
       "      <td>2160.962748</td>\n",
       "      <td>2110.533203</td>\n",
       "      <td>2180.323655</td>\n",
       "      <td>2276.372290</td>\n",
       "      <td>2334.204728</td>\n",
       "      <td>2353.686402</td>\n",
       "      <td>2423.888889</td>\n",
       "    </tr>\n",
       "    <tr>\n",
       "      <th>14</th>\n",
       "      <td>62085</td>\n",
       "      <td>11373</td>\n",
       "      <td>2084.549636</td>\n",
       "      <td>NaN</td>\n",
       "      <td>NaN</td>\n",
       "      <td>NaN</td>\n",
       "      <td>NaN</td>\n",
       "      <td>NaN</td>\n",
       "      <td>NaN</td>\n",
       "      <td>NaN</td>\n",
       "      <td>...</td>\n",
       "      <td>2199.459063</td>\n",
       "      <td>2255.604528</td>\n",
       "      <td>2262.101623</td>\n",
       "      <td>2271.514956</td>\n",
       "      <td>2250.182334</td>\n",
       "      <td>2231.959479</td>\n",
       "      <td>2257.413993</td>\n",
       "      <td>2247.592851</td>\n",
       "      <td>2302.557354</td>\n",
       "      <td>2292.994444</td>\n",
       "    </tr>\n",
       "  </tbody>\n",
       "</table>\n",
       "<p>5 rows × 108 columns</p>\n",
       "</div>"
      ],
      "text/plain": [
       "   RegionID Zip_code  AverageRent  2015-01-31   2015-02-28  2015-03-31  \\\n",
       "4     62093    11385  2476.923402         NaN  2087.527084         NaN   \n",
       "6     62019    11208  2560.469803         NaN          NaN         NaN   \n",
       "12    62046    11236  2323.980013         NaN          NaN         NaN   \n",
       "13    61807    10467  1861.072982         NaN          NaN         NaN   \n",
       "14    62085    11373  2084.549636         NaN          NaN         NaN   \n",
       "\n",
       "     2015-04-30   2015-05-31   2015-06-30   2015-07-31  ...   2022-12-31  \\\n",
       "4   2149.924252  2166.263698  2148.992886  2190.098591  ...  2935.808220   \n",
       "6           NaN          NaN          NaN          NaN  ...  2508.670432   \n",
       "12          NaN          NaN          NaN          NaN  ...          NaN   \n",
       "13          NaN          NaN          NaN          NaN  ...  2145.642295   \n",
       "14          NaN          NaN          NaN          NaN  ...  2199.459063   \n",
       "\n",
       "     2023-01-31   2023-02-28   2023-03-31   2023-04-30   2023-05-31  \\\n",
       "4   2895.699421  2873.209025  2881.906361  2913.546218  2963.964134   \n",
       "6   2588.030194  2613.790654  2585.561351  2633.200754  2672.038493   \n",
       "12          NaN          NaN          NaN          NaN          NaN   \n",
       "13  2155.617718  2172.346611  2160.962748  2110.533203  2180.323655   \n",
       "14  2255.604528  2262.101623  2271.514956  2250.182334  2231.959479   \n",
       "\n",
       "     2023-06-30   2023-07-31   2023-08-31   2023-09-30  \n",
       "4   3005.735342  3034.413822  3064.476503  3079.585783  \n",
       "6   2806.918757  2765.224364  2737.547470  2728.733333  \n",
       "12          NaN          NaN  2285.460026  2362.500000  \n",
       "13  2276.372290  2334.204728  2353.686402  2423.888889  \n",
       "14  2257.413993  2247.592851  2302.557354  2292.994444  \n",
       "\n",
       "[5 rows x 108 columns]"
      ]
     },
     "execution_count": 33,
     "metadata": {},
     "output_type": "execute_result"
    }
   ],
   "source": [
    "df_zillow_data.head()"
   ]
  },
  {
   "cell_type": "markdown",
   "id": "e685942c-26dc-40db-84c2-a71aa3340806",
   "metadata": {},
   "source": [
    "## Part 2: Storing Data"
   ]
  },
  {
   "cell_type": "code",
   "execution_count": 17,
   "id": "45155151",
   "metadata": {},
   "outputs": [],
   "source": [
    "#!createdb Final_project"
   ]
  },
  {
   "cell_type": "code",
   "execution_count": 18,
   "id": "bfa95eb9",
   "metadata": {},
   "outputs": [],
   "source": [
    "#!psql --dbname Final_project -c 'CREATE EXTENSION postgis;'"
   ]
  },
  {
   "cell_type": "code",
   "execution_count": 34,
   "id": "36c1017c",
   "metadata": {},
   "outputs": [],
   "source": [
    "# Connect to pgsl\n",
    "conn = psycopg2.connect(f\"dbname={DB_NAME} user={DB_USER}\")\n",
    "cur = conn.cursor()"
   ]
  },
  {
   "cell_type": "markdown",
   "id": "527a251c-f337-4b24-bb41-96ee4621a9bd",
   "metadata": {},
   "source": [
    "### Creating Tables\n",
    "\n",
    "\n",
    "These are just a couple of options to creating your tables; you can use one or the other, a different method, or a combination."
   ]
  },
  {
   "cell_type": "code",
   "execution_count": 35,
   "id": "e3d72390-3c2d-4856-82c0-3284e8ccb24e",
   "metadata": {
    "scrolled": true
   },
   "outputs": [],
   "source": [
    "engine = db.create_engine(DB_URL)"
   ]
  },
  {
   "cell_type": "code",
   "execution_count": 36,
   "id": "490d0cc6-74b3-4d35-a454-57f647c9f8e3",
   "metadata": {},
   "outputs": [],
   "source": [
    "# if using SQL (as opposed to SQLAlchemy), define the SQL statements to create your 4 tables\n",
    "ZIPCODE_SCHEMA = \"\"\"\n",
    "    CREATE TABLE IF NOT EXISTS zip_codes (\n",
    "        zipcode VARCHAR,\n",
    "        geometry GEOMETRY\n",
    "    )\n",
    "    \"\"\"\n",
    "\n",
    "NYC_311_SCHEMA = \"\"\"\n",
    "    CREATE TABLE IF NOT EXISTS nyc_311 (\n",
    "        unique_key INTEGER PRIMARY KEY,\n",
    "        created_date DATE,\n",
    "        incident_zip VARCHAR,\n",
    "        complaint_type VARCHAR\n",
    "    )\n",
    "    \"\"\"\n",
    "\n",
    "NYC_TREE_SCHEMA = \"\"\"\n",
    "    CREATE TABLE IF NOT EXISTS trees (\n",
    "        tree_id INTEGER PRIMARY KEY,\n",
    "        zipcode VARCHAR,\n",
    "        geometry GEOMETRY,\n",
    "        health VARCHAR,\n",
    "        species VARCHAR\n",
    "    )\n",
    "    \"\"\"\n",
    "\n",
    "date_col = [f'\"{col}\" REAL' for col in df_zillow_data.columns if col.startswith('20')]\n",
    "\n",
    "ZILLOW_SCHEMA = f\"\"\"\n",
    "CREATE TABLE IF NOT EXISTS rent (\n",
    "    RegionID INTEGER PRIMARY KEY,\n",
    "    Zip_code VARCHAR,\n",
    "    AverageRent REAL,\n",
    "    {', '.join(date_col)}\n",
    ")\n",
    "\"\"\""
   ]
  },
  {
   "cell_type": "code",
   "execution_count": 37,
   "id": "f36d86f6-ff6e-4bb8-8fa2-df0d4282e959",
   "metadata": {},
   "outputs": [],
   "source": [
    "# create that required schema.sql file\n",
    "with open(DB_SCHEMA_FILE, \"w\") as f:\n",
    "    f.write(ZIPCODE_SCHEMA)\n",
    "    f.write(NYC_311_SCHEMA)\n",
    "    f.write(NYC_TREE_SCHEMA)\n",
    "    f.write(ZILLOW_SCHEMA)"
   ]
  },
  {
   "cell_type": "code",
   "execution_count": 38,
   "id": "48eacd37-4fd7-4768-b689-88b07d5c234e",
   "metadata": {},
   "outputs": [],
   "source": [
    "# If using SQL (as opposed to SQLAlchemy), execute the schema files to create tables\n",
    "with cur:\n",
    "    cur.execute(ZIPCODE_SCHEMA)\n",
    "    cur.execute(NYC_311_SCHEMA)\n",
    "    cur.execute(NYC_TREE_SCHEMA)\n",
    "    cur.execute(ZILLOW_SCHEMA)\n",
    "\n",
    "conn.commit()"
   ]
  },
  {
   "cell_type": "markdown",
   "id": "2e88a50c-9528-4a5c-9a52-b96781ee8985",
   "metadata": {},
   "source": [
    "### Add Data to Database\n",
    "\n",
    "These are just a couple of options to write data to your tables; you can use one or the other, a different method, or a combination."
   ]
  },
  {
   "cell_type": "markdown",
   "id": "0c66af67-afb8-4f0d-bb57-552972f8e4b8",
   "metadata": {},
   "source": [
    "#### Option 1: SQL"
   ]
  },
  {
   "cell_type": "code",
   "execution_count": 39,
   "id": "69e37800-cd95-44b5-9c21-eb7ac2b2e4ec",
   "metadata": {},
   "outputs": [],
   "source": [
    "def write_dataframes_to_table(tablename_to_dataframe):\n",
    "    for tablename, dataframe in tablename_to_dataframe.items():\n",
    "        if 'geometry' in dataframe.columns:\n",
    "            temp_df = dataframe\n",
    "            temp_df['the_geom'] = temp_df['geometry'].apply(lambda geom: WKTElement(geom.wkt, srid=4326) if geom is not None else None)\n",
    "            temp_df.drop('geometry',axis=1,inplace=True)\n",
    "            temp_df.to_sql(tablename, engine, if_exists='replace', index=False, \n",
    "                             dtype={'the_geom': Geometry('GEOMETRY', srid=4326)}) \n",
    "            \n",
    "        else:\n",
    "            dataframe.to_sql(tablename, engine, if_exists='replace', index=False)"
   ]
  },
  {
   "cell_type": "code",
   "execution_count": 40,
   "id": "d1f042f5-8270-477d-929a-872f7d9a0bc8",
   "metadata": {},
   "outputs": [],
   "source": [
    "tablename_to_dataframe = {\n",
    "    \"zip_codes\": geodf_zipcode_data,\n",
    "    \"nyc_311\": geodf_311_data,\n",
    "    \"trees\": geodf_tree_data,\n",
    "    \"rent\": df_zillow_data,\n",
    "}"
   ]
  },
  {
   "cell_type": "code",
   "execution_count": 41,
   "id": "9d052c50-1e43-4356-bcac-4f5abc7e714b",
   "metadata": {},
   "outputs": [],
   "source": [
    "write_dataframes_to_table(tablename_to_dataframe)"
   ]
  },
  {
   "cell_type": "code",
   "execution_count": 27,
   "id": "4104bb33",
   "metadata": {},
   "outputs": [],
   "source": [
    "# cur = conn.cursor() #connect to cursor\n",
    "# cur.execute(\"SELECT * FROM rent LIMIT 10;\")"
   ]
  },
  {
   "cell_type": "code",
   "execution_count": 28,
   "id": "0e3093b4",
   "metadata": {
    "scrolled": true
   },
   "outputs": [],
   "source": [
    "# rows = cur.fetchall()\n",
    "# for row in rows:\n",
    "#     print(row)\n",
    "#spc_common"
   ]
  },
  {
   "cell_type": "code",
   "execution_count": 80,
   "id": "7c29d969",
   "metadata": {},
   "outputs": [
    {
     "name": "stdout",
     "output_type": "stream",
     "text": [
      "0101000020E6100000C27C9B6B097F52C011D1E5DA90624440\n",
      "0101000020E610000002B16AC70F7F52C060D12A3B96624440\n",
      "0101000020E61000002353C2DD2F7F52C025086DEFA0614440\n",
      "0101000020E61000004629371B787D52C0447BD483D6624440\n",
      "0101000020E61000008A04661EC87E52C06044F16E1B644440\n",
      "0101000020E6100000BCE5F05E597F52C092CBB22F645C4440\n",
      "0101000020E6100000F328D0F8D27E52C08BAF1C579C624440\n",
      "0101000020E61000004723B047CC7E52C0E5D59BCD96624440\n",
      "0101000020E6100000ACACDE050B7F52C01D10C33592624440\n",
      "0101000020E61000005C37E8A60E7F52C021753E4795624440\n"
     ]
    }
   ],
   "source": [
    "with engine.connect() as conn:\n",
    "    rows = conn.execute(\"SELECT * FROM trees LIMIT 10\").fetchall()\n",
    "    for row in rows:\n",
    "        print(row[\"the_geom\"])"
   ]
  },
  {
   "cell_type": "code",
   "execution_count": null,
   "id": "9593833a",
   "metadata": {},
   "outputs": [],
   "source": []
  },
  {
   "cell_type": "code",
   "execution_count": 30,
   "id": "3f301895",
   "metadata": {},
   "outputs": [],
   "source": [
    "# with engine.connect() as conn:\n",
    "#     result = conn.execute(db.text(\"SELECT COUNT(*) FROM nyc_311\"))\n",
    "#     for row, in result:\n",
    "#         print(row)"
   ]
  },
  {
   "cell_type": "code",
   "execution_count": 31,
   "id": "2dd5c630",
   "metadata": {},
   "outputs": [],
   "source": [
    "# cur.execute(\"SELECT * FROM zip_codes LIMIT 10;\")"
   ]
  },
  {
   "cell_type": "code",
   "execution_count": 32,
   "id": "05a49b87",
   "metadata": {},
   "outputs": [],
   "source": [
    "# rows = cur.fetchall()\n",
    "# for row in rows:\n",
    "#     print(row)"
   ]
  },
  {
   "cell_type": "markdown",
   "id": "eb63b553-0c64-4da8-9fc7-41555d89d853",
   "metadata": {},
   "source": [
    "## Part 3: Understanding the Data"
   ]
  },
  {
   "cell_type": "code",
   "execution_count": 46,
   "id": "d6ce8548-4aba-4bf9-992c-dedd0f249db4",
   "metadata": {},
   "outputs": [],
   "source": [
    "# Helper function to write the queries to file\n",
    "def write_query_to_file(query, outfile):\n",
    "    with open(outfile, 'w') as file:\n",
    "        file.write(query)"
   ]
  },
  {
   "cell_type": "markdown",
   "id": "273ee903",
   "metadata": {},
   "source": [
    "### Query 1"
   ]
  },
  {
   "cell_type": "code",
   "execution_count": 47,
   "id": "6605e6f3-ec42-4a8b-833c-5138c14b678b",
   "metadata": {},
   "outputs": [],
   "source": [
    "QUERY_1_FILENAME = QUERY_DIR / \"Q1_311compliants_per_zipcode.sql\"\n",
    "\n",
    "QUERY_1 = \"\"\"\n",
    "SELECT incident_zip, COUNT(unique_key) as total_complaints\n",
    "FROM nyc_311\n",
    "WHERE created_date BETWEEN '2022-10-01' AND '2023-09-30'\n",
    "GROUP BY incident_zip\n",
    "ORDER BY total_complaints DESC;\n",
    "\"\"\""
   ]
  },
  {
   "cell_type": "code",
   "execution_count": 48,
   "id": "ce044adf-ecdf-4237-9b20-b7cdaaab0c6c",
   "metadata": {},
   "outputs": [
    {
     "name": "stdout",
     "output_type": "stream",
     "text": [
      "('11226', 49347)\n",
      "('10467', 47358)\n",
      "('10468', 44081)\n",
      "('11385', 43943)\n",
      "('10452', 43880)\n",
      "('10457', 41537)\n",
      "('10458', 41186)\n",
      "('11207', 40174)\n",
      "('10456', 39772)\n",
      "(None, 39696)\n",
      "('11201', 39344)\n",
      "('10453', 38106)\n",
      "('11208', 36761)\n",
      "('10031', 33862)\n",
      "('11221', 33109)\n",
      "('10466', 32584)\n",
      "('10032', 32046)\n",
      "('10025', 31105)\n",
      "('10462', 30760)\n",
      "('11238', 30181)\n",
      "('11230', 29683)\n",
      "('11368', 29225)\n",
      "('11220', 29065)\n",
      "('10019', 28322)\n",
      "('11216', 28159)\n",
      "('11225', 28076)\n",
      "('11235', 27838)\n",
      "('11212', 27355)\n",
      "('10463', 27053)\n",
      "('10460', 27011)\n",
      "('11203', 27000)\n",
      "('10023', 26961)\n",
      "('11214', 26777)\n",
      "('11377', 26384)\n",
      "('11101', 25995)\n",
      "('10027', 25899)\n",
      "('11213', 25893)\n",
      "('11211', 25572)\n",
      "('11234', 25567)\n",
      "('10002', 25564)\n",
      "('11206', 25410)\n",
      "('11209', 25380)\n",
      "('11215', 25331)\n",
      "('11222', 25330)\n",
      "('10472', 25313)\n",
      "('11218', 25079)\n",
      "('11233', 24972)\n",
      "('11223', 24336)\n",
      "('11373', 24098)\n",
      "('10033', 23676)\n",
      "('11237', 23391)\n",
      "('11229', 22860)\n",
      "('11236', 22719)\n",
      "('10461', 22367)\n",
      "('10034', 22334)\n",
      "('10011', 22196)\n",
      "('11204', 21787)\n",
      "('10003', 21772)\n",
      "('11210', 21423)\n",
      "('10469', 21373)\n",
      "('10026', 21321)\n",
      "('10009', 21024)\n",
      "('10029', 20963)\n",
      "('10036', 20834)\n",
      "('10451', 20773)\n",
      "('11372', 20507)\n",
      "('10459', 20346)\n",
      "('11217', 20329)\n",
      "('10314', 20083)\n",
      "('10040', 19859)\n",
      "('11419', 19692)\n",
      "('11432', 19660)\n",
      "('11231', 19646)\n",
      "('11420', 19559)\n",
      "('11378', 19195)\n",
      "('11219', 19120)\n",
      "('11375', 19051)\n",
      "('11355', 18844)\n",
      "('10455', 18393)\n",
      "('11366', 18377)\n",
      "('10035', 18342)\n",
      "('10030', 18018)\n",
      "('11421', 17217)\n",
      "('10016', 17213)\n",
      "('11205', 17154)\n",
      "('10312', 17000)\n",
      "('11434', 16900)\n",
      "('11435', 16652)\n",
      "('11414', 16230)\n",
      "('10024', 16201)\n",
      "('11691', 16051)\n",
      "('10306', 15881)\n",
      "('10473', 15594)\n",
      "('11103', 15412)\n",
      "('11106', 15035)\n",
      "('11379', 14735)\n",
      "('11433', 14416)\n",
      "('11105', 14333)\n",
      "('11224', 14209)\n",
      "('10465', 14164)\n",
      "('10028', 14076)\n",
      "('11354', 14043)\n",
      "('10301', 13768)\n",
      "('10454', 13655)\n",
      "('10014', 13432)\n",
      "('10001', 13254)\n",
      "('11249', 13014)\n",
      "('11357', 12888)\n",
      "('10304', 12852)\n",
      "('11369', 12666)\n",
      "('10013', 12453)\n",
      "('11232', 12413)\n",
      "('11102', 12344)\n",
      "('11374', 12280)\n",
      "('11417', 12143)\n",
      "('11365', 12036)\n",
      "('10128', 12023)\n",
      "('10039', 11955)\n",
      "('11228', 11938)\n",
      "('11418', 11788)\n",
      "('10012', 11563)\n",
      "('11239', 10975)\n",
      "('10305', 10851)\n",
      "('11413', 10819)\n",
      "('11358', 10770)\n",
      "('11412', 10580)\n",
      "('10309', 10083)\n",
      "('11356', 9964)\n",
      "('10022', 9841)\n",
      "('10021', 9679)\n",
      "('11104', 9627)\n",
      "('11361', 9171)\n",
      "('10470', 8983)\n",
      "('11367', 8939)\n",
      "('11416', 8596)\n",
      "('11423', 8423)\n",
      "('11694', 8344)\n",
      "('10065', 8174)\n",
      "('11422', 8019)\n",
      "('10010', 8012)\n",
      "('10037', 7949)\n",
      "('10471', 7683)\n",
      "('10018', 7682)\n",
      "('11436', 7647)\n",
      "('11370', 7340)\n",
      "('11364', 7107)\n",
      "('10308', 6825)\n",
      "('10474', 6807)\n",
      "('10017', 6781)\n",
      "('10310', 6773)\n",
      "('10038', 6719)\n",
      "('10303', 6665)\n",
      "('10302', 6422)\n",
      "('11429', 6203)\n",
      "('10075', 5797)\n",
      "('11415', 5676)\n",
      "('11411', 5651)\n",
      "('11692', 5634)\n",
      "('11428', 5471)\n",
      "('11427', 5072)\n",
      "('11693', 4240)\n",
      "('11426', 4193)\n",
      "('10007', 4188)\n",
      "('11360', 3860)\n",
      "('10307', 3767)\n",
      "('10475', 3767)\n",
      "('11362', 3244)\n",
      "('11430', 3066)\n",
      "('10464', 2615)\n",
      "('10004', 2550)\n",
      "('11004', 2404)\n",
      "('10005', 2104)\n",
      "('11363', 1892)\n",
      "('11109', 1842)\n",
      "('10006', 1627)\n",
      "('10044', 1036)\n",
      "('11001', 825)\n",
      "('10282', 743)\n",
      "('10000', 692)\n",
      "('11040', 653)\n",
      "('10069', 599)\n",
      "('10280', 559)\n",
      "('10020', 438)\n",
      "('10169', 412)\n",
      "('10121', 287)\n",
      "('10107', 228)\n",
      "('10278', 204)\n",
      "('10105', 162)\n",
      "('10153', 153)\n",
      "('11359', 148)\n",
      "('11697', 111)\n",
      "('10172', 101)\n",
      "('10151', 83)\n",
      "('10103', 81)\n",
      "('10281', 68)\n",
      "('10168', 60)\n",
      "('10118', 54)\n",
      "('12345', 51)\n",
      "('11005', 50)\n",
      "('10120', 49)\n",
      "('10106', 45)\n",
      "('11251', 41)\n",
      "('10162', 38)\n",
      "('10119', 35)\n",
      "('10041', 33)\n",
      "('10271', 33)\n",
      "('10112', 28)\n",
      "('10165', 27)\n",
      "('10045', 27)\n",
      "('10110', 26)\n",
      "('10154', 24)\n",
      "('10170', 24)\n",
      "('10171', 24)\n",
      "('10048', 23)\n",
      "('10178', 22)\n",
      "('10158', 21)\n",
      "('11371', 21)\n",
      "('11241', 18)\n",
      "('10123', 17)\n",
      "('10174', 16)\n",
      "('10179', 16)\n",
      "('10279', 15)\n",
      "('11695', 14)\n",
      "('10177', 13)\n",
      "('10111', 12)\n",
      "('10115', 12)\n",
      "('11242', 11)\n",
      "('10173', 9)\n",
      "('10176', 8)\n",
      "('10152', 7)\n",
      "('10166', 7)\n",
      "('10803', 5)\n",
      "('11735', 5)\n",
      "('10155', 4)\n",
      "('02062', 4)\n",
      "('10167', 4)\n",
      "('10122', 4)\n",
      "('11590', 4)\n",
      "('11801', 3)\n",
      "('14225', 3)\n",
      "('17110', 3)\n",
      "('11791', 3)\n",
      "('07834', 2)\n",
      "('43017', 2)\n",
      "('07657', 2)\n",
      "('11714', 2)\n",
      "('10055', 2)\n",
      "('11713', 2)\n",
      "('14207', 2)\n",
      "('11030', 2)\n",
      "('11558', 2)\n",
      "('94158', 2)\n",
      "('33432', 2)\n",
      "('10977', 2)\n",
      "('48334', 2)\n",
      "('10950', 2)\n",
      "('98057', 2)\n",
      "('00083', 2)\n",
      "('00000', 2)\n",
      "('11766', 2)\n",
      "('48083', 2)\n",
      "('07002', 1)\n",
      "('07001', 1)\n",
      "('03833', 1)\n",
      "('11702', 1)\n",
      "('11710', 1)\n",
      "('11738', 1)\n",
      "('11747', 1)\n",
      "('11749', 1)\n",
      "('11756', 1)\n",
      "('11758', 1)\n",
      "('11762', 1)\n",
      "('11772', 1)\n",
      "('11790', 1)\n",
      "('11797', 1)\n",
      "('11802', 1)\n",
      "('12212', 1)\n",
      "('02026', 1)\n",
      "('11111', 1)\n",
      "('12786', 1)\n",
      "('12983', 1)\n",
      "('13235', 1)\n",
      "('13601', 1)\n",
      "('14068', 1)\n",
      "('14621', 1)\n",
      "('15108', 1)\n",
      "('15220', 1)\n",
      "('19013', 1)\n",
      "('19034', 1)\n",
      "('19151', 1)\n",
      "('19176', 1)\n",
      "('19601', 1)\n",
      "('19610', 1)\n",
      "('21031', 1)\n",
      "('29601', 1)\n",
      "('30067', 1)\n",
      "('30144', 1)\n",
      "('33241', 1)\n",
      "('33496', 1)\n",
      "('34109', 1)\n",
      "('37217', 1)\n",
      "('37922', 1)\n",
      "('40225', 1)\n",
      "('43218', 1)\n",
      "('44087', 1)\n",
      "('44101', 1)\n",
      "('45040', 1)\n",
      "('48331', 1)\n",
      "('55164', 1)\n",
      "('60004', 1)\n",
      "('60018', 1)\n",
      "('60045', 1)\n",
      "('60076', 1)\n",
      "('60603', 1)\n",
      "('60604', 1)\n",
      "('75001', 1)\n",
      "('75007', 1)\n",
      "('78758', 1)\n",
      "('82001', 1)\n",
      "('84117', 1)\n",
      "('90071', 1)\n",
      "('91302', 1)\n",
      "('92025', 1)\n",
      "('92101', 1)\n",
      "('92868', 1)\n",
      "('94402', 1)\n",
      "('94804', 1)\n",
      "('95834', 1)\n",
      "('97208', 1)\n",
      "('N/A', 1)\n",
      "('na', 1)\n",
      "('NA', 1)\n",
      "('12550', 1)\n",
      "('11096', 1)\n",
      "('11050', 1)\n",
      "('11021', 1)\n",
      "('11003', 1)\n",
      "('10920', 1)\n",
      "('10801', 1)\n",
      "('10710', 1)\n",
      "('10704', 1)\n",
      "('10701', 1)\n",
      "('10573', 1)\n",
      "('10553', 1)\n",
      "('10552', 1)\n",
      "('10550', 1)\n",
      "('10532', 1)\n",
      "('10175', 1)\n",
      "('10080', 1)\n",
      "('08901', 1)\n",
      "('08857', 1)\n",
      "('08837', 1)\n",
      "('08817', 1)\n",
      "('08816', 1)\n",
      "('08540', 1)\n",
      "('07866', 1)\n",
      "('07740', 1)\n",
      "('07712', 1)\n",
      "('07652', 1)\n",
      "('07506', 1)\n",
      "('07501', 1)\n",
      "('07304', 1)\n",
      "('11431', 1)\n",
      "('07083', 1)\n",
      "('07081', 1)\n",
      "('07072', 1)\n",
      "('07071', 1)\n",
      "('07052', 1)\n",
      "('11443', 1)\n",
      "('11510', 1)\n",
      "('11520', 1)\n",
      "('11530', 1)\n",
      "('11550', 1)\n",
      "('11552', 1)\n",
      "('11557', 1)\n",
      "('11559', 1)\n",
      "('11580', 1)\n",
      "('11581', 1)\n",
      "('11598', 1)\n",
      "('07017', 1)\n"
     ]
    }
   ],
   "source": [
    "with engine.connect() as conn:\n",
    "    result = conn.execute(db.text(QUERY_1))\n",
    "    for row in result:\n",
    "        print(row)"
   ]
  },
  {
   "cell_type": "code",
   "execution_count": 49,
   "id": "4b7b2c3d-8961-4c7e-8eb1-fc973d0ab9c1",
   "metadata": {},
   "outputs": [],
   "source": [
    "write_query_to_file(QUERY_1, QUERY_1_FILENAME)"
   ]
  },
  {
   "cell_type": "markdown",
   "id": "60cb5add",
   "metadata": {},
   "source": [
    "### Query 2"
   ]
  },
  {
   "cell_type": "code",
   "execution_count": 50,
   "id": "508e0fd8",
   "metadata": {},
   "outputs": [],
   "source": [
    "QUERY_2_FILENAME = QUERY_DIR / \"Q2.sql\"\n",
    "QUERY_2 = \"\"\"\n",
    "SELECT zipcode, COUNT(tree_id) AS total_trees\n",
    "FROM trees\n",
    "GROUP BY zipcode\n",
    "ORDER BY total_trees DESC\n",
    "LIMIT 10;\n",
    "\"\"\""
   ]
  },
  {
   "cell_type": "code",
   "execution_count": 51,
   "id": "287d8c3f",
   "metadata": {},
   "outputs": [
    {
     "name": "stdout",
     "output_type": "stream",
     "text": [
      "('10025', 3696)\n",
      "('10024', 3311)\n",
      "('10027', 2992)\n",
      "('10014', 2591)\n",
      "('10031', 2587)\n",
      "('10029', 2423)\n",
      "('10002', 2265)\n",
      "('10023', 2260)\n",
      "('10032', 2217)\n",
      "('10128', 2136)\n"
     ]
    }
   ],
   "source": [
    "with engine.connect() as conn:\n",
    "    result = conn.execute(db.text(QUERY_2))\n",
    "    for row in result:\n",
    "        print(row)"
   ]
  },
  {
   "cell_type": "code",
   "execution_count": 52,
   "id": "da0b4f8f",
   "metadata": {},
   "outputs": [],
   "source": [
    "write_query_to_file(QUERY_2, QUERY_2_FILENAME)"
   ]
  },
  {
   "cell_type": "code",
   "execution_count": null,
   "id": "a633a30b",
   "metadata": {},
   "outputs": [],
   "source": []
  },
  {
   "cell_type": "code",
   "execution_count": null,
   "id": "cf7b0117",
   "metadata": {},
   "outputs": [],
   "source": []
  },
  {
   "cell_type": "markdown",
   "id": "05865bf1",
   "metadata": {},
   "source": [
    "### Query 3"
   ]
  },
  {
   "cell_type": "code",
   "execution_count": 53,
   "id": "f4c4be62",
   "metadata": {},
   "outputs": [],
   "source": [
    "QUERY_3_FILENAME = QUERY_DIR / \"Q3.sql\"\n",
    "QUERY_3 = \"\"\"\n",
    "SELECT t.zipcode, \n",
    "       ROUND(CAST(r.\"2023-08-31\" AS NUMERIC), 2) AS August2023\n",
    "FROM trees t\n",
    "JOIN rent r ON t.zipcode = r.\"Zip_code\"\n",
    "GROUP BY t.zipcode, r.\"2023-08-31\"\n",
    "ORDER BY COUNT(t.tree_id) DESC\n",
    "LIMIT 10;\n",
    "\"\"\""
   ]
  },
  {
   "cell_type": "code",
   "execution_count": 54,
   "id": "df96bffc",
   "metadata": {},
   "outputs": [
    {
     "name": "stdout",
     "output_type": "stream",
     "text": [
      "('10025', Decimal('4037.77'))\n",
      "('10024', Decimal('3797.94'))\n",
      "('10027', Decimal('3235.99'))\n",
      "('10014', Decimal('4899.07'))\n",
      "('10031', Decimal('2967.04'))\n",
      "('10029', Decimal('2915.94'))\n",
      "('10002', Decimal('4078.87'))\n",
      "('10023', Decimal('4370.07'))\n",
      "('10032', Decimal('2657.76'))\n",
      "('10128', Decimal('3565.40'))\n"
     ]
    }
   ],
   "source": [
    "with engine.connect() as conn:\n",
    "    result = conn.execute(db.text(QUERY_3))\n",
    "    for row in result:\n",
    "        print(row)"
   ]
  },
  {
   "cell_type": "code",
   "execution_count": 55,
   "id": "c99a8eef",
   "metadata": {},
   "outputs": [],
   "source": [
    "write_query_to_file(QUERY_3, QUERY_3_FILENAME)"
   ]
  },
  {
   "cell_type": "code",
   "execution_count": null,
   "id": "ce5a62ac",
   "metadata": {},
   "outputs": [],
   "source": []
  },
  {
   "cell_type": "code",
   "execution_count": null,
   "id": "7e097cd1",
   "metadata": {},
   "outputs": [],
   "source": []
  },
  {
   "cell_type": "markdown",
   "id": "df2285c7",
   "metadata": {},
   "source": [
    "### Query 4"
   ]
  },
  {
   "cell_type": "code",
   "execution_count": 175,
   "id": "367b7a6c",
   "metadata": {},
   "outputs": [],
   "source": [
    "QUERY_4_FILENAME = QUERY_DIR / \"Q4_.sql\"\n",
    "\n",
    "QUERY_4 = \"\"\"\n",
    "SELECT Zip_code, AverageRent, COUNT(nyc_311.unique_key)\n",
    "FROM rent \n",
    "JOIN nyc_311 (SELECT incident_zip, COUNT(unique_key) as total_complaints\n",
    "            FROM nyc_311\n",
    "            WHERE created_date BETWEEN '2023-01-01' AND '2023-01-31'\n",
    "            GROUP BY incident_zip\n",
    ") \n",
    "ON rent.Zip_code = nyc_311.incident_zip\n",
    "ORDER BY AverageRent DESC\n",
    "LIMIT 5;\n",
    "\"\"\""
   ]
  },
  {
   "cell_type": "code",
   "execution_count": null,
   "id": "76d47e15",
   "metadata": {},
   "outputs": [],
   "source": []
  },
  {
   "cell_type": "code",
   "execution_count": 176,
   "id": "548e5396",
   "metadata": {},
   "outputs": [
    {
     "ename": "ProgrammingError",
     "evalue": "(psycopg2.errors.SyntaxError) syntax error at or near \"SELECT\"\nLINE 4: LEFT JOIN nyc_311 (SELECT incident_zip, COUNT(unique_key) as...\n                           ^\n\n[SQL: \nSELECT Zip_code, AverageRent, COUNT(nyc_311.unique_key)\nFROM rent \nLEFT JOIN nyc_311 (SELECT incident_zip, COUNT(unique_key) as total_complaints\n            FROM nyc_311\n            WHERE created_date BETWEEN '2023-01-01' AND '2023-01-31'\n            GROUP BY incident_zip\n) \nON rent.Zip_code = nyc_311.incident_zip\nORDER BY AverageRent DESC\nLIMIT 5;\n]\n(Background on this error at: https://sqlalche.me/e/14/f405)",
     "output_type": "error",
     "traceback": [
      "\u001b[0;31m---------------------------------------------------------------------------\u001b[0m",
      "\u001b[0;31mSyntaxError\u001b[0m                               Traceback (most recent call last)",
      "File \u001b[0;32m/Applications/anaconda3/lib/python3.11/site-packages/sqlalchemy/engine/base.py:1819\u001b[0m, in \u001b[0;36mConnection._execute_context\u001b[0;34m(self, dialect, constructor, statement, parameters, execution_options, *args, **kw)\u001b[0m\n\u001b[1;32m   1818\u001b[0m     \u001b[38;5;28;01mif\u001b[39;00m \u001b[38;5;129;01mnot\u001b[39;00m evt_handled:\n\u001b[0;32m-> 1819\u001b[0m         \u001b[38;5;28mself\u001b[39m\u001b[38;5;241m.\u001b[39mdialect\u001b[38;5;241m.\u001b[39mdo_execute(\n\u001b[1;32m   1820\u001b[0m             cursor, statement, parameters, context\n\u001b[1;32m   1821\u001b[0m         )\n\u001b[1;32m   1823\u001b[0m \u001b[38;5;28;01mif\u001b[39;00m \u001b[38;5;28mself\u001b[39m\u001b[38;5;241m.\u001b[39m_has_events \u001b[38;5;129;01mor\u001b[39;00m \u001b[38;5;28mself\u001b[39m\u001b[38;5;241m.\u001b[39mengine\u001b[38;5;241m.\u001b[39m_has_events:\n",
      "File \u001b[0;32m/Applications/anaconda3/lib/python3.11/site-packages/sqlalchemy/engine/default.py:732\u001b[0m, in \u001b[0;36mDefaultDialect.do_execute\u001b[0;34m(self, cursor, statement, parameters, context)\u001b[0m\n\u001b[1;32m    731\u001b[0m \u001b[38;5;28;01mdef\u001b[39;00m \u001b[38;5;21mdo_execute\u001b[39m(\u001b[38;5;28mself\u001b[39m, cursor, statement, parameters, context\u001b[38;5;241m=\u001b[39m\u001b[38;5;28;01mNone\u001b[39;00m):\n\u001b[0;32m--> 732\u001b[0m     cursor\u001b[38;5;241m.\u001b[39mexecute(statement, parameters)\n",
      "\u001b[0;31mSyntaxError\u001b[0m: syntax error at or near \"SELECT\"\nLINE 4: LEFT JOIN nyc_311 (SELECT incident_zip, COUNT(unique_key) as...\n                           ^\n",
      "\nThe above exception was the direct cause of the following exception:\n",
      "\u001b[0;31mProgrammingError\u001b[0m                          Traceback (most recent call last)",
      "Cell \u001b[0;32mIn[176], line 2\u001b[0m\n\u001b[1;32m      1\u001b[0m \u001b[38;5;28;01mwith\u001b[39;00m engine\u001b[38;5;241m.\u001b[39mconnect() \u001b[38;5;28;01mas\u001b[39;00m conn:\n\u001b[0;32m----> 2\u001b[0m     result \u001b[38;5;241m=\u001b[39m conn\u001b[38;5;241m.\u001b[39mexecute(db\u001b[38;5;241m.\u001b[39mtext(QUERY_4))\n\u001b[1;32m      3\u001b[0m     \u001b[38;5;28;01mfor\u001b[39;00m row \u001b[38;5;129;01min\u001b[39;00m result:\n\u001b[1;32m      4\u001b[0m         \u001b[38;5;28mprint\u001b[39m(row)\n",
      "File \u001b[0;32m/Applications/anaconda3/lib/python3.11/site-packages/sqlalchemy/engine/base.py:1306\u001b[0m, in \u001b[0;36mConnection.execute\u001b[0;34m(self, statement, *multiparams, **params)\u001b[0m\n\u001b[1;32m   1302\u001b[0m     util\u001b[38;5;241m.\u001b[39mraise_(\n\u001b[1;32m   1303\u001b[0m         exc\u001b[38;5;241m.\u001b[39mObjectNotExecutableError(statement), replace_context\u001b[38;5;241m=\u001b[39merr\n\u001b[1;32m   1304\u001b[0m     )\n\u001b[1;32m   1305\u001b[0m \u001b[38;5;28;01melse\u001b[39;00m:\n\u001b[0;32m-> 1306\u001b[0m     \u001b[38;5;28;01mreturn\u001b[39;00m meth(\u001b[38;5;28mself\u001b[39m, multiparams, params, _EMPTY_EXECUTION_OPTS)\n",
      "File \u001b[0;32m/Applications/anaconda3/lib/python3.11/site-packages/sqlalchemy/sql/elements.py:332\u001b[0m, in \u001b[0;36mClauseElement._execute_on_connection\u001b[0;34m(self, connection, multiparams, params, execution_options, _force)\u001b[0m\n\u001b[1;32m    328\u001b[0m \u001b[38;5;28;01mdef\u001b[39;00m \u001b[38;5;21m_execute_on_connection\u001b[39m(\n\u001b[1;32m    329\u001b[0m     \u001b[38;5;28mself\u001b[39m, connection, multiparams, params, execution_options, _force\u001b[38;5;241m=\u001b[39m\u001b[38;5;28;01mFalse\u001b[39;00m\n\u001b[1;32m    330\u001b[0m ):\n\u001b[1;32m    331\u001b[0m     \u001b[38;5;28;01mif\u001b[39;00m _force \u001b[38;5;129;01mor\u001b[39;00m \u001b[38;5;28mself\u001b[39m\u001b[38;5;241m.\u001b[39msupports_execution:\n\u001b[0;32m--> 332\u001b[0m         \u001b[38;5;28;01mreturn\u001b[39;00m connection\u001b[38;5;241m.\u001b[39m_execute_clauseelement(\n\u001b[1;32m    333\u001b[0m             \u001b[38;5;28mself\u001b[39m, multiparams, params, execution_options\n\u001b[1;32m    334\u001b[0m         )\n\u001b[1;32m    335\u001b[0m     \u001b[38;5;28;01melse\u001b[39;00m:\n\u001b[1;32m    336\u001b[0m         \u001b[38;5;28;01mraise\u001b[39;00m exc\u001b[38;5;241m.\u001b[39mObjectNotExecutableError(\u001b[38;5;28mself\u001b[39m)\n",
      "File \u001b[0;32m/Applications/anaconda3/lib/python3.11/site-packages/sqlalchemy/engine/base.py:1498\u001b[0m, in \u001b[0;36mConnection._execute_clauseelement\u001b[0;34m(self, elem, multiparams, params, execution_options)\u001b[0m\n\u001b[1;32m   1486\u001b[0m compiled_cache \u001b[38;5;241m=\u001b[39m execution_options\u001b[38;5;241m.\u001b[39mget(\n\u001b[1;32m   1487\u001b[0m     \u001b[38;5;124m\"\u001b[39m\u001b[38;5;124mcompiled_cache\u001b[39m\u001b[38;5;124m\"\u001b[39m, \u001b[38;5;28mself\u001b[39m\u001b[38;5;241m.\u001b[39mengine\u001b[38;5;241m.\u001b[39m_compiled_cache\n\u001b[1;32m   1488\u001b[0m )\n\u001b[1;32m   1490\u001b[0m compiled_sql, extracted_params, cache_hit \u001b[38;5;241m=\u001b[39m elem\u001b[38;5;241m.\u001b[39m_compile_w_cache(\n\u001b[1;32m   1491\u001b[0m     dialect\u001b[38;5;241m=\u001b[39mdialect,\n\u001b[1;32m   1492\u001b[0m     compiled_cache\u001b[38;5;241m=\u001b[39mcompiled_cache,\n\u001b[0;32m   (...)\u001b[0m\n\u001b[1;32m   1496\u001b[0m     linting\u001b[38;5;241m=\u001b[39m\u001b[38;5;28mself\u001b[39m\u001b[38;5;241m.\u001b[39mdialect\u001b[38;5;241m.\u001b[39mcompiler_linting \u001b[38;5;241m|\u001b[39m compiler\u001b[38;5;241m.\u001b[39mWARN_LINTING,\n\u001b[1;32m   1497\u001b[0m )\n\u001b[0;32m-> 1498\u001b[0m ret \u001b[38;5;241m=\u001b[39m \u001b[38;5;28mself\u001b[39m\u001b[38;5;241m.\u001b[39m_execute_context(\n\u001b[1;32m   1499\u001b[0m     dialect,\n\u001b[1;32m   1500\u001b[0m     dialect\u001b[38;5;241m.\u001b[39mexecution_ctx_cls\u001b[38;5;241m.\u001b[39m_init_compiled,\n\u001b[1;32m   1501\u001b[0m     compiled_sql,\n\u001b[1;32m   1502\u001b[0m     distilled_params,\n\u001b[1;32m   1503\u001b[0m     execution_options,\n\u001b[1;32m   1504\u001b[0m     compiled_sql,\n\u001b[1;32m   1505\u001b[0m     distilled_params,\n\u001b[1;32m   1506\u001b[0m     elem,\n\u001b[1;32m   1507\u001b[0m     extracted_params,\n\u001b[1;32m   1508\u001b[0m     cache_hit\u001b[38;5;241m=\u001b[39mcache_hit,\n\u001b[1;32m   1509\u001b[0m )\n\u001b[1;32m   1510\u001b[0m \u001b[38;5;28;01mif\u001b[39;00m has_events:\n\u001b[1;32m   1511\u001b[0m     \u001b[38;5;28mself\u001b[39m\u001b[38;5;241m.\u001b[39mdispatch\u001b[38;5;241m.\u001b[39mafter_execute(\n\u001b[1;32m   1512\u001b[0m         \u001b[38;5;28mself\u001b[39m,\n\u001b[1;32m   1513\u001b[0m         elem,\n\u001b[0;32m   (...)\u001b[0m\n\u001b[1;32m   1517\u001b[0m         ret,\n\u001b[1;32m   1518\u001b[0m     )\n",
      "File \u001b[0;32m/Applications/anaconda3/lib/python3.11/site-packages/sqlalchemy/engine/base.py:1862\u001b[0m, in \u001b[0;36mConnection._execute_context\u001b[0;34m(self, dialect, constructor, statement, parameters, execution_options, *args, **kw)\u001b[0m\n\u001b[1;32m   1859\u001b[0m             branched\u001b[38;5;241m.\u001b[39mclose()\n\u001b[1;32m   1861\u001b[0m \u001b[38;5;28;01mexcept\u001b[39;00m \u001b[38;5;167;01mBaseException\u001b[39;00m \u001b[38;5;28;01mas\u001b[39;00m e:\n\u001b[0;32m-> 1862\u001b[0m     \u001b[38;5;28mself\u001b[39m\u001b[38;5;241m.\u001b[39m_handle_dbapi_exception(\n\u001b[1;32m   1863\u001b[0m         e, statement, parameters, cursor, context\n\u001b[1;32m   1864\u001b[0m     )\n\u001b[1;32m   1866\u001b[0m \u001b[38;5;28;01mreturn\u001b[39;00m result\n",
      "File \u001b[0;32m/Applications/anaconda3/lib/python3.11/site-packages/sqlalchemy/engine/base.py:2043\u001b[0m, in \u001b[0;36mConnection._handle_dbapi_exception\u001b[0;34m(self, e, statement, parameters, cursor, context)\u001b[0m\n\u001b[1;32m   2041\u001b[0m     util\u001b[38;5;241m.\u001b[39mraise_(newraise, with_traceback\u001b[38;5;241m=\u001b[39mexc_info[\u001b[38;5;241m2\u001b[39m], from_\u001b[38;5;241m=\u001b[39me)\n\u001b[1;32m   2042\u001b[0m \u001b[38;5;28;01melif\u001b[39;00m should_wrap:\n\u001b[0;32m-> 2043\u001b[0m     util\u001b[38;5;241m.\u001b[39mraise_(\n\u001b[1;32m   2044\u001b[0m         sqlalchemy_exception, with_traceback\u001b[38;5;241m=\u001b[39mexc_info[\u001b[38;5;241m2\u001b[39m], from_\u001b[38;5;241m=\u001b[39me\n\u001b[1;32m   2045\u001b[0m     )\n\u001b[1;32m   2046\u001b[0m \u001b[38;5;28;01melse\u001b[39;00m:\n\u001b[1;32m   2047\u001b[0m     util\u001b[38;5;241m.\u001b[39mraise_(exc_info[\u001b[38;5;241m1\u001b[39m], with_traceback\u001b[38;5;241m=\u001b[39mexc_info[\u001b[38;5;241m2\u001b[39m])\n",
      "File \u001b[0;32m/Applications/anaconda3/lib/python3.11/site-packages/sqlalchemy/util/compat.py:208\u001b[0m, in \u001b[0;36mraise_\u001b[0;34m(***failed resolving arguments***)\u001b[0m\n\u001b[1;32m    205\u001b[0m     exception\u001b[38;5;241m.\u001b[39m__cause__ \u001b[38;5;241m=\u001b[39m replace_context\n\u001b[1;32m    207\u001b[0m \u001b[38;5;28;01mtry\u001b[39;00m:\n\u001b[0;32m--> 208\u001b[0m     \u001b[38;5;28;01mraise\u001b[39;00m exception\n\u001b[1;32m    209\u001b[0m \u001b[38;5;28;01mfinally\u001b[39;00m:\n\u001b[1;32m    210\u001b[0m     \u001b[38;5;66;03m# credit to\u001b[39;00m\n\u001b[1;32m    211\u001b[0m     \u001b[38;5;66;03m# https://cosmicpercolator.com/2016/01/13/exception-leaks-in-python-2-and-3/\u001b[39;00m\n\u001b[1;32m    212\u001b[0m     \u001b[38;5;66;03m# as the __traceback__ object creates a cycle\u001b[39;00m\n\u001b[1;32m    213\u001b[0m     \u001b[38;5;28;01mdel\u001b[39;00m exception, replace_context, from_, with_traceback\n",
      "File \u001b[0;32m/Applications/anaconda3/lib/python3.11/site-packages/sqlalchemy/engine/base.py:1819\u001b[0m, in \u001b[0;36mConnection._execute_context\u001b[0;34m(self, dialect, constructor, statement, parameters, execution_options, *args, **kw)\u001b[0m\n\u001b[1;32m   1817\u001b[0m                 \u001b[38;5;28;01mbreak\u001b[39;00m\n\u001b[1;32m   1818\u001b[0m     \u001b[38;5;28;01mif\u001b[39;00m \u001b[38;5;129;01mnot\u001b[39;00m evt_handled:\n\u001b[0;32m-> 1819\u001b[0m         \u001b[38;5;28mself\u001b[39m\u001b[38;5;241m.\u001b[39mdialect\u001b[38;5;241m.\u001b[39mdo_execute(\n\u001b[1;32m   1820\u001b[0m             cursor, statement, parameters, context\n\u001b[1;32m   1821\u001b[0m         )\n\u001b[1;32m   1823\u001b[0m \u001b[38;5;28;01mif\u001b[39;00m \u001b[38;5;28mself\u001b[39m\u001b[38;5;241m.\u001b[39m_has_events \u001b[38;5;129;01mor\u001b[39;00m \u001b[38;5;28mself\u001b[39m\u001b[38;5;241m.\u001b[39mengine\u001b[38;5;241m.\u001b[39m_has_events:\n\u001b[1;32m   1824\u001b[0m     \u001b[38;5;28mself\u001b[39m\u001b[38;5;241m.\u001b[39mdispatch\u001b[38;5;241m.\u001b[39mafter_cursor_execute(\n\u001b[1;32m   1825\u001b[0m         \u001b[38;5;28mself\u001b[39m,\n\u001b[1;32m   1826\u001b[0m         cursor,\n\u001b[0;32m   (...)\u001b[0m\n\u001b[1;32m   1830\u001b[0m         context\u001b[38;5;241m.\u001b[39mexecutemany,\n\u001b[1;32m   1831\u001b[0m     )\n",
      "File \u001b[0;32m/Applications/anaconda3/lib/python3.11/site-packages/sqlalchemy/engine/default.py:732\u001b[0m, in \u001b[0;36mDefaultDialect.do_execute\u001b[0;34m(self, cursor, statement, parameters, context)\u001b[0m\n\u001b[1;32m    731\u001b[0m \u001b[38;5;28;01mdef\u001b[39;00m \u001b[38;5;21mdo_execute\u001b[39m(\u001b[38;5;28mself\u001b[39m, cursor, statement, parameters, context\u001b[38;5;241m=\u001b[39m\u001b[38;5;28;01mNone\u001b[39;00m):\n\u001b[0;32m--> 732\u001b[0m     cursor\u001b[38;5;241m.\u001b[39mexecute(statement, parameters)\n",
      "\u001b[0;31mProgrammingError\u001b[0m: (psycopg2.errors.SyntaxError) syntax error at or near \"SELECT\"\nLINE 4: LEFT JOIN nyc_311 (SELECT incident_zip, COUNT(unique_key) as...\n                           ^\n\n[SQL: \nSELECT Zip_code, AverageRent, COUNT(nyc_311.unique_key)\nFROM rent \nLEFT JOIN nyc_311 (SELECT incident_zip, COUNT(unique_key) as total_complaints\n            FROM nyc_311\n            WHERE created_date BETWEEN '2023-01-01' AND '2023-01-31'\n            GROUP BY incident_zip\n) \nON rent.Zip_code = nyc_311.incident_zip\nORDER BY AverageRent DESC\nLIMIT 5;\n]\n(Background on this error at: https://sqlalche.me/e/14/f405)"
     ]
    }
   ],
   "source": [
    "with engine.connect() as conn:\n",
    "    result = conn.execute(db.text(QUERY_4))\n",
    "    for row in result:\n",
    "        print(row)"
   ]
  },
  {
   "cell_type": "code",
   "execution_count": null,
   "id": "4aedcbbf",
   "metadata": {},
   "outputs": [],
   "source": [
    "write_query_to_file(QUERY_4, QUERY_4_FILENAME)"
   ]
  },
  {
   "cell_type": "code",
   "execution_count": null,
   "id": "57998cce",
   "metadata": {},
   "outputs": [],
   "source": []
  },
  {
   "cell_type": "code",
   "execution_count": null,
   "id": "6ccdef0e",
   "metadata": {},
   "outputs": [],
   "source": []
  },
  {
   "cell_type": "markdown",
   "id": "a59b3a9b",
   "metadata": {},
   "source": [
    "### Query 5"
   ]
  },
  {
   "cell_type": "code",
   "execution_count": 114,
   "id": "ed8bcd59",
   "metadata": {},
   "outputs": [],
   "source": [
    "QUERY_5_FILENAME = QUERY_DIR / \"Q5.sql\"\n",
    "QUERY_5 = \"\"\"\n",
    "SELECT z.zipcode, COUNT(t.tree_id) AS total_trees\n",
    "FROM trees t\n",
    "JOIN zip_codes z ON ST_Contains(z.the_geom, t.the_geom)\n",
    "GROUP BY z.zipcode\n",
    "ORDER BY total_trees DESC;\n",
    "\"\"\""
   ]
  },
  {
   "cell_type": "code",
   "execution_count": 115,
   "id": "a198bdac",
   "metadata": {},
   "outputs": [],
   "source": [
    "with engine.connect() as conn:\n",
    "    result = conn.execute(db.text(QUERY_5))\n",
    "    for row in result:\n",
    "        print(row)"
   ]
  },
  {
   "cell_type": "code",
   "execution_count": 116,
   "id": "6ecde12e",
   "metadata": {},
   "outputs": [],
   "source": [
    "write_query_to_file(QUERY_5, QUERY_5_FILENAME)"
   ]
  },
  {
   "cell_type": "code",
   "execution_count": null,
   "id": "88dc591a",
   "metadata": {},
   "outputs": [],
   "source": []
  },
  {
   "cell_type": "code",
   "execution_count": null,
   "id": "f7e08aeb",
   "metadata": {},
   "outputs": [],
   "source": []
  },
  {
   "cell_type": "markdown",
   "id": "4f697618",
   "metadata": {},
   "source": [
    "### Query 6"
   ]
  },
  {
   "cell_type": "code",
   "execution_count": 181,
   "id": "54c417ea",
   "metadata": {},
   "outputs": [],
   "source": [
    "QUERY_6_FILENAME = QUERY_DIR / \"Q6.sql\"\n",
    "QUERY_6 = \"\"\"\n",
    "SELECT tree_id, species, health, the_geom\n",
    "FROM trees\n",
    "WHERE ST_DWithin(ST_SetSRID(ST_MakePoint(-73.96253174434912,40.80737875669467),4326), the_geom, 804.672)\n",
    "LIMIT 10\n",
    "\"\"\"\n",
    "# ST_DWithin uses meters as units. 0.5 miles = 804.672 meters\n",
    "# altitude 40.80737875669467 longtitude -73.96253174434912"
   ]
  },
  {
   "cell_type": "code",
   "execution_count": 182,
   "id": "fb7dc8f6",
   "metadata": {},
   "outputs": [
    {
     "name": "stdout",
     "output_type": "stream",
     "text": [
      "('190422', 'honeylocust', 'Good', '0101000020E6100000C27C9B6B097F52C011D1E5DA90624440')\n",
      "('190426', 'honeylocust', 'Good', '0101000020E610000002B16AC70F7F52C060D12A3B96624440')\n",
      "('208649', 'American linden', 'Good', '0101000020E61000002353C2DD2F7F52C025086DEFA0614440')\n",
      "('193310', 'honeylocust', 'Good', '0101000020E61000004629371B787D52C0447BD483D6624440')\n",
      "('199760', 'willow oak', 'Fair', '0101000020E61000008A04661EC87E52C06044F16E1B644440')\n",
      "('201555', 'honeylocust', 'Good', '0101000020E6100000BCE5F05E597F52C092CBB22F645C4440')\n",
      "('187056', 'honeylocust', 'Good', '0101000020E6100000F328D0F8D27E52C08BAF1C579C624440')\n",
      "('187058', 'honeylocust', 'Good', '0101000020E61000004723B047CC7E52C0E5D59BCD96624440')\n",
      "('190423', 'honeylocust', 'Good', '0101000020E6100000ACACDE050B7F52C01D10C33592624440')\n",
      "('190425', 'honeylocust', 'Good', '0101000020E61000005C37E8A60E7F52C021753E4795624440')\n"
     ]
    }
   ],
   "source": [
    "with engine.connect() as conn:\n",
    "    result = conn.execute(db.text(QUERY_6))\n",
    "    for row in result:\n",
    "        print(row)"
   ]
  },
  {
   "cell_type": "code",
   "execution_count": 109,
   "id": "25d85415",
   "metadata": {},
   "outputs": [],
   "source": [
    "write_query_to_file(QUERY_6, QUERY_2_FILENAME)"
   ]
  },
  {
   "cell_type": "code",
   "execution_count": null,
   "id": "b2eb6e0f",
   "metadata": {},
   "outputs": [],
   "source": []
  },
  {
   "cell_type": "code",
   "execution_count": null,
   "id": "e05bc282",
   "metadata": {},
   "outputs": [],
   "source": []
  },
  {
   "cell_type": "markdown",
   "id": "75223ce5-6ab5-4613-b6af-fa8e33bcc7d5",
   "metadata": {},
   "source": [
    "## Part 4: Visualizing the Data"
   ]
  },
  {
   "cell_type": "markdown",
   "id": "f3050660",
   "metadata": {},
   "source": [
    "### Visualization 1"
   ]
  },
  {
   "cell_type": "code",
   "execution_count": null,
   "id": "5b902037",
   "metadata": {},
   "outputs": [],
   "source": [
    "def plot_top_3_complaints(dataframe1):\n",
    "    figure, axes = plt.subplots(figsize=(20, 10))\n",
    "    axes.bar(dataframe1['complaint_type'], dataframe1['complaint_count'])\n",
    "\n",
    "    axes.set_title(\"Top 3 Complaint Types for October 1st, 2022 to September 30th, 2023 \")\n",
    "    axes.set_xlabel(\"Complaint Type\")\n",
    "    axes.set_ylabel(\"Complaint Count\")\n",
    "    \n",
    "    plt.show()"
   ]
  },
  {
   "cell_type": "code",
   "execution_count": null,
   "id": "69a54456",
   "metadata": {},
   "outputs": [],
   "source": [
    "def get_data_for_visual_1():\n",
    "    V1 = \"\"\"\n",
    "    SELECT complaint_type, COUNT(unique_key) AS complaint_count\n",
    "    FROM nyc_311\n",
    "    WHERE created_date BETWEEN '2022-10-01' AND '2023-09-30'\n",
    "    GROUP BY complaint_type\n",
    "    ORDER BY complaint_count DESC\n",
    "    LIMIT 3;\n",
    "    \"\"\"\n",
    "    with engine.connect() as conn:\n",
    "        result = conn.execute(db.text(V1))\n",
    "        dataframe1 = pd.DataFrame(result.fetchall(), columns=result.keys())\n",
    "    return dataframe1"
   ]
  },
  {
   "cell_type": "code",
   "execution_count": null,
   "id": "858802fa",
   "metadata": {},
   "outputs": [],
   "source": [
    "some_dataframe1 = get_data_for_visual_1()\n",
    "plot_top_3_complaints(some_dataframe1)"
   ]
  },
  {
   "cell_type": "markdown",
   "id": "b21fcfed-ddbb-4908-a60e-ed7cbc6d5b00",
   "metadata": {},
   "source": [
    "### Visualization 2"
   ]
  },
  {
   "cell_type": "code",
   "execution_count": null,
   "id": "6f0e2cde-e43b-407b-ab93-ff85a2dba469",
   "metadata": {},
   "outputs": [],
   "source": [
    "def plot_top_10_complaints(dataframe2):\n",
    "    figure, axes = plt.subplots(figsize=(20, 10))\n",
    "    \n",
    "    complaint_types = dataframe2['complaint_type']\n",
    "    complaint_counts = dataframe2['complaint_count']\n",
    "    axes.bar(complaint_types, complaint_counts)\n",
    "    axes.set_title('Top 10 Complaints in Zip Code 10027')\n",
    "    axes.set_xlabel('Complaint Type')\n",
    "    axes.set_ylabel('Complaint Count')\n",
    "    \n",
    "    plt.show()"
   ]
  },
  {
   "cell_type": "code",
   "execution_count": null,
   "id": "ed80755f-d1e1-4e53-8ef8-f5295c59a3fe",
   "metadata": {},
   "outputs": [],
   "source": [
    "def get_data_for_visual_2():\n",
    "    V2 = \"\"\"\n",
    "    SELECT complaint_type, COUNT(unique_key) AS complaint_count\n",
    "    FROM nyc_311\n",
    "    WHERE incident_zip = '10027' AND created_date BETWEEN '2018-10-01' AND '2023-09-30'\n",
    "    GROUP BY complaint_type\n",
    "    ORDER BY complaint_count DESC\n",
    "    LIMIT 10;\n",
    "    \"\"\"\n",
    "    with engine.connect() as conn:\n",
    "        result = conn.execute(db.text(V2))\n",
    "        dataframe2 = pd.DataFrame(result.fetchall(), columns=result.keys())\n",
    "    return dataframe2"
   ]
  },
  {
   "cell_type": "code",
   "execution_count": null,
   "id": "f6a2632a-b516-4a6e-8b67-97116ab6fce4",
   "metadata": {},
   "outputs": [],
   "source": [
    "some_dataframe2 = get_data_for_visual_2()\n",
    "plot_top_10_complaints(some_dataframe2)"
   ]
  },
  {
   "cell_type": "markdown",
   "id": "6fdf14b3",
   "metadata": {},
   "source": [
    "### Visualization 3"
   ]
  },
  {
   "cell_type": "code",
   "execution_count": null,
   "id": "a330bfff",
   "metadata": {},
   "outputs": [],
   "source": [
    "def plot_rent_trees_complaints(dataframe3):\n",
    "    fig, (ax1, ax2) = plt.subplots(2, 1, figsize=(20, 20), sharex=True)\n",
    "\n",
    "    # Rent & Tree\n",
    "    ax1.scatter(dataframe3['AverageRent'], dataframe3['TreeCount'])\n",
    "    ax1.set_title(\"Average Rent vs Tree Count\")\n",
    "    ax1.set_ylabel(\"Tree Count\")\n",
    "\n",
    "    # Rent & Complaints\n",
    "    ax2.scatter(dataframe3['AverageRent'], dataframe3['ComplaintCount'])\n",
    "    ax2.set_title(\"Average Rent vs Number of Complaints\")\n",
    "    ax2.set_xlabel(\"Average Rent\")\n",
    "    ax2.set_ylabel(\"Complaint Count\")\n",
    "\n",
    "    plt.show()"
   ]
  },
  {
   "cell_type": "code",
   "execution_count": null,
   "id": "5da3f1eb",
   "metadata": {},
   "outputs": [],
   "source": [
    "def get_data_for_visual_3():\n",
    "    V3 = \"\"\"\n",
    "    WITH RentData AS (\n",
    "    SELECT Zip_code,\n",
    "           。。。\n",
    "    FROM rent\n",
    "    GROUP BY Zip_code\n",
    "    ),\n",
    "\n",
    "    TreeData AS (\n",
    "        SELECT zipcode, COUNT(tree_id) AS TreeCount\n",
    "        FROM trees\n",
    "        GROUP BY zipcode\n",
    "    ),\n",
    "\n",
    "    ComplaintData AS (\n",
    "        SELECT incident_zip, COUNT(unique_key) AS ComplaintCount\n",
    "        FROM nyc_311\n",
    "        WHERE created_date BETWEEN '2015-01-01' AND '2023-09-30'\n",
    "        GROUP BY incident_zip\n",
    "    )\n",
    "\n",
    "    SELECT r.Zip_code, r.AverageRent, t.TreeCount, c.ComplaintCount\n",
    "    FROM RentData r\n",
    "    LEFT JOIN TreeData t ON r.Zip_code = t.zipcode\n",
    "    LEFT JOIN ComplaintData c ON r.Zip_code = c.zipcode;\n",
    "    \"\"\"\n",
    "    with engine.connect() as conn:\n",
    "        result = conn.execute(db.text(V3))\n",
    "        dataframe3 = pd.DataFrame(result.fetchall(), columns=result.keys())\n",
    "    return dataframe3"
   ]
  },
  {
   "cell_type": "code",
   "execution_count": null,
   "id": "567ad63e",
   "metadata": {},
   "outputs": [],
   "source": [
    "some_dataframe3 = get_data_for_visual_3()\n",
    "plot_rent_trees_complaints(some_dataframe3)"
   ]
  },
  {
   "cell_type": "markdown",
   "id": "114bed18",
   "metadata": {},
   "source": [
    "### Visualization 4"
   ]
  },
  {
   "cell_type": "code",
   "execution_count": null,
   "id": "97ae08e9",
   "metadata": {},
   "outputs": [],
   "source": [
    "def plot_rent_vs_complaints(dataframe4):\n",
    "    dataframe4['Boxplot'] = pd.cut(dataframe4['Rent'], bins=np.arange(0, dataframe4['Rent'].max() + 1000, 1000), right=False)\n",
    "    \n",
    "    plt.figure(figsize=(20, 10))\n",
    "    dataframe4.boxplot(column='complaint_count', by='Boxplot', grid=False)\n",
    "    plt.title('Rent vs Number of 311 Complaints')\n",
    "    plt.xlabel('Rent')\n",
    "    plt.ylabel('Complaint Count')\n",
    "\n",
    "    plt.show()"
   ]
  },
  {
   "cell_type": "code",
   "execution_count": null,
   "id": "b064c789",
   "metadata": {},
   "outputs": [],
   "source": [
    "def get_data_for_visual_4():\n",
    "    V4 = \"\"\"\n",
    "    SELECT r.\"Zip_code\", r.\"2023-09-30\" AS Rent, COUNT(n.unique_key) AS complaint_count\n",
    "    FROM nyc_311 n\n",
    "    JOIN rent r ON n.incident_zip = r.\"Zip_code\"\n",
    "    WHERE n.created_date BETWEEN '2022-10-01' AND '2023-09-30'\n",
    "    GROUP BY r.\"Zip_code\", r.\"2023-09-30\"\n",
    "    ORDER BY r.\"2023-09-30\";\n",
    "    \"\"\"\n",
    "    \n",
    "    with engine.connect() as conn:\n",
    "        result = conn.execute(db.text(V4))\n",
    "        dataframe4 = pd.DataFrame(result.fetchall(), columns=result.keys())\n",
    "\n",
    "    return dataframe4"
   ]
  },
  {
   "cell_type": "code",
   "execution_count": null,
   "id": "f1285841",
   "metadata": {},
   "outputs": [],
   "source": [
    "some_dataframe4 = get_data_for_visual_4()\n",
    "plot_rent_vs_complaints(some_dataframe4)"
   ]
  },
  {
   "cell_type": "markdown",
   "id": "34e130cc",
   "metadata": {},
   "source": [
    "### Visualization 5"
   ]
  },
  {
   "cell_type": "code",
   "execution_count": null,
   "id": "d039282e",
   "metadata": {},
   "outputs": [],
   "source": [
    "def plot_recent_311_incidents(dataframe5):\n",
    "    fig, ax = plt.subplots(figsize=(10, 10))\n",
    "    \n",
    "    dataframe5.plot(ax=ax, marker='o', color='red', markersize=5)\n",
    "    ax.set_title(\"Recent 311 Incidents in Immediate Area\")\n",
    "    plt.show()"
   ]
  },
  {
   "cell_type": "code",
   "execution_count": null,
   "id": "74afa6ce",
   "metadata": {},
   "outputs": [],
   "source": [
    "def get_data_for_visual_5():\n",
    "    V5 = \"\"\"\n",
    "    SELECT n.unique_key, n.created_date, n.incident_zip, n.complaint_type, z.geometry\n",
    "    FROM nyc_311 n\n",
    "    JOIN zip_codes z ON n.incident_zip = z.zipcode\n",
    "    WHERE n.created_date BETWEEN '2023-01-01' AND '2023-09-30'\n",
    "    AND ST_DistanceSphere(z.geometry, ST_MakePoint(part3q6的经度, 纬度)) <= 1000;\n",
    "    \"\"\"\n",
    "    \n",
    "    with engine.connect() as conn:\n",
    "        result = conn.execute(db.text(V5))\n",
    "        dataframe5 = pd.DataFrame(result.fetchall(), columns=result.keys())\n",
    "\n",
    "    return dataframe5"
   ]
  },
  {
   "cell_type": "code",
   "execution_count": null,
   "id": "dd49f73f",
   "metadata": {},
   "outputs": [],
   "source": [
    "some_dataframe5 = get_data_for_visual_5()\n",
    "plot_recent_311_incidents(some_dataframe5)"
   ]
  },
  {
   "cell_type": "markdown",
   "id": "a19e835d",
   "metadata": {},
   "source": [
    "### Visualization 6"
   ]
  },
  {
   "cell_type": "code",
   "execution_count": null,
   "id": "f601e1df",
   "metadata": {},
   "outputs": [],
   "source": [
    "def plot_trees_and_requests(tree_df, request_df):\n",
    "    fig, ax = plt.subplots(figsize=(10, 10))\n",
    "\n",
    "    tree_df.plot(ax=ax, marker='o', color='green', markersize=5, label='Trees')\n",
    "\n",
    "    request_df.plot(ax=ax, marker='x', color='red', markersize=5, label='New Tree Requests')\n",
    "    ax.legend()\n",
    "    ax.set_title('Trees and New Tree Requests in NYC')\n",
    "    \n",
    "    plt.show()"
   ]
  },
  {
   "cell_type": "code",
   "execution_count": null,
   "id": "645125d5",
   "metadata": {},
   "outputs": [],
   "source": [
    "def get_data_for_visual_6():\n",
    "    V6_trees = \"\"\"\n",
    "    SELECT tree_id, geometry\n",
    "    FROM trees;\n",
    "    \"\"\"\n",
    "\n",
    "    V6_complaints = \"\"\"\n",
    "    SELECT n.unique_key, n.created_date, n.incident_zip, n.complaint_type, z.geometry\n",
    "    FROM nyc_311 n\n",
    "    JOIN zip_codes z ON n.incident_zip = z.zipcode\n",
    "    WHERE n.created_date BETWEEN '2023-01-01' AND '2023-09-30'\n",
    "    AND complaint_type = 'New Tree Request';\n",
    "    \"\"\"\n",
    "\n",
    "    with engine.connect() as conn:\n",
    "        trees_result = conn.execute(db.text(V6_trees))\n",
    "        complaints_result = conn.execute(db.text(V6_complaints))\n",
    "\n",
    "        trees_df = gpd.GeoDataFrame(trees_result.fetchall(), columns=trees_result.keys())\n",
    "        complaints_df = gpd.GeoDataFrame(complaints_result.fetchall(), columns=complaints_result.keys())\n",
    "\n",
    "    return trees_df, complaints_df"
   ]
  },
  {
   "cell_type": "code",
   "execution_count": null,
   "id": "7f7c19ae",
   "metadata": {},
   "outputs": [],
   "source": [
    "some_dataframe6 = get_data_for_visual_6()\n",
    "plot_trees_and_requests(some_dataframe6)"
   ]
  },
  {
   "cell_type": "code",
   "execution_count": null,
   "id": "0cdfaf54",
   "metadata": {},
   "outputs": [],
   "source": []
  }
 ],
 "metadata": {
  "kernelspec": {
   "display_name": "Python 3 (ipykernel)",
   "language": "python",
   "name": "python3"
  },
  "language_info": {
   "codemirror_mode": {
    "name": "ipython",
    "version": 3
   },
   "file_extension": ".py",
   "mimetype": "text/x-python",
   "name": "python",
   "nbconvert_exporter": "python",
   "pygments_lexer": "ipython3",
   "version": "3.11.4"
  }
 },
 "nbformat": 4,
 "nbformat_minor": 5
}
