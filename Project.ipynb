{
 "cells": [
  {
   "cell_type": "markdown",
   "id": "d4c5a136-e872-4846-9965-9ddc5251a0b3",
   "metadata": {},
   "source": [
    "# NYC Apartment Search\n",
    "\n",
    "_[Project prompt](https://docs.google.com/document/d/1BYVyFBDcTywdUlanH0ysfOrNWPgl7UkqXA7NeewTzxA/edit#heading=h.bpxu7uvknnbk)_\n",
    "\n",
    "_This scaffolding notebook may be used to help setup your final project. It's **totally optional** whether you make use of this or not._\n",
    "\n",
    "_If you do use this notebook, everything provided is optional as well - you may remove or add code as you wish._\n",
    "\n",
    "_**All code below should be consider \"pseudo-code\" - not functional by itself, and only an idea of a possible approach.**_"
   ]
  },
  {
   "cell_type": "markdown",
   "id": "bdf11fa0-4684-4f5e-8048-0f4cc5f4f243",
   "metadata": {},
   "source": [
    "## Setup"
   ]
  },
  {
   "cell_type": "code",
   "execution_count": 1,
   "id": "0f675d4b-794e-407c-aac9-b85c4a3975d2",
   "metadata": {},
   "outputs": [],
   "source": [
    "# All import statements needed for the project, for example:\n",
    "\n",
    "import json\n",
    "import pathlib\n",
    "import urllib.parse\n",
    "import geoalchemy2 as gdb\n",
    "from geoalchemy2 import WKTElement\n",
    "from geoalchemy2 import Geometry\n",
    "import geopandas as gpd\n",
    "import matplotlib.pyplot as plt\n",
    "import pandas as pd\n",
    "import requests\n",
    "import shapely\n",
    "import sqlalchemy as db\n",
    "from sqlalchemy import create_engine, text\n",
    "import numpy as np\n",
    "from shapely import wkt\n",
    "import psycopg2\n",
    "\n",
    "from sqlalchemy.orm import declarative_base"
   ]
  },
  {
   "cell_type": "code",
   "execution_count": 2,
   "id": "70a62277-51cf-48a2-81d2-9b2127088a7e",
   "metadata": {},
   "outputs": [],
   "source": [
    "# Any constants you might need; some have been added for you\n",
    "\n",
    "# Where data files will be read from/written to - this should already exist\n",
    "DATA_DIR = pathlib.Path(\"/Users/sun/Documents/GitHub/Final-Project-Group34/data\")\n",
    "ZIPCODE_DATA_FILE = DATA_DIR / \"nyc_zipcodes\" / \"nyc_zipcodes.shp\" \n",
    "ZILLOW_DATA_FILE = DATA_DIR / \"zillow_rent_data.csv\"\n",
    "\n",
    "\n",
    "NYC_DATA_APP_TOKEN = \"ViHT9fZpI3IQw23Bqm2tTgCVE\"\n",
    "BASE_NYC_DATA_URL = \"https://data.cityofnewyork.us/\"\n",
    "NYC_DATA_311 = \"erm2-nwe9.geojson\"\n",
    "NYC_DATA_TREES = \"5rq2-4hqu.geojson\"\n",
    "\n",
    "DB_NAME = \"Final_project\"\n",
    "DB_USER = \"postgres\"\n",
    "DB_PASSWORD = \"yq001018\"\n",
    "DB_HOST = \"localhost\"  \n",
    "DB_PORT = \"5432\" \n",
    "\n",
    "DB_URL = f\"postgresql://{DB_USER}:{DB_PASSWORD}@{DB_HOST}:{DB_PORT}/{DB_NAME}\"\n",
    "DB_SCHEMA_FILE = \"schema.sql\"\n",
    "\n",
    "# directory where DB queries for Part 3 will be saved\n",
    "QUERY_DIR = pathlib.Path(\"/Users/sun/Documents/GitHub/Final-Project-Group34/queries\")\n",
    "\n",
    "\n",
    "endpoint_331 = f\"{BASE_NYC_DATA_URL}resource/{NYC_DATA_311}?\\\n",
    "$select=unique_key,created_date,incident_zip,complaint_type&\\\n",
    "$where= created_date between '2015-01-01' and'2023-10-01'&$limit=24336506&\\\n",
    "$$app_token={NYC_DATA_APP_TOKEN}\"\n",
    "\n",
    "endpoint_trees = f\"{BASE_NYC_DATA_URL}resource/{NYC_DATA_TREES}?\"\\\n",
    "                 \"$select=tree_id,the_geom,zipcode,zip_city,health,spc_common&\"\\\n",
    "                 f\"$$app_token={NYC_DATA_APP_TOKEN}&$limit=65000 &$where= zip_city='New York'\""
   ]
  },
  {
   "cell_type": "markdown",
   "id": "52476a07-9bf2-4b7a-8cb7-93648bb4d303",
   "metadata": {},
   "source": [
    "## Part 1: Data Preprocessing"
   ]
  },
  {
   "cell_type": "code",
   "execution_count": 3,
   "id": "ee245240-2fbb-45b8-9a92-4e2368f62c60",
   "metadata": {},
   "outputs": [],
   "source": [
    "def load_and_clean_zipcodes():\n",
    "    zipcodes_df = gpd.read_file(ZIPCODE_DATA_FILE)\n",
    "    zipcodes_df = zipcodes_df[zipcodes_df['PO_NAME'] == 'New York']\n",
    "    zipcodes_df[[\"ZIPCODE\",\"geometry\"]]\n",
    "    return zipcodes_df[[\"ZIPCODE\",\"geometry\"]]"
   ]
  },
  {
   "cell_type": "code",
   "execution_count": 4,
   "id": "eed2a5a9-1027-4c41-bbb5-039c32ce7e9b",
   "metadata": {},
   "outputs": [],
   "source": [
    "def download_and_clean_311_data():\n",
    "    content = requests.get(endpoint_331)\n",
    "    data_331 = gpd.read_file(content.text)\n",
    "    return data_331[[\"unique_key\",\"created_date\",\"incident_zip\",\"complaint_type\"]]"
   ]
  },
  {
   "cell_type": "code",
   "execution_count": 5,
   "id": "39c4b1bc-c841-4b87-8301-1dc2cafeccc7",
   "metadata": {},
   "outputs": [],
   "source": [
    "def download_and_clean_tree_data():\n",
    "    content = requests.get(endpoint_trees)\n",
    "    data_tree = gpd.read_file(content.text).reset_index()\n",
    "    return data_tree"
   ]
  },
  {
   "cell_type": "code",
   "execution_count": 6,
   "id": "747ff49f-a18b-4fc0-8da6-6834a10d11ce",
   "metadata": {},
   "outputs": [],
   "source": [
    "def load_and_clean_zillow_data():\n",
    "    zillow_df = gpd.read_file(ZILLOW_DATA_FILE)\n",
    "    zillow_df = zillow_df[zillow_df['City'] == 'New York']\n",
    "    date_columns = [col for col in zillow_df if col >= '2015-01-31' and col <= '2023-09-30']\n",
    "\n",
    "    for col in date_columns:\n",
    "        zillow_df[col] = pd.to_numeric(zillow_df[col], errors='coerce')\n",
    "    \n",
    "    zillow_df['AverageRent'] = zillow_df[date_columns].mean(axis=1, skipna=True,)\n",
    "    zillow_df.rename(columns={'RegionName': 'Zip_code'},inplace=True)\n",
    "    return zillow_df[[\"RegionID\",'Zip_code',\"AverageRent\"] + date_columns]"
   ]
  },
  {
   "cell_type": "code",
   "execution_count": 7,
   "id": "345ebc2c-14f1-490c-9857-11f1e332e3bc",
   "metadata": {},
   "outputs": [],
   "source": [
    "def load_all_data():\n",
    "    geodf_zipcode_data = load_and_clean_zipcodes()\n",
    "    geodf_311_data = download_and_clean_311_data()\n",
    "    geodf_tree_data = download_and_clean_tree_data()\n",
    "    df_zillow_data = load_and_clean_zillow_data()\n",
    "    return (\n",
    "        geodf_zipcode_data,\n",
    "        geodf_311_data,\n",
    "        geodf_tree_data,\n",
    "        df_zillow_data\n",
    "    )"
   ]
  },
  {
   "cell_type": "code",
   "execution_count": 10,
   "id": "f2768bc8-4130-4298-be28-13d4b250a666",
   "metadata": {},
   "outputs": [],
   "source": [
    "geodf_zipcode_data, geodf_311_data, geodf_tree_data, df_zillow_data = load_all_data()"
   ]
  },
  {
   "cell_type": "code",
   "execution_count": 13,
   "id": "23ad8bbc-bf91-457e-97db-a945fabeee29",
   "metadata": {
    "scrolled": false
   },
   "outputs": [
    {
     "name": "stdout",
     "output_type": "stream",
     "text": [
      "<class 'geopandas.geodataframe.GeoDataFrame'>\n",
      "Int64Index: 110 entries, 21 to 262\n",
      "Data columns (total 2 columns):\n",
      " #   Column    Non-Null Count  Dtype   \n",
      "---  ------    --------------  -----   \n",
      " 0   ZIPCODE   110 non-null    object  \n",
      " 1   geometry  110 non-null    geometry\n",
      "dtypes: geometry(1), object(1)\n",
      "memory usage: 2.6+ KB\n"
     ]
    }
   ],
   "source": [
    "# Show basic info about each dataframe\n",
    "geodf_zipcode_data.info()"
   ]
  },
  {
   "cell_type": "code",
   "execution_count": 14,
   "id": "ec68f4be-f365-46c1-91a1-ab75deb75ff4",
   "metadata": {},
   "outputs": [
    {
     "data": {
      "text/html": [
       "<div>\n",
       "<style scoped>\n",
       "    .dataframe tbody tr th:only-of-type {\n",
       "        vertical-align: middle;\n",
       "    }\n",
       "\n",
       "    .dataframe tbody tr th {\n",
       "        vertical-align: top;\n",
       "    }\n",
       "\n",
       "    .dataframe thead th {\n",
       "        text-align: right;\n",
       "    }\n",
       "</style>\n",
       "<table border=\"1\" class=\"dataframe\">\n",
       "  <thead>\n",
       "    <tr style=\"text-align: right;\">\n",
       "      <th></th>\n",
       "      <th>zipcode</th>\n",
       "      <th>geometry</th>\n",
       "    </tr>\n",
       "  </thead>\n",
       "  <tbody>\n",
       "    <tr>\n",
       "      <th>21</th>\n",
       "      <td>10034</td>\n",
       "      <td>POLYGON ((1006203.169 257345.657, 1006214.666 ...</td>\n",
       "    </tr>\n",
       "    <tr>\n",
       "      <th>22</th>\n",
       "      <td>10033</td>\n",
       "      <td>POLYGON ((1003020.865 256049.162, 1003096.046 ...</td>\n",
       "    </tr>\n",
       "    <tr>\n",
       "      <th>24</th>\n",
       "      <td>10040</td>\n",
       "      <td>POLYGON ((1002564.135 253724.773, 1002596.698 ...</td>\n",
       "    </tr>\n",
       "    <tr>\n",
       "      <th>32</th>\n",
       "      <td>10032</td>\n",
       "      <td>POLYGON ((998935.853 249154.260, 998945.457 24...</td>\n",
       "    </tr>\n",
       "    <tr>\n",
       "      <th>36</th>\n",
       "      <td>10031</td>\n",
       "      <td>POLYGON ((1000830.039 241801.590, 1000913.103 ...</td>\n",
       "    </tr>\n",
       "  </tbody>\n",
       "</table>\n",
       "</div>"
      ],
      "text/plain": [
       "   zipcode                                           geometry\n",
       "21   10034  POLYGON ((1006203.169 257345.657, 1006214.666 ...\n",
       "22   10033  POLYGON ((1003020.865 256049.162, 1003096.046 ...\n",
       "24   10040  POLYGON ((1002564.135 253724.773, 1002596.698 ...\n",
       "32   10032  POLYGON ((998935.853 249154.260, 998945.457 24...\n",
       "36   10031  POLYGON ((1000830.039 241801.590, 1000913.103 ..."
      ]
     },
     "execution_count": 14,
     "metadata": {},
     "output_type": "execute_result"
    }
   ],
   "source": [
    "# Show first 5 entries about each dataframe\n",
    "geodf_zipcode_data.rename(columns={'ZIPCODE': 'zipcode'}, inplace=True)\n",
    "geodf_zipcode_data.head()"
   ]
  },
  {
   "cell_type": "code",
   "execution_count": 15,
   "id": "6a803b68-2f07-44b8-8b24-d4f16c9e03fe",
   "metadata": {},
   "outputs": [
    {
     "name": "stdout",
     "output_type": "stream",
     "text": [
      "<class 'pandas.core.frame.DataFrame'>\n",
      "RangeIndex: 355000 entries, 0 to 354999\n",
      "Data columns (total 4 columns):\n",
      " #   Column          Non-Null Count   Dtype         \n",
      "---  ------          --------------   -----         \n",
      " 0   unique_key      355000 non-null  object        \n",
      " 1   created_date    355000 non-null  datetime64[ns]\n",
      " 2   incident_zip    348105 non-null  object        \n",
      " 3   complaint_type  355000 non-null  object        \n",
      "dtypes: datetime64[ns](1), object(3)\n",
      "memory usage: 10.8+ MB\n"
     ]
    }
   ],
   "source": [
    "geodf_311_data.info()"
   ]
  },
  {
   "cell_type": "code",
   "execution_count": 16,
   "id": "14705df9-ea77-4d57-ac8e-1845f80a216d",
   "metadata": {},
   "outputs": [
    {
     "data": {
      "text/html": [
       "<div>\n",
       "<style scoped>\n",
       "    .dataframe tbody tr th:only-of-type {\n",
       "        vertical-align: middle;\n",
       "    }\n",
       "\n",
       "    .dataframe tbody tr th {\n",
       "        vertical-align: top;\n",
       "    }\n",
       "\n",
       "    .dataframe thead th {\n",
       "        text-align: right;\n",
       "    }\n",
       "</style>\n",
       "<table border=\"1\" class=\"dataframe\">\n",
       "  <thead>\n",
       "    <tr style=\"text-align: right;\">\n",
       "      <th></th>\n",
       "      <th>unique_key</th>\n",
       "      <th>created_date</th>\n",
       "      <th>incident_zip</th>\n",
       "      <th>complaint_type</th>\n",
       "    </tr>\n",
       "  </thead>\n",
       "  <tbody>\n",
       "    <tr>\n",
       "      <th>0</th>\n",
       "      <td>58974915</td>\n",
       "      <td>2023-09-30 23:59:58</td>\n",
       "      <td>11226</td>\n",
       "      <td>Noise - Street/Sidewalk</td>\n",
       "    </tr>\n",
       "    <tr>\n",
       "      <th>1</th>\n",
       "      <td>58972386</td>\n",
       "      <td>2023-09-30 23:59:38</td>\n",
       "      <td>11361</td>\n",
       "      <td>Noise - Residential</td>\n",
       "    </tr>\n",
       "    <tr>\n",
       "      <th>2</th>\n",
       "      <td>58973465</td>\n",
       "      <td>2023-09-30 23:59:35</td>\n",
       "      <td>10002</td>\n",
       "      <td>Noise - Commercial</td>\n",
       "    </tr>\n",
       "    <tr>\n",
       "      <th>3</th>\n",
       "      <td>58974769</td>\n",
       "      <td>2023-09-30 23:59:34</td>\n",
       "      <td>11435</td>\n",
       "      <td>Noise - Residential</td>\n",
       "    </tr>\n",
       "    <tr>\n",
       "      <th>4</th>\n",
       "      <td>58968700</td>\n",
       "      <td>2023-09-30 23:59:28</td>\n",
       "      <td>11226</td>\n",
       "      <td>Noise - Residential</td>\n",
       "    </tr>\n",
       "  </tbody>\n",
       "</table>\n",
       "</div>"
      ],
      "text/plain": [
       "  unique_key        created_date incident_zip           complaint_type\n",
       "0   58974915 2023-09-30 23:59:58        11226  Noise - Street/Sidewalk\n",
       "1   58972386 2023-09-30 23:59:38        11361      Noise - Residential\n",
       "2   58973465 2023-09-30 23:59:35        10002       Noise - Commercial\n",
       "3   58974769 2023-09-30 23:59:34        11435      Noise - Residential\n",
       "4   58968700 2023-09-30 23:59:28        11226      Noise - Residential"
      ]
     },
     "execution_count": 16,
     "metadata": {},
     "output_type": "execute_result"
    }
   ],
   "source": [
    "geodf_311_data.head()"
   ]
  },
  {
   "cell_type": "code",
   "execution_count": 17,
   "id": "e6006cd2-3a00-4660-8d2a-a660b9bfd91e",
   "metadata": {},
   "outputs": [
    {
     "name": "stdout",
     "output_type": "stream",
     "text": [
      "<class 'geopandas.geodataframe.GeoDataFrame'>\n",
      "RangeIndex: 64488 entries, 0 to 64487\n",
      "Data columns (total 7 columns):\n",
      " #   Column      Non-Null Count  Dtype   \n",
      "---  ------      --------------  -----   \n",
      " 0   index       64488 non-null  int64   \n",
      " 1   health      61495 non-null  object  \n",
      " 2   zipcode     64488 non-null  object  \n",
      " 3   tree_id     64488 non-null  object  \n",
      " 4   spc_common  61496 non-null  object  \n",
      " 5   zip_city    64488 non-null  object  \n",
      " 6   geometry    64488 non-null  geometry\n",
      "dtypes: geometry(1), int64(1), object(5)\n",
      "memory usage: 3.4+ MB\n"
     ]
    }
   ],
   "source": [
    "geodf_tree_data.info()"
   ]
  },
  {
   "cell_type": "code",
   "execution_count": 18,
   "id": "07f880ef-c5fc-4159-8174-21ccd44f492d",
   "metadata": {},
   "outputs": [
    {
     "data": {
      "text/html": [
       "<div>\n",
       "<style scoped>\n",
       "    .dataframe tbody tr th:only-of-type {\n",
       "        vertical-align: middle;\n",
       "    }\n",
       "\n",
       "    .dataframe tbody tr th {\n",
       "        vertical-align: top;\n",
       "    }\n",
       "\n",
       "    .dataframe thead th {\n",
       "        text-align: right;\n",
       "    }\n",
       "</style>\n",
       "<table border=\"1\" class=\"dataframe\">\n",
       "  <thead>\n",
       "    <tr style=\"text-align: right;\">\n",
       "      <th></th>\n",
       "      <th>index</th>\n",
       "      <th>health</th>\n",
       "      <th>zipcode</th>\n",
       "      <th>tree_id</th>\n",
       "      <th>spc_common</th>\n",
       "      <th>zip_city</th>\n",
       "      <th>geometry</th>\n",
       "    </tr>\n",
       "  </thead>\n",
       "  <tbody>\n",
       "    <tr>\n",
       "      <th>0</th>\n",
       "      <td>0</td>\n",
       "      <td>Good</td>\n",
       "      <td>10023</td>\n",
       "      <td>190422</td>\n",
       "      <td>honeylocust</td>\n",
       "      <td>New York</td>\n",
       "      <td>POINT (-73.98495 40.77005)</td>\n",
       "    </tr>\n",
       "    <tr>\n",
       "      <th>1</th>\n",
       "      <td>1</td>\n",
       "      <td>Good</td>\n",
       "      <td>10023</td>\n",
       "      <td>190426</td>\n",
       "      <td>honeylocust</td>\n",
       "      <td>New York</td>\n",
       "      <td>POINT (-73.98534 40.77021)</td>\n",
       "    </tr>\n",
       "    <tr>\n",
       "      <th>2</th>\n",
       "      <td>2</td>\n",
       "      <td>Good</td>\n",
       "      <td>10019</td>\n",
       "      <td>208649</td>\n",
       "      <td>American linden</td>\n",
       "      <td>New York</td>\n",
       "      <td>POINT (-73.98730 40.76272)</td>\n",
       "    </tr>\n",
       "    <tr>\n",
       "      <th>3</th>\n",
       "      <td>3</td>\n",
       "      <td>Good</td>\n",
       "      <td>10021</td>\n",
       "      <td>193310</td>\n",
       "      <td>honeylocust</td>\n",
       "      <td>New York</td>\n",
       "      <td>POINT (-73.96046 40.77217)</td>\n",
       "    </tr>\n",
       "    <tr>\n",
       "      <th>4</th>\n",
       "      <td>4</td>\n",
       "      <td>Fair</td>\n",
       "      <td>10024</td>\n",
       "      <td>199760</td>\n",
       "      <td>willow oak</td>\n",
       "      <td>New York</td>\n",
       "      <td>POINT (-73.98096 40.78209)</td>\n",
       "    </tr>\n",
       "  </tbody>\n",
       "</table>\n",
       "</div>"
      ],
      "text/plain": [
       "   index health zipcode tree_id       spc_common  zip_city  \\\n",
       "0      0   Good   10023  190422      honeylocust  New York   \n",
       "1      1   Good   10023  190426      honeylocust  New York   \n",
       "2      2   Good   10019  208649  American linden  New York   \n",
       "3      3   Good   10021  193310      honeylocust  New York   \n",
       "4      4   Fair   10024  199760       willow oak  New York   \n",
       "\n",
       "                     geometry  \n",
       "0  POINT (-73.98495 40.77005)  \n",
       "1  POINT (-73.98534 40.77021)  \n",
       "2  POINT (-73.98730 40.76272)  \n",
       "3  POINT (-73.96046 40.77217)  \n",
       "4  POINT (-73.98096 40.78209)  "
      ]
     },
     "execution_count": 18,
     "metadata": {},
     "output_type": "execute_result"
    }
   ],
   "source": [
    "geodf_tree_data.head()"
   ]
  },
  {
   "cell_type": "code",
   "execution_count": 19,
   "id": "59724f74-5f1e-435c-b843-f381a875dd4a",
   "metadata": {},
   "outputs": [
    {
     "name": "stdout",
     "output_type": "stream",
     "text": [
      "<class 'pandas.core.frame.DataFrame'>\n",
      "Int64Index: 145 entries, 4 to 6721\n",
      "Columns: 108 entries, RegionID to 2023-09-30\n",
      "dtypes: float64(106), object(2)\n",
      "memory usage: 123.5+ KB\n"
     ]
    }
   ],
   "source": [
    "df_zillow_data.info()"
   ]
  },
  {
   "cell_type": "code",
   "execution_count": 20,
   "id": "e29ae5d9-9768-4590-a2f2-dd63b07dd712",
   "metadata": {},
   "outputs": [
    {
     "data": {
      "text/html": [
       "<div>\n",
       "<style scoped>\n",
       "    .dataframe tbody tr th:only-of-type {\n",
       "        vertical-align: middle;\n",
       "    }\n",
       "\n",
       "    .dataframe tbody tr th {\n",
       "        vertical-align: top;\n",
       "    }\n",
       "\n",
       "    .dataframe thead th {\n",
       "        text-align: right;\n",
       "    }\n",
       "</style>\n",
       "<table border=\"1\" class=\"dataframe\">\n",
       "  <thead>\n",
       "    <tr style=\"text-align: right;\">\n",
       "      <th></th>\n",
       "      <th>RegionID</th>\n",
       "      <th>Zip_code</th>\n",
       "      <th>AverageRent</th>\n",
       "      <th>2015-01-31</th>\n",
       "      <th>2015-02-28</th>\n",
       "      <th>2015-03-31</th>\n",
       "      <th>2015-04-30</th>\n",
       "      <th>2015-05-31</th>\n",
       "      <th>2015-06-30</th>\n",
       "      <th>2015-07-31</th>\n",
       "      <th>...</th>\n",
       "      <th>2022-12-31</th>\n",
       "      <th>2023-01-31</th>\n",
       "      <th>2023-02-28</th>\n",
       "      <th>2023-03-31</th>\n",
       "      <th>2023-04-30</th>\n",
       "      <th>2023-05-31</th>\n",
       "      <th>2023-06-30</th>\n",
       "      <th>2023-07-31</th>\n",
       "      <th>2023-08-31</th>\n",
       "      <th>2023-09-30</th>\n",
       "    </tr>\n",
       "  </thead>\n",
       "  <tbody>\n",
       "    <tr>\n",
       "      <th>4</th>\n",
       "      <td>62093</td>\n",
       "      <td>11385</td>\n",
       "      <td>2476.923402</td>\n",
       "      <td>NaN</td>\n",
       "      <td>2087.527084</td>\n",
       "      <td>NaN</td>\n",
       "      <td>2149.924252</td>\n",
       "      <td>2166.263698</td>\n",
       "      <td>2148.992886</td>\n",
       "      <td>2190.098591</td>\n",
       "      <td>...</td>\n",
       "      <td>2935.808220</td>\n",
       "      <td>2895.699421</td>\n",
       "      <td>2873.209025</td>\n",
       "      <td>2881.906361</td>\n",
       "      <td>2913.546218</td>\n",
       "      <td>2963.964134</td>\n",
       "      <td>3005.735342</td>\n",
       "      <td>3034.413822</td>\n",
       "      <td>3064.476503</td>\n",
       "      <td>3079.585783</td>\n",
       "    </tr>\n",
       "    <tr>\n",
       "      <th>6</th>\n",
       "      <td>62019</td>\n",
       "      <td>11208</td>\n",
       "      <td>2560.469803</td>\n",
       "      <td>NaN</td>\n",
       "      <td>NaN</td>\n",
       "      <td>NaN</td>\n",
       "      <td>NaN</td>\n",
       "      <td>NaN</td>\n",
       "      <td>NaN</td>\n",
       "      <td>NaN</td>\n",
       "      <td>...</td>\n",
       "      <td>2508.670432</td>\n",
       "      <td>2588.030194</td>\n",
       "      <td>2613.790654</td>\n",
       "      <td>2585.561351</td>\n",
       "      <td>2633.200754</td>\n",
       "      <td>2672.038493</td>\n",
       "      <td>2806.918757</td>\n",
       "      <td>2765.224364</td>\n",
       "      <td>2737.547470</td>\n",
       "      <td>2728.733333</td>\n",
       "    </tr>\n",
       "    <tr>\n",
       "      <th>12</th>\n",
       "      <td>62046</td>\n",
       "      <td>11236</td>\n",
       "      <td>2323.980013</td>\n",
       "      <td>NaN</td>\n",
       "      <td>NaN</td>\n",
       "      <td>NaN</td>\n",
       "      <td>NaN</td>\n",
       "      <td>NaN</td>\n",
       "      <td>NaN</td>\n",
       "      <td>NaN</td>\n",
       "      <td>...</td>\n",
       "      <td>NaN</td>\n",
       "      <td>NaN</td>\n",
       "      <td>NaN</td>\n",
       "      <td>NaN</td>\n",
       "      <td>NaN</td>\n",
       "      <td>NaN</td>\n",
       "      <td>NaN</td>\n",
       "      <td>NaN</td>\n",
       "      <td>2285.460026</td>\n",
       "      <td>2362.500000</td>\n",
       "    </tr>\n",
       "    <tr>\n",
       "      <th>13</th>\n",
       "      <td>61807</td>\n",
       "      <td>10467</td>\n",
       "      <td>1861.072982</td>\n",
       "      <td>NaN</td>\n",
       "      <td>NaN</td>\n",
       "      <td>NaN</td>\n",
       "      <td>NaN</td>\n",
       "      <td>NaN</td>\n",
       "      <td>NaN</td>\n",
       "      <td>NaN</td>\n",
       "      <td>...</td>\n",
       "      <td>2145.642295</td>\n",
       "      <td>2155.617718</td>\n",
       "      <td>2172.346611</td>\n",
       "      <td>2160.962748</td>\n",
       "      <td>2110.533203</td>\n",
       "      <td>2180.323655</td>\n",
       "      <td>2276.372290</td>\n",
       "      <td>2334.204728</td>\n",
       "      <td>2353.686402</td>\n",
       "      <td>2423.888889</td>\n",
       "    </tr>\n",
       "    <tr>\n",
       "      <th>14</th>\n",
       "      <td>62085</td>\n",
       "      <td>11373</td>\n",
       "      <td>2084.549636</td>\n",
       "      <td>NaN</td>\n",
       "      <td>NaN</td>\n",
       "      <td>NaN</td>\n",
       "      <td>NaN</td>\n",
       "      <td>NaN</td>\n",
       "      <td>NaN</td>\n",
       "      <td>NaN</td>\n",
       "      <td>...</td>\n",
       "      <td>2199.459063</td>\n",
       "      <td>2255.604528</td>\n",
       "      <td>2262.101623</td>\n",
       "      <td>2271.514956</td>\n",
       "      <td>2250.182334</td>\n",
       "      <td>2231.959479</td>\n",
       "      <td>2257.413993</td>\n",
       "      <td>2247.592851</td>\n",
       "      <td>2302.557354</td>\n",
       "      <td>2292.994444</td>\n",
       "    </tr>\n",
       "  </tbody>\n",
       "</table>\n",
       "<p>5 rows × 108 columns</p>\n",
       "</div>"
      ],
      "text/plain": [
       "   RegionID Zip_code  AverageRent  2015-01-31   2015-02-28  2015-03-31  \\\n",
       "4     62093    11385  2476.923402         NaN  2087.527084         NaN   \n",
       "6     62019    11208  2560.469803         NaN          NaN         NaN   \n",
       "12    62046    11236  2323.980013         NaN          NaN         NaN   \n",
       "13    61807    10467  1861.072982         NaN          NaN         NaN   \n",
       "14    62085    11373  2084.549636         NaN          NaN         NaN   \n",
       "\n",
       "     2015-04-30   2015-05-31   2015-06-30   2015-07-31  ...   2022-12-31  \\\n",
       "4   2149.924252  2166.263698  2148.992886  2190.098591  ...  2935.808220   \n",
       "6           NaN          NaN          NaN          NaN  ...  2508.670432   \n",
       "12          NaN          NaN          NaN          NaN  ...          NaN   \n",
       "13          NaN          NaN          NaN          NaN  ...  2145.642295   \n",
       "14          NaN          NaN          NaN          NaN  ...  2199.459063   \n",
       "\n",
       "     2023-01-31   2023-02-28   2023-03-31   2023-04-30   2023-05-31  \\\n",
       "4   2895.699421  2873.209025  2881.906361  2913.546218  2963.964134   \n",
       "6   2588.030194  2613.790654  2585.561351  2633.200754  2672.038493   \n",
       "12          NaN          NaN          NaN          NaN          NaN   \n",
       "13  2155.617718  2172.346611  2160.962748  2110.533203  2180.323655   \n",
       "14  2255.604528  2262.101623  2271.514956  2250.182334  2231.959479   \n",
       "\n",
       "     2023-06-30   2023-07-31   2023-08-31   2023-09-30  \n",
       "4   3005.735342  3034.413822  3064.476503  3079.585783  \n",
       "6   2806.918757  2765.224364  2737.547470  2728.733333  \n",
       "12          NaN          NaN  2285.460026  2362.500000  \n",
       "13  2276.372290  2334.204728  2353.686402  2423.888889  \n",
       "14  2257.413993  2247.592851  2302.557354  2292.994444  \n",
       "\n",
       "[5 rows x 108 columns]"
      ]
     },
     "execution_count": 20,
     "metadata": {},
     "output_type": "execute_result"
    }
   ],
   "source": [
    "df_zillow_data.head()"
   ]
  },
  {
   "cell_type": "markdown",
   "id": "e685942c-26dc-40db-84c2-a71aa3340806",
   "metadata": {},
   "source": [
    "## Part 2: Storing Data"
   ]
  },
  {
   "cell_type": "code",
   "execution_count": 17,
   "id": "45155151",
   "metadata": {},
   "outputs": [],
   "source": [
    "#!createdb Final_project"
   ]
  },
  {
   "cell_type": "code",
   "execution_count": 18,
   "id": "bfa95eb9",
   "metadata": {},
   "outputs": [],
   "source": [
    "#!psql --dbname Final_project -c 'CREATE EXTENSION postgis;'"
   ]
  },
  {
   "cell_type": "code",
   "execution_count": 21,
   "id": "36c1017c",
   "metadata": {},
   "outputs": [],
   "source": [
    "# Connect to pgsl\n",
    "conn = psycopg2.connect(f\"dbname={DB_NAME} user={DB_USER}\")\n",
    "cur = conn.cursor()"
   ]
  },
  {
   "cell_type": "markdown",
   "id": "527a251c-f337-4b24-bb41-96ee4621a9bd",
   "metadata": {},
   "source": [
    "### Creating Tables\n",
    "\n",
    "\n",
    "These are just a couple of options to creating your tables; you can use one or the other, a different method, or a combination."
   ]
  },
  {
   "cell_type": "code",
   "execution_count": 22,
   "id": "e3d72390-3c2d-4856-82c0-3284e8ccb24e",
   "metadata": {
    "scrolled": true
   },
   "outputs": [],
   "source": [
    "engine = db.create_engine(DB_URL)"
   ]
  },
  {
   "cell_type": "code",
   "execution_count": 27,
   "id": "490d0cc6-74b3-4d35-a454-57f647c9f8e3",
   "metadata": {},
   "outputs": [],
   "source": [
    "# if using SQL (as opposed to SQLAlchemy), define the SQL statements to create your 4 tables\n",
    "ZIPCODE_SCHEMA = \"\"\"\n",
    "    CREATE TABLE IF NOT EXISTS zip_codes (\n",
    "        zipcode VARCHAR,\n",
    "        geometry GEOMETRY\n",
    "    )\n",
    "    \"\"\"\n",
    "\n",
    "NYC_311_SCHEMA = \"\"\"\n",
    "    CREATE TABLE IF NOT EXISTS nyc_311 (\n",
    "        unique_key INTEGER PRIMARY KEY,\n",
    "        created_date DATE,\n",
    "        incident_zip VARCHAR,\n",
    "        complaint_type VARCHAR\n",
    "    )\n",
    "    \"\"\"\n",
    "\n",
    "NYC_TREE_SCHEMA = \"\"\"\n",
    "    CREATE TABLE IF NOT EXISTS trees (\n",
    "        tree_id INTEGER PRIMARY KEY,\n",
    "        zipcode VARCHAR,\n",
    "        geometry GEOMETRY\n",
    "    )\n",
    "    \"\"\"\n",
    "\n",
    "date_col = [f'\"{col}\" REAL' for col in df_zillow_data.columns if col.startswith('20')]\n",
    "\n",
    "ZILLOW_SCHEMA = f\"\"\"\n",
    "CREATE TABLE IF NOT EXISTS rent (\n",
    "    RegionID INTEGER PRIMARY KEY,\n",
    "    Zip_code VARCHAR,\n",
    "    AverageRent REAL,\n",
    "    {', '.join(date_col)}\n",
    ")\n",
    "\"\"\""
   ]
  },
  {
   "cell_type": "code",
   "execution_count": 28,
   "id": "f36d86f6-ff6e-4bb8-8fa2-df0d4282e959",
   "metadata": {},
   "outputs": [],
   "source": [
    "# create that required schema.sql file\n",
    "with open(DB_SCHEMA_FILE, \"w\") as f:\n",
    "    f.write(ZIPCODE_SCHEMA)\n",
    "    f.write(NYC_311_SCHEMA)\n",
    "    f.write(NYC_TREE_SCHEMA)\n",
    "    f.write(ZILLOW_SCHEMA)"
   ]
  },
  {
   "cell_type": "code",
   "execution_count": 29,
   "id": "48eacd37-4fd7-4768-b689-88b07d5c234e",
   "metadata": {},
   "outputs": [],
   "source": [
    "# If using SQL (as opposed to SQLAlchemy), execute the schema files to create tables\n",
    "with cur:\n",
    "    cur.execute(ZIPCODE_SCHEMA)\n",
    "    cur.execute(NYC_311_SCHEMA)\n",
    "    cur.execute(NYC_TREE_SCHEMA)\n",
    "    cur.execute(ZILLOW_SCHEMA)\n",
    "\n",
    "conn.commit()"
   ]
  },
  {
   "cell_type": "markdown",
   "id": "2e88a50c-9528-4a5c-9a52-b96781ee8985",
   "metadata": {},
   "source": [
    "### Add Data to Database\n",
    "\n",
    "These are just a couple of options to write data to your tables; you can use one or the other, a different method, or a combination."
   ]
  },
  {
   "cell_type": "markdown",
   "id": "0c66af67-afb8-4f0d-bb57-552972f8e4b8",
   "metadata": {},
   "source": [
    "#### Option 1: SQL"
   ]
  },
  {
   "cell_type": "code",
   "execution_count": 29,
   "id": "69e37800-cd95-44b5-9c21-eb7ac2b2e4ec",
   "metadata": {},
   "outputs": [],
   "source": [
    "def write_dataframes_to_table(tablename_to_dataframe):\n",
    "    for tablename, dataframe in tablename_to_dataframe.items():\n",
    "        if 'geometry' in dataframe.columns:\n",
    "            temp_df = dataframe\n",
    "            temp_df['the_geom'] = temp_df['geometry'].apply(lambda geom: WKTElement(geom.wkt, srid=4326) if geom is not None else None)\n",
    "            temp_df.drop('geometry',axis=1,inplace=True)\n",
    "            temp_df.to_sql(tablename, engine, if_exists='replace', index=False, \n",
    "                             dtype={'the_geom': Geometry('GEOMETRY', srid=4326)}) \n",
    "            \n",
    "        else:\n",
    "            dataframe.to_sql(tablename, engine, if_exists='replace', index=False)"
   ]
  },
  {
   "cell_type": "code",
   "execution_count": 30,
   "id": "d1f042f5-8270-477d-929a-872f7d9a0bc8",
   "metadata": {},
   "outputs": [],
   "source": [
    "tablename_to_dataframe = {\n",
    "    \"zip_codes\": geodf_zipcode_data,\n",
    "    \"nyc_311\": geodf_311_data,\n",
    "    \"trees\": geodf_tree_data,\n",
    "    \"rent\": df_zillow_data,\n",
    "}"
   ]
  },
  {
   "cell_type": "code",
   "execution_count": 31,
   "id": "9d052c50-1e43-4356-bcac-4f5abc7e714b",
   "metadata": {},
   "outputs": [],
   "source": [
    "write_dataframes_to_table(tablename_to_dataframe)"
   ]
  },
  {
   "cell_type": "code",
   "execution_count": 32,
   "id": "4104bb33",
   "metadata": {},
   "outputs": [],
   "source": [
    "\n",
    "cur = conn.cursor() #connect to cursor\n",
    "cur.execute(\"SELECT * FROM rent LIMIT 10;\")"
   ]
  },
  {
   "cell_type": "code",
   "execution_count": 33,
   "id": "0e3093b4",
   "metadata": {
    "scrolled": true
   },
   "outputs": [
    {
     "name": "stdout",
     "output_type": "stream",
     "text": [
      "('62093', '11385', 2476.923401784201, None, 2087.527084354236, None, 2149.9242522176696, 2166.2636978114047, 2148.9928856397355, 2190.098590663059, 2264.9667154092986, 2297.9009165932744, 2267.061704891128, 2225.8900597492384, 2188.28767356946, 2189.3470387304583, 2255.28377072397, 2267.36974971921, 2296.9999529002107, 2272.544133770503, 2282.492009139728, 2313.009450540561, 2334.460177809979, 2378.91044942648, 2397.294201281098, 2357.959208546377, 2338.575627078289, 2319.1708873161115, 2344.361311624835, 2345.0766325036943, 2333.9067668124885, 2343.39574731235, 2332.2285297605845, 2351.643160135104, 2346.7606154580044, 2391.4482353885464, 2366.9753754223325, 2376.8141179668, 2349.812498667744, 2340.667650568317, 2309.4949644028893, 2311.3902280710354, 2326.9186873489643, 2358.4724286814003, 2367.4564389822563, 2382.3846710777743, 2386.107852213686, 2401.5251931345742, 2419.898399284853, 2420.804473714676, 2420.254365648151, 2400.882443808336, 2419.3924529994074, 2407.5373017488805, 2422.886151189401, 2405.45904275642, 2456.568393243409, 2484.3020541422275, 2500.881705240765, 2489.4937705627635, 2483.1514301705306, 2506.192072452819, 2503.488359908173, 2508.742408070375, 2534.247262778664, 2530.346245677664, 2503.7724402159643, 2488.180224740394, 2480.87098967225, 2501.785904319356, 2449.236462176784, 2418.685741708844, 2390.021781430226, 2369.1073495148216, 2340.7688818590564, 2327.3813654152204, 2311.684516741017, 2319.5122760701743, 2301.040323095299, 2336.0689447552268, 2372.0768700633903, 2424.346278506157, 2465.115045881309, 2511.387794531576, 2562.603143368569, 2590.9073313635085, 2611.770395598791, 2615.215007700752, 2619.28578138598, 2627.9763690574914, 2676.1793976648646, 2745.586930951465, 2847.533755939685, 2911.4462852677466, 2985.851426863814, 3003.598570445067, 3015.214534378147, 2978.853756746152, 2935.808220200422, 2895.699421422981, 2873.2090252418966, 2881.906360652963, 2913.5462177355, 2963.9641343055728, 3005.735342405289, 3034.4138220075247, 3064.47650278584, 3079.585782773197)\n",
      "('62019', '11208', 2560.4698025895714, None, None, None, None, None, None, None, None, None, None, None, None, None, None, None, None, None, None, None, None, None, None, None, None, None, None, None, None, None, None, None, None, None, None, None, None, None, None, None, None, None, None, None, None, None, None, None, None, None, None, None, None, None, None, None, None, None, None, None, None, None, None, None, None, None, None, None, None, None, None, None, None, None, None, None, None, None, None, None, None, None, None, None, None, None, None, 2334.7350733539247, 2372.3096003544206, 2408.207304793162, 2451.1580434557723, 2473.931739236395, 2498.0649361084515, 2479.600632352852, 2487.1250796963245, 2504.0780374163096, 2508.670431721686, 2588.030193639524, 2613.7906543232657, 2585.561350822973, 2633.2007537851205, 2672.038493389226, 2806.9187568405378, 2765.2243644354644, 2737.547470143112, 2728.733333333333)\n",
      "('62046', '11236', 2323.9800130225767, None, None, None, None, None, None, None, None, None, None, None, None, None, None, None, None, None, None, None, None, None, None, None, None, None, None, None, None, None, None, None, None, None, None, None, None, None, None, None, None, None, None, None, None, None, None, None, None, None, None, None, None, None, None, None, None, None, None, None, None, None, None, None, None, None, None, None, None, None, None, None, None, None, None, None, None, None, None, None, None, None, None, None, None, None, None, None, None, None, None, None, None, None, None, None, None, None, None, None, None, None, None, None, 2285.4600260451534, 2362.5)\n",
      "('61807', '10467', 1861.0729823557724, None, None, None, None, None, None, None, None, None, None, None, None, None, None, None, None, 1453.4347548531068, 1477.78833318639, 1507.3940962014983, 1493.9742824379966, 1493.9598348314255, 1497.058410533551, 1492.8269498275558, 1504.358264863847, 1572.149102315029, 1592.1435892766765, 1633.8343756665358, 1597.1919097717616, 1634.5827545087843, 1620.697887792365, 1641.7293839717702, 1577.703511757059, 1572.1623794896918, 1615.219537041129, 1661.644953777395, 1674.5828657851887, 1612.8910885614016, 1642.6411325812778, 1669.629068889069, 1745.829270580225, 1765.0116706068595, 1750.6444252449214, 1744.605937201765, 1738.3793863115748, 1773.839053301586, 1774.3654064590094, 1757.187137533969, 1799.5690456018403, 1795.2442431705094, 1809.092800297841, 1785.2402171958397, 1779.4257439513465, 1805.148444700916, 1795.0852690949473, 1830.716948030652, 1811.7254010198944, 1864.4159907725427, 1878.5881352505053, 1888.54241568106, 1870.866896724192, 1865.3014026521212, 1876.4583130213823, 1875.15632448768, 1854.863254962531, 1835.9765108223928, 1818.060503637, 1867.5706877563111, 1888.2182686938847, 1940.440045878024, 1952.8912855545511, 2017.042962204005, 1966.0177300268456, 1970.3746378539715, 1928.5798597649195, 1983.6823799789693, 1957.636783409739, 1969.3742768878728, 1971.537022410516, 1968.2275765619927, 1956.5762707459985, 1985.3345871776196, 2015.5803270054148, 2019.0547115379725, 1945.878135019232, 1925.208777800038, 1989.9842456975543, 2038.992767570327, 2063.291940073074, 2056.85728026053, 2065.6536939112007, 2148.60049838904, 2171.091029445097, 2171.6133153746982, 2138.631690079441, 2119.035488649342, 2145.6422953185697, 2155.617717500842, 2172.3466107926897, 2160.962747777881, 2110.533202559049, 2180.3236547244533, 2276.3722897830226, 2334.204728019728, 2353.6864023448434, 2423.8888888888887)\n",
      "('62085', '11373', 2084.5496362012445, None, None, None, None, None, None, None, None, None, None, None, None, None, None, None, None, None, None, None, None, None, None, None, None, None, None, None, None, None, None, None, None, None, None, None, None, None, None, None, None, None, None, None, None, None, None, None, None, None, None, None, None, None, None, None, None, None, None, None, None, None, None, None, None, None, None, None, None, None, None, None, None, None, None, None, 1852.158106051452, 1845.1422724654583, 1880.5878408135648, 1908.967226384288, 1936.0367799327355, 1949.0643949313271, 1893.5695541816376, 1923.719745463448, 1911.5835946021864, 1930.927579283428, 1965.3310299832103, 2013.7156897158643, 2046.2791408794787, 2065.136699572673, 2100.704125742135, 2147.773294013869, 2128.209146053077, 2124.3998147033644, 2157.529904835101, 2184.272520906073, 2199.4590628545197, 2255.604527946772, 2262.1016227346813, 2271.51495627472, 2250.18233416855, 2231.959478660672, 2257.413992728273, 2247.592851218468, 2302.5573544918752, 2292.9944444444445)\n",
      "('62037', '11226', 2355.606200790824, 1944.6098912416476, 1971.6086760207272, 2044.189151248178, 2061.7341256084, 2076.4922594021787, 2057.344848833663, 2075.7518625030893, 2089.4372757056094, 2124.669750621777, 2129.783497860931, 2123.696716701404, 2102.908460864849, 2103.693979969623, 2106.115059427193, 2149.5029205103574, 2168.092538018652, 2184.617942613585, 2223.757470829547, 2271.9848111932056, 2297.257283103894, 2261.0379493138475, 2227.234958594832, 2232.9706914099693, 2228.5100409768816, 2233.434421571844, 2232.522594120879, 2249.136187536212, 2239.588966738634, 2244.732511405098, 2270.955099178341, 2292.110931950486, 2293.330919230518, 2281.8245902823346, 2264.435843861401, 2231.4605746387483, 2220.8130340961184, 2231.74372391346, 2265.888690387225, 2289.786059745391, 2312.156802754112, 2327.062003860811, 2338.912023185529, 2354.4870769873914, 2373.471918094983, 2379.035920215806, 2366.890926546275, 2355.039782498729, 2334.8061734040143, 2333.6877208884225, 2329.5419224177567, 2352.526957529888, 2349.0012907088885, 2369.422440580015, 2374.9496947310927, 2401.3305792709302, 2425.168160378841, 2441.920454084962, 2430.037396578387, 2391.562408191578, 2362.4516939571618, 2384.512151353634, 2387.378650003916, 2420.3404378741416, 2410.1131308669856, 2418.0346281249317, 2400.841365386655, 2401.20402048233, 2376.64561053561, 2343.847603734076, 2310.232730594409, 2279.515950147879, 2230.867431984319, 2193.1107329233023, 2202.0077901533755, 2232.8273177545807, 2268.148716584191, 2295.491739115963, 2328.0515437930408, 2370.210546239923, 2387.70433676771, 2419.58253179198, 2418.5530334652058, 2431.055876936912, 2428.4177534569385, 2460.062614482837, 2501.3124491082576, 2538.7255108449663, 2576.1542402802293, 2614.534359222829, 2670.036995959897, 2701.9472861248605, 2711.1198028556373, 2718.573197921119, 2728.780469730939, 2721.837723352611, 2695.1647268203747, 2680.6837004478134, 2676.791283767177, 2697.41470221409, 2706.0807009343325, 2726.381016702568, 2753.9661591404106, 2770.40300517, 2785.3201367435504, 2762.4357130436942)\n",
      "('62018', '11207', 2348.705753539438, None, None, 1818.8884986634437, 1895.1156696249732, 1963.3778470641375, 2031.1903552410336, 2007.4248326572135, 2009.4371596095036, 2040.2298958559647, 2030.5281201435532, 2066.5862731584534, 2020.822293837587, 2040.412663899803, 2053.126807949485, 2115.497043113666, 2150.1476154842294, 2132.3366729674017, 2167.8542892727955, 2126.1764390479525, 2128.8431856692223, 2085.7146626667577, 2122.392860379059, 2161.2999623768114, 2168.3119604529065, 2149.35912049729, 2107.530173300783, 2095.6930490561467, 2130.131106163863, 2141.024805709292, 2148.7185103481715, 2135.166969343298, 2155.7619405082983, 2171.6698117907645, 2200.031246904306, 2213.30445921244, 2224.3644364320303, 2191.7377208652783, 2173.407990984794, 2166.87754173741, 2225.482261285849, 2252.323787695176, 2264.39759739121, 2243.716515326039, 2266.229808096432, 2273.752535770773, 2249.0351867116037, 2256.5273182200067, 2253.939296905387, 2287.089031397206, 2282.209117778266, 2320.267848573036, 2315.1312614603867, 2339.4173566851687, 2344.926225913503, 2372.7310778934025, 2360.606581851884, 2362.5736582835443, 2353.885870027025, 2379.808826370039, 2407.4353747062846, 2426.12436863699, 2432.848496958245, 2419.166787757781, 2432.6415086319125, 2435.250489077234, 2416.087226883477, 2392.2295908293686, 2360.568090063283, 2316.319965695981, 2274.896489524481, 2221.134732881384, 2204.579877818244, 2189.8522658827205, 2165.4597367306224, 2159.8157203061555, 2159.827299098561, 2246.50328316396, 2314.585501447036, 2367.879850505487, 2386.993076202405, 2413.717562249546, 2464.473575005638, 2467.135315671704, 2494.460889280209, 2503.1577823123744, 2527.561402138516, 2524.872591066901, 2564.357844972843, 2675.822695638381, 2796.236603801693, 2891.829463829245, 2914.566298687857, 2959.12011227858, 2972.7045013159286, 2958.5246917196523, 2881.286896384137, 2828.723054030117, 2834.2608010868253, 2838.7187979754603, 2861.3433402319247, 2862.919011215906, 2945.5282571557323, 3011.846768236891, 3079.08746205109, 3169.692007797272)\n",
      "('61639', '10025', 3315.2150690257686, 3068.951823265097, 3075.6679148126523, 3073.716580611107, 3110.0889954040044, 3131.7609320608112, 3162.09162139615, 3172.310285964382, 3175.934406666927, 3171.4638616292987, 3171.657374340723, 3162.138584629748, 3163.338148011213, 3153.9559271027324, 3151.7479163327425, 3156.5918247596787, 3171.723871243148, 3199.8045448220114, 3229.1580853467235, 3254.425822064637, 3263.724276984225, 3260.282493116383, 3210.2900681998844, 3153.492676530721, 3092.2179821058644, 3114.646861651186, 3129.5316952039443, 3143.4425682333917, 3139.772413978236, 3184.045502098642, 3227.733683174721, 3254.740482358357, 3247.40494512556, 3242.1700111899627, 3202.4415508345737, 3178.042534849169, 3139.8555711747867, 3116.434144085093, 3121.0713129968985, 3142.158832694834, 3188.688458658656, 3211.199393548386, 3237.089677385356, 3265.528187501292, 3275.355715005795, 3276.052303381365, 3263.088691369524, 3258.5406710404154, 3280.43796232622, 3256.324888461525, 3256.927932253333, 3228.750033565678, 3272.427145480607, 3299.011039707837, 3340.0041163053484, 3366.7995914281446, 3389.175084024058, 3390.993676658756, 3372.408311563417, 3343.076900082556, 3335.052054247508, 3322.966821006797, 3347.072442711996, 3350.181993355897, 3331.6893157290046, 3280.5647538537737, 3207.193628394601, 3171.6730524113154, 3082.646967890405, 2990.1677407539296, 2904.068958302001, 2854.483075243461, 2825.265097670611, 2830.198357201692, 2843.1403071124714, 2897.9643767025227, 2938.037004685548, 3033.716847208247, 3124.912486907223, 3216.399140911048, 3287.956063993671, 3344.578199921118, 3386.3620067634592, 3434.721693953353, 3477.643836459691, 3508.3454671734157, 3556.099206855591, 3587.1002214528667, 3646.228783658481, 3698.546017788523, 3789.193598993176, 3864.829270287102, 3904.880740151303, 3923.404731973009, 3874.8486050261945, 3819.7065662536897, 3763.796671490194, 3774.0132743204026, 3767.3742346517774, 3766.943011841943, 3803.2357889712416, 3879.913845775172, 3971.395454907905, 4016.4965543501967, 4037.7657250596912, 4032.900346534036)\n",
      "('62025', '11214', 1808.8790648922745, None, None, None, None, None, None, None, None, None, None, None, None, None, None, None, None, None, None, None, None, None, None, None, None, None, None, None, None, None, None, None, None, None, None, None, None, None, None, None, None, None, None, None, None, None, None, None, None, 1735.4204291072874, 1757.525925746782, 1672.2042259107382, 1670.7353489076454, 1648.3108392437734, 1660.5574645628644, 1656.7873458929612, 1652.509927963394, 1648.7986596044473, 1680.1852653127532, 1675.6157775177771, 1722.5566656474691, 1721.1557407008918, 1732.671023239208, 1732.4228350263472, 1632.9122024630828, 1625.4292281405194, 1600.036941835138, 1708.5770803520763, 1741.2873363048027, 1760.3265867679129, 1729.9605524161054, 1741.7386744123676, 1747.5523417365746, 1772.087450367074, 1771.2577516556794, 1735.5965798938114, 1735.0423284082362, 1711.953580665981, 1752.1081059337432, 1757.1166705384048, 1771.9305885831438, 1750.0512832600425, 1732.2624262494512, 1734.7238803202963, 1810.67648540166, 1834.2683437833691, 1893.6231011011116, 1883.4294398052104, 1924.7586765665783, 1902.3066933804253, 1869.104178939458, 1867.2131012308432, 1901.1918300542595, 1940.040870241057, 1944.8384426400585, 1933.5407252772989, 1984.409951758334, 1975.8156503985736, 2027.6205796437275, 2035.636714018732, 2057.674139541665, 2067.237470007148, 2041.2079956574464, 2121.1804827661404, 2093.7203810053684, 2117.202380952381)\n",
      "('62044', '11234', 2059.2131957391807, None, None, None, None, None, None, None, None, None, None, None, None, None, None, None, None, None, None, None, None, None, None, None, None, None, None, None, None, None, None, None, None, None, None, None, None, None, None, None, None, None, None, None, None, None, None, None, None, None, None, None, None, None, None, None, None, None, None, None, None, None, None, None, None, None, None, None, None, None, None, None, None, None, None, None, None, None, None, None, None, None, None, None, 1866.6741796216345, 1892.6566274215816, 1988.4129106313565, 1996.1030941214417, 2012.0731256318595, 1927.51997358896, 1974.030942308843, 2008.8466250377064, 2051.8877345011733, 1999.9289979728053, 2060.0656747888365, 1956.5122314580765, 2028.863009120265, 1978.620985028777, 2114.2022150393304, 2043.5713070312404, None, 2130.5085607233423, 2267.2259126119066, 2292.0692878216746, 2312.3148271731, 2341.388888888889)\n"
     ]
    }
   ],
   "source": [
    "rows = cur.fetchall()\n",
    "for row in rows:\n",
    "    print(row)"
   ]
  },
  {
   "cell_type": "code",
   "execution_count": 34,
   "id": "7c29d969",
   "metadata": {},
   "outputs": [
    {
     "name": "stdout",
     "output_type": "stream",
     "text": [
      "10023\n",
      "10023\n",
      "10019\n",
      "10021\n",
      "10024\n",
      "10002\n",
      "10023\n",
      "10023\n",
      "10023\n",
      "10023\n"
     ]
    }
   ],
   "source": [
    "with engine.connect() as conn:\n",
    "    rows = conn.execute(\"SELECT * FROM trees LIMIT 10\").fetchall()\n",
    "    for row in rows:\n",
    "        print(row[\"zipcode\"])"
   ]
  },
  {
   "cell_type": "code",
   "execution_count": 35,
   "id": "3f301895",
   "metadata": {},
   "outputs": [
    {
     "name": "stdout",
     "output_type": "stream",
     "text": [
      "355000\n"
     ]
    }
   ],
   "source": [
    "with engine.connect() as conn:\n",
    "    result = conn.execute(db.text(\"SELECT COUNT(*) FROM nyc_311\"))\n",
    "    for row, in result:\n",
    "        print(row)"
   ]
  },
  {
   "cell_type": "code",
   "execution_count": 36,
   "id": "2dd5c630",
   "metadata": {},
   "outputs": [],
   "source": [
    "cur.execute(\"SELECT * FROM zip_codes LIMIT 10;\")"
   ]
  },
  {
   "cell_type": "code",
   "execution_count": 37,
   "id": "05a49b87",
   "metadata": {},
   "outputs": [
    {
     "name": "stdout",
     "output_type": "stream",
     "text": [
      "('10034', '0103000020E61000000100000093040000003F8856F6B42E410002C1400D6A0F41803502550DB52E410018A6880D6A0F4180B4C90E18B52E4100B64458126A0F4180114C3B22B52E41005217421A6A0F4180FCF6D134B52E410016C444336A0F4100FEEACD52B52E4100124AB66E6A0F41004261E180B52E4100309763D66A0F410079D11CB4B52E410048C07F4B6B0F4180511300D8B52E41005072DEA26B0F41006311C0E6B52E41004CEE49CE6B0F4100B9DD91F5B52E4100C8F5FB056C0F4100810B3F04B62E41005684C7476C0F41808D99C71BB62E4100E2063BBC6C0F41804F81D235B62E41007C20D03B6D0F4100DE8C2E44B62E4100CEE60D8D6D0F410097200E4AB62E4100FE9E6CB56D0F4100F41DCD4EB62E410096F69ADC6D0F4180357C7C52B62E4100CA672B036E0F410083836B5DB62E410098881ED16E0F410095854267B62E410012BFC9C66F0F41004BD0A875B62E4100AC301C51710F418085D90277B62E41007609B89A710F41005A3A7376B62E41001680F8E9710F4100CA73FA73B62E410010410940720F410062CA7A6FB62E4100523007A1720F4180ABBC736CB62E4100248E0ED1720F4100BA039768B62E4100D846C3FF720F4100CC94F463B62E41007E2B632C730F41001CB99B5EB62E4100DA695A56730F4180F9EEA058B62E4100A87F127D730F41808A1F0E52B62E4100185856A0730F4100023AF04AB62E4100226AE1BF730F410088D35143B62E410006FD81DB730F4180B21C9BE7B52E4100866247FA740F418077C7AA8FB52E410020C7600B760F418090A23D3DB52E41003A970631770F4180C33E752BB52E4100BC7FF80C770F4100F29B7713B52E4100603D053F770F4100BDF1B605B52E4100E45FC57F770F41805ED0BAF9B42E4100BA1C53C7770F41001B0AD7EFB42E410068ECBF13780F41005FE704E4B42E4100E62F3E82780F4180839B5EDEB42E4100361C0DB7780F410024B128D3B42E41001633F636790F4180AD76F5C8B42E41002C7ACED1790F410023B0D0B1B42E41009A2F930F7B0F4100209C70A6B42E41001E54599D7B0F410022CAC699B42E4100409256257C0F4180E2DEFA8AB42E4100CC1878AE7C0F418066DC0D7AB42E4100A883B6387D0F4180ADC2FF66B42E4100D2D211C47D0F410050E6905CB42E4100A400AD057E0F4100865C4A43B42E4100B446D9937E0F4180CBD84739B42E4100CEBF44D57E0F41804283712BB42E410066C8FA417F0F4180BFCB2808B42E41008668DE6E800F4100E577FE01B42E4100D620689B800F410064385EFAB32E410060AE5CCB800F4180EAA854DEB32E4100748A7F67810F41001E714DD4B32E4100E4AA93A3810F4180E51675CBB32E4100B8A414E2810F4180D6F8FAC4B32E410056FA6D1D820F41809C8998C2B32E4100D8C4AB4E820F418096C6E1C3B32E4100BEB6FD86820F41808710C7C8B32E41005A29BBC6820F41009704D7D1B32E4100E6083015830F4100C0AD97E7B32E4100129028B3830F4180EA075C05B42E4100E6E4B474840F4180EEB23217B42E4100FA742EDE840F4100B305C82AB42E41009A9EF444850F4180D9CF0340B42E4100CC5B84A8850F4100EED4C756B42E41006A3A4F08860F41800B3B2661B42E410094937D23860F41809DBBBC6EB42E4100D856B52F860F418005482E79B42E4100AC8C252F860F4180E29D8484B42E41008AFA5B27860F4100C822DD8FB42E4100F465BB18860F4180B3C8709AB42E4100C2224304860F4100859C70A3B42E4100FC4E82EB850F4180FACAF5D5B42E4100F457D473850F41005249946FB52E4100B6A28C06840F4100BE6D3DD0B62E4100747744FD800F418099105C9BB72E4100406E26767F0F4100AB72BDF2B72E4100FA9630D97E0F410098125787B82E41001A06FD897D0F4180D2425CACB82E4100DA56F2087D0F4100C457FDBFB82E4100C2F1E6D27C0F4180221B75CBB82E4100C2F038A77C0F41006618F4D0B82E4100FE2FAB7D7C0F41804BB07FCBB82E4100E6FAE0307C0F4180AB4B22C5B82E410014B4E5097C0F41007FAF13BDB82E41009AA631E17B0F41809D70B3B0B82E41002A4F82A97B0F4100DB1219A4B82E4100586961767B0F41807F162E83B82E4100CEBF04FD7A0F410024D98E7AB82E4100728BBDD87A0F41805E546173B82E4100FEB8FCB57A0F410085440367B82E410022BEFA6F7A0F41000C11BE5AB82E4100A8513F207A0F4180B997404EB82E410016711EC5790F4100B568BD3EB82E410052E5254A790F4180674F9A2DB82E41009CBB07BB780F4100B4FC8419B82E41001C59A00A780F4180A220D60CB82E41000ED35597770F4180F943A704B82E410034DBA944770F4180B46361FEB72E41006CD878F8760F4180C22100FAB72E41002CC695B1760F4100E487DDF4B72E4100F4A97F36760F4180E1743EF1B72E4100A0EB6CAD750F41802DA0FEEEB72E4100BE14CD17750F41004EB9F5ECB72E4100C2CA6D27740F41007EAFF0EAB72E410030FF6D97720F4100C9E234E9B72E4100B0DD8468720F4100CD703BE2B72E41003C980609720F4180E6B030E0B72E41004E8F7FE1710F418073F512E0B72E41009EEAFFB8710F4100EE4E55E4B72E410018679089710F41803EC6A6EBB72E41004E75EA64710F418036461308B82E4100FA1F8F08710F418015145010B82E4100AE95C7E3700F410092DA9E1DB82E41002AA6C984700F4100B8976B53B82E4100FED8A01A6F0F410058781C5CB82E4100660207DF6E0F4100BCEE986FB82E410078856A596E0F41800C0EFF80B82E4100AAC8DAF26D0F4100765F688AB82E41005A7B06C56D0F41808059FB93B82E410002E6639D6D0F4100C41FDF9DB82E410038CA537B6D0F410091B128A8B82E4100E03E8C5E6D0F4100FF9A73B5B82E4100228CDB3F6D0F4180E78CADC4B82E4100168A58216D0F410072B499F3B82E41007C518CD06C0F418031854747B92E410010B1DD446C0F4180E455326DB92E4100E0DA18016C0F4180B4937C77B92E41005817B6F16B0F4100F8D17183B92E4100128B44E66B0F410095972A8DB92E4100E8D414F16B0F4100C07EF38CB92E4100462A18246C0F410087535D84B92E41004EDFF7736C0F4180F24DAF7BB92E4100D67948A76C0F418089EE2867B92E4100081ACA106D0F410089AF7251B92E410082C4A5736D0F4100E4C3D14AB92E41002488B4966D0F4100A68D4B44B92E410016E611D06D0F41001C469241B92E4100323513146E0F41804345E742B92E4100E21EE25C6E0F410086E82348B92E4100C6AF59A16E0F41806583DC4FB92E4100660207DF6E0F4100E703F35DB92E4100F6E5FE3C6F0F418038E3786BB92E4100789D34846F0F418021A6707AB92E41007EDD58C56F0F4100C29EEE93B92E4100D87D2E19700F41809A1CAE9CB92E41000CE2623C700F41006127DFABB92E4100C206258B700F4100BC8FA9B9B92E41005CB702DE700F4180869B9EFEB92E4100E241071B720F410070159C06BA2E4100803C5D4E720F41800AA28D0FBA2E41004C5CF07F720F418003425E19BA2E41008EBB4DAF720F418002F2F623BA2E41008ACC03DC720F4180A27D3D2FBA2E41009A09A505730F410082DD183BBA2E41006269D72B730F418038DB6D47BA2E41008A3A424E730F4100671B2454BA2E41000AF4A06C730F41807E3A1F62BA2E41007A71E187730F4180580B5E72BA2E4100BC0A05A1730F4180F43421ABBA2E4100A81A3CE5730F4180CF2807C0BA2E41009C54B002740F418088CFDBD3BA2E4100C8053628740F418038E451E4BA2E410078B71154740F410093211CF2BA2E4100C01A7183740F41007447B004BB2E4100A60942C3740F418055D5A322BB2E4100B8C3252A750F41802638EC3BBB2E41007AE91276750F4180B49BF55EBB2E4100D46959D7750F4100C6FE9380BB2E41005E70E22F760F4180F96A4CA4BB2E4100CAB4DF87760F4180958973CABB2E41003ED620E0760F41800CF3AAF3BB2E4100681A1E3A770F41803F844E4ABC2E4100CCC47EEA770F4100ED43B8E2BC2E410060CBBF0F790F4180811BE5F2BC2E41001E13902A790F41002179AA05BD2E4100A0F62D41790F41002EB10718BD2E4100661BEC51790F4100B377D843BD2E4100D6372774790F4180E01A1659BD2E410064E27D89790F4180CF25326CBD2E41009CBE6DA4790F41006FDCA37CBD2E4100A81144C5790F4180DF661596BD2E4100BCFEBE087A0F41006DDED4CEBD2E41002E80B5B37A0F41001CAEBDDDBD2E4100BCD3E1DA7A0F41806C95C7EBBD2E41002C9FC9FA7A0F41001E4B8F0DBE2E410090399B3E7B0F418081394828BE2E41006C2D186D7B0F41801DA3FE40BE2E4100B004068F7B0F4180207D4258BE2E4100345DDEA47B0F4180E1C07A68BE2E4100B8291AA87B0F418036924F7FBE2E4100D46C3A947B0F418001DF368DBE2E41006CF3FB787B0F4100D4B3CC98BE2E4100B267DE547B0F4100FA66FCA4BE2E410072FC7C437B0F4100F4D820B1BE2E4100C0D96A377B0F4180EB4402BDBE2E410066C0DD307B0F41804D0A7BC8BE2E4100B280E82F7B0F418082C9F0D4BE2E4100FEA827357B0F418045E1D3F1BE2E410064AD004C7B0F410014A3F5FEBE2E4100B86E8C527B0F4180C796C50ABF2E41002AFFA9527B0F4180F5090018BF2E4100A0552A4F7B0F4100DC1CB526BF2E4100948E464B7B0F410025D17A34BF2E41006425124E7B0F4100D42DAE81BF2E4100F0C9E7817B0F4180EEBDCC93BF2E4100E294F88B7B0F4180E9B875A0BF2E4100E07A968F7B0F41806D4311AFBF2E410066512C8E7B0F4180F5BE3ABFBF2E410052522C877B0F4180D211D2F0BF2E4100985882617B0F41806D85CCFABF2E410044EBCA557B0F4100B73F2B13C02E410042C6352D7B0F4100E8AF8E1DC02E4100D001D3247B0F41800B750A59C02E4100E46BDE347B0F4180AEC35D6DC02E41009E37EF387B0F4180EEFF5179C02E4100A06BDE367B0F4100DE78A483C02E41008A6CDE2F7B0F4100963BF18EC02E410070EEF3237B0F4180D09A38B4C02E4100EC6A59EF7A0F4100A695E60EC12E4100C4AA1B6F7A0F4100E5052023C12E4100CE3C8D4E7A0F41002CA2C762C12E4100E0B66DDF790F41001EF8DE7CC12E4100D290ADB9790F4180B38EEEBEC12E410006F5D961790F41004C73B8E1C12E41004EB0DE2A790F4180E7300514C22E4100DC0930CD780F41804FB09E58C22E41009ECCDE52780F4180D329C768C22E4100D0CD883F780F41001ABE538EC22E410036C4822C780F41805C6B6B9EC22E4100722E8C1C780F4100E6B529D7C22E4100067C2DC8770F418077DA7F12C32E41007A1D786A770F4180C041B85BC32E4100EA5F11F0760F41806AF03A66C32E4100F21897D9760F4180DD008582C32E41005CCA9591760F4180E4EEFD9FC32E410070C7E555760F4100021C01BEC32E41004494481E760F4180F0637CDCC32E41006C25E3EA750F4180631F5CFBC32E41005C63D4BB750F410028F69D0CC42E4100488EE8A7750F410037725E32C42E4100E6F4998A750F4180DB518F42C42E4100A068FD79750F4180BCC47AB3C42E4100627826E8740F418061658CC7C42E41002624A6DA740F41802F928ED8C42E4100C6AE69BF740F4180C2634DE3C42E41007A8C01A6740F418071291D06C52E41003679F142740F4180B45AE113C52E4100F8E9FC1F740F4100E0A24626C52E4100FAD871F8730F4180DB33D036C52E410004BC36DA730F41004B1A6F46C52E41007CD496C3730F4100325C6655C52E41000C1D3AB4730F41802402E564C52E4100EC87C4AE730F4100BA202186C52E4100822FEEB6730F41803FD27A94C52E410088BBDEB4730F4180149F23B9C52E4100F45DAE9C730F4100C83C8ADEC52E4100D4E16D77730F4100872EC60DC62E410086AED040730F41804063222AC62E41005C828D1B730F4180109FAC43C62E41001AB8A5F2720F4100F904E159C62E41005217FDC5720F41004023B387C62E410042335957720F41001A4C61CBC62E4100BA5B63BC710F410024E97638C72E41008A7A0DC7700F41808D610FA3C72E4100B88282DF6F0F41809D1128ADC72E4100BC96B7E56F0F4180E97E1FB9C72E410032AAC309700F41808A46D9C2C72E41001ED9DB14700F418048077CE7C72E410022B096B86F0F4100E0C144F3C72E41007CE202956F0F41809B9B47FDC72E410070B996716F0F4180BB9B3420C82E4100660207DF6E0F4100B5DAFF30C82E4100BAC18C986E0F4100152A144FC82E4100F4BDAD206E0F4100916F3757C82E4100748C3D006E0F4100AC75A77AC82E41008AD503776D0F4180899AFB94C82E41001AA710116D0F410083C5D2AEC82E4100F4E7FFAC6C0F4180D09BBFC8C82E4100247F6F466C0F418012E67AD5C82E4100467411146C0F4100C9CD59DBC82E410066FEFDE26B0F418021AF8ADEC82E4100EA135AA56B0F4100A74B2FEEC82E4100709A42526B0F4180F60B7BFCC82E41004AA5441E6B0F41003C59BA2FC92E4100F8CFCF816A0F410072C89D41C92E4100C8A28A456A0F41804C665851C92E4100EA9D2E046A0F41000BB0BD57C92E41004CAA32E3690F410066B9425DC92E4100F6A382C1690F41808FFFFFA7C92E4100A41CF3C2670F4100B08970B4C92E410006382672670F4180405903BAC92E41004898D347670F4180641738BFC92E41004C397616670F4100F9A595CDC92E410012087D69660F4180ACE5B5D3C92E41006666FD29660F410053E35FDBC92E41006C2E08EE650F4180783333E4C92E410048BBA0BC650F4100D23D6615CA2E4100CEF62FDD640F410057E72847CA2E4100604D77FC630F4180A515D651CA2E410088D1B5C5630F4100A311EA5BCA2E410016E83C85630F410053B6A765CA2E41005620D439630F410073590F71CA2E4100522AFDD3620F41803844DC92CA2E410004AFAA93610F410069F19EA8CA2E41007E6176C3600F41802BDCFFB5CA2E41002C0B6D3B600F41808DF10ABCCA2E410010445AF55F0F4100522D69C1CA2E4100A2B80FAB5F0F4180B62E2AC6CA2E4100F6E5CB5B5F0F4180102264CACA2E410034C60B065F0F4100E61D8DD0CA2E4100E4B9A5635E0F4180950F5CDCCA2E4100965359DF5C0F418086277EE8CA2E410058A56B845B0F4180DFCDD1EFCA2E4100FA3DD3975A0F41802DD17EFACA2E4100F20AFB63590F4180ED1AB9FBCA2E4100B43C8E0C590F410021FEFFFACA2E4100A8493ABE580F410043359BF5CA2E41004E28D07E580F41804CA010F4CA2E4100AC60BD3C580F418021B947F4CA2E4100042EA110580F41802786D9FDCA2E4100D2D672E6570F4100C5645E01CB2E41006E9479BC570F4180A008F0FCCA2E4100B01E668A570F4100290080EBCA2E4100965DD425570F41807F2793E3CA2E410054795FFB560F41805653D2CDCA2E41006444BE93560F41800787EBC3CA2E4100C69D1156560F4100308714A9CA2E4100C0C49679550F4180B7A2758ACA2E41002E173085540F4100FC1EDC66CA2E4100F6099769530F4180CE81375CCA2E4100766F1912530F4100BCC85A59CA2E4100E838FBE4520F4100499A035ACA2E4100389DD3A0520F4180399B195DCA2E4100283CCA6A520F4100C7DC7A64CA2E4100124BA112520F41801794816ACA2E410096D1DFC9510F410017258A6BCA2E41005889639E510F418009EAD665CA2E41006EC1C9F2500F4100AE860F60CA2E4100E2C1E83B500F410040956B57CA2E41008A22638E4F0F4180D01E854ECA2E4100841626D04E0F41008D472E46CA2E4100A221CA144E0F418021768544CA2E410070DDCED94D0F4100AC348F41CA2E4100C24578344D0F4100B09C6D3DCA2E4100688E96D74C0F41009972983BCA2E41002A5F24874C0F410003FADB38CA2E410002E981714B0F4100E5CC9A39CA2E4100EC32F8334B0F4100323EA940CA2E41004C188CA24A0F41801198EB41CA2E4100B8D33A604A0F4180AC744440CA2E410086EE3ED1490F4180F231B83CCA2E410024601B65490F4100EE43AB33CA2E41003CE1A9F3480F41804C84752ACA2E4100C664ABA7470F41004E5D6120CA2E410016C6F274460F4100E6AAC718CA2E4100CE9FFDB1450F418011E2F70DCA2E41008C015353450F418036B0DE09CA2E4100BA45F227450F4100D2338B0ACA2E4100B0963FCE440F4100A8AF1E0ECA2E41002876D369440F4180E8009D13CA2E4100EAD1D00F440F41808B5D4B14CA2E4100123901DF430F41807AD85D0FCA2E410028E980B0430F418066001C08CA2E4100AE492E84430F418071624CFEC92E410076371E19430F4180DDBFFAF8C92E4100FC3297CF420F4180E5875EF5C92E4100D8813A90420F4180C6035CEEC92E410030C125FA410F4180BDB5F4E9C92E410058CCA495410F41801D89F3E6C92E410040C29C67410F4180DB6E3BE2C92E41003C18C53E410F410090F166DAC92E4100D6C8C51B410F4100CCB005CDC92E410030CBF00E410F4180C958AEC2C92E410088BDBF15410F41008E2F2EB5C92E41008A129627410F4100D75229A3C92E4100CA194642410F41003758EB98C92E4100081AF254410F410011F8A37AC92E41003A9F6396410F4100EA090059C92E4100FAAD44D9410F41807E1D8510C92E41004E594F78420F41804C9F2F00C92E410056B2528F420F4100D3A6C7EFC82E410088668293420F418003C701E6C82E410054236089420F410043A670DAC82E410054024E70420F4180B9D02FCFC82E4100E6531E40420F4100FD3E66C4C82E4100D86978E0410F4180B12C72C0C82E41008A4362B2410F410046CAC0BDC82E41008E694781410F4100880187BCC82E4100C8E20051410F4100ADC3D2BCC82E41004608E623410F418076C593BEC82E41008C6F6CFC400F4100CC47D5C3C82E4100381BBFCB400F4100B46F14CCC82E410034D91BA9400F41007A3138F8C82E4100E02EBF35400F41007E208A46C92E410022B5CA6E3F0F4100F5E78351C92E41005838E0583F0F4100621FA168C92E41000C777D383F0F41001DA0227AC92E41001C1DCE133F0F4100EF511181C92E4100A8B5EDF43E0F4180A5E6457AC92E410098342AC73E0F41008AFF277FC92E41007C942B8B3E0F4180D3D19189C92E4100B241806D3E0F4180DA757A9DC92E4100448AF8583E0F418087E170A6C92E41001444A9413E0F4100386C76A9C92E4100CA9F29163E0F4100196DE1A7C92E4100B668B5E23D0F41803FA17A9AC92E41009EAEA01A3D0F4180061BE189C92E4100BEB1111C3C0F4180D94AB87EC92E41006406DE963B0F4100AA1BA075C92E4100B28316383B0F410084718A6CC92E410028EFF2FA3A0F4180D0CACB62C92E410072B880E33A0F410094CE364BC92E4100B65AD1DB3A0F41004D030F2AC92E410068CC5BA23A0F4100D4B1FA1BC92E4100EC604E7E3A0F4180E2196E12C92E4100A0C6A95D3A0F4180E99C440DC92E4100685E1D303A0F41003D5D0F0CC92E410012204FEC390F4180619FF00EC92E4100B25A3A7A390F41809E98420FC92E410070F72E36390F41803D04630EC92E410048EE7AEC380F41003F0D520CC92E41003AA04E9B380F41808B78C708C92E41006C929637380F418026F79B06C92E4100A6B77B0C380F410059D94C03C92E4100E60048DE370F418053482EF8C82E4100C0E9B46A370F4180485CF6DAC82E410048628B6D360F4180F52F8AD0C82E410010D5E807360F4180DD3938B8C82E41008A3BB5FA340F4100E3F9D6A4C82E4100440E3B20340F4180919B7C9CC82E410098E0F3C8330F4100D48D8A94C82E4100EC3BF390330F4100E6997A8AC82E41009AA3235C330F4100317FEC7EC82E41008EDE1225330F4180059CA360C82E4100E4C9AAA3320F4100BB3E3346C82E4100ECE12F39320F4100208AC235C82E41000EB6BFED310F41805379A430C82E4100645C10C7310F410094CDA32EC82E4100B0CA449D310F4100E5A69031C82E4100127F9B67310F418068D9A930C82E4100EC5F3336310F418008F0342DC82E4100DEAA2A00310F41808290EF28C82E4100662FEAD5300F41007AE59926C82E4100F0B0FDAD300F4100A98A6C27C82E410090856478300F41007C1C0A1DC82E4100F81A26EC2F0F41808299470DC82E4100284259412F0F41005A1D0907C82E4100C0C7C2042F0F4180E412AEFFC72E410066B3B4C82E0F4100D1C732F9C72E4100E40CDFA32E0F41006B43EFE4C72E41000CCE8F542E0F4180F50952DDC72E41008837972B2E0F4180795A0FD9C72E4100181B31042E0F4100CF8A67D9C72E41003C0D52D92D0F410095D075E4C72E4100DE2CDFAF2D0F41803E07E7ECC72E410060A0157D2D0F4100C86355EEC72E4100B8DB2F482D0F418065705BEAC72E41005E80D4192D0F4100BBE228DAC72E41000AC344B72C0F410098B2CC9AC72E410042EBE81D2B0F418090F8D666C72E4100082A1CBF290F410038032E2FC72E41009863786E280F4100B6CACCE2C62E410006D111AC260F4180C15F94B5C62E4100861EFDA9250F410088C887A6C62E4100341D7648250F4100EEC1028CC62E410044A52D88240F4180171AAE80C62E41008C69B53A240F41800F462B4BC62E4100C63CDFF5220F4100597A9937C62E4100E89A3075220F4180CEA99915C62E41002A16DE7C210F41802147BD0FC62E41002832BF5A210F410074C2FA0CC62E4100E6DFE833210F410089A76D12C62E4100A0253411210F41808232891DC62E4100BE755AF6200F410091E2CC2CC62E4100B60C4FDE200F4100A16CBD39C62E410086C62ACC200F410075A7C75AC62E4100EE509689200F410021F51967C62E41005C68A070200F418036F0D76DC62E410080109D50200F4100C668A96BC62E4100F2C9A127200F4180452EE166C62E4100CE36AB03200F418070255C5DC62E41005C77F2CA1F0F4100239C8045C62E4100B6E0F1271F0F4100B2693803C62E410056C71B4F1D0F410042B699B6C52E41006A2A825B1B0F418082142E63C52E410000B37730190F41804702F83FC52E41001091013D180F418053E9A817C52E41003846C91A170F41805D2C2EADC42E41009CD28B52140F4100DBFD232EC42E4100866144DD100F418062BEBFE8C32E41003E2D8BFF0E0F41802729DCB0C32E41005E4A81870D0F4100DB7A6E9EC32E410030AA7E0E0D0F4100E1774191C32E4100A0587BBE0C0F4180BDE34B84C32E410026BFD4780C0F4100C5656177C32E4100B0A4433D0C0F4180B1F3FC6BC32E4100B64C15190C0F418047A5145BC32E410070D3ABF70B0F4100B226100BC32E41006A2DFB770B0F4180790E29B4C22E410020608CFA0A0F41809D78F2A4C22E4100AC6A90E70A0F4180E5C14095C22E4100C6F1D2D70A0F41009C662785C22E4100BEC968CB0A0F41001B6ABD74C22E4100D86A63C20A0F41000F07A9A4C12E41001855FD670A0F4180AA3DC065C12E4100E6EA9B4E0A0F41003B176C57C12E4100766784470A0F41001DE04F4DC12E4100CE5F553F0A0F410081F02C46C12E410008E03D1C0A0F410080C8AD3EC12E410002388FCA090F410051525B1FC12E410056C7CB1F090F41008C21D70DC12E4100DCAB63D2080F4100B91DFF01C12E4100F2528BBF080F4100D081F0F7C02E41001A9E30BB080F41807C50EACBC02E4100D85FE5A4080F4180E9474A69C02E4100D413927C080F4100D11B5C3EC02E41009CA28265080F418091D64D2FC02E410066447B38080F418051AC09ECBF2E4100D272B4B2070F410056B320D0BF2E41004E672B80070F41001CDE1EB3BF2E41006A627B53070F4100945C5C98BF2E4100DE3C1134070F4100C7D26B89BF2E410072B6222A070F4180AB84ED6BBF2E410038931022070F4100D3CED15FBF2E4100A6E83A1C070F410010A23944BF2E41000C9B3D0A070F4100C0981E34BF2E410070C8FDF7060F41008713462BBF2E4100389E66D8060F410052559126BF2E4100E6A7E79D060F418072BB9926BF2E41008A4F6372060F41806C53E62FBF2E4100722E1CBB050F4180B9366D2EBF2E4100CC96CB71050F4180F537432FBF2E4100B09CF649050F418087F3B638BF2E41008CECF12B050F418086297E50BF2E4100FA5BD42C050F4100F72CC273BF2E4100F6EFF111050F4180563EE183BF2E4100E46882FD040F4180502DDCB8BF2E4100D07759A5040F4100D76E14DABF2E4100FAC12570040F4180295372EABF2E4100F07F5967040F41001FE72808C02E41009470FD75040F418086739A12C02E4100E831897C040F4100C93F422CC02E41005844E993040F41801A230A3AC02E4100488A8C98040F41803E66AC44C02E4100C8A36D89040F4100E4E72D4FC02E41004E4F6C6E040F41002C86A85BC02E410024FD9765040F41005D988765C02E4100D680DA6F040F410079537B72C02E41000CF1BC6A040F4100631A8A7CC02E4100CE5E474F040F4100B24D0F8AC02E4100860E1B0F040F4180D48A438FC02E410000518FEB030F4180059D2299C02E4100D874C697030F4180B3F77A9EC02E410092189675030F41804A9977B0C02E41004456DB33030F4100221FBBB9C02E41001C10B502030F41808FC78FC0C02E4100020F5BC3020F4100AD8AB1C3C02E410042D58C5C020F4100B12E2EC3C02E41003A802FDF010F4180CD34B1C2C02E41003216E7B4000F41006FEE4DC1C02E41003CE7F352000F410036AAEBBEC02E410060431CFBFF0E4180A9296BBBC02E4100D8D964D2FF0E41800B86C3B3C02E410046C0AAA9FF0E4100F8C74C8FC02E410070A79633FF0E41000631BF6EC02E41004AE885CFFE0E4180CCABE665C02E410030EB2FAFFE0E4180F045B35EC02E41000298598FFE0E418007E64258C02E4100CAE8546AFE0E41807D956F52C02E4100DA33A23DFE0E418076BAEB42C02E410016A7269CFD0E41008DE1A832C02E4100E805A1FCFC0E4100880BD220C02E41004218A170FC0E41807210141AC02E410020EFDC24FC0E4100275CA416C02E4100024282E5FB0E410096B73C16C02E410066A585ADFB0E4100E35FE618C02E41009C8F777CFB0E410061260A21C02E41007AAAAA2FFB0E41802756A225C02E41002A776303FB0E4100801D4627C02E4100D02DB89DFA0E41006BE36824C02E4100EE654F53FA0E4180DD90941EC02E4100949B3A07FA0E410061BEAA15C02E4100B458E9B7F90E4180CED7360CC02E4100D6E50075F90E41806A333900C02E4100A4058C2BF90E418097005DD5BF2E410042849142F80E41008E423DCABF2E4100686C8102F80E41002BBCE3BABF2E4100ECD1ADA0F70E41004D889EB1BF2E410086066E57F70E410054CBBFADBF2E4100483C051FF70E41800E970E93BF2E41006A7F4676F60E4100AEBE7574BF2E4100B20027D0F50E4180D9DA5760BF2E4100DED1336DF50E418082C87529BF2E4100BA93596FF40E410077626C19BF2E41003ECCC51CF40E418047EF9AF2BE2E4100F0DBBF48F30E4180FA500ADCBE2E4100D63AE8DBF20E41800D54B5C9BE2E410006923990F20E4100545975A1BE2E4100466A46F7F10E4100A3BB7A90BE2E4100DA4630B3F10E41804B811952BE2E4100289CC9A8F00E4180CA53EB31BE2E41004AAC9E28F00E418069A17A10BE2E4100A68E07A9EF0E41802105C0F4BD2E4100229FDE44EF0E4100EF518FD9BD2E410048EEAAE9EE0E4180568A95CFBD2E4100F0C067CDEE0E4180B82CA5B7BD2E41003CA05393EE0E4180002661ADBD2E41009CF32574EE0E41807D238997BD2E41007A522521EE0E41802817D784BD2E4100AEDD3ACEED0E4100E8178065BD2E410020F23A32ED0E41808CEED453BD2E4100E86142D9EC0E4100B4963D48BD2E4100EC508CACEC0E4100D3D74739BD2E41008438538AEC0E4180EC7E191CBD2E41008057B560EC0E41000EC1CCEBBC2E4100326E111AEC0E418013E748D4BC2E4100D8C18DEEEB0E4100DBA8BDBDBC2E41002A7EE8B9EB0E410069DEFF8BBC2E4100A6A7C930EB0E41807A680375BC2E4100664E6EF2EA0E41809F646B69BC2E4100E29DE8C7EA0E41007361BE5DBC2E410048CD7B82EA0E418046A14749BC2E41009C324EDAE90E41002B67BD22BC2E41000EF01BD5E80E41007C2DB517BC2E41009CABCA91E80E4100A80C38F8BB2E4100562BFFE2E70E4180467BD9EFBB2E4100B0734AACE70E41002C575CE9BB2E4100BC4CDE78E70E4180AAD706E3BB2E4100A6623A38E70E41001A07B3D5BB2E410098633097E60E4100E1197BC1BB2E41002AA744C7E50E4100CF64B5B9BB2E41001E604783E50E4100F53271B0BB2E4100ECC04840E50E418099A8C0A5BB2E4100A4DBD1FEE40E41801F79BD99BB2E4100B0EE81BFE40E4100B85F858EBB2E4100B86F3F91E40E418075D39273BB2E41009EFC7F36E40E4100BB82146ABB2E410070C9630EE40E410005CECC40BB2E4100EC3E1142E30E4100F6810F23BB2E4100D85F6DADE20E41000BB2111BBB2E4100F2AB1083E20E41806E207314BB2E41007650E05AE20E41007147060FBB2E4100442DCC33E20E4100DE8BBD0ABB2E4100D0746D0DE20E410086770807BB2E4100E88873D0E10E4100F20C1305BB2E410044856952E10E4180D7DCFA02BB2E4100E8F89F1EE10E4180B9F631FBBA2E4100DE6CD2AAE00E4100CFDEFAF3BA2E4100422A8159E00E4180C6B1B8E4BA2E410044E054E9DF0E4100852085E0BA2E4100780BE8C3DF0E41808973AEDDBA2E4100A4BD139ADF0E41003C9CC2DABA2E410022F9814FDF0E41004A2045E2BA2E41001CAD8431DF0E41000092D2D6BA2E41001C6604BFDE0E4180E50E10C8BA2E4100E619AD5ADE0E4180E3FEC6B7BA2E410090B0F1F2DD0E4180DB22ADA5BA2E4100F476F885DD0E4180C377EA7FBA2E4100C2D06CB0DC0E41006BD05133BA2E410042A23A12DB0E410077901906BA2E4100FCB4DE1CDA0E4180A8116CD1B92E41007A3F920CD90E4100774605BFB92E41002251BFA9D80E41807ECF74C4B92E4100949FE37CD80E41807336A9D2B92E41005C3E865CD80E41805858A5DAB92E410024556543D80E4180ADAE25D8B92E4100C61691A3D70E41007A8F40D5B92E4100DABC8B74D70E41809324A0D0B92E410038336E40D70E41808AAF474CB92E4100B6644461D80E4180C5FA3CADB72E4100C084E607DC0E4180E7A04B69B72E410060DCC71EDA0E41806F9ED5CDB62E4100646E9DBFD50E4180EDCD95ABB62E41009E9B7ADCD40E4100CF637C7CB42E4100401E8ECCD90E418074ED08ABB32E41008C88DE6FDB0E4180BB3CCDD3B22E4100D42EEAD4DE0E4180F14A4D1FB12E4100F8A8069FD20E41004EA80AB9B02E41006CCEE8B3CF0E41802BEF82B1B02E41008E21E47CCF0E41008F1F6B5FB02E4100108D1D25CD0E410028CF26F7AF2E41001272A21FC90E41800AD05E75AF2E41003CE7936BCC0E4180FCEDCBB4AE2E4100F8A8069FD20E41009942ADE2AC2E41006A43F78FE10E4100A1A471C4AC2E410046530F88E20E410055B95E4AAC2E4100EC9ECB71E60E41004CC09F24AC2E41003E4186A7E70E410048140090AB2E4100387E1F77EC0E418040E89164AB2E4100EE55CDDDED0E4180A6D3B15DAB2E41005607FF15EE0E410022B4B0F6AA2E4100C04BAD5FF10E41808A033FB8AA2E4100E235EE5DF30E4180FBDE9272AA2E410034C83198F50E4100613A48A0A92E410050975E51FC0E41002D04D356A92E4100706999AAFE0E418097574D0EA92E4100E0B139FE000F4100862D403FA82E41000A85BCA2070F4100700D9705A82E41003C694D7C090F4180F4E9D5BCA72E41001CC074CD0B0F410068E499DCA62E410026259EF1120F4180C75B508CA62E4100FA5101FE140F41001D2CC8ECA42E4100AA4809C0150F4100BF08C693A42E410092671BE9150F410008CFB72CA42E41008C27A918160F4100FFB4A091A32E41006812F967160F4180EC91DAF8A22E4100AEF419B6160F4180D614EA88A22E410064BB2CFF160F410001A8C336A22E41001023904A170F4100876608E7A12E41001EC6E8B7170F4180E1ABE593A12E4100DE31FE54180F4180998ABD72A12E41005E47E3A1180F410001CF1808A12E4100FC7CBDE0190F41002BC4B8B6A02E4100DA322AF21A0F41801B3F1C6FA02E4100B6E896031C0F4100C9C39815A02E4100BC3AAE831D0F4100E7908DA89F2E41006475EA5E1F0F4100C713CA5C9F2E4100B2D707BF200F4180AA0FC1F19E2E41007C23713B220F4180E2D4F5C09E2E41008A3CDDD8220F41001803DF8E9E2E4100C259767A230F41007F19F70C9E2E4100107F0982230F4100A74108E09D2E4100B676DC9D230F41009B9C48BA9D2E4100F46CADA5230F41800FDEE5849D2E4100885ED09D230F418097F7C4569D2E4100BEEE1686230F4180D6D199299D2E41005257C859230F410029733D059D2E41008A3EE325230F4100ABB4EEBA9C2E4100D4B99689220F4100C5F15A459C2E41000A269074210F41808380B6339C2E4100B2D707BF200F41806480602A9C2E41004256198F200F4100BC30F8229C2E41005EE30766200F4100ED71570E9C2E4100BC432ECF1F0F4100ED8DA4009C2E4100B41FC0661F0F41001D2CF2E99B2E4100944E4BAA1E0F4100F42457819A2E4100B41BE44D120F410071FBD3479A2E410018E32216100F4180F8C44B249A2E41007A2CD7750E0F410035CB75EA992E4100505D65480B0F410001CDD866992E410080A65722030F41003D08471E992E4100A88EDC04FF0E4180C484EBD9982E4100749154E4FB0E4100D77A65C9982E410098394949FB0E4100DF424588982E410048552FE6F80E4100916E00EE962E4100522FB454FA0E4180EBD0774D972E41008EC580FBFC0E4180488A85AF972E4100F8D639E3FF0E418099F3FF07982E410076C60BBE020F418025B9BC4F982E41005482672C050F418059926EA0982E4100C2A7801F080F41001EEE1DB7982E41008CA1E0F2080F4180E8291604992E410022FB67D30B0F41807C9DA946992E41000A7B59CD0E0F4180E2CA848B992E41006E62AAD6110F4180B0ACB9C8992E4100D2085259140F41002B23CCE5992E41008E8FD5A3150F4100739105099A2E4100EC4E4E25170F41809BEF362C9A2E4100BC978A94180F4100B007F0509A2E410040D3411C1A0F4180AFD930779A2E4100AA95E36C1B0F4100D962629A9A2E4100B03046B11C0F410040E9FCB89A2E4100448757B21D0F4100A61997D79A2E4100D28567B31E0F41800B1F31F69A2E4100A8E5FB9B1F0F4100AFA3201D9B2E410020BDFDEF200F4180E41EED019C2E4100E00F4E67280F41000BC5921F9D2E4100F87B7E51320F41808D6B70BF9D2E4100AC67329C380F41002B66C6F29D2E4100CA986CA13A0F4180CC863FD69D2E4100CC8BED133B0F41807AF68ABB9D2E410082DE1D7F3B0F4180B6CFF4909D2E4100D6FB0C2A3C0F4180BA8717B09C2E4100CEA79DB03F0F4100FCB6BA199C2E410092704B89410F4100EFE9FF299C2E4100081F8115420F41803E4885379C2E410086695996420F418003ABCC419C2E4100E231450B430F4180B70CD3449C2E410080CE163E430F4100B82660469C2E4100D2D1C676430F4180406D83469C2E4100347C75B6430F4100679642459C2E4100D0E83005440F4100506C6D439C2E4100F0F38E35440F4180E87EF63F9C2E41008ABDA168440F41800060D13A9C2E41000E0D4D9F440F41003BDBA3339C2E41001C1D59DD440F41009C4B1B289C2E41002C956E1C450F4100C576440D9C2E4100B6CF3C7D450F41002BEA52049C2E410034DA19A3450F4180021090FD9B2E4100944954CD450F41804E7F47FA9B2E41001ADDA0F8450F4100F23D91F69B2E41006235AA71460F4180EFE6FAF39B2E410010473BF0460F410057F17FF19B2E41000464D493470F41806D300AF29B2E41000057DE90480F4100C14600F69B2E4100323D5D46490F4100FBA9C7FC9B2E4100366D581B4A0F4100CB27C7059C2E410042B5E0004B0F410092575F0A9C2E41002C3AD3534B0F418006EAA80F9C2E41006AAD119E4B0F4100C625B3299C2E410014E195E14C0F4100CB6B42429C2E41008272F2124E0F410013BCEA449C2E4100C605143B4E0F4180FD7DF6469C2E41005E4AB9684E0F4100DC13D74B9C2E41003AD0071B4F0F41800D9EC7579C2E41004CF45855500F4180BC52625D9C2E4100EA36AAA6500F410067FE636F9C2E4100B8637651510F4180ED8CEB739C2E4100586FAB97510F4180ECDEFF7D9C2E41005C638CA6520F41005EDC7F919C2E4100746058BD540F4100C8208D979C2E410012502D35550F41004BEA47A29C2E4100FCA58CCA550F4180B74536AC9C2E410074F99349560F418018BD07B39C2E4100D45CF596560F4100904863BA9C2E41006AD560DC560F418040FA51C29C2E4100D0CAB418570F41007908DAD09C2E410032CA8F74570F4180256D38E69C2E4100D88977EE570F4180B59F14139D2E4100E27D81E3580F4100669279219D2E4100C2F16B3D590F4180C4308A379D2E4100D63B1BDB590F41802D68285E9D2E4100AC1419E75A0F41801D9A02719D2E4100D05CC6745B0F41004108D0809D2E41004C63FD005C0F410021B4FB869D2E410050B329435C0F4100EC6E198C9D2E41003281BF835C0F4100758379939D2E4100EAE4A3FC5C0F4100F115AE9D9D2E4100D82CABD35D0F41008EFE0DAC9D2E4100780401125F0F4100AD0FD7B39D2E410096BD11A45F0F4180B36015BB9D2E41006A46B0ED5F0F418003E241CD9D2E410042428B64600F4180ED0E2ED39D2E41009C835991600F4100200717F59D2E4100E4AF02B6610F4100423DB3069E2E41009E62115A620F4100100157239E2E4100EC03CA78630F4180D8E84C429E2E41001E1E96B1640F4100DD3B385E9E2E4100BCBA77DA650F41001B72BE649E2E410072290814660F41004EEB106D9E2E410052210852660F4180E0F6AD8A9E2E4100568BC910670F4180738338CC9E2E41003E3FE8A1680F418041C5EFDB9E2E4100F419070B690F4100AEA109EB9E2E4100D2A45378690F4100B61685F99E2E4100DE8BCEE9690F4100552261079F2E4100F0BA6D5F6A0F4100C2B169149F2E4100D2DE87DD6A0F41005EAC282E9F2E41005247CEF46B0F41000540B3399F2E4100865CB5626C0F41803E2CEC649F2E4100005F4ED06D0F41800DC4A3749F2E41008849775A6E0F418052D4EC829F2E4100660207DF6E0F41807E4B94959F2E410032D4258C6F0F4180888EE3C49F2E4100AC47535F710F41003595BDD99F2E41005C41071F720F4180AF426BF29F2E410014F5C3EE720F4100AD37A927A02E41000A2377A0740F4180EB2E946FA02E4100840EE9F5760F410017D0A57FA02E41006C46E26F770F4180BBB8F092A02E410032CCADF4770F410092AC19D6A02E410020A88C9C790F4100C0AD9D0AA12E4100106128D97A0F410028E2231FA12E41003E5C595F7B0F4180106DBF2AA12E4100E292CFB47B0F41809AA08436A12E410072FB09137C0F41004D0D5251A12E4100588A8B007D0F4180F4F44771A12E410088D89C417E0F4180C01BDC7CA12E4100D233FCAD7E0F4100FB13859EA12E41003C8A0FCF7F0F41803B8394C4A12E41007A5E6308810F4180650884E7A12E410030034712820F41802D4BE6F4A12E4100AC1F0781820F41001935331DA22E4100BAC9C9F6830F41000E8AF543A22E4100486DDE6A850F41004441E74FA22E41006EA7ACCE850F41000CC6806BA22E4100AA448896860F4180BF2C8A76A22E41001852BFED860F41005626727EA22E4100EA114F3D870F41007F2CF68CA22E41001A738BF2870F4180AA6EC294A22E410096DF1B3D880F4100B24D5D9FA22E41006A3E7B8E880F410067D7E2A9A22E41006CAB0BD5880F41805156B8B4A22E4100DEC87313890F4180091905C0A22E4100089E8C4A890F41004DCCB5DAA22E4100B810F8BC890F4180030800F5A22E4100EA5F26248A0F4100B5CFFB1CA32E41004ED514B08A0F4180EE7BBD2AA32E4100568344E38A0F410078E89F41A32E4100BE6CBF428B0F41800E32DC62A32E41002C3E07D98B0F4100CBEF2894A32E410058280BBD8C0F4100504E5CD3A32E41002EDE4EE88D0F4100FCDC24E6A32E41002C2121468E0F410000E9C20FA42E4100B682B5218F0F4100131C3324A42E41004A431C858F0F4180AC553C3FA42E41001C7C40FD8F0F41001276E685A42E41003C19782C910F41004FE2F5C2A42E4100307A104A920F4180FF9566DAA42E410018D26DB1920F4180D7F13FE6A42E4100BC92FBDB920F4100501412F4A42E410092B9E600930F4100FAE97D03A52E4100C09E301F930F4180B1D7F513A52E4100060EBF35930F4180BAF66074A52E41004EBDF29C930F41805173B8AFA52E4100986B78D8930F4100863670BCA52E4100809036E8930F418024E809CAA52E410050D0D7FC930F4180764A3DECA52E4100B297BF3B940F4180D3314809A62E4100E677DE7A940F4100BE3F6624A62E4100B46730C3940F4100100BF83AA62E41004E01020D950F410051DF2355A62E4100224A8271950F41001000A284A62E4100D2F20D34960F418059A44CB5A62E41002AF41B01970F41800919C9D5A62E4100EA552B8E970F41800BE6DBEEA62E41008CA35901980F4180117CD2FCA62E41009CF12F48980F4180713ADE19A72E4100D8B7F2E6980F4100EDEE2326A72E41002C8E8C24990F410033992652A72E4100D88A17E7990F41802D835C60A72E4100D05782299A0F418013343892A72E41006C2DFD1F9B0F4100A353E1CFA72E4100A2CCB54E9C0F418015EF1E20A82E410090A13AE49D0F4100C0EF8A2FA82E41008C65A12D9E0F41803C7E7D39A82E4100860E23549E0F4100A0D9AB43A82E41006283346E9E0F4100D2740F4EA82E410046E5107A9E0F41802D55EB5DA82E4100BA212F7A9E0F41805083036FA82E410072F6ED6C9E0F4180AAB87481A82E4100565747529E0F4180D4E0DE8CA82E4100D4EE663B9E0F4100D778EB95A82E4100ACAC44299E0F4100A44E2C9FA82E4100085195119E0F4100F72D87A7A82E41006E8E07F69D0F4100C5E1B6AEA82E410048D47DD79D0F418063928FB4A82E4100729DB5B69D0F410070E639B9A82E4100E6568F889D0F4100BF2499BAA82E41000C9A82509D0F410055A9F0B8A82E41006867BA0F9D0F418048F37FB3A82E4100C8F9FCA99C0F4100284C01ADA82E41001E6F89739C0F4100CDB4F49EA82E41009EA1743F9C0F418093424F85A82E4100FC4417FC9B0F418025371E7BA82E410056E263DC9B0F4100767DAB72A82E410000B5CAB59B0F4180DBB91E6EA82E41006E3D8C8C9B0F4180AD7F016CA82E4100A87FAA609B0F4180C24EFE6AA82E4100042D7E329B0F41001B27156BA82E41006C3901029B0F4100B45C456CA82E4100AA3426CF9A0F41008B438E6EA82E4100F0E2F9999A0F4180A80AF271A82E41002EB735629A0F4100178D7376A82E4100989CA4279A0F4100058D1E7CA82E4100D25CABE9990F4180C352D784A82E41006E09529D990F418086019A8EA82E410034EBBE5F990F41009B407A99A82E410056147B30990F4180F6B575A5A82E410012F9950F990F41001395D1BEA82E41009493B5E1980F4180FDEF00DCA82E4100484089B8980F4180838AE5FAA82E410016885595980F41807324E137A92E41000EB31158980F41007F360371A92E41009E85A118980F4100FC141F8FA92E41009AD5C7FE970F4180C9C90F9EA92E4100804700F7970F4100EA420DACA92E41004CA3D8F3970F418043F752B9A92E4100C87843F5970F41804EFAFFC5A92E410004D044FB970F4180D805DDE3A92E41001257DF14980F41006D6C5204AA2E41002691A93B980F4180A4BC3C26AA2E4100D06FF16C980F418016D5CC61AA2E4100DAA311CC980F41000380BCACAA2E4100DA62A340990F41005AD291C3AA2E41005C8EE66A990F4100137966D7AA2E4100FE853A96990F418045408BE9AA2E4100061ADDC7990F4100B78102FCAA2E4100C84220079A0F4100A7B3DC0EAB2E4100306938539A0F41800CDF9E2AAB2E4100A62AA1CE9A0F4180A778C131AB2E4100AE9D87F19A0F41809311F938AB2E4100C2ADE71A9B0F41009F5E364FAB2E4100AAA5C2AF9B0F4100B2294758AB2E410044DAB5E69B0F4100C760A362AB2E4100020CD2199C0F4100BA0E7B6DAB2E4100562C3A429C0F41008903F675AB2E4100DC5AA85A9C0F410069B83B7FAB2E4100BC3798709C0F41002DC14089AB2E4100923AF0839C0F41009ED6F693AB2E4100F42A94949C0F410090B7529FAB2E4100948C70A29C0F41008C5035ABAB2E4100C65A58AD9C0F41801DE680B7AB2E410030BD34B59C0F4100B2560FC4AB2E410062CFE8B99C0F4180C9DCA8D5AB2E410056EBF6BB9C0F41808F09EBE6AB2E41007ED56BB99C0F41807C17B3F7AB2E4100EAE94AB29C0F41002A51E607AC2E4100CAECA0A69C0F4180240E5C25AC2E4100E48616869C0F410021491369AC2E4100325577249C0F418079502E88AC2E410014BCFDFF9B0F4180F60AE299AC2E410050E20FF19B0F41000DB7CEADAC2E41004C2FE0E39B0F410047E91701AD2E4100E2D8DCB89B0F41802507A922AD2E4100743E639E9B0F4100E9707544AD2E4100B674A6769B0F41804F5C197BAD2E4100002926289B0F41800AEE0D8BAD2E410068B1680E9B0F4180EEFF579CAD2E410052CBC8EC9A0F4180F1222DD4AD2E41002075156E9A0F4180179326E9AD2E4100508C73429A0F4180ACC07EFEAD2E410038D03D1E9A0F41003A558A12AE2E410000A325069A0F41809C63D21FAE2E41003C856BFD990F41002036A72DAE2E4100403E9DFB990F418056C32E3CAE2E4100F015B4009A0F41005BF2B14BAE2E4100AEE8C80C9A0F4100072B4F59AE2E41005A3BF31B9A0F4100A1C97468AE2E41004C379D309A0F4180A423E59BAE2E41001271BF829A0F41804C41B5AFAE2E41006AFC869F9A0F41007074A5C3AE2E410010CD70B69A0F41007177BDD5AE2E41003E40ABC39A0F41000A590600AF2E41008831A5D79A0F41807C6D921CAF2E410086E0A7DF9A0F41007C1B6B36AF2E41006441D8DE9A0F41008F28B34DAF2E410090018DD49A0F41807071EE64AF2E4100B8D776C19A0F4100AC5B7A7BAF2E4100462647A89A0F4180E935FE90AF2E4100B60660899A0F41009901A59FAF2E41002835206F9A0F418085007CC1AF2E4100B430ED109A0F4100B0E805C9AF2E41004C7A3C0E9A0F410025F863D8AF2E41006A9C1FDC990F4180253EB2E1AF2E41009044F1B6990F418043CA38E9AF2E4100F0A4F495990F4100D9F1CCEEAF2E410070735970990F4180EAD695FEAF2E4100CAB81BC6980F418027F7D003B02E4100A84F3995980F4100EB6D370AB02E4100CE07E86B980F418054A1D111B02E4100528CFD4B980F410004CE3F38B02E4100AE5158D2970F41808184B149B02E410074F9A8A0970F4100C3688F5AB02E41001AEFA074970F410063CF6E70B02E4100343EC542970F41000AC200A3B02E4100DA7C08DB960F4100D569EBB8B02E4100F6FF1BA7960F4100CFD3B6C9B02E41000E6C7974960F41002C6817DAB02E4100B2775035960F4100F88652EAB02E410052F7B5E8950F41000B8266FBB02E4100D690FC89950F4100297EA509B12E41000A562E2B950F41803007150FB12E4100447EBFFD940F4100E5536613B12E4100642F95D1940F418047E59916B12E41004E59A7A6940F4180548EAE18B12E410028BC007D940F41800B4FA419B12E41000460A554940F41805FBE1B16B12E4100684262C0930F4180EB449E0AB12E41006092F9BF920F41006C3AAE08B12E41006C3AC97C920F41006755E607B12E410046DABF3F920F4100F11C0A08B12E410004EFE887910F4100A05E6B0EB12E410058EC43638F0F4100FFE4830EB12E4100503EE92A8F0F4100BFE1AC0DB12E410012EF12ED8E0F4180494A8B05B12E4100B4834BDC8D0F4100B4EB5B04B12E41003EBD8E9B8D0F4180C69B1E04B12E410058D86D618D0F4100C22E6805B12E4100F813071B8D0F4180BFBAC308B12E4100908F6ACE8C0F4100E34DF80DB12E4100265FA27C8C0F4180B5D63D1FB12E4100E69C5C918B0F410013723623B12E41007A38D0468B0F418061125C25B12E4100D65630038B0F4100A7F6B826B12E4100408840808A0F410073CAA225B12E4100D42833008A0F4180D1E91C22B12E4100C0915F84890F4180DCE12D1CB12E4100CCB6BF0D890F41804BAF3E13B12E410094595E91880F418008FACD07B12E41000A5FAE15880F418074C9F4F9B02E4100468FBE9B870F418019E5D6E9B02E41000C0BCA24870F4100959899CFB02E4100DC523001860F4180A08C68C9B02E41004641F7AA850F4100EDAACCC3B02E4100067A3A70850F4100F3FDCABBB02E4100FCF8F532850F41001A7158A5B02E4100EC009CAE840F41008013A99CB02E4100E2C34E70840F4180C6947E95B02E4100663A8526840F4180D2401490B02E4100CA3B2BD4830F4100556E558CB02E41000CB83878830F4100B1A1198AB02E410024E8C90E830F41805C4FB087B02E410046F9EE34820F41007DE4FA87B02E410066121C99810F41807A41148BB02E41008E9652E7800F4100CDF4AD8BB02E4100B8AF2F9D800F4180B9EAA88BB02E4100248007A17F0F4100A6E0A38BB02E41006EC196957E0F41809790668CB02E410046E1F4277E0F41807C29B38EB02E410090B859BF7D0F41008F884D91B02E4100F23B177F7D0F41801621859BB02E410072B8C8BA7C0F41807DE07AA6B02E4100FE83447D7B0F410074215CB2B02E4100B0A511FC790F410000489AB5B02E4100264BB4A8790F4100B494EBB9B02E4100920C6557790F418078A549BFB02E4100A8779508790F410033EDADC5B02E4100CAEDA0BC780F4180973B80CCB02E410074C98A7F780F418067E8C1D5B02E4100108D6841780F41002AB995E1B02E41009AD03001780F4180B9A7B8F0B02E41008AE0DEBA770F4100C05F95FBB02E41007EB77297770F4100120E1918B12E410040348256770F4100F78D9920B12E4100BCCE2238770F41009184AA25B12E41005E4FE00C770F410013BB0525B12E4100C468EAE4760F410026D5E720B12E41009EBD8F96760F4100FDCCA321B12E41001AD6436B760F41806B659B2CB12E4100B03F45E5750F4180BC9DCD37B12E4100B2087769750F4180B3DA6C43B12E4100B884ADF5740F4180B952944FB12E4100BCF3DD88740F41008988477DB12E4100602E6316730F4100A709F490B12E41009C5A9A82720F4180566FBDA3B12E4100884BB504720F4100C70C62ACB12E4100C21597D1710F41004DF114B6B12E41000A633A9E710F410083E123CDB12E4100E4C03734710F418067C1AAE5B12E4100EA027DD1700F418024AFFA1EB22E410084B8C9F86F0F41003A99C964B22E4100660207DF6E0F41803038B3AEB22E41003CDCB5B46D0F4100F4B2F2CEB22E4100ACD4804F6D0F41002D2758D9B22E410062AF41336D0F4100226BE5E2B22E4100C49E621D6D0F41805529C5ECB22E4100DC86D50B6D0F41008F2770FFB22E4100B08B81FB6C0F4100F6A6B00BB32E4100DA58E8FE6C0F4180240D8F15B32E41005C3C5B106D0F4180CD78062EB32E41005A4BBD606D0F4100602CF636B32E410068262C756D0F410099568D56B32E410024D907996D0F4180BB182F61B32E41000A7C04A16D0F41807C03BB73B32E4100A4B2CAA46D0F4180FFF35E83B32E41004AD384976D0F418021D4CF8FB32E41009865217A6D0F4100483AEE99B32E4100305D9A4E6D0F41803BA08CA5B32E4100D685FEF96C0F41008D9DE1B4B32E41005A9F81656C0F418012C1B3BAB32E4100DAE7F5136C0F4180A0F5B8BEB32E4100BA67D4596B0F4180C6161FC2B32E41003801F2146B0F4100B91489C7B32E41009A4712E86A0F41006EF378CFB32E41004E184ECB6A0F4180F44966EFB32E4100D2B99CAA6A0F4100CEB5880BB42E4100AE71F7976A0F4180C81C5761B42E4100DA2077706A0F41803D0DA9A4B42E41006ACDA0526A0F4100D44B49B3B42E41001A912C476A0F4180692EE7D0B42E4100D0613D256A0F410015AFBDDDB42E41001A186D196A0F41003F8856F6B42E410002C1400D6A0F41')\n",
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n",
      "('10040', '0103000020E6100000010000002F02000000DF424588982E410048552FE6F80E4100D77A65C9982E410098394949FB0E4180C484EBD9982E4100749154E4FB0E41003D08471E992E4100A88EDC04FF0E410001CDD866992E410080A65722030F410035CB75EA992E4100505D65480B0F4180F8C44B249A2E41007A2CD7750E0F410071FBD3479A2E410018E32216100F4100F42457819A2E4100B41BE44D120F41001D2CF2E99B2E4100944E4BAA1E0F4100ED8DA4009C2E4100B41FC0661F0F4100ED71570E9C2E4100BC432ECF1F0F4100BC30F8229C2E41005EE30766200F41806480602A9C2E41004256198F200F41808380B6339C2E4100B2D707BF200F4100C5F15A459C2E41000A269074210F4100ABB4EEBA9C2E4100D4B99689220F410029733D059D2E41008A3EE325230F4180D6D199299D2E41005257C859230F418097F7C4569D2E4100BEEE1686230F41800FDEE5849D2E4100885ED09D230F41009B9C48BA9D2E4100F46CADA5230F4100A74108E09D2E4100B676DC9D230F41007F19F70C9E2E4100107F0982230F41001803DF8E9E2E4100C259767A230F4180E2D4F5C09E2E41008A3CDDD8220F4180AA0FC1F19E2E41007C23713B220F4100C713CA5C9F2E4100B2D707BF200F4100E7908DA89F2E41006475EA5E1F0F4100C9C39815A02E4100BC3AAE831D0F41801B3F1C6FA02E4100B6E896031C0F41002BC4B8B6A02E4100DA322AF21A0F410001CF1808A12E4100FC7CBDE0190F4180998ABD72A12E41005E47E3A1180F4180E1ABE593A12E4100DE31FE54180F4100876608E7A12E41001EC6E8B7170F410001A8C336A22E41001023904A170F4180D614EA88A22E410064BB2CFF160F4180EC91DAF8A22E4100AEF419B6160F4100FFB4A091A32E41006812F967160F410008CFB72CA42E41008C27A918160F4100BF08C693A42E410092671BE9150F41001D2CC8ECA42E4100AA4809C0150F4180C75B508CA62E4100FA5101FE140F410068E499DCA62E410026259EF1120F4180F4E9D5BCA72E41001CC074CD0B0F4100700D9705A82E41003C694D7C090F4100862D403FA82E41000A85BCA2070F418097574D0EA92E4100E0B139FE000F41002D04D356A92E4100706999AAFE0E4100613A48A0A92E410050975E51FC0E4180FBDE9272AA2E410034C83198F50E41808A033FB8AA2E4100E235EE5DF30E410022B4B0F6AA2E4100C04BAD5FF10E4180A6D3B15DAB2E41005607FF15EE0E418040E89164AB2E4100EE55CDDDED0E410048140090AB2E4100387E1F77EC0E41004CC09F24AC2E41003E4186A7E70E410055B95E4AAC2E4100EC9ECB71E60E4100A1A471C4AC2E410046530F88E20E41009942ADE2AC2E41006A43F78FE10E4180FCEDCBB4AE2E4100F8A8069FD20E41800AD05E75AF2E41003CE7936BCC0E410028CF26F7AF2E41001272A21FC90E41008F1F6B5FB02E4100108D1D25CD0E41802BEF82B1B02E41008E21E47CCF0E41004EA80AB9B02E41006CCEE8B3CF0E4180F14A4D1FB12E4100F8A8069FD20E4180BB3CCDD3B22E4100D42EEAD4DE0E418074ED08ABB32E41008C88DE6FDB0E4100CF637C7CB42E4100401E8ECCD90E4180EDCD95ABB62E41009E9B7ADCD40E41806F9ED5CDB62E4100646E9DBFD50E4180E7A04B69B72E410060DCC71EDA0E4180C5FA3CADB72E4100C084E607DC0E41808AAF474CB92E4100B6644461D80E41809324A0D0B92E410038336E40D70E410002BF57CCB92E4100D0886B15D70E418076B1E5C2B92E4100CE318FB6D60E4100CF9DF0B9B92E41007CCC8163D60E4100F8E428B0B92E4100069E3A12D60E4100638A10AAB92E41001CC6F6EAD50E41802AC9999DB92E4100BED44EA4D50E410056F7AF8FB92E4100188E2658D50E4180EDFB8467B92E4100A4CA8C8AD40E410062883562B92E4100929DC85CD40E4180DE472A5DB92E4100C29B14DBD30E4180164F5859B92E41009C792BB1D30E41003DBB4D4FB92E41005C345B83D30E41809E44913DB92E4100069F6251D30E410007178F32B92E41000ADFFF26D30E4180EB43652EB92E4100EC2BF900D30E4180B80FCB2CB92E41003ED7F3A9D20E41801005F026B92E410064786B72D20E41806A586E1CB92E41005095CB39D20E410002437811B92E4100BCA779E0D10E41809EDAED03B92E4100F2137B46D10E4100BA45B8FCB82E410080986302D10E41807FBF49F1B82E4100D6B517B2D00E4100F59247DEB82E410068B16344D00E410087AA399BB82E410050BC51DCCE0E418011A29E84B82E41007A483A5ECE0E41807FE72964B82E41009ACBC49FCD0E41000AA3F049B82E410076C0B4FECC0E41806628DC2DB82E4100AA1B8147CC0E418084D7471BB82E4100AEEC39FACB0E410047375CBCB72E4100B82D63F0C90E410075E26E8FB72E4100F0C172FCC80E418064806670B72E4100F8D11A59C80E4100E61B0969B72E4100B899A62EC80E41809D9F9F5EB72E4100E8435132C80E41008D9D1912B72E4100347A77DCC80E4180EB85F097B62E4100C2E011EEC90E41008EBEF02FB62E4100526060D0CA0E41807A089525B62E410088C7EAE6CA0E4180D18C6B16B62E41002CBFE807CB0E4180CB5D8FCEB52E410076AAE8A5CB0E418033235CC5B52E4100461ECFC2CB0E418065EB7FC0B52E41006001C3E6CB0E4100E95E0FC6B52E4100E41DAC3BCC0E4100CA7AC8CDB52E4100946BD670CC0E4180AF393DCDB52E41003459A59BCC0E4180D07FF4BBB52E4100444874BBCC0E418027E53AA3B52E41006C4ACEF2CC0E4180A6C2A895B52E41008C613005CD0E4100C192BA87B52E4100F6EF49D7CC0E4180291CE97AB52E4100E03D99B3CC0E418024FAC16EB52E41002C48729DCC0E41007B9C6761B52E4100DAEE1A9DCC0E41004C289751B52E4100667CB9C2CC0E4100397A9442B52E4100564878F8CC0E4180EE083031B52E410054EC244ACD0E418019C0F528B52E41009A580763CD0E41805490321FB52E4100AE209773CD0E4100C4460C08B52E41009CCE1A93CD0E41808051E6FDB42E4100124682A3CD0E418090ED48F2B42E4100DC3D2AB9CD0E41805D5A69E8B42E41003E3528DCCD0E4100D426A4DCB42E41005C6BC93ACE0E410090FCE0A8B42E41001AE84EF0CF0E4100DCDBCC6EB42E4100ECFF78C0D10E4180CC293255B42E4100F8A8069FD20E4180F2EC5139B42E4100802E5991D30E4180BC9FBD0AB42E410098003009D50E4100CF9CCFEDB32E4100D8BCC90DD60E41003D7ABDE0B32E4100E2D02F75D60E41006A8280D0B32E4100C2D362DFD60E410031F14AADB32E410020A583AED70E41800C470A9FB32E41000E92AA07D80E410000341482B32E41005A10A1CAD80E4100C7612A77B32E41001011FB0CD90E4100C8CB1E6EB32E4100560C2636D90E41001FAE795FB32E410054BF2C5DD90E4100FA83CE53B32E4100CC87BC6AD90E41003FB7FC47B32E410066C10367D90E41808E484437B32E410066E0E42DD90E418018245C2EB32E41008202F300D90E410007A5701AB32E4100A0086E85D80E418096ED3E10B32E41004407BE3DD80E4180932F0A0AB32E4100F0473009D80E418047F9ADF9B22E41005067B566D70E4100D6C3D1E2B22E41001AA34485D60E418094B70BE4B22E4100668F8C4ED60E4100916578E9B22E410042BEA01CD60E4180FD9063EBB22E4100969630B1D50E418097B5F5E8B22E410084AD6382D50E418070B41ED8B22E410048183AEED40E410079C8D2CEB22E410058622FA0D40E4100C52A2EC8B22E410018E9446FD40E4100D26BE3BEB22E4100EAD99053D40E4180901DE6B1B22E4100F4EDEE3FD40E41001FF1239EB22E4100CC2459DBD30E4180BDB42F93B22E41001E5F9C94D30E410053B4198CB22E4100E82AD45FD30E418075F9A68CB22E4100B03A2E2FD30E4100E7566B91B22E4100828FD5FFD20E4100D4EA9F90B22E41004028F1A1D20E4180D135858DB22E41000E62DE54D20E4180A6513D86B22E4100CE4FD008D20E418011EB8984B22E410072961BDFD10E41003BF04C8BB22E4100A8BE2DC1D10E4100E7AC9696B22E41007230BAA5D10E41008AD7819EB22E41004E9A4289D10E4100519C399FB22E410030117B5BD10E41003E145F8DB22E41001EB2C501D10E4180BABE9E89B22E4100D0CC25DAD00E410056E4C689B22E410078D9D3ACD00E41809A5D6E8CB22E4100E6D44A45D00E41802F04D78CB22E41004801DE16D00E4180AF0A858EB22E4100B232EE93CF0E4100DC724E8EB22E410000FF7B65CF0E4100058C058CB22E41009AD99035CF0E4100ADBB4787B22E4100F452A00ECF0E4180EF743874B22E410006EB11C0CE0E418071C1475BB22E4100820E1C4BCE0E410015B72C53B22E4100D4890010CE0E41809C9E3550B22E4100A449B3E9CD0E4180A920614DB22E41007CB239B6CD0E410057DCBE4BB22E4100882D7487CD0E4100856B464BB22E41006A020655CD0E41002CF5F54BB22E4100141F661ECD0E41005E02D24DB22E41005AA9FCE1CC0E41803FF7A150B22E41003C871199CC0E4180EB54A653B22E410054F0ED6DCC0E4180E84F245BB22E4100DC675140CC0E4100E791866EB22E410014C7A813CC0E4100764C8F7AB22E4100B6C6FC01CC0E4100B5723885B22E4100E42581F9CB0E4180EB0A5CA6B22E410014AE96BDCB0E4100338370D4B22E410054BF446DCB0E4100954090E4B22E4100285C664CCB0E4100A2E04C02B32E4100F4D9A008CB0E41001D8B7922B32E4100D6D142C1CA0E4100CD4A8535B32E41002ADC4491CA0E41002DAF4E52B32E410096E1C139CA0E41009B36D35EB32E4100B02D650FCA0E41006D641568B32E410076DC0FF0C90E4100AB56668EB32E4100C23E636EC90E418016CC0C9FB32E4100525C4440C90E418038125BA7B32E410050858121C90E418077A223AEB32E410020B6EBEAC80E4180FC5E57B0B32E4100A26C9690C80E4180C74B38AEB32E41000CB3B444C80E4180453602A4B32E410060FDA9F4C70E410030E6D99FB32E410080E299CBC70E41006E4AE19EB32E41000A26B895C70E418034421DA0B32E4100B0D40C6DC70E41000E46E0B0B32E410048D28732C70E41000D438ABDB32E4100068A8C16C70E4100702829D5B32E410080C225E8C60E41806E04AEECB32E410018E4DDB4C60E41005CFCFFF6B32E4100DAA53C94C60E4100A5B81E00B42E41008C7F2666C60E418075C22302B42E4100AEFC8B2CC60E41800AA94101B42E4100DE29C9EDC50E41004EFEABFCB32E41002026E856C50E4100B15341FCB32E410008A14D2EC50E4100A0DC7002B42E41009407F358C40E418038398A08B42E41006E191CB7C30E4180B1AF050CB42E41006C176C74C30E41805A54D810B42E4100724A573CC30E418084511717B42E4100D2CAE90DC30E41804507C81EB42E41001E6007E9C20E4180F00F8D29B42E41007AE01ACAC20E41809847EA3EB42E4100722CBEA0C20E418092D7DD4CB42E4100FEE1EB7BC20E41804721AE58B42E41006669AB3BC20E41000FFE326AB42E4100EEAEF2DCC10E4100C768947FB42E410036B9445BC10E4180F1251E87B42E410062729F3EC10E410013AA8CA2B42E4100B4CDF410C10E410057F9F4ACB42E41007E08E6F9C00E4100EA5FD3B3B42E4100E48924D8C00E41804E4F60B2B42E410036D59CAEC00E4180F3DE3CA9B42E41008205DC76C00E41807B31FBA4B42E4100CC1E3A3BC00E4180129919A4B42E41006A444A12C00E41804459E4A3B42E410092EF3E60BF0E410008CF89A2B42E4100888FE136BF0E4180227A349FB42E4100D65B6F08BF0E418083220897B42E410050BBF1DEBE0E4180D2E29186B42E4100FCA439BCBE0E4100B453F36CB42E4100625D3E9BBE0E4180BE579F62B42E41007ADAFB8ABE0E41000FE22359B42E4100F0292275BE0E4180DBE7A54BB42E4100662A1E34BE0E410010EC1140B42E410032D5EDDBBD0E41800863A23AB42E4100707C94B8BD0E41005EF0BD33B42E4100BC5F5998BD0E41004D04322BB42E410044EB7280BD0E410025BF8E20B42E41006E19DF7CBD0E410058FAC015B42E4100B27D0F62BD0E41009CECA308B42E4100F491E8FFBC0E4180B242A3F8B32E41005ED62B6CBC0E41802D9720D6B32E410008A7A707BB0E4180188F06CCB32E41007AC003ACBA0E418013BAF0C1B32E410028D3075BBA0E4180F28D04B6B32E4100A6355F15BA0E4180EFB542AEB32E410080EC8CE6B90E41004B55E698B32E410008714441B90E418054B6808CB32E4100D0FAADE4B80E4100A265C282B32E4100703045ADB80E418093247672B32E4100BA8A1978B80E41003AACCE68B32E41001A0F8563B80E41805E1B705CB32E41006CB5564CB80E418001C3AD4FB32E4100E6E46C34B80E4100A61A2E43B32E410074871116B80E4100687D471AB32E4100046C269AB70E41008869BC08B32E4100ECF9BE60B70E41007A69E6FEB22E41002680D433B70E41006B693BFAB22E4100A0CF790EB70E41001EEC91F7B22E4100ECAB0FE1B60E418037ECD1F6B22E41008A4F33ABB60E41803D2BDCF7B22E410006ECFC63B60E418049E14CFDB22E41003EB3ABC7B50E41003D7094FEB22E4100A29A6E69B50E410026310AFEB22E410022001C17B50E410022DD1FF9B22E4100A20E9FD6B40E41009513D0F3B22E4100F24C11B4B40E4180E5E623ECB22E41004CEDDE8CB40E4180F0045DE3B22E41003ACDA167B40E41006A24ECD9B22E41004CC19947B40E41803BBE0DD0B22E4100A210952DB40E4180067BEBC5B22E4100D438FD19B40E418060477AA6B22E41004A4053EBB30E410019809485B22E4100445530C1B30E4180C9EF8960B22E4100B28CC99AB30E410045987252B22E410024AE2D7DB30E4100AD102E47B22E4100B2BEDD50B30E418022A94E38B22E4100C05F53FBB20E41805A8C1428B22E4100EAABF292B20E418075518A07B22E410028E0D3B7B10E418093BF7FEEB12E410016A6AB0BB10E41802C5C4EF3B12E4100783D1FE1B00E4180F140820AB22E41002A2465B6B00E4100795D6612B22E4100CE23639AB00E41006E655518B22E41003EA97873B00E4180FC08521BB22E4100DC393E49B00E41801B4A5C0CB22E4100FE07F711B00E4180AADE7AFCB12E4100C63863FAAF0E4100BE3FAAEAB12E41000E5D4AF5AF0E41805235E4DDB12E4100E02D07E7AF0E41001F9C6BC9B12E41003EEF3AC4AF0E4180A4BB39B0B12E4100FC968DB1AF0E4180AE6DFCA0B12E41005862C79EAF0E418009964F91B12E41005E68F275AF0E418041769488B12E410010151C57AF0E418098FB2B81B12E4100C47A7736AF0E4180BDAB437BB12E41002E405709AF0E4100D484F07FB12E410048B9BACFAE0E4100383EA38AB12E41000CCC16A7AE0E41004B09B493B12E41007851AD8FAE0E4100456A65A1B12E4100C044D07AAE0E41808A937AA9B12E4100D048FB60AE0E41801BE377ACB12E4100D8C60C35AE0E4180D2B4E0ABB12E4100D2128506AE0E410056AB5BA7B12E4100963593D4AD0E41001057469FB12E41008AF26EAAAD0E41008E56C593B12E4100EAD7DF8EAD0E41805DFBEB82B12E410040B9A47DAD0E4100C8E68A6CB12E4100D8930F58AD0E4100A9109F60B12E41004E03F039AD0E410058CCD159B12E4100A4EA8B14AD0E418096383254B12E41008212F0C5AC0E4180B6EECC4EB12E41003C1B963BAC0E4100E8E05A47B12E4100E8758D8DAB0E4100284A0F44B12E41002045442FAB0E41004FF77A40B12E4100FC15A17CAA0E4180378DF03FB12E4100D289D309AA0E4100E04ED13EB12E410054ACE1D9A90E410004C3753AB12E4100724EAB67A90E41805367B237B12E4100D46505FDA80E41009350FC36B12E410058EC43B4A80E4180BCCC0F38B12E41009A7C3273A80E418056760F3BB12E410066CD8139A80E4180B6395C41B12E4100B0D983FAA70E41001F7E944CB12E4100A6F0B4ACA70E4100693C0A60B12E41007E8E2632A70E41003C3D6173B12E41009CE977C8A60E410077F15077B12E4100FAE74892A60E410015472675B12E410034FC234FA60E4100BFD9996EB12E410080E7E8F1A50E418027310569B12E4100CC14A7C1A50E410089BA4857B12E4100720C7262A50E41000BCEFC51B12E410060A83D3EA50E41003A550051B12E4100E04FB913A50E41809E1D6669B12E41001A5D3ABEA40E41000BC22375B12E4100EA50079BA40E41009AF12571B12E4100AE3FFB65A40E4100D87A9465B12E4100BA2F9B3BA40E410010DB2803B12E41005AB1DED4A10E41803FDB7ACEB02E410014295977A00E4100EF646691B02E4100CA5E30F79E0E4100DCE6E24CB02E410082FDB6289D0E4100F9B719E0AF2E4100B82CF33A9A0E4180E5DD93AAAF2E4100E29B67C2980E41803651E192AF2E4100D8C31B21980E41006FADF54EAF2E4100C01D8273960E41806DA2C222AF2E4100F24E0749950E4180AFB39E05AF2E4100985AAB89940E4100AD5B85DCAE2E41003263F37A930E41807A490FB9AE2E410048216D85920E41806B10858AAE2E4100F20F4F3C910E418066DD2861AE2E41008064111E900E4100959F473DAE2E41004C72071B8F0E4100F22A0A0DAE2E41002AAD63C08D0E4100622B2EA3AD2E4100A233CABE8A0E4180BC80BD46AD2E4100988F7834880E41002022E121AD2E41007E72832B870E410095969906AD2E410046511170860E4180685C8FE0AC2E4100C87DBF4F850E4100A83DBEC5AC2E4100447E077F840E410000FA7F58AC2E4100D018CA4A810E41803B854229AC2E41007C6259FF7F0E418063E76FF0AB2E410056D8F8587E0E4100AC6294B5AB2E41006A8ADF9A7C0E410048140090AB2E4100346D13797B0E41804FFBAD39AB2E4100DA216DDF780E4180C4C8CCBFAA2E41006ECD2F29750E4100785B8F57AA2E41009C0997DD710E418036AFC7EDA92E410006226D9D6E0E41001055C0A1A92E4100F0F805376C0E41809906D781A92E41003CD3623C6B0E41004AE7FF0EA92E41001613CAD4670E418018CFC5DBA82E41007602FE52660E4180606BFCB9A82E4100026E2248650E41006741E6A7A82E41002CD677B8640E4180D80EA194A82E41004826C127640E4180BEE55E67A82E4100109337E0620E4180038F4753A82E4100264DB546620E410080C74C39A82E4100DC49FB73610E4100B48A4227A82E41005655A1D4600E41008251A51DA82E4100C4BBF870600E41004EE9F018A82E41001C863047600E410035D5FA03A82E4100C0A5B5A25F0E418008C019F2A72E41008CEA4E165F0E41809F9B70D9A72E4100DAFAA0665E0E4180BDA2C7BCA72E4100F852BF935D0E410012E17AA9A72E4100D82B780A5D0E4100C7874C8FA72E41002849265E5C0E41802DD1F088A72E4100900B85385C0E41805DFC0473A72E4100760FAAC35B0E410069B6F559A72E410066B5C71F5B0E41008CC0E33FA72E4100186191645A0E41006A341C29A72E41009818B7B5590E4180EC88C2ECA62E41008C314FD8570E41007E61B837A62E41008422975D520E41008B125C9BA52E4100F24BDEB44D0E41002BD7F517A52E410082298CCE490E418063EFCC78A42E410038253A02450E410040F3B541A42E4100F4508A62430E4100F5D3653AA42E4100744F5B2B430E4100D3EADA2AA42E4100B62514B6420E41801621B51CA42E4100B6B4544B420E41002A4F600AA42E41008271FFC0410E410046637CD7A32E4100460A293A420E410020DFCCACA32E410074E7C89F420E4100A612870FA32E4100163C3616440E4180AED8508BA12E4100E0BC87AD470E41800133BA50A12E41006EFF8632480E4180E7F6B87BA02E41003A11B1304A0E410022430318A02E4100066D6E1E4B0E418053BCB68B9F2E41003CF3F16C4C0E41007790DD599F2E4100CCB3D9DF4C0E4100B69BB41D9F2E41005250866A4D0E41001594C1D79E2E410050B3CCAB4E0E41801CBDAE0A9F2E410088D9771D500E4180A5B644469F2E4100E652FBCD510E4100C46031699F2E4100C69381CB520E418006C6140FA12E4100D8E03E094F0E4180D3613924A12E4100F84771F74E0E4180F3574B3CA12E41005E1805064F0E410036E37C4FA12E4100609B49344F0E41806E0E1358A12E41002618B5594F0E4100D9032180A22E4100DA7FC9B6570E4180F5D96296A22E41008C89D962580E4100BBD663BEA22E4100AE43FC015A0E4180A8D951DBA22E4100F8F610FE5A0E41808B6499FBA22E410096F349F45B0E41802F51E82DA32E4100F0E7D8335D0E4180C7C67C70A32E41000E86E9935E0E418067A5F1C5A32E4100387A2608600E41006139AB11A42E41002CCE371D610E41001A68B47FA42E4100846E7371620E4180CDDEF3BEA42E4100309AC471630E4100DE77A7CFA52E41004C0A3018690E418076A068F1A52E4100647A76F5690E4180FF95FA0DA62E41009885B5D86A0E4180D7CAAC33A62E4100A8618C046C0E41008707CD50A62E41003C0C1CF66C0E41803D517AD2A62E4100608DA229710E41002E6486FAA62E4100FE03FBE9720E4100EF6CE10EA72E410068563D6C740E4180FEAEC321A72E4100CCD493D2750E410099D0D426A72E4100463AD285760E4180A97D6C38A72E4100E2027FE07A0E41000C1B3B37A72E41009065385C7B0E4180404FAA33A72E4100129CD9B77B0E410054FA692BA72E4100C68D2F2F7C0E4100D856C222A72E41009A3A36857C0E4100521CE413A72E4100BC5ACDF17C0E41001C7EBE01A72E41002EBDAF557D0E41009E066CECA62E41006E8870AF7D0E4180BB179EDAA62E4100369ED4EA7D0E4180BFF1F4CDA62E4100389C800E7E0E41004590CD15A62E41007E491CA47F0E4180270180B9A52E41000E74696F800E4100D4FEBB8DA52E4100D896BB327F0E41004C5547EBA42E4100DE2A399B7A0E41808452D8BDA42E4100EA7A7652790E41807E30965AA42E410026EBBC2E7A0E4180F6DB2DE8A12E41007421DD9C7F0E41007E0E429AA12E41007AE2C849800E41004B7A1D4BA12E41005A8CFEF8800E4180E01BA9B39F2E4100447E077F840E410068EE32189F2E4100E843D6DA850E4100D94556979E2E4100EEC6D4F4860E418064E8DF219E2E4100825100F9870E4100FE96C2409C2E410056B09F228C0E4100F9CC02ED9B2E4100FC3D1DDC8C0E4100FC8FC9999B2E4100B4DD23968D0E418000871E919A2E41007A62B7E58F0E4100562E79B4992E41009E1EB5CC910E410071BAC90D992E410008D5523B930E4100DD1877F1982E4100344CBC6C930E4180B361C4D5982E41007C9EE67E930E41800730BFBB982E4100E6D65889930E418075160593982E4100E862F59B930E41009243AF78982E4100587F05B9930E4180A5421866982E410014BACFDA930E418099F3FF07982E41004AA4D19F940E4100D38979FA962E41005AA174D0960E410048C613BD962E410072FB2950970E4100073E767E962E4100ACD09CCE970E4100D1271703942E4100A013A9A89B0E418052DF82B0932E41003A1259059C0E410091F559D8912E4100945AA1309E0E4180EAE27694912E41008E3595929E0E418010F55FF0902E4100DE62BFBE9F0E4180D6004A8C902E410030594674A00E41008A825B44902E4100E885BAF6A00E410029D26C32902E4100B6DF3E17A10E4180CCA426E88F2E4100283DC53AA10E4180DD60698C8F2E41001CED6C74A30E4100184FF9C18F2E410040C3EFE1A40E418078154860922E4100440811C0B60E410035DE6E85922E410016ED93BDB70E4100AFE59F1D902E41001EEBCB29BB0E4180974406DA902E410046906CDABF0E410091FDB2D3912E4100321B7BCEC60E4100057AB952922E41005096C634CA0E4100F7100992922E4100B689579ACB0E4100B89678B0922E4100EC923A26CC0E4100023148D6922E4100144DA1BACC0E4180E10C3903932E4100C0D3184DCD0E4100E8A793CC932E41008EE06D76CF0E410098EC9022942E4100E44D3578D00E41807AED1678942E4100FA4445B2D10E4180854B89AB942E4100F8A8069FD20E41800832D6ED942E4100787EDDFCD30E418004868430952E41004A372BABD50E41808A6CB949952E410018E00C77D60E41808F8C2065952E4100A00DB254D70E4180D6697C8C952E4100E4C7D4F2D80E418049249BA3952E41007C889F37DA0E418052AF61B3952E4100D211CF82DB0E4100D718ADC7952E410052B045E0DD0E4100C745AFD7952E4100CA24545FE00E41806E5A65E8952E41003273E8CCE10E41808BE1D50B962E4100ECF24C00E40E41805CB71943962E4100205A2A83E60E4100A0DA4483962E4100D4A520C8E80E41803A0F91F2962E41001063DEEEEB0E418099F3FF07982E4100C2AE6FF3F40E4100759EAD34982E4100E4B7DF47F60E41809DE3503F982E4100222B4997F60E4100B9000B4D982E41006AA3E102F70E41809FA48A7B982E41007253527EF80E4100DF424588982E410048552FE6F80E41')\n",
      "('10032', '0103000020E6100000010000007702000000B0A6B42F7C2E41001C5D14126A0E418000E4E9427C2E4100F8DA858B6A0E4180C7E3027D7C2E41003AD1AA7E6A0E418045BC5A8B7C2E4100E283D86F6A0E4180B70D669F7E2E4100F8A41A4A680E4180B1064CD57F2E410052789A0E670E4100883A78EE802E4100CC1858F0650E4100BBA97329812E4100785C4BB4650E41006975D970822E410050CDC14D640E4100507EB374822E4100BA0F0F63640E4100F082CC89822E4100A8CF424B640E41003E3AC548842E41004AD92653620E4100ECFDFF7F842E41004A4CDC14620E418048051ECD842E4100640F0EC6610E41001AD9A98E852E410028EA4300610E4180E3E10284852E4100FCF76A5E600E4100104D4D7C852E4100C4BE46E95F0E4100E6C6E2AD852E4100C6781E985F0E4100936AB9F7852E41006CA1D84D5F0E4100421E650A872E4100702C8C395E0E418002B98927872E41004C17A9085E0E410038FAEB40872E4100506073BD5D0E4180CF5F0C6E872E4100584607275D0E418031A35A8B872E4100F612E7C25C0E41008E830B96872E4100A05D5F9E5C0E41002F6857D7872E41007E6B59D85B0E41802C52F9F9872E41006031B45A5B0E4180EE07411B882E4100A677209F5A0E4100A0C72129882E4100FE9D2C335A0E41007715092F882E41008814B7D4590E4180A21F7933882E4100D2C5B58D590E4180B152A838882E4100C6D85BB5580E418066A31038882E4100E4F9BB5C580E4180851D3834882E4100DE80A0C8570E41802314C829882E41002011870C570E418094C97724882E4100361BB2C4560E41002717C812882E41009420002B560E4180D4785FD3872E4100946AAE29540E41800EEF59C9872E4100962509FF530E4100DC28F6BE872E41002012D2D5530E4100B87098A5872E41007E1C7C7C530E410015A62F70872E41009C9383EB520E41003D67A23F872E4100B2048B88520E4100BD312E00872E41005C3AF52C520E4100CC659ACF862E41001AA7A8FF510E4100C8DF2AB3862E4100749863DA500E418092362BAD862E4100D6CEECC54F0E41008F3A3F7A862E4100142C4AE44A0E410030E5286B862E4100D4285B72490E410035211B5A862E4100CA572EE8470E41007B2CDD22862E41000E7469EB420E41800D4BEB10862E4100B2370A93410E41806F06C7F2852E41001ADE1B33400E41803A0657A2852E41004C3FCA803D0E41002972B68F852E4100CA252FA43C0E41009D169D81852E4100361A6FB43B0E418085675A7A852E41000033EEE73A0E4180E2812779852E4100385450AD3A0E4100C7E65978852E4100023D96723A0E41003240F177852E41008E05CC373A0E418040807C80852E4100D4F43018390E41005ADC880A862E4100ECA2771C380E4100119B4AD3862E41008AFB065F360E41803EFF01B5892E4100A27E5E00300E4180917582068A2E4100A0F1364C2F0E4180224218518A2E41006696FEA62E0E4100E9376EF18B2E41002E82B80C2B0E4180CCAD00138C2E4100767A5AC22A0E4100E52CA9408D2E41001A591E26280E418004B5089F8D2E4100C2757674270E4100512ADDE38D2E410042EA7DF7260E4180071C1B328E2E4100A0DC6D69260E4180E35C0730902E41001412EA03220E4100FC018A83902E4100F284974B210E41007D8F80D2902E4100F0F79A9C200E4100B5B4A537932E4100EA1AD44D1B0E418095953086932E41007EBDC49F1A0E41809188D9CF932E41004E63E2FC190E4100C1899847962E41007676E687140E41003E983BAB962E41002E4799E0130E4180074CAEE0962E41006CAA352A150E418092101B82972E4100BAB02FBE190E4180D58DF1A8972E4100AAD328D81A0E4100D96A4DD2972E41009AE3EE021C0E4100DF55AEDD972E4100A44123551C0E418099F3FF07982E4100180E48871D0E41800E2FE13D982E410080F5FF0F1F0E4100D663D582982E4100340BD604210E41003C6D48BB982E410088B69A8F220E4100B7E01F3C992E41000445A8A8210E41005099FD51992E410044AB576F210E4100E6FE8665992E410054984B47210E4100CF752E7A992E410044218E29210E4100A99F1988992E4100AAC3B31B210E4180CAF2C393992E4100E8BF8614210E4100DE107FA9992E41002ECAE00D210E4100DBCE5FC4992E4100D238980F210E41800F3DADD3992E410060C23216210E4100F2A44DEF992E41006C90702C210E4100FF263B0B9A2E41003E1B6352210E4180680F46209A2E41000C9CD077210E41008199B84B9A2E41008EA832DB210E4100439236649A2E4100DC81F925220E41808153C37A9A2E4100A4232579220E41002A295A8F9A2E4100647AD6D4220E41801C025D9F9A2E4100B84AC42B230E4100E2D87B269B2E4100B6234604270E4180AC2F005E9B2E410044074E58280E4180A1BDDF8F9B2E41008054AF4E290E4180F0AF72D49B2E4100EE832D562A0E4100949F041E9C2E4100220D802C2B0E41804386BB549C2E4100928343AB2B0E4180CB9652389D2E4100C239E7772D0E41003A70C0499D2E410024C3839E2D0E4180377016549D2E4100AA765FBC2D0E4100DE07E35F9D2E41008877E2E32D0E4100863F40759D2E4100DA615D3C2E0E4180CDCC47839D2E41008E11BA862E0E410049B5A7929D2E4100C6C545F12E0E418070DBE5989D2E4100683F86292F0E418086636AA09D2E41008C8CB2812F0E41002B357EA59D2E410056BDD0DA2F0E4100406F5BA89D2E410006434437300E4180C11D31909D2E410034AAF8D3320E410084E368899D2E41005298A68F330E410032B0F520A12E4100A23A1FAE2B0E4180A7A69A12A12E4100F4B07C2D2B0E4180582985FBA02E41009A3ADE562A0E4180F36A38CFA02E4100346C30A9280E410063CF28B3A02E41005C3BB08D270E4180D111339AA02E410006083085260E4100470F707FA02E41009EF5BD58250E410065A2CC5BA02E41006A7A3AB6230E410030145940A02E4100B6E7DB6F220E41802C830F30A02E41000CC4119E210E4180ECDDFA10A02E4100304A8CD21F0E4180DB9C42EC9F2E41005A61A1D41D0E41803B5D8ABC9F2E4100FAFA96271B0E4100AD3F38899F2E41001A9A8C50180E410032B2DB819F2E41005E0F15DD170E4100961F7C739F2E4100501407E0160E41007FFDFF6C9F2E4100A464D37B160E4100370200499F2E4100BA871BA3140E41800AC8F5229F2E4100C2354E74120E4180178A14009F2E410042089781100E4100F44D0AE99E2E4100AC5E823B0F0E410091A9E1D79E2E41007A7EDA710E0E41808D3A7EC49E2E4100844687B00D0E4180688B65B39E2E4100F4F27D130D0E4100ABCA84AD9E2E41007C6D62DE0C0E4180CAFE707C9E2E4100B8C99F380B0E4100244814679E2E41003E23C0790A0E418056B031529E2E4100A048C6B8090E41809EA293359E2E4100AAF15EB0080E41002C7A8FE49D2E41009C3DD4C3050E4100909B997F9D2E4100D67B8B16020E4100BA9138179D2E410078AC633CFE0D4100D96CE1CE9C2E41004824F390FB0D4100FCDC28739C2E41008A048249F80D4100A41FDC3E9C2E4100E081A05AF60D41008FA442D99B2E41002ABEABA7F20D41805980E63E9B2E4100DE1A4FDEEC0D4180D548EDC19A2E4100D6D0073FE80D4100CA974C449A2E4100FE6E8BB6E30D410028E128C3992E41000A573105DF0D418047F06FBB992E4100A68BF1BBDE0D4100558AA6AA992E4100B6F0C315DE0D4100C78FBD9A992E410084483A6EDD0D4100F72E0A6D992E4100AA9BF2C0DB0D4100BEBAA462992E410054B1CD72DB0D4180E5AF1E59992E4100FA7BD822DB0D4180C97E7054992E41008ACDD3F7DA0D410023295719992E4100403863B0D80D41807F4461E2982E4100007F3AAED60D4180D0B8EB94982E41002E0578C8D30D4180B5072450982E4100A6AF4E4ED10D410090B0F634982E41006EFA6247D00D410099ED281C982E4100AA03824DCF0D418099F3FF07982E41004A93917CCE0D4100A81E52D4972E4100029BF264CC0D41005D1B4FBF972E41001AD2AA8DCB0D4180DA7C94B4972E4100768AD415CB0D4100FE5C945F972E4100E863FD01C70D418022065247972E41007239AAD9C50D4100D751E243972E41004C82BE01CA0D4180830E6A30972E410082DD8A4AC90D41804DEE95F2962E410058A14A3DC70D4100DF7A819F962E4100B2941EF9C40D418063DEAF6B962E4100281A78C7C30D4100674BCF50962E410016C74540C30D41801CF6B731962E4100FA0DDFA3C20D4100C6C483D2952E4100FC2F29F2C00D4100F4FF9742952E4100483530A5BE0D41002DAC51D5942E41006C26B6E2BC0D418002A6F050942E4100BE0F86ADBA0D4100870A546C932E410054448F16B70D41005C70C2DE912E4100409E1C10B00D4100734FA2A58F2E4100DEC427E2A70D4180A76F15308F2E4100D224E2F1A50D41806597CA9F8E2E4100F20FD757A30D41006980B9498E2E410016B0DE8DA10D4100450034F68D2E410068FF3A979F0D4100ECF53EA68D2E4100F48384769D0D4100FDDFC4618D2E41007876B0619B0D41802EC11D3D8D2E41001CA2061F9A0D410039A776F38C2E410056196735970D41009EA6F3C98C2E41003A771F36950D4180F8A91DA68C2E410050074633930D41000627847C8C2E4100D091C6A2910D4100A32FEF3F8C2E4100DCE27E05900D41805D219C888B2E410038B853258C0D41809A27886D8B2E410082C44D6B8B0D4180DEDDCC5C8B2E410040A0B2E08A0D4180EB722B498B2E4100D2E045188A0D4100AB021D3A8B2E41003CA59A49890D4180A7CD13FC8A2E41000A85B74C840D4180CB55EACF8A2E410026E5EDAD840D41003D84A23A8A2E4100CA3243C87F0D418021F31B11892E4100F8228676770D4180629942F5882E4100B0332CAF760D41004C014AD8882E410062E5CCDF750D4100B9DB9B7B882E41001CE68288760D4180379FF0B3872E41004090C82B780D418054A3AB47872E410074DC5210790D418003EEE0F4862E41002A011DDA790D4180D5D08315862E41009C6EA0E57B0D4100ECFDFF7F842E410014E03D627F0D41000EC2490A832E41009667379D820D4180F6BE17B1822E410040679962830D41801C8E4E53822E410070037532840D4100A4262E147D2E4100585C38D38F0D41002411C5897C2E41002AB7F905910D4100FFE550FB7B2E4100B4A63041920D4100556E61717B2E41008EEB6672930D41802D1D614C7B2E410056F847C4930D4100D54D346D782E41001CA2061F9A0D4100D9C111B6762E410058CB04E69D0D4100D70F452B762E4100A2B98DF79E0D418067A77B2D762E41002ED651A39F0D4180560E9A31762E4100A282E7E2A00D4100DE6E7538762E4100D2CF9887A10D4100D10922CF762E4100EEB336DAAB0D41009AFBF2F8762E41005E49499BAD0D41802F3C1517772E4100FE86CD92AE0D41007404124A772E410052979B35B00D41809AA1CB4F772E41000C376F6FB00D4100E83E5D7D772E410048EB913BB20D4180E0F6259D772E4100E6134B72B40D4180D39A7074782E41005867EE70C30D4180E4BEDCBD782E41005204128EC80D4100152BD37A772E4100589A40F9CB0D4100101B1E56772E41000E276253CC0D4100FBC6B351772E4100148E671ECC0D41802FF2084B772E41007C3862CECB0D4180FE3C2B1B772E4100366CA2FBC80D4180BE430F39752E410006683FF7A60D418064043FDE742E41008E81E18EA00D4100F8BD05D3742E4100287523C49F0D41007ADD54C9742E4100E87317159F0D4180B4617FA6742E410048ACB9E19C0D4100B2EE1774742E41001CA2061F9A0D4100D319FD1B742E410058095A57940D410004F33ADD732E4100EC227E9D900D4180B80E06B3732E41000AD1001C8E0D4180DA3B0484732E410098014BFB8B0D4100276E54FA722E4100A874C7BF850D4180139CE163722E41006E592AB17F0D4100AA8C2B2B722E4100E29C82D77D0D4180B69F57AE712E41007A55761F7A0D41003F3300F8702E410014E5E90F750D4180F48BFFD3702E410090DAA808740D41004C32BCC1702E4100EC4E0697730D4100B76DB2AA6F2E41007C667D386D0D418078AC0D236E2E41009037D586640D4180B6EBEB0D6E2E410090F05414640D4180AA2CFBBC6B2E4100F8D330E5670D4180C68AAF0E6C2E410016E70C4A6A0D41804EAD2C216C2E41003EE8C0D06A0D410099AB19526C2E4100B6A2B42A6C0D4180B911E4706C2E4100CE7681F96C0D41005A68E68A6C2E4100201530956D0D4100FD3E289D6C2E410030C80FF46D0D41804F9EDAC66C2E410084CF75BC6E0D4180135B8FD66C2E4100A8BEF20E6F0D4100049401DD6C2E4100680096336F0D4100BB5B51F06C2E4100A2A1C3A96F0D410060550F026D2E41009835C023700D4100102FB80C6E2E4100586081E5770D4180AC730FAB6E2E410070FCAA657D0D4100602F0F6C6F2E41005AC677A2830D41009CFEAD2C702E410036C1C9B6880D410050A5F073702E41008E2859A98B0D41804240958F702E41003071DD4C8C0D41801D28E0A8702E4100542E46E98C0D4180356229C0702E41002EF4B2808D0D41803BF59ED5702E410044C34E148E0D41003F3300F8702E41008A49242F8F0D41007A4D8F16712E410038FA8C2A900D4180F5B2876D712E41006EC61DBB920D4100516566C2712E41004E35D43B950D4180010E0561722E4100D25707D5990D4100FAE0596B722E41001CA2061F9A0D4100C326DC05732E4100A45BAB719E0D418082EEAD37732E4100BA22823DA00D41807CD68C3B732E4100D410D492A00D41804DFFF641732E4100DEC73820A10D41803408D145732E4100504D006AA10D41008DE1A84D732E4100D8D64E00A20D41004D6C5955732E410018792883A20D4100B0FD8C58732E4100ECC3A6B9A20D4100D412AE6A732E4100DE4ED4D9A30D4180845DFE6E732E410092799819A40D410003FAB779732E410014DF2AB8A40D41000108008A732E41007C0F268AA50D4100FDC2C892732E4100B29599E2A50D41807C75CD9E732E4100A0DD983EA60D4180543845AE732E4100948749A0A60D41009F3F8AC3732E41001EFD8B16A70D4180CEB11E20742E4100EE60E8A3A90D41000734A135742E4100A61D285DAA0D4100436E9441742E4100D0E311C4AA0D418079CC5D8D742E410042250A76AD0D418039636BAF742E4100BE6011ACAE0D4100B3179EDF742E4100341353D2AF0D41008678FB02752E410062FAAAB8B00D4180752B2C20752E4100CA7BCE87B10D4100CE09DC2A752E41000AF9E7DCB10D4180B6ED2334752E41000C97112EB20D41000C370A4D752E4100FE6F1158B30D41800CAE1C66752E4100C45CC9B7B40D418027336184752E410086AF6360B60D418090288ABB752E410020B7AB79BA0D41809C23B3C7752E4100D8A91B79BC0D4180F9715CE8752E41003E088DE2BD0D41009A166FED752E410004D3CA11BE0D410081CADEF3752E41008AC11A45BE0D41804A4CCC11762E41006804CA19BF0D410070C2C717762E4100129F1A4CBF0D41808A9D751C762E41003EC5307BBF0D4100C27A6420762E4100AAC409B8BF0D410028F40B22762E4100DE871AFDBF0D4180C290AF21762E410038DA1D47C00D4180A5F88D1E762E4100727F4FDCC00D4100C727D01D762E41004825D11AC10D4100D260571E762E410070C3795BC10D41802C078020762E4100F2637894C10D4100AA265026762E4100A26DD6CFC10D41803D177435762E4100FE58D22FC20D4100AF74383A762E41003AC10853C20D410082774F3E762E4100B0C1E187C20D410030EFB53D762E41000201B401C30D41805F8F8536762E4100765D9CEFC30D41007CD9FF34762E4100F6E13A5AC40D418003246535762E41000E99F1B3C40D418002B9AF36762E4100EAD1130DC50D41007596DE38762E4100624B5665C50D41005564F03B762E41007CD877BCC50D4180655C1740762E4100B03AD912C60D4100CAEEE045762E410058AF1971C60D410055657362762E4100AADB9DECC70D410004495068762E4100E0038D44C80D41804CE2C76C762E4100D62B2694C80D4100CF507F6F762E4100483C5DD4C80D4180EC579871762E410086378A1CC90D4180D912B675762E41009CE8C70FCA0D41004A6FE477762E41003017656ACA0D4180F0A76B7B762E4100B42371C3CA0D4100D1BE4C80762E410022FD6212CB0D418085D0C088762E410008651E85CB0D41007BD46D8E762E4100067A82C6CB0D4100D543FB94762E41006CD00601CC0D4100896E669C762E410004808C32CC0D4180459E69A6762E4100322BE561CC0D4180CD7F70B2762E41009A6A0789CC0D4100A9D7B92E772E41005C33EB7FCC0D410023473458772E4100FE3F706CCC0D41804DC91E45772E410020766D31CD0D41009F23B30F772E4100AE1D6E53CD0D4100205CB3A8762E4100047D4EB0CD0D41805BC96896762E4100D6C87A12CE0D4180B8B80A90762E410068E2343BCE0D4100D470E68A762E410010692562CE0D410013555887762E41000C1680A2CE0D4180BAAB8B02772E4100065F123BD50D41003E1C5C2E772E410022AF8B8CD70D41804D6AD93C772E4100001124A3D80D4180F4D67A43772E4100D2EE4413D90D41001BD1B960772E4100508FB1C7DA0D41009D886B6A772E410050D7B460DB0D41801A81148A772E4100480FCA88DD0D4100666CE1A7772E41002CDFFC77DF0D41002FBB75CA772E4100E2236EA5E10D4100AB03DCE9772E4100D63C1B9BE30D4180ACF8D6F0772E410046445001E40D410050F957FB772E41006C83249BE40D410072E3A312782E4100128FE8C7E50D418046F8C317782E4100B283E6FFE50D41002883741E782E41002650FB3BE60D4180F926333E782E4100C055382BE70D41007B5A384A782E4100DCE60797E70D4180B50FE955782E410018D0AF1BE80D418079A5B460782E4100209AC8A7E80D410014EEAE6A782E41009024423CE90D41809D972E6E782E4100F0B70F78E90D4100F779F573782E410036F2DDDAE90D410034D3D1C1782E4100EE0959F9ED0D418072DFEDCA782E41000E47FE5FEE0D4100BF1C660C792E41006415C041F10D41008918A95A792E410070EB2582F30D41809BD3076D792E41005AEBDD4FF40D41000BB20FA0792E41004836538BF60D418098CAC7B1792E4100F849BF51F70D41801680FCF8792E41000CDC3B6AFA0D41809AD17AFC792E410072961B91FA0D41007835852C7A2E410088FEF2B0FC0D41806ACB51457A2E410048CC6DE3FD0D41003D8E75697A2E41007AE23D78FF0D4100972A857F7A2E4100964A598D000E41802E319E857A2E41000EF788CC000E4180501DAA8D7A2E4100FC370311010E41002A1693AA7A2E410092FBC7E2010E41009AE6BBB37A2E4100180BFF29020E4180711FEEBA7A2E41007246F66A020E418073255CC07A2E41003C22E8A7020E418079EA56ED7A2E4100286DDEF2040E41801793D6F77A2E41009C04337B050E418025C470117B2E4100ECCAABC7060E418063E602217B2E410076FED186070E4100A4165C317B2E4100A6E7FC39080E4180F2263A3A7B2E41001E9E0784080E4100C76B5D477B2E41001AA3E4D3080E4100F69B36587B2E410082752825090E4100E63A737E7B2E410046396AC7090E41007285198E7B2E4100B8CB620F0A0E4180CDA5AA9C7B2E41007ABAB45F0A0E4180A26A38A77B2E41007E4B82AD0A0E4180E3487DAD7B2E4100880ABCF80A0E4100797011B37B2E4100F48CD9630B0E41006BF669B67B2E4100704D13A40B0E418044F051BC7B2E4100500E78E60B0E41808C7C5AE17B2E4100E0C692160D0E4100AA4957EF7B2E41000290D48F0D0E418067298A1D7C2E4100ECBFDD3C0F0E4100CF0DA93C7C2E4100101DA17C100E41009D30D0427C2E41006E2EADB0100E418087A68B4A7C2E410012CFABE8100E41001060AA687C2E4100D23B19A7110E418023A3CC737C2E4100DCC663F4110E41804D4BA17C7C2E41003AE9A445120E4180FD01938C7C2E4100781B7504130E41800A563D917C2E41005CDFD92F130E418077B542967C2E4100FAA5BF55130E4180596BF39C7C2E4100AE1DFE7D130E4180E3665CA57C2E4100205E76A7130E41003C9560C97C2E4100B4366C3A140E41004BCE28D97C2E4100AAF32486140E410050D341EB7C2E4100068B77F0140E4100B24350F97C2E41006E4D094B150E41807BBEE3047D2E4100DA5DEC9F150E4180A8703D0E7D2E4100423030F1150E41005924AE257D2E41009CE16DE2160E41007FE911387D2E410094E6A8B7170E4100E627DC3D7D2E41004E76CAFA170E41002CF684577D2E4100D2650355190E41803B2633647D2E41000AD71AE7190E4100BF5DE6847D2E41001E184F161B0E41003490EB987D2E4100F819DEEE1B0E41801AF332A27D2E4100C0BB09421C0E41002FF4B4B87D2E41003030CFEE1C0E41802284BDC17D2E41003EB5963B1D0E4100303BC4C97D2E4100E2D42B8D1D0E4100826258D17D2E41006A2C08E81D0E4180E60EAFD87D2E41005097194E1E0E410029EE89E17D2E41002E50D4D71E0E41008E8D84E57D2E41009C2C471F1F0E41802C93C7E87D2E4100B8FD096B1F0E418025655BEB7D2E41004A32D4BB1F0E4100AB1D4DED7D2E41004AE03013200E410009DB2BEE7D2E4100EAEB905E200E4180213D32EE7D2E41009056F6B1200E41003CB99AEA7D2E41001A7A9DFA210E4100E93885EA7D2E4100D683AB87220E418025B26CED7D2E4100E0FD9D2D230E4180C0BA86F37D2E4100C875BD07240E418005813FF87D2E4100D09E87B0240E41005519E1F97D2E41005CD6A913250E41000AFB51FA7D2E4100F479816D250E4180F75B02F97D2E4100D8C03242260E4100BD4E66F77D2E410048B10595260E4100880C05F57D2E4100CA31A0E0260E41803324BBEE7D2E4100BE2AA672270E4180FF3FB3E77D2E4100629AE815280E41800A85D5E37D2E41003E660194280E41009FE1ADDA7D2E41004A558CBE290E4100B72A26C27D2E4100C66E16262C0E4180434C61BD7D2E4100B805BF9D2C0E4180724005B17D2E410088A6A0A62D0E4180DE0452AF7D2E41000A7109DD2D0E410066646CAE7D2E410092592C1A2E0E410000D60FAE7D2E410076E2D61B2F0E4100B89FF4AC7D2E41003AF161542F0E4100765F14AB7D2E4100082B82872F0E418092CFB6A67D2E41004A888BDA2F0E410034C0EEA07D2E4100429DC635300E41807713D78C7D2E41007CADB544310E418065B37B827D2E41001C1F77C9310E4180C51FDC7B7D2E410096375E1E320E4100CB17D76B7D2E41002C7C8CD6320E4100958CA6677D2E410090CE62FC320E41003415D5607D2E41004C47222C330E4100F7EB7F587D2E4100E851555B330E418083CAC23D7D2E4100FC5DE4E5330E41803F8474367D2E410092B29114340E4180864E19317D2E4100F645DE40340E41809C3FFC2C7D2E4100DA6BCB8B340E4180AC43BE2C7D2E41008E9B1611350E41805A8CE22B7D2E410088D66140350E418057398E297D2E4100BCF6C969350E4100525C1F247D2E410086AE2895350E41803503F2177D2E410050A34FB2350E41000363B60A7D2E41009AE571C3350E4100F18F21017D2E41002A738FD9350E418057374AFB7C2E41006E9BFB02360E4100C1644BF87C2E410058FF0642360E418033E0B3F97C2E410024BB3E87360E4100017A56FF7C2E41005CF635C9360E41009CAA1A127D2E4100B63B0815370E4100C2FEC6347D2E4100DABE213D370E418011F6AD3E7D2E410070B4F249370E41805C620F487D2E41000839B65C370E4180F269145B7D2E41001A3037B0370E4180B15ACD637D2E4100101AB0EC370E4100CC93FF687D2E41001A9EA027380E4180FE9C996A7D2E4100C4A02560380E41804686A3697D2E41005E5E5FB6380E4100AB136A677D2E41004C174107390E410024EBEA637D2E4100F0D82653390E4100A8DD235F7D2E4100EA9F399A390E4180700B0F4F7D2E4100EAFFCB623A0E41003E27DC427D2E410016F177E83A0E4180AD7E70237D2E4100A09F63223C0E4100A17494097D2E41005651782A3D0E4100F23233037D2E410038906F503D0E41008C5A46F97C2E410084F34D703D0E418060DF5CE67C2E4100CC8D73A03D0E4100EFE775DD7C2E4100AA9177C03D0E418098C161CE7C2E4100162D9F063E0E41808C605BC67C2E4100B4D922303E0E41007669DFBF7C2E410036495D593E0E4180D8CE51BB7C2E41004A3F30813E0E4180B188C2A37C2E410068EE6D833F0E4100029099857C2E41000EE1FCCF400E4180CB8E17707C2E41007E8D0BA4410E4180467CB8687C2E4100AED88BF6410E418015EF46647C2E410006A9F83D420E41804ADB7C617C2E4100FE6F618F420E41808C1243607C2E4100CE4C2ADE420E4100201ADC5E7C2E41003235ABA1430E410026AE505D7C2E410006CED857440E4100F5A54C5E7C2E410028FC4EEE440E418081C406617C2E410098F02560450E4180EEF4C9657C2E410044C16BDD450E4100CAA2366C7C2E41004AB5C361460E4100B841DC787C2E4100EC7D8C4A470E4180F54C627F7C2E410020D010A5470E4180C049B7927C2E410052425772480E4100271070967C2E4100189202A7480E41803694C7987C2E41005A32ABD7480E4180BC8C6E997C2E410058C8A304490E4180682550987C2E4100F25AF036490E4100AA5F978F7C2E4100CC7E0CD4490E41006E9E768D7C2E4100EEE442074A0E41000D39D98C7C2E4100DA31EC324A0E418079218E977C2E4100AAB8403A4B0E4180A7BAF0A17C2E41000CB7A0EA4B0E410027BBC7B77C2E4100546B63124D0E4180803F0ABD7C2E4100327719664D0E4100BFF5FAC07C2E41007A80F8B34D0E4100365EAFC37C2E4100DCFDBBFD4D0E4180FE052EC57C2E41004A1E26444E0E41007375D0C57C2E4100143665C74E0E4180206070C47C2E41006ECE3A584F0E4180BEF93CC17C2E4100CA8A78F54F0E4180E8748FBA7C2E41007AA696EF500E41009645A2B77C2E41002E6D2A48510E4100E6CF26AE7C2E4100FEC26435520E410022F724AC7C2E410032B00A7D520E418052D428AB7C2E41003C3EABBD520E4100C148B8A97C2E41009063AA21540E4180E9D4A8A67C2E410050A20749550E4100BC41DFA67C2E41008CBDC383550E4100087AFBA77C2E41004E2AFEC1550E4100850C05AD7C2E41007AE1624E560E41005FC2F5B37C2E41001098D397570E41008F1F8FB57C2E4100C248DE0D580E41001D8B2FB57C2E410058F15F37580E418040619AB17C2E410026564289580E4180B80D1BAE7C2E41000E72D3B9580E41807EF6A3A17C2E4100CE414443590E4100B0DE568F7C2E41002ADEC7E8590E410017573D897C2E4100B2A907315A0E41003241DC7C7C2E41009292B5145B0E410064D1A3747C2E4100B44B45975B0E41800A08A9687C2E4100F6A3252A5C0E41000B3E835C7C2E410056F453885C0E4180618BBE517C2E41007AA05C025D0E41001DEB2D4A7C2E4100846DA07C5D0E4180D477DE427C2E41001826071D5E0E410005AA4C3F7C2E410068E896595E0E4180257099307C2E4100144025245F0E4100878FBD227C2E4100BE9330DF5F0E41001966BD167C2E4100C492119A600E4100E7DBCC0A7C2E41004050FD61610E41807E14A9097C2E4100FA2095AB610E4100EFE8E80D7C2E41005A480738620E4100AD245C0E7C2E4100A6F3B570620E4180482CB50C7C2E4100808485DE620E41000BBB510A7C2E410020DE8C2E630E410095AB1E007C2E41006C2C6D0D640E41001EDB0AF27B2E410028727A51650E410024C328E67B2E41004290F280660E4100DAE00CE57B2E41008C41CEAF660E418008F918E57B2E4100D212BAE0660E4180B00B4DE67B2E4100700D1014670E4100E3A1ADE87B2E4100FC877B4A670E4180744394F07B2E410002E305BE670E4180DEE6E6FE7B2E4100684C9A5D680E4180716B94077C2E4100C210D8BD680E4100F5F971167C2E4100F88E7658690E4180EC59B8267C2E41004C1944D9690E4100B0A6B42F7C2E41001C5D14126A0E41')\n",
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n",
      "('10039', '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')\n",
      "('10170', '0103000020E6100000010000001300000000B18CDCB83C2E41002EE518D90D0A41801EC3304D3C2E4100BEE9FFC50E0A41007F4A2D273D2E410082A81AE7140A41803A18DB913D2E4100082BF7F9130A4180366331F03D2E4100AA834028130A4100576A42BF3E2E4100DA82F75B110A41004A92ADDB3E2E41006E86CA1C110A41002B2223093F2E41007ACFBDB7100A4100CBC8F5FE3E2E4100F4F3756E100A41807098C5D53E2E4100FA8400460F0A41809EAA38CB3E2E410036B312FA0E0A410098E2636D3E2E41005056B8560C0A41002F5E76633E2E4100CE19400F0C0A4100BEA6823A3E2E4100565D79E80A0A41009DDC5C2F3E2E4100E8EE3C980A0A4100266A0B033E2E4100847CDFFA0A0A4100155956E63D2E4100C89BC83A0B0A4100E641BD163D2E4100D257EF080D0A4100B18CDCB83C2E41002EE518D90D0A41')\n",
      "('10112', '0103000020E6100000010000001600000080D5FF9BD2322E4100C0DA95DF5A0A4100EB64BF31332E41003A9B228C5D0A4100AFE89C92332E4100B47F1745600A4180D58D33D1332E410000EE6B07620A41804506FD9C342E410084C83B43600A4100E0152873352E4100E83D02685E0A4100400FE3A0362E410096377ECA5B0A41002C54792D372E4100AA788A925A0A4180CAE85218382E4100822C6D89580A4100EE74A9CD372E4100E217C072560A4100E5A7E990372E4100BE3CB6BF540A41804E02E95F372E41000E93CA60530A418003387F18372E410076B06261510A4100AB7217CA362E4100604E920F520A4100E6247D43362E4100548F9B3A530A4100B7E83E9D352E41003E08F0AB540A4100979CF904352E41000EC539FE550A41007AE53F7D342E4100A4ABC02B570A4180C3E00C21342E4100209095F8570A4180C73FC99E332E4100CC37FC19590A4100A1893B24332E41002E9D402A5A0A4180D5FF9BD2322E4100C0DA95DF5A0A41')\n",
      "('10122', '0103000020E610000001000000150000000058212E8E1A2E4100525CF482050A418073368FA01A2E4100A8D6E407060A41802E60E6C31A2E41009CEF8107070A4180391F5EF01A2E4100FCB32349080A4180A049B83C1B2E410078B242A1070A4100EF35F0571B2E4100C4303964080A4180863B0A751B2E41005A5FB334090A4180A2A5D5841B2E410024F5DAA5090A4100C1FC179B1B2E4100005796460A0A41003C7FA2291C2E410046F1CE0A090A410016245E131C2E410038CB066A080A41008DB0B8031C2E41003602F0F4070A41006BB438E61B2E4100FEDF2518070A4180AE47D6D01B2E4100AA781278060A4180505D75C01B2E4100E68164FE050A4180D90839F21B2E4100C6A21893050A410092D25BD21B2E410088F788A6040A418039F069C71B2E410060D7F358040A41002D339FAF1B2E41009E7E3CB0030A41009E33DE9C1B2E4100304C452B030A410058212E8E1A2E4100525CF482050A41')\n",
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n"
     ]
    }
   ],
   "source": [
    "rows = cur.fetchall()\n",
    "for row in rows:\n",
    "    print(row)"
   ]
  },
  {
   "cell_type": "markdown",
   "id": "eb63b553-0c64-4da8-9fc7-41555d89d853",
   "metadata": {},
   "source": [
    "## Part 3: Understanding the Data"
   ]
  },
  {
   "cell_type": "code",
   "execution_count": 38,
   "id": "d6ce8548-4aba-4bf9-992c-dedd0f249db4",
   "metadata": {},
   "outputs": [],
   "source": [
    "# Helper function to write the queries to file\n",
    "def write_query_to_file(query, outfile):\n",
    "    with open(outfile, 'w') as file:\n",
    "        file.write(query)"
   ]
  },
  {
   "cell_type": "markdown",
   "id": "273ee903",
   "metadata": {},
   "source": [
    "### Query 1"
   ]
  },
  {
   "cell_type": "code",
   "execution_count": null,
   "id": "6605e6f3-ec42-4a8b-833c-5138c14b678b",
   "metadata": {},
   "outputs": [],
   "source": [
    "QUERY_1_FILENAME = QUERY_DIR / \"FILL_ME_IN\"\n",
    "\n",
    "QUERY_1 = \"\"\"\n",
    "FILL_ME_IN\n",
    "\"\"\""
   ]
  },
  {
   "cell_type": "code",
   "execution_count": null,
   "id": "ce044adf-ecdf-4237-9b20-b7cdaaab0c6c",
   "metadata": {},
   "outputs": [],
   "source": [
    "with engine.connect() as conn:\n",
    "    result = conn.execute(db.text(QUERY_1))\n",
    "    for row in result:\n",
    "        print(row)"
   ]
  },
  {
   "cell_type": "code",
   "execution_count": null,
   "id": "4b7b2c3d-8961-4c7e-8eb1-fc973d0ab9c1",
   "metadata": {},
   "outputs": [],
   "source": [
    "write_query_to_file(QUERY_1, QUERY_1_FILENAME)"
   ]
  },
  {
   "cell_type": "markdown",
   "id": "60cb5add",
   "metadata": {},
   "source": [
    "### Query 2"
   ]
  },
  {
   "cell_type": "code",
   "execution_count": 39,
   "id": "508e0fd8",
   "metadata": {},
   "outputs": [],
   "source": [
    "QUERY_2_FILENAME = QUERY_DIR / \"Q2.sql\"\n",
    "QUERY_2 = \"\"\"\n",
    "SELECT zipcode, COUNT(tree_id) AS total_trees\n",
    "FROM trees\n",
    "GROUP BY zipcode\n",
    "ORDER BY total_trees DESC\n",
    "LIMIT 10;\n",
    "\"\"\""
   ]
  },
  {
   "cell_type": "code",
   "execution_count": 40,
   "id": "287d8c3f",
   "metadata": {},
   "outputs": [
    {
     "name": "stdout",
     "output_type": "stream",
     "text": [
      "('10025', 3696)\n",
      "('10024', 3311)\n",
      "('10027', 2992)\n",
      "('10014', 2591)\n",
      "('10031', 2587)\n",
      "('10029', 2423)\n",
      "('10002', 2265)\n",
      "('10023', 2260)\n",
      "('10032', 2217)\n",
      "('10128', 2136)\n"
     ]
    }
   ],
   "source": [
    "with engine.connect() as conn:\n",
    "    result = conn.execute(db.text(QUERY_2))\n",
    "    for row in result:\n",
    "        print(row)"
   ]
  },
  {
   "cell_type": "code",
   "execution_count": 41,
   "id": "da0b4f8f",
   "metadata": {},
   "outputs": [],
   "source": [
    "write_query_to_file(QUERY_2, QUERY_2_FILENAME)"
   ]
  },
  {
   "cell_type": "code",
   "execution_count": null,
   "id": "a633a30b",
   "metadata": {},
   "outputs": [],
   "source": []
  },
  {
   "cell_type": "code",
   "execution_count": null,
   "id": "cf7b0117",
   "metadata": {},
   "outputs": [],
   "source": []
  },
  {
   "cell_type": "markdown",
   "id": "05865bf1",
   "metadata": {},
   "source": [
    "### Query 3"
   ]
  },
  {
   "cell_type": "code",
   "execution_count": 42,
   "id": "f4c4be62",
   "metadata": {},
   "outputs": [],
   "source": [
    "QUERY_3_FILENAME = QUERY_DIR / \"Q3.sql\"\n",
    "QUERY_3 = \"\"\"\n",
    "SELECT t.zipcode, \n",
    "       ROUND(CAST(r.\"2023-08-31\" AS NUMERIC), 2) AS August2023\n",
    "FROM trees t\n",
    "JOIN rent r ON t.zipcode = r.\"Zip_code\"\n",
    "GROUP BY t.zipcode, r.\"2023-08-31\"\n",
    "ORDER BY COUNT(t.tree_id) DESC\n",
    "LIMIT 10;\n",
    "\"\"\""
   ]
  },
  {
   "cell_type": "code",
   "execution_count": 43,
   "id": "df96bffc",
   "metadata": {},
   "outputs": [
    {
     "name": "stdout",
     "output_type": "stream",
     "text": [
      "('10025', Decimal('4037.77'))\n",
      "('10024', Decimal('3797.94'))\n",
      "('10027', Decimal('3235.99'))\n",
      "('10014', Decimal('4899.07'))\n",
      "('10031', Decimal('2967.04'))\n",
      "('10029', Decimal('2915.94'))\n",
      "('10002', Decimal('4078.87'))\n",
      "('10023', Decimal('4370.07'))\n",
      "('10032', Decimal('2657.76'))\n",
      "('10128', Decimal('3565.40'))\n"
     ]
    }
   ],
   "source": [
    "with engine.connect() as conn:\n",
    "    result = conn.execute(db.text(QUERY_3))\n",
    "    for row in result:\n",
    "        print(row)"
   ]
  },
  {
   "cell_type": "code",
   "execution_count": 44,
   "id": "c99a8eef",
   "metadata": {},
   "outputs": [],
   "source": [
    "write_query_to_file(QUERY_3, QUERY_3_FILENAME)"
   ]
  },
  {
   "cell_type": "code",
   "execution_count": null,
   "id": "ce5a62ac",
   "metadata": {},
   "outputs": [],
   "source": []
  },
  {
   "cell_type": "code",
   "execution_count": null,
   "id": "7e097cd1",
   "metadata": {},
   "outputs": [],
   "source": []
  },
  {
   "cell_type": "markdown",
   "id": "df2285c7",
   "metadata": {},
   "source": [
    "### Query 4"
   ]
  },
  {
   "cell_type": "code",
   "execution_count": null,
   "id": "367b7a6c",
   "metadata": {},
   "outputs": [],
   "source": []
  },
  {
   "cell_type": "code",
   "execution_count": null,
   "id": "548e5396",
   "metadata": {},
   "outputs": [],
   "source": []
  },
  {
   "cell_type": "code",
   "execution_count": null,
   "id": "4aedcbbf",
   "metadata": {},
   "outputs": [],
   "source": []
  },
  {
   "cell_type": "code",
   "execution_count": null,
   "id": "57998cce",
   "metadata": {},
   "outputs": [],
   "source": []
  },
  {
   "cell_type": "code",
   "execution_count": null,
   "id": "6ccdef0e",
   "metadata": {},
   "outputs": [],
   "source": []
  },
  {
   "cell_type": "markdown",
   "id": "a59b3a9b",
   "metadata": {},
   "source": [
    "### Query 5"
   ]
  },
  {
   "cell_type": "code",
   "execution_count": 45,
   "id": "ed8bcd59",
   "metadata": {},
   "outputs": [],
   "source": [
    "QUERY_5_FILENAME = QUERY_DIR / \"Q5.sql\"\n",
    "QUERY_5 = \"\"\"\n",
    "SELECT z.zipcode, COUNT(t.tree_id) AS total_trees\n",
    "FROM trees t\n",
    "JOIN zip_codes z ON ST_Contains(z.the_geom, t.the_geom)\n",
    "GROUP BY z.zipcode\n",
    "ORDER BY total_trees DESC;\n",
    "\"\"\""
   ]
  },
  {
   "cell_type": "code",
   "execution_count": 46,
   "id": "a198bdac",
   "metadata": {},
   "outputs": [],
   "source": [
    "with engine.connect() as conn:\n",
    "    result = conn.execute(db.text(QUERY_5))\n",
    "    for row in result:\n",
    "        print(row)"
   ]
  },
  {
   "cell_type": "code",
   "execution_count": 47,
   "id": "6ecde12e",
   "metadata": {},
   "outputs": [],
   "source": [
    "write_query_to_file(QUERY_5, QUERY_5_FILENAME)"
   ]
  },
  {
   "cell_type": "code",
   "execution_count": null,
   "id": "88dc591a",
   "metadata": {},
   "outputs": [],
   "source": []
  },
  {
   "cell_type": "code",
   "execution_count": 89,
   "id": "f7e08aeb",
   "metadata": {},
   "outputs": [
    {
     "name": "stdout",
     "output_type": "stream",
     "text": [
      "('index', 'bigint')\n",
      "('the_geom', 'USER-DEFINED')\n",
      "('zipcode', 'text')\n",
      "('spc_common', 'text')\n",
      "('zip_city', 'text')\n",
      "('tree_id', 'text')\n",
      "('health', 'text')\n"
     ]
    }
   ],
   "source": [
    "with engine.connect() as conn:\n",
    "    result = conn.execute(\"SELECT column_name, data_type FROM information_schema.columns WHERE table_name = 'trees';\")\n",
    "    for row in result:\n",
    "        print(row)"
   ]
  },
  {
   "cell_type": "markdown",
   "id": "4f697618",
   "metadata": {},
   "source": [
    "### Query 6"
   ]
  },
  {
   "cell_type": "code",
   "execution_count": null,
   "id": "54c417ea",
   "metadata": {},
   "outputs": [],
   "source": []
  },
  {
   "cell_type": "code",
   "execution_count": null,
   "id": "fb7dc8f6",
   "metadata": {},
   "outputs": [],
   "source": []
  },
  {
   "cell_type": "code",
   "execution_count": null,
   "id": "25d85415",
   "metadata": {},
   "outputs": [],
   "source": []
  },
  {
   "cell_type": "code",
   "execution_count": null,
   "id": "b2eb6e0f",
   "metadata": {},
   "outputs": [],
   "source": []
  },
  {
   "cell_type": "code",
   "execution_count": null,
   "id": "e05bc282",
   "metadata": {},
   "outputs": [],
   "source": []
  },
  {
   "cell_type": "markdown",
   "id": "75223ce5-6ab5-4613-b6af-fa8e33bcc7d5",
   "metadata": {},
   "source": [
    "## Part 4: Visualizing the Data"
   ]
  },
  {
   "cell_type": "markdown",
   "id": "f3050660",
   "metadata": {},
   "source": [
    "### Visualization 1"
   ]
  },
  {
   "cell_type": "code",
   "execution_count": 48,
   "id": "5b902037",
   "metadata": {},
   "outputs": [],
   "source": [
    "def plot_top_3_complaints(dataframe1):\n",
    "    figure, axes = plt.subplots(figsize=(20, 10))\n",
    "    axes.bar(dataframe1['complaint_type'], dataframe1['complaint_count'])\n",
    "\n",
    "    axes.set_title(\"Top 3 Complaint Types for October 1st, 2022 to September 30th, 2023 \")\n",
    "    axes.set_xlabel(\"Complaint Type\")\n",
    "    axes.set_ylabel(\"Complaint Count\")\n",
    "    \n",
    "    plt.show()"
   ]
  },
  {
   "cell_type": "code",
   "execution_count": 49,
   "id": "69a54456",
   "metadata": {},
   "outputs": [],
   "source": [
    "def get_data_for_visual_1():\n",
    "    V1 = \"\"\"\n",
    "    SELECT complaint_type, COUNT(unique_key) AS complaint_count\n",
    "    FROM nyc_311\n",
    "    WHERE created_date BETWEEN '2022-10-01' AND '2023-09-30'\n",
    "    GROUP BY complaint_type\n",
    "    ORDER BY complaint_count DESC\n",
    "    LIMIT 3;\n",
    "    \"\"\"\n",
    "    with engine.connect() as conn:\n",
    "        result = conn.execute(db.text(V1))\n",
    "        dataframe1 = pd.DataFrame(result.fetchall(), columns=result.keys())\n",
    "    return dataframe1"
   ]
  },
  {
   "cell_type": "code",
   "execution_count": 50,
   "id": "858802fa",
   "metadata": {},
   "outputs": [
    {
     "data": {
      "image/png": "[encoded data removed]",
      "text/plain": [
       "<Figure size 2000x1000 with 1 Axes>"
      ]
     },
     "metadata": {},
     "output_type": "display_data"
    }
   ],
   "source": [
    "some_dataframe1 = get_data_for_visual_1()\n",
    "plot_top_3_complaints(some_dataframe1)"
   ]
  },
  {
   "cell_type": "markdown",
   "id": "b21fcfed-ddbb-4908-a60e-ed7cbc6d5b00",
   "metadata": {},
   "source": [
    "### Visualization 2"
   ]
  },
  {
   "cell_type": "code",
   "execution_count": 51,
   "id": "6f0e2cde-e43b-407b-ab93-ff85a2dba469",
   "metadata": {},
   "outputs": [],
   "source": [
    "def plot_top_10_complaints(dataframe2):\n",
    "    figure, axes = plt.subplots(figsize=(20, 10))\n",
    "    \n",
    "    complaint_types = dataframe2['complaint_type']\n",
    "    complaint_counts = dataframe2['complaint_count']\n",
    "    axes.bar(complaint_types, complaint_counts)\n",
    "    axes.set_title('Top 10 Complaints in Zip Code 10027')\n",
    "    axes.set_xlabel('Complaint Type')\n",
    "    axes.set_ylabel('Complaint Count')\n",
    "    \n",
    "    plt.show()"
   ]
  },
  {
   "cell_type": "code",
   "execution_count": 52,
   "id": "ed80755f-d1e1-4e53-8ef8-f5295c59a3fe",
   "metadata": {},
   "outputs": [],
   "source": [
    "def get_data_for_visual_2():\n",
    "    V2 = \"\"\"\n",
    "    SELECT complaint_type, COUNT(unique_key) AS complaint_count\n",
    "    FROM nyc_311\n",
    "    WHERE incident_zip = '10027' AND created_date BETWEEN '2018-10-01' AND '2023-09-30'\n",
    "    GROUP BY complaint_type\n",
    "    ORDER BY complaint_count DESC\n",
    "    LIMIT 10;\n",
    "    \"\"\"\n",
    "    with engine.connect() as conn:\n",
    "        result = conn.execute(db.text(V2))\n",
    "        dataframe2 = pd.DataFrame(result.fetchall(), columns=result.keys())\n",
    "    return dataframe2"
   ]
  },
  {
   "cell_type": "code",
   "execution_count": 53,
   "id": "f6a2632a-b516-4a6e-8b67-97116ab6fce4",
   "metadata": {},
   "outputs": [
    {
     "data": {
      "image/png": "[encoded data removed]",
      "text/plain": [
       "<Figure size 2000x1000 with 1 Axes>"
      ]
     },
     "metadata": {},
     "output_type": "display_data"
    }
   ],
   "source": [
    "some_dataframe2 = get_data_for_visual_2()\n",
    "plot_top_10_complaints(some_dataframe2)"
   ]
  },
  {
   "cell_type": "markdown",
   "id": "6fdf14b3",
   "metadata": {},
   "source": [
    "### Visualization 3"
   ]
  },
  {
   "cell_type": "code",
   "execution_count": 54,
   "id": "a330bfff",
   "metadata": {},
   "outputs": [],
   "source": [
    "def plot_rent_trees_complaints(dataframe3):\n",
    "    fig, (ax1, ax2) = plt.subplots(2, 1, figsize=(20, 20), sharex=True)\n",
    "\n",
    "    # Rent & Tree\n",
    "    ax1.scatter(dataframe3['AverageRent'], dataframe3['TreeCount'])\n",
    "    ax1.set_title(\"Average Rent vs Tree Count\")\n",
    "    ax1.set_ylabel(\"Tree Count\")\n",
    "\n",
    "    # Rent & Complaints\n",
    "    ax2.scatter(dataframe3['AverageRent'], dataframe3['ComplaintCount'])\n",
    "    ax2.set_title(\"Average Rent vs Number of Complaints\")\n",
    "    ax2.set_xlabel(\"Average Rent\")\n",
    "    ax2.set_ylabel(\"Complaint Count\")\n",
    "\n",
    "    plt.show()"
   ]
  },
  {
   "cell_type": "code",
   "execution_count": 55,
   "id": "5da3f1eb",
   "metadata": {},
   "outputs": [],
   "source": [
    "def get_data_for_visual_3():\n",
    "    V3 = \"\"\"\n",
    "    WITH RentData AS (\n",
    "    SELECT Zip_code,\n",
    "           。。。\n",
    "    FROM rent\n",
    "    GROUP BY Zip_code\n",
    "    ),\n",
    "\n",
    "    TreeData AS (\n",
    "        SELECT zipcode, COUNT(tree_id) AS TreeCount\n",
    "        FROM trees\n",
    "        GROUP BY zipcode\n",
    "    ),\n",
    "\n",
    "    ComplaintData AS (\n",
    "        SELECT incident_zip, COUNT(unique_key) AS ComplaintCount\n",
    "        FROM nyc_311\n",
    "        WHERE created_date BETWEEN '2015-01-01' AND '2023-09-30'\n",
    "        GROUP BY incident_zip\n",
    "    )\n",
    "\n",
    "    SELECT r.Zip_code, r.AverageRent, t.TreeCount, c.ComplaintCount\n",
    "    FROM RentData r\n",
    "    LEFT JOIN TreeData t ON r.Zip_code = t.zipcode\n",
    "    LEFT JOIN ComplaintData c ON r.Zip_code = c.zipcode;\n",
    "    \"\"\"\n",
    "    with engine.connect() as conn:\n",
    "        result = conn.execute(db.text(V3))\n",
    "        dataframe3 = pd.DataFrame(result.fetchall(), columns=result.keys())\n",
    "    return dataframe3"
   ]
  },
  {
   "cell_type": "code",
   "execution_count": 56,
   "id": "567ad63e",
   "metadata": {},
   "outputs": [
    {
     "ename": "ProgrammingError",
     "evalue": "(psycopg2.errors.UndefinedColumn) column \"zip_code\" does not exist\nLINE 3:     SELECT Zip_code,\n                   ^\nHINT:  Perhaps you meant to reference the column \"rent.Zip_code\".\n\n[SQL: \n    WITH RentData AS (\n    SELECT Zip_code,\n           。。。\n    FROM rent\n    GROUP BY Zip_code\n    ),\n\n    TreeData AS (\n        SELECT zipcode, COUNT(tree_id) AS TreeCount\n        FROM trees\n        GROUP BY zipcode\n    ),\n\n    ComplaintData AS (\n        SELECT incident_zip, COUNT(unique_key) AS ComplaintCount\n        FROM nyc_311\n        WHERE created_date BETWEEN '2015-01-01' AND '2023-09-30'\n        GROUP BY incident_zip\n    )\n\n    SELECT r.Zip_code, r.AverageRent, t.TreeCount, c.ComplaintCount\n    FROM RentData r\n    LEFT JOIN TreeData t ON r.Zip_code = t.zipcode\n    LEFT JOIN ComplaintData c ON r.Zip_code = c.zipcode;\n    ]\n(Background on this error at: https://sqlalche.me/e/14/f405)",
     "output_type": "error",
     "traceback": [
      "\u001b[0;31m---------------------------------------------------------------------------\u001b[0m",
      "\u001b[0;31mUndefinedColumn\u001b[0m                           Traceback (most recent call last)",
      "File \u001b[0;32m~/anaconda3/lib/python3.11/site-packages/sqlalchemy/engine/base.py:1819\u001b[0m, in \u001b[0;36mConnection._execute_context\u001b[0;34m(self, dialect, constructor, statement, parameters, execution_options, *args, **kw)\u001b[0m\n\u001b[1;32m   1818\u001b[0m     \u001b[38;5;28;01mif\u001b[39;00m \u001b[38;5;129;01mnot\u001b[39;00m evt_handled:\n\u001b[0;32m-> 1819\u001b[0m         \u001b[38;5;28mself\u001b[39m\u001b[38;5;241m.\u001b[39mdialect\u001b[38;5;241m.\u001b[39mdo_execute(\n\u001b[1;32m   1820\u001b[0m             cursor, statement, parameters, context\n\u001b[1;32m   1821\u001b[0m         )\n\u001b[1;32m   1823\u001b[0m \u001b[38;5;28;01mif\u001b[39;00m \u001b[38;5;28mself\u001b[39m\u001b[38;5;241m.\u001b[39m_has_events \u001b[38;5;129;01mor\u001b[39;00m \u001b[38;5;28mself\u001b[39m\u001b[38;5;241m.\u001b[39mengine\u001b[38;5;241m.\u001b[39m_has_events:\n",
      "File \u001b[0;32m~/anaconda3/lib/python3.11/site-packages/sqlalchemy/engine/default.py:732\u001b[0m, in \u001b[0;36mDefaultDialect.do_execute\u001b[0;34m(self, cursor, statement, parameters, context)\u001b[0m\n\u001b[1;32m    731\u001b[0m \u001b[38;5;28;01mdef\u001b[39;00m \u001b[38;5;21mdo_execute\u001b[39m(\u001b[38;5;28mself\u001b[39m, cursor, statement, parameters, context\u001b[38;5;241m=\u001b[39m\u001b[38;5;28;01mNone\u001b[39;00m):\n\u001b[0;32m--> 732\u001b[0m     cursor\u001b[38;5;241m.\u001b[39mexecute(statement, parameters)\n",
      "\u001b[0;31mUndefinedColumn\u001b[0m: column \"zip_code\" does not exist\nLINE 3:     SELECT Zip_code,\n                   ^\nHINT:  Perhaps you meant to reference the column \"rent.Zip_code\".\n",
      "\nThe above exception was the direct cause of the following exception:\n",
      "\u001b[0;31mProgrammingError\u001b[0m                          Traceback (most recent call last)",
      "Cell \u001b[0;32mIn[56], line 1\u001b[0m\n\u001b[0;32m----> 1\u001b[0m some_dataframe3 \u001b[38;5;241m=\u001b[39m get_data_for_visual_3()\n\u001b[1;32m      2\u001b[0m plot_rent_trees_complaints(some_dataframe3)\n",
      "Cell \u001b[0;32mIn[55], line 29\u001b[0m, in \u001b[0;36mget_data_for_visual_3\u001b[0;34m()\u001b[0m\n\u001b[1;32m      2\u001b[0m V3 \u001b[38;5;241m=\u001b[39m \u001b[38;5;124m\"\"\"\u001b[39m\n\u001b[1;32m      3\u001b[0m \u001b[38;5;124mWITH RentData AS (\u001b[39m\n\u001b[1;32m      4\u001b[0m \u001b[38;5;124mSELECT Zip_code,\u001b[39m\n\u001b[0;32m   (...)\u001b[0m\n\u001b[1;32m     26\u001b[0m \u001b[38;5;124mLEFT JOIN ComplaintData c ON r.Zip_code = c.zipcode;\u001b[39m\n\u001b[1;32m     27\u001b[0m \u001b[38;5;124m\u001b[39m\u001b[38;5;124m\"\"\"\u001b[39m\n\u001b[1;32m     28\u001b[0m \u001b[38;5;28;01mwith\u001b[39;00m engine\u001b[38;5;241m.\u001b[39mconnect() \u001b[38;5;28;01mas\u001b[39;00m conn:\n\u001b[0;32m---> 29\u001b[0m     result \u001b[38;5;241m=\u001b[39m conn\u001b[38;5;241m.\u001b[39mexecute(db\u001b[38;5;241m.\u001b[39mtext(V3))\n\u001b[1;32m     30\u001b[0m     dataframe3 \u001b[38;5;241m=\u001b[39m pd\u001b[38;5;241m.\u001b[39mDataFrame(result\u001b[38;5;241m.\u001b[39mfetchall(), columns\u001b[38;5;241m=\u001b[39mresult\u001b[38;5;241m.\u001b[39mkeys())\n\u001b[1;32m     31\u001b[0m \u001b[38;5;28;01mreturn\u001b[39;00m dataframe3\n",
      "File \u001b[0;32m~/anaconda3/lib/python3.11/site-packages/sqlalchemy/engine/base.py:1306\u001b[0m, in \u001b[0;36mConnection.execute\u001b[0;34m(self, statement, *multiparams, **params)\u001b[0m\n\u001b[1;32m   1302\u001b[0m     util\u001b[38;5;241m.\u001b[39mraise_(\n\u001b[1;32m   1303\u001b[0m         exc\u001b[38;5;241m.\u001b[39mObjectNotExecutableError(statement), replace_context\u001b[38;5;241m=\u001b[39merr\n\u001b[1;32m   1304\u001b[0m     )\n\u001b[1;32m   1305\u001b[0m \u001b[38;5;28;01melse\u001b[39;00m:\n\u001b[0;32m-> 1306\u001b[0m     \u001b[38;5;28;01mreturn\u001b[39;00m meth(\u001b[38;5;28mself\u001b[39m, multiparams, params, _EMPTY_EXECUTION_OPTS)\n",
      "File \u001b[0;32m~/anaconda3/lib/python3.11/site-packages/sqlalchemy/sql/elements.py:332\u001b[0m, in \u001b[0;36mClauseElement._execute_on_connection\u001b[0;34m(self, connection, multiparams, params, execution_options, _force)\u001b[0m\n\u001b[1;32m    328\u001b[0m \u001b[38;5;28;01mdef\u001b[39;00m \u001b[38;5;21m_execute_on_connection\u001b[39m(\n\u001b[1;32m    329\u001b[0m     \u001b[38;5;28mself\u001b[39m, connection, multiparams, params, execution_options, _force\u001b[38;5;241m=\u001b[39m\u001b[38;5;28;01mFalse\u001b[39;00m\n\u001b[1;32m    330\u001b[0m ):\n\u001b[1;32m    331\u001b[0m     \u001b[38;5;28;01mif\u001b[39;00m _force \u001b[38;5;129;01mor\u001b[39;00m \u001b[38;5;28mself\u001b[39m\u001b[38;5;241m.\u001b[39msupports_execution:\n\u001b[0;32m--> 332\u001b[0m         \u001b[38;5;28;01mreturn\u001b[39;00m connection\u001b[38;5;241m.\u001b[39m_execute_clauseelement(\n\u001b[1;32m    333\u001b[0m             \u001b[38;5;28mself\u001b[39m, multiparams, params, execution_options\n\u001b[1;32m    334\u001b[0m         )\n\u001b[1;32m    335\u001b[0m     \u001b[38;5;28;01melse\u001b[39;00m:\n\u001b[1;32m    336\u001b[0m         \u001b[38;5;28;01mraise\u001b[39;00m exc\u001b[38;5;241m.\u001b[39mObjectNotExecutableError(\u001b[38;5;28mself\u001b[39m)\n",
      "File \u001b[0;32m~/anaconda3/lib/python3.11/site-packages/sqlalchemy/engine/base.py:1498\u001b[0m, in \u001b[0;36mConnection._execute_clauseelement\u001b[0;34m(self, elem, multiparams, params, execution_options)\u001b[0m\n\u001b[1;32m   1486\u001b[0m compiled_cache \u001b[38;5;241m=\u001b[39m execution_options\u001b[38;5;241m.\u001b[39mget(\n\u001b[1;32m   1487\u001b[0m     \u001b[38;5;124m\"\u001b[39m\u001b[38;5;124mcompiled_cache\u001b[39m\u001b[38;5;124m\"\u001b[39m, \u001b[38;5;28mself\u001b[39m\u001b[38;5;241m.\u001b[39mengine\u001b[38;5;241m.\u001b[39m_compiled_cache\n\u001b[1;32m   1488\u001b[0m )\n\u001b[1;32m   1490\u001b[0m compiled_sql, extracted_params, cache_hit \u001b[38;5;241m=\u001b[39m elem\u001b[38;5;241m.\u001b[39m_compile_w_cache(\n\u001b[1;32m   1491\u001b[0m     dialect\u001b[38;5;241m=\u001b[39mdialect,\n\u001b[1;32m   1492\u001b[0m     compiled_cache\u001b[38;5;241m=\u001b[39mcompiled_cache,\n\u001b[0;32m   (...)\u001b[0m\n\u001b[1;32m   1496\u001b[0m     linting\u001b[38;5;241m=\u001b[39m\u001b[38;5;28mself\u001b[39m\u001b[38;5;241m.\u001b[39mdialect\u001b[38;5;241m.\u001b[39mcompiler_linting \u001b[38;5;241m|\u001b[39m compiler\u001b[38;5;241m.\u001b[39mWARN_LINTING,\n\u001b[1;32m   1497\u001b[0m )\n\u001b[0;32m-> 1498\u001b[0m ret \u001b[38;5;241m=\u001b[39m \u001b[38;5;28mself\u001b[39m\u001b[38;5;241m.\u001b[39m_execute_context(\n\u001b[1;32m   1499\u001b[0m     dialect,\n\u001b[1;32m   1500\u001b[0m     dialect\u001b[38;5;241m.\u001b[39mexecution_ctx_cls\u001b[38;5;241m.\u001b[39m_init_compiled,\n\u001b[1;32m   1501\u001b[0m     compiled_sql,\n\u001b[1;32m   1502\u001b[0m     distilled_params,\n\u001b[1;32m   1503\u001b[0m     execution_options,\n\u001b[1;32m   1504\u001b[0m     compiled_sql,\n\u001b[1;32m   1505\u001b[0m     distilled_params,\n\u001b[1;32m   1506\u001b[0m     elem,\n\u001b[1;32m   1507\u001b[0m     extracted_params,\n\u001b[1;32m   1508\u001b[0m     cache_hit\u001b[38;5;241m=\u001b[39mcache_hit,\n\u001b[1;32m   1509\u001b[0m )\n\u001b[1;32m   1510\u001b[0m \u001b[38;5;28;01mif\u001b[39;00m has_events:\n\u001b[1;32m   1511\u001b[0m     \u001b[38;5;28mself\u001b[39m\u001b[38;5;241m.\u001b[39mdispatch\u001b[38;5;241m.\u001b[39mafter_execute(\n\u001b[1;32m   1512\u001b[0m         \u001b[38;5;28mself\u001b[39m,\n\u001b[1;32m   1513\u001b[0m         elem,\n\u001b[0;32m   (...)\u001b[0m\n\u001b[1;32m   1517\u001b[0m         ret,\n\u001b[1;32m   1518\u001b[0m     )\n",
      "File \u001b[0;32m~/anaconda3/lib/python3.11/site-packages/sqlalchemy/engine/base.py:1862\u001b[0m, in \u001b[0;36mConnection._execute_context\u001b[0;34m(self, dialect, constructor, statement, parameters, execution_options, *args, **kw)\u001b[0m\n\u001b[1;32m   1859\u001b[0m             branched\u001b[38;5;241m.\u001b[39mclose()\n\u001b[1;32m   1861\u001b[0m \u001b[38;5;28;01mexcept\u001b[39;00m \u001b[38;5;167;01mBaseException\u001b[39;00m \u001b[38;5;28;01mas\u001b[39;00m e:\n\u001b[0;32m-> 1862\u001b[0m     \u001b[38;5;28mself\u001b[39m\u001b[38;5;241m.\u001b[39m_handle_dbapi_exception(\n\u001b[1;32m   1863\u001b[0m         e, statement, parameters, cursor, context\n\u001b[1;32m   1864\u001b[0m     )\n\u001b[1;32m   1866\u001b[0m \u001b[38;5;28;01mreturn\u001b[39;00m result\n",
      "File \u001b[0;32m~/anaconda3/lib/python3.11/site-packages/sqlalchemy/engine/base.py:2043\u001b[0m, in \u001b[0;36mConnection._handle_dbapi_exception\u001b[0;34m(self, e, statement, parameters, cursor, context)\u001b[0m\n\u001b[1;32m   2041\u001b[0m     util\u001b[38;5;241m.\u001b[39mraise_(newraise, with_traceback\u001b[38;5;241m=\u001b[39mexc_info[\u001b[38;5;241m2\u001b[39m], from_\u001b[38;5;241m=\u001b[39me)\n\u001b[1;32m   2042\u001b[0m \u001b[38;5;28;01melif\u001b[39;00m should_wrap:\n\u001b[0;32m-> 2043\u001b[0m     util\u001b[38;5;241m.\u001b[39mraise_(\n\u001b[1;32m   2044\u001b[0m         sqlalchemy_exception, with_traceback\u001b[38;5;241m=\u001b[39mexc_info[\u001b[38;5;241m2\u001b[39m], from_\u001b[38;5;241m=\u001b[39me\n\u001b[1;32m   2045\u001b[0m     )\n\u001b[1;32m   2046\u001b[0m \u001b[38;5;28;01melse\u001b[39;00m:\n\u001b[1;32m   2047\u001b[0m     util\u001b[38;5;241m.\u001b[39mraise_(exc_info[\u001b[38;5;241m1\u001b[39m], with_traceback\u001b[38;5;241m=\u001b[39mexc_info[\u001b[38;5;241m2\u001b[39m])\n",
      "File \u001b[0;32m~/anaconda3/lib/python3.11/site-packages/sqlalchemy/util/compat.py:208\u001b[0m, in \u001b[0;36mraise_\u001b[0;34m(***failed resolving arguments***)\u001b[0m\n\u001b[1;32m    205\u001b[0m     exception\u001b[38;5;241m.\u001b[39m__cause__ \u001b[38;5;241m=\u001b[39m replace_context\n\u001b[1;32m    207\u001b[0m \u001b[38;5;28;01mtry\u001b[39;00m:\n\u001b[0;32m--> 208\u001b[0m     \u001b[38;5;28;01mraise\u001b[39;00m exception\n\u001b[1;32m    209\u001b[0m \u001b[38;5;28;01mfinally\u001b[39;00m:\n\u001b[1;32m    210\u001b[0m     \u001b[38;5;66;03m# credit to\u001b[39;00m\n\u001b[1;32m    211\u001b[0m     \u001b[38;5;66;03m# https://cosmicpercolator.com/2016/01/13/exception-leaks-in-python-2-and-3/\u001b[39;00m\n\u001b[1;32m    212\u001b[0m     \u001b[38;5;66;03m# as the __traceback__ object creates a cycle\u001b[39;00m\n\u001b[1;32m    213\u001b[0m     \u001b[38;5;28;01mdel\u001b[39;00m exception, replace_context, from_, with_traceback\n",
      "File \u001b[0;32m~/anaconda3/lib/python3.11/site-packages/sqlalchemy/engine/base.py:1819\u001b[0m, in \u001b[0;36mConnection._execute_context\u001b[0;34m(self, dialect, constructor, statement, parameters, execution_options, *args, **kw)\u001b[0m\n\u001b[1;32m   1817\u001b[0m                 \u001b[38;5;28;01mbreak\u001b[39;00m\n\u001b[1;32m   1818\u001b[0m     \u001b[38;5;28;01mif\u001b[39;00m \u001b[38;5;129;01mnot\u001b[39;00m evt_handled:\n\u001b[0;32m-> 1819\u001b[0m         \u001b[38;5;28mself\u001b[39m\u001b[38;5;241m.\u001b[39mdialect\u001b[38;5;241m.\u001b[39mdo_execute(\n\u001b[1;32m   1820\u001b[0m             cursor, statement, parameters, context\n\u001b[1;32m   1821\u001b[0m         )\n\u001b[1;32m   1823\u001b[0m \u001b[38;5;28;01mif\u001b[39;00m \u001b[38;5;28mself\u001b[39m\u001b[38;5;241m.\u001b[39m_has_events \u001b[38;5;129;01mor\u001b[39;00m \u001b[38;5;28mself\u001b[39m\u001b[38;5;241m.\u001b[39mengine\u001b[38;5;241m.\u001b[39m_has_events:\n\u001b[1;32m   1824\u001b[0m     \u001b[38;5;28mself\u001b[39m\u001b[38;5;241m.\u001b[39mdispatch\u001b[38;5;241m.\u001b[39mafter_cursor_execute(\n\u001b[1;32m   1825\u001b[0m         \u001b[38;5;28mself\u001b[39m,\n\u001b[1;32m   1826\u001b[0m         cursor,\n\u001b[0;32m   (...)\u001b[0m\n\u001b[1;32m   1830\u001b[0m         context\u001b[38;5;241m.\u001b[39mexecutemany,\n\u001b[1;32m   1831\u001b[0m     )\n",
      "File \u001b[0;32m~/anaconda3/lib/python3.11/site-packages/sqlalchemy/engine/default.py:732\u001b[0m, in \u001b[0;36mDefaultDialect.do_execute\u001b[0;34m(self, cursor, statement, parameters, context)\u001b[0m\n\u001b[1;32m    731\u001b[0m \u001b[38;5;28;01mdef\u001b[39;00m \u001b[38;5;21mdo_execute\u001b[39m(\u001b[38;5;28mself\u001b[39m, cursor, statement, parameters, context\u001b[38;5;241m=\u001b[39m\u001b[38;5;28;01mNone\u001b[39;00m):\n\u001b[0;32m--> 732\u001b[0m     cursor\u001b[38;5;241m.\u001b[39mexecute(statement, parameters)\n",
      "\u001b[0;31mProgrammingError\u001b[0m: (psycopg2.errors.UndefinedColumn) column \"zip_code\" does not exist\nLINE 3:     SELECT Zip_code,\n                   ^\nHINT:  Perhaps you meant to reference the column \"rent.Zip_code\".\n\n[SQL: \n    WITH RentData AS (\n    SELECT Zip_code,\n           。。。\n    FROM rent\n    GROUP BY Zip_code\n    ),\n\n    TreeData AS (\n        SELECT zipcode, COUNT(tree_id) AS TreeCount\n        FROM trees\n        GROUP BY zipcode\n    ),\n\n    ComplaintData AS (\n        SELECT incident_zip, COUNT(unique_key) AS ComplaintCount\n        FROM nyc_311\n        WHERE created_date BETWEEN '2015-01-01' AND '2023-09-30'\n        GROUP BY incident_zip\n    )\n\n    SELECT r.Zip_code, r.AverageRent, t.TreeCount, c.ComplaintCount\n    FROM RentData r\n    LEFT JOIN TreeData t ON r.Zip_code = t.zipcode\n    LEFT JOIN ComplaintData c ON r.Zip_code = c.zipcode;\n    ]\n(Background on this error at: https://sqlalche.me/e/14/f405)"
     ]
    }
   ],
   "source": [
    "some_dataframe3 = get_data_for_visual_3()\n",
    "plot_rent_trees_complaints(some_dataframe3)"
   ]
  },
  {
   "cell_type": "markdown",
   "id": "114bed18",
   "metadata": {},
   "source": [
    "### Visualization 4"
   ]
  },
  {
   "cell_type": "code",
   "execution_count": 57,
   "id": "97ae08e9",
   "metadata": {},
   "outputs": [],
   "source": [
    "def plot_rent_vs_complaints(dataframe4):\n",
    "    dataframe4['Boxplot'] = pd.cut(dataframe4['Rent'], bins=np.arange(0, dataframe4['Rent'].max() + 1000, 1000), right=False)\n",
    "    \n",
    "    plt.figure(figsize=(20, 10))\n",
    "    dataframe4.boxplot(column='complaint_count', by='Boxplot', grid=False)\n",
    "    plt.title('Rent vs Number of 311 Complaints')\n",
    "    plt.xlabel('Rent')\n",
    "    plt.ylabel('Complaint Count')\n",
    "\n",
    "    plt.show()"
   ]
  },
  {
   "cell_type": "code",
   "execution_count": 58,
   "id": "b064c789",
   "metadata": {},
   "outputs": [],
   "source": [
    "def get_data_for_visual_4():\n",
    "    V4 = \"\"\"\n",
    "    SELECT r.\"Zip_code\", r.\"2023-09-30\" AS Rent, COUNT(n.unique_key) AS complaint_count\n",
    "    FROM nyc_311 n\n",
    "    JOIN rent r ON n.incident_zip = r.\"Zip_code\"\n",
    "    WHERE n.created_date BETWEEN '2022-10-01' AND '2023-09-30'\n",
    "    GROUP BY r.\"Zip_code\", r.\"2023-09-30\"\n",
    "    ORDER BY r.\"2023-09-30\";\n",
    "    \"\"\"\n",
    "    \n",
    "    with engine.connect() as conn:\n",
    "        result = conn.execute(db.text(V4))\n",
    "        dataframe4 = pd.DataFrame(result.fetchall(), columns=result.keys())\n",
    "\n",
    "    return dataframe4"
   ]
  },
  {
   "cell_type": "code",
   "execution_count": 59,
   "id": "f1285841",
   "metadata": {},
   "outputs": [
    {
     "ename": "KeyError",
     "evalue": "'Rent'",
     "output_type": "error",
     "traceback": [
      "\u001b[0;31m---------------------------------------------------------------------------\u001b[0m",
      "\u001b[0;31mKeyError\u001b[0m                                  Traceback (most recent call last)",
      "File \u001b[0;32m~/anaconda3/lib/python3.11/site-packages/pandas/core/indexes/base.py:3802\u001b[0m, in \u001b[0;36mIndex.get_loc\u001b[0;34m(self, key, method, tolerance)\u001b[0m\n\u001b[1;32m   3801\u001b[0m \u001b[38;5;28;01mtry\u001b[39;00m:\n\u001b[0;32m-> 3802\u001b[0m     \u001b[38;5;28;01mreturn\u001b[39;00m \u001b[38;5;28mself\u001b[39m\u001b[38;5;241m.\u001b[39m_engine\u001b[38;5;241m.\u001b[39mget_loc(casted_key)\n\u001b[1;32m   3803\u001b[0m \u001b[38;5;28;01mexcept\u001b[39;00m \u001b[38;5;167;01mKeyError\u001b[39;00m \u001b[38;5;28;01mas\u001b[39;00m err:\n",
      "File \u001b[0;32m~/anaconda3/lib/python3.11/site-packages/pandas/_libs/index.pyx:138\u001b[0m, in \u001b[0;36mpandas._libs.index.IndexEngine.get_loc\u001b[0;34m()\u001b[0m\n",
      "File \u001b[0;32m~/anaconda3/lib/python3.11/site-packages/pandas/_libs/index.pyx:165\u001b[0m, in \u001b[0;36mpandas._libs.index.IndexEngine.get_loc\u001b[0;34m()\u001b[0m\n",
      "File \u001b[0;32mpandas/_libs/hashtable_class_helper.pxi:5745\u001b[0m, in \u001b[0;36mpandas._libs.hashtable.PyObjectHashTable.get_item\u001b[0;34m()\u001b[0m\n",
      "File \u001b[0;32mpandas/_libs/hashtable_class_helper.pxi:5753\u001b[0m, in \u001b[0;36mpandas._libs.hashtable.PyObjectHashTable.get_item\u001b[0;34m()\u001b[0m\n",
      "\u001b[0;31mKeyError\u001b[0m: 'Rent'",
      "\nThe above exception was the direct cause of the following exception:\n",
      "\u001b[0;31mKeyError\u001b[0m                                  Traceback (most recent call last)",
      "Cell \u001b[0;32mIn[59], line 2\u001b[0m\n\u001b[1;32m      1\u001b[0m some_dataframe4 \u001b[38;5;241m=\u001b[39m get_data_for_visual_4()\n\u001b[0;32m----> 2\u001b[0m plot_rent_vs_complaints(some_dataframe4)\n",
      "Cell \u001b[0;32mIn[57], line 2\u001b[0m, in \u001b[0;36mplot_rent_vs_complaints\u001b[0;34m(dataframe4)\u001b[0m\n\u001b[1;32m      1\u001b[0m \u001b[38;5;28;01mdef\u001b[39;00m \u001b[38;5;21mplot_rent_vs_complaints\u001b[39m(dataframe4):\n\u001b[0;32m----> 2\u001b[0m     dataframe4[\u001b[38;5;124m'\u001b[39m\u001b[38;5;124mBoxplot\u001b[39m\u001b[38;5;124m'\u001b[39m] \u001b[38;5;241m=\u001b[39m pd\u001b[38;5;241m.\u001b[39mcut(dataframe4[\u001b[38;5;124m'\u001b[39m\u001b[38;5;124mRent\u001b[39m\u001b[38;5;124m'\u001b[39m], bins\u001b[38;5;241m=\u001b[39mnp\u001b[38;5;241m.\u001b[39marange(\u001b[38;5;241m0\u001b[39m, dataframe4[\u001b[38;5;124m'\u001b[39m\u001b[38;5;124mRent\u001b[39m\u001b[38;5;124m'\u001b[39m]\u001b[38;5;241m.\u001b[39mmax() \u001b[38;5;241m+\u001b[39m \u001b[38;5;241m1000\u001b[39m, \u001b[38;5;241m1000\u001b[39m), right\u001b[38;5;241m=\u001b[39m\u001b[38;5;28;01mFalse\u001b[39;00m)\n\u001b[1;32m      4\u001b[0m     plt\u001b[38;5;241m.\u001b[39mfigure(figsize\u001b[38;5;241m=\u001b[39m(\u001b[38;5;241m20\u001b[39m, \u001b[38;5;241m10\u001b[39m))\n\u001b[1;32m      5\u001b[0m     dataframe4\u001b[38;5;241m.\u001b[39mboxplot(column\u001b[38;5;241m=\u001b[39m\u001b[38;5;124m'\u001b[39m\u001b[38;5;124mcomplaint_count\u001b[39m\u001b[38;5;124m'\u001b[39m, by\u001b[38;5;241m=\u001b[39m\u001b[38;5;124m'\u001b[39m\u001b[38;5;124mBoxplot\u001b[39m\u001b[38;5;124m'\u001b[39m, grid\u001b[38;5;241m=\u001b[39m\u001b[38;5;28;01mFalse\u001b[39;00m)\n",
      "File \u001b[0;32m~/anaconda3/lib/python3.11/site-packages/pandas/core/frame.py:3807\u001b[0m, in \u001b[0;36mDataFrame.__getitem__\u001b[0;34m(self, key)\u001b[0m\n\u001b[1;32m   3805\u001b[0m \u001b[38;5;28;01mif\u001b[39;00m \u001b[38;5;28mself\u001b[39m\u001b[38;5;241m.\u001b[39mcolumns\u001b[38;5;241m.\u001b[39mnlevels \u001b[38;5;241m>\u001b[39m \u001b[38;5;241m1\u001b[39m:\n\u001b[1;32m   3806\u001b[0m     \u001b[38;5;28;01mreturn\u001b[39;00m \u001b[38;5;28mself\u001b[39m\u001b[38;5;241m.\u001b[39m_getitem_multilevel(key)\n\u001b[0;32m-> 3807\u001b[0m indexer \u001b[38;5;241m=\u001b[39m \u001b[38;5;28mself\u001b[39m\u001b[38;5;241m.\u001b[39mcolumns\u001b[38;5;241m.\u001b[39mget_loc(key)\n\u001b[1;32m   3808\u001b[0m \u001b[38;5;28;01mif\u001b[39;00m is_integer(indexer):\n\u001b[1;32m   3809\u001b[0m     indexer \u001b[38;5;241m=\u001b[39m [indexer]\n",
      "File \u001b[0;32m~/anaconda3/lib/python3.11/site-packages/pandas/core/indexes/base.py:3804\u001b[0m, in \u001b[0;36mIndex.get_loc\u001b[0;34m(self, key, method, tolerance)\u001b[0m\n\u001b[1;32m   3802\u001b[0m     \u001b[38;5;28;01mreturn\u001b[39;00m \u001b[38;5;28mself\u001b[39m\u001b[38;5;241m.\u001b[39m_engine\u001b[38;5;241m.\u001b[39mget_loc(casted_key)\n\u001b[1;32m   3803\u001b[0m \u001b[38;5;28;01mexcept\u001b[39;00m \u001b[38;5;167;01mKeyError\u001b[39;00m \u001b[38;5;28;01mas\u001b[39;00m err:\n\u001b[0;32m-> 3804\u001b[0m     \u001b[38;5;28;01mraise\u001b[39;00m \u001b[38;5;167;01mKeyError\u001b[39;00m(key) \u001b[38;5;28;01mfrom\u001b[39;00m \u001b[38;5;21;01merr\u001b[39;00m\n\u001b[1;32m   3805\u001b[0m \u001b[38;5;28;01mexcept\u001b[39;00m \u001b[38;5;167;01mTypeError\u001b[39;00m:\n\u001b[1;32m   3806\u001b[0m     \u001b[38;5;66;03m# If we have a listlike key, _check_indexing_error will raise\u001b[39;00m\n\u001b[1;32m   3807\u001b[0m     \u001b[38;5;66;03m#  InvalidIndexError. Otherwise we fall through and re-raise\u001b[39;00m\n\u001b[1;32m   3808\u001b[0m     \u001b[38;5;66;03m#  the TypeError.\u001b[39;00m\n\u001b[1;32m   3809\u001b[0m     \u001b[38;5;28mself\u001b[39m\u001b[38;5;241m.\u001b[39m_check_indexing_error(key)\n",
      "\u001b[0;31mKeyError\u001b[0m: 'Rent'"
     ]
    }
   ],
   "source": [
    "some_dataframe4 = get_data_for_visual_4()\n",
    "plot_rent_vs_complaints(some_dataframe4)"
   ]
  },
  {
   "cell_type": "markdown",
   "id": "34e130cc",
   "metadata": {},
   "source": [
    "### Visualization 5"
   ]
  },
  {
   "cell_type": "code",
   "execution_count": 60,
   "id": "d039282e",
   "metadata": {},
   "outputs": [],
   "source": [
    "def plot_recent_311_incidents(dataframe5):\n",
    "    fig, ax = plt.subplots(figsize=(10, 10))\n",
    "    \n",
    "    dataframe5.plot(ax=ax, marker='o', color='red', markersize=5)\n",
    "    ax.set_title(\"Recent 311 Incidents in Immediate Area\")\n",
    "    plt.show()"
   ]
  },
  {
   "cell_type": "code",
   "execution_count": 61,
   "id": "74afa6ce",
   "metadata": {},
   "outputs": [],
   "source": [
    "def get_data_for_visual_5():\n",
    "    V5 = \"\"\"\n",
    "    SELECT n.unique_key, n.created_date, n.incident_zip, n.complaint_type, z.geometry\n",
    "    FROM nyc_311 n\n",
    "    JOIN zip_codes z ON n.incident_zip = z.zipcode\n",
    "    WHERE n.created_date BETWEEN '2023-01-01' AND '2023-09-30'\n",
    "    AND ST_DistanceSphere(z.geometry, ST_MakePoint(part3q6的经度, 纬度)) <= 1000;\n",
    "    \"\"\"\n",
    "    \n",
    "    with engine.connect() as conn:\n",
    "        result = conn.execute(db.text(V5))\n",
    "        dataframe5 = pd.DataFrame(result.fetchall(), columns=result.keys())\n",
    "\n",
    "    return dataframe5"
   ]
  },
  {
   "cell_type": "code",
   "execution_count": 62,
   "id": "dd49f73f",
   "metadata": {},
   "outputs": [
    {
     "ename": "ProgrammingError",
     "evalue": "(psycopg2.errors.UndefinedColumn) column z.geometry does not exist\nLINE 2: ...n.created_date, n.incident_zip, n.complaint_type, z.geometry\n                                                             ^\n\n[SQL: \n    SELECT n.unique_key, n.created_date, n.incident_zip, n.complaint_type, z.geometry\n    FROM nyc_311 n\n    JOIN zip_codes z ON n.incident_zip = z.zipcode\n    WHERE n.created_date BETWEEN '2023-01-01' AND '2023-09-30'\n    AND ST_DistanceSphere(z.geometry, ST_MakePoint(part3q6的经度, 纬度)) <= 1000;\n    ]\n(Background on this error at: https://sqlalche.me/e/14/f405)",
     "output_type": "error",
     "traceback": [
      "\u001b[0;31m---------------------------------------------------------------------------\u001b[0m",
      "\u001b[0;31mUndefinedColumn\u001b[0m                           Traceback (most recent call last)",
      "File \u001b[0;32m~/anaconda3/lib/python3.11/site-packages/sqlalchemy/engine/base.py:1819\u001b[0m, in \u001b[0;36mConnection._execute_context\u001b[0;34m(self, dialect, constructor, statement, parameters, execution_options, *args, **kw)\u001b[0m\n\u001b[1;32m   1818\u001b[0m     \u001b[38;5;28;01mif\u001b[39;00m \u001b[38;5;129;01mnot\u001b[39;00m evt_handled:\n\u001b[0;32m-> 1819\u001b[0m         \u001b[38;5;28mself\u001b[39m\u001b[38;5;241m.\u001b[39mdialect\u001b[38;5;241m.\u001b[39mdo_execute(\n\u001b[1;32m   1820\u001b[0m             cursor, statement, parameters, context\n\u001b[1;32m   1821\u001b[0m         )\n\u001b[1;32m   1823\u001b[0m \u001b[38;5;28;01mif\u001b[39;00m \u001b[38;5;28mself\u001b[39m\u001b[38;5;241m.\u001b[39m_has_events \u001b[38;5;129;01mor\u001b[39;00m \u001b[38;5;28mself\u001b[39m\u001b[38;5;241m.\u001b[39mengine\u001b[38;5;241m.\u001b[39m_has_events:\n",
      "File \u001b[0;32m~/anaconda3/lib/python3.11/site-packages/sqlalchemy/engine/default.py:732\u001b[0m, in \u001b[0;36mDefaultDialect.do_execute\u001b[0;34m(self, cursor, statement, parameters, context)\u001b[0m\n\u001b[1;32m    731\u001b[0m \u001b[38;5;28;01mdef\u001b[39;00m \u001b[38;5;21mdo_execute\u001b[39m(\u001b[38;5;28mself\u001b[39m, cursor, statement, parameters, context\u001b[38;5;241m=\u001b[39m\u001b[38;5;28;01mNone\u001b[39;00m):\n\u001b[0;32m--> 732\u001b[0m     cursor\u001b[38;5;241m.\u001b[39mexecute(statement, parameters)\n",
      "\u001b[0;31mUndefinedColumn\u001b[0m: column z.geometry does not exist\nLINE 2: ...n.created_date, n.incident_zip, n.complaint_type, z.geometry\n                                                             ^\n",
      "\nThe above exception was the direct cause of the following exception:\n",
      "\u001b[0;31mProgrammingError\u001b[0m                          Traceback (most recent call last)",
      "Cell \u001b[0;32mIn[62], line 1\u001b[0m\n\u001b[0;32m----> 1\u001b[0m some_dataframe5 \u001b[38;5;241m=\u001b[39m get_data_for_visual_5()\n\u001b[1;32m      2\u001b[0m plot_recent_311_incidents(some_dataframe5)\n",
      "Cell \u001b[0;32mIn[61], line 11\u001b[0m, in \u001b[0;36mget_data_for_visual_5\u001b[0;34m()\u001b[0m\n\u001b[1;32m      2\u001b[0m V5 \u001b[38;5;241m=\u001b[39m \u001b[38;5;124m\"\"\"\u001b[39m\n\u001b[1;32m      3\u001b[0m \u001b[38;5;124mSELECT n.unique_key, n.created_date, n.incident_zip, n.complaint_type, z.geometry\u001b[39m\n\u001b[1;32m      4\u001b[0m \u001b[38;5;124mFROM nyc_311 n\u001b[39m\n\u001b[0;32m   (...)\u001b[0m\n\u001b[1;32m      7\u001b[0m \u001b[38;5;124mAND ST_DistanceSphere(z.geometry, ST_MakePoint(part3q6的经度, 纬度)) <= 1000;\u001b[39m\n\u001b[1;32m      8\u001b[0m \u001b[38;5;124m\u001b[39m\u001b[38;5;124m\"\"\"\u001b[39m\n\u001b[1;32m     10\u001b[0m \u001b[38;5;28;01mwith\u001b[39;00m engine\u001b[38;5;241m.\u001b[39mconnect() \u001b[38;5;28;01mas\u001b[39;00m conn:\n\u001b[0;32m---> 11\u001b[0m     result \u001b[38;5;241m=\u001b[39m conn\u001b[38;5;241m.\u001b[39mexecute(db\u001b[38;5;241m.\u001b[39mtext(V5))\n\u001b[1;32m     12\u001b[0m     dataframe5 \u001b[38;5;241m=\u001b[39m pd\u001b[38;5;241m.\u001b[39mDataFrame(result\u001b[38;5;241m.\u001b[39mfetchall(), columns\u001b[38;5;241m=\u001b[39mresult\u001b[38;5;241m.\u001b[39mkeys())\n\u001b[1;32m     14\u001b[0m \u001b[38;5;28;01mreturn\u001b[39;00m dataframe5\n",
      "File \u001b[0;32m~/anaconda3/lib/python3.11/site-packages/sqlalchemy/engine/base.py:1306\u001b[0m, in \u001b[0;36mConnection.execute\u001b[0;34m(self, statement, *multiparams, **params)\u001b[0m\n\u001b[1;32m   1302\u001b[0m     util\u001b[38;5;241m.\u001b[39mraise_(\n\u001b[1;32m   1303\u001b[0m         exc\u001b[38;5;241m.\u001b[39mObjectNotExecutableError(statement), replace_context\u001b[38;5;241m=\u001b[39merr\n\u001b[1;32m   1304\u001b[0m     )\n\u001b[1;32m   1305\u001b[0m \u001b[38;5;28;01melse\u001b[39;00m:\n\u001b[0;32m-> 1306\u001b[0m     \u001b[38;5;28;01mreturn\u001b[39;00m meth(\u001b[38;5;28mself\u001b[39m, multiparams, params, _EMPTY_EXECUTION_OPTS)\n",
      "File \u001b[0;32m~/anaconda3/lib/python3.11/site-packages/sqlalchemy/sql/elements.py:332\u001b[0m, in \u001b[0;36mClauseElement._execute_on_connection\u001b[0;34m(self, connection, multiparams, params, execution_options, _force)\u001b[0m\n\u001b[1;32m    328\u001b[0m \u001b[38;5;28;01mdef\u001b[39;00m \u001b[38;5;21m_execute_on_connection\u001b[39m(\n\u001b[1;32m    329\u001b[0m     \u001b[38;5;28mself\u001b[39m, connection, multiparams, params, execution_options, _force\u001b[38;5;241m=\u001b[39m\u001b[38;5;28;01mFalse\u001b[39;00m\n\u001b[1;32m    330\u001b[0m ):\n\u001b[1;32m    331\u001b[0m     \u001b[38;5;28;01mif\u001b[39;00m _force \u001b[38;5;129;01mor\u001b[39;00m \u001b[38;5;28mself\u001b[39m\u001b[38;5;241m.\u001b[39msupports_execution:\n\u001b[0;32m--> 332\u001b[0m         \u001b[38;5;28;01mreturn\u001b[39;00m connection\u001b[38;5;241m.\u001b[39m_execute_clauseelement(\n\u001b[1;32m    333\u001b[0m             \u001b[38;5;28mself\u001b[39m, multiparams, params, execution_options\n\u001b[1;32m    334\u001b[0m         )\n\u001b[1;32m    335\u001b[0m     \u001b[38;5;28;01melse\u001b[39;00m:\n\u001b[1;32m    336\u001b[0m         \u001b[38;5;28;01mraise\u001b[39;00m exc\u001b[38;5;241m.\u001b[39mObjectNotExecutableError(\u001b[38;5;28mself\u001b[39m)\n",
      "File \u001b[0;32m~/anaconda3/lib/python3.11/site-packages/sqlalchemy/engine/base.py:1498\u001b[0m, in \u001b[0;36mConnection._execute_clauseelement\u001b[0;34m(self, elem, multiparams, params, execution_options)\u001b[0m\n\u001b[1;32m   1486\u001b[0m compiled_cache \u001b[38;5;241m=\u001b[39m execution_options\u001b[38;5;241m.\u001b[39mget(\n\u001b[1;32m   1487\u001b[0m     \u001b[38;5;124m\"\u001b[39m\u001b[38;5;124mcompiled_cache\u001b[39m\u001b[38;5;124m\"\u001b[39m, \u001b[38;5;28mself\u001b[39m\u001b[38;5;241m.\u001b[39mengine\u001b[38;5;241m.\u001b[39m_compiled_cache\n\u001b[1;32m   1488\u001b[0m )\n\u001b[1;32m   1490\u001b[0m compiled_sql, extracted_params, cache_hit \u001b[38;5;241m=\u001b[39m elem\u001b[38;5;241m.\u001b[39m_compile_w_cache(\n\u001b[1;32m   1491\u001b[0m     dialect\u001b[38;5;241m=\u001b[39mdialect,\n\u001b[1;32m   1492\u001b[0m     compiled_cache\u001b[38;5;241m=\u001b[39mcompiled_cache,\n\u001b[0;32m   (...)\u001b[0m\n\u001b[1;32m   1496\u001b[0m     linting\u001b[38;5;241m=\u001b[39m\u001b[38;5;28mself\u001b[39m\u001b[38;5;241m.\u001b[39mdialect\u001b[38;5;241m.\u001b[39mcompiler_linting \u001b[38;5;241m|\u001b[39m compiler\u001b[38;5;241m.\u001b[39mWARN_LINTING,\n\u001b[1;32m   1497\u001b[0m )\n\u001b[0;32m-> 1498\u001b[0m ret \u001b[38;5;241m=\u001b[39m \u001b[38;5;28mself\u001b[39m\u001b[38;5;241m.\u001b[39m_execute_context(\n\u001b[1;32m   1499\u001b[0m     dialect,\n\u001b[1;32m   1500\u001b[0m     dialect\u001b[38;5;241m.\u001b[39mexecution_ctx_cls\u001b[38;5;241m.\u001b[39m_init_compiled,\n\u001b[1;32m   1501\u001b[0m     compiled_sql,\n\u001b[1;32m   1502\u001b[0m     distilled_params,\n\u001b[1;32m   1503\u001b[0m     execution_options,\n\u001b[1;32m   1504\u001b[0m     compiled_sql,\n\u001b[1;32m   1505\u001b[0m     distilled_params,\n\u001b[1;32m   1506\u001b[0m     elem,\n\u001b[1;32m   1507\u001b[0m     extracted_params,\n\u001b[1;32m   1508\u001b[0m     cache_hit\u001b[38;5;241m=\u001b[39mcache_hit,\n\u001b[1;32m   1509\u001b[0m )\n\u001b[1;32m   1510\u001b[0m \u001b[38;5;28;01mif\u001b[39;00m has_events:\n\u001b[1;32m   1511\u001b[0m     \u001b[38;5;28mself\u001b[39m\u001b[38;5;241m.\u001b[39mdispatch\u001b[38;5;241m.\u001b[39mafter_execute(\n\u001b[1;32m   1512\u001b[0m         \u001b[38;5;28mself\u001b[39m,\n\u001b[1;32m   1513\u001b[0m         elem,\n\u001b[0;32m   (...)\u001b[0m\n\u001b[1;32m   1517\u001b[0m         ret,\n\u001b[1;32m   1518\u001b[0m     )\n",
      "File \u001b[0;32m~/anaconda3/lib/python3.11/site-packages/sqlalchemy/engine/base.py:1862\u001b[0m, in \u001b[0;36mConnection._execute_context\u001b[0;34m(self, dialect, constructor, statement, parameters, execution_options, *args, **kw)\u001b[0m\n\u001b[1;32m   1859\u001b[0m             branched\u001b[38;5;241m.\u001b[39mclose()\n\u001b[1;32m   1861\u001b[0m \u001b[38;5;28;01mexcept\u001b[39;00m \u001b[38;5;167;01mBaseException\u001b[39;00m \u001b[38;5;28;01mas\u001b[39;00m e:\n\u001b[0;32m-> 1862\u001b[0m     \u001b[38;5;28mself\u001b[39m\u001b[38;5;241m.\u001b[39m_handle_dbapi_exception(\n\u001b[1;32m   1863\u001b[0m         e, statement, parameters, cursor, context\n\u001b[1;32m   1864\u001b[0m     )\n\u001b[1;32m   1866\u001b[0m \u001b[38;5;28;01mreturn\u001b[39;00m result\n",
      "File \u001b[0;32m~/anaconda3/lib/python3.11/site-packages/sqlalchemy/engine/base.py:2043\u001b[0m, in \u001b[0;36mConnection._handle_dbapi_exception\u001b[0;34m(self, e, statement, parameters, cursor, context)\u001b[0m\n\u001b[1;32m   2041\u001b[0m     util\u001b[38;5;241m.\u001b[39mraise_(newraise, with_traceback\u001b[38;5;241m=\u001b[39mexc_info[\u001b[38;5;241m2\u001b[39m], from_\u001b[38;5;241m=\u001b[39me)\n\u001b[1;32m   2042\u001b[0m \u001b[38;5;28;01melif\u001b[39;00m should_wrap:\n\u001b[0;32m-> 2043\u001b[0m     util\u001b[38;5;241m.\u001b[39mraise_(\n\u001b[1;32m   2044\u001b[0m         sqlalchemy_exception, with_traceback\u001b[38;5;241m=\u001b[39mexc_info[\u001b[38;5;241m2\u001b[39m], from_\u001b[38;5;241m=\u001b[39me\n\u001b[1;32m   2045\u001b[0m     )\n\u001b[1;32m   2046\u001b[0m \u001b[38;5;28;01melse\u001b[39;00m:\n\u001b[1;32m   2047\u001b[0m     util\u001b[38;5;241m.\u001b[39mraise_(exc_info[\u001b[38;5;241m1\u001b[39m], with_traceback\u001b[38;5;241m=\u001b[39mexc_info[\u001b[38;5;241m2\u001b[39m])\n",
      "File \u001b[0;32m~/anaconda3/lib/python3.11/site-packages/sqlalchemy/util/compat.py:208\u001b[0m, in \u001b[0;36mraise_\u001b[0;34m(***failed resolving arguments***)\u001b[0m\n\u001b[1;32m    205\u001b[0m     exception\u001b[38;5;241m.\u001b[39m__cause__ \u001b[38;5;241m=\u001b[39m replace_context\n\u001b[1;32m    207\u001b[0m \u001b[38;5;28;01mtry\u001b[39;00m:\n\u001b[0;32m--> 208\u001b[0m     \u001b[38;5;28;01mraise\u001b[39;00m exception\n\u001b[1;32m    209\u001b[0m \u001b[38;5;28;01mfinally\u001b[39;00m:\n\u001b[1;32m    210\u001b[0m     \u001b[38;5;66;03m# credit to\u001b[39;00m\n\u001b[1;32m    211\u001b[0m     \u001b[38;5;66;03m# https://cosmicpercolator.com/2016/01/13/exception-leaks-in-python-2-and-3/\u001b[39;00m\n\u001b[1;32m    212\u001b[0m     \u001b[38;5;66;03m# as the __traceback__ object creates a cycle\u001b[39;00m\n\u001b[1;32m    213\u001b[0m     \u001b[38;5;28;01mdel\u001b[39;00m exception, replace_context, from_, with_traceback\n",
      "File \u001b[0;32m~/anaconda3/lib/python3.11/site-packages/sqlalchemy/engine/base.py:1819\u001b[0m, in \u001b[0;36mConnection._execute_context\u001b[0;34m(self, dialect, constructor, statement, parameters, execution_options, *args, **kw)\u001b[0m\n\u001b[1;32m   1817\u001b[0m                 \u001b[38;5;28;01mbreak\u001b[39;00m\n\u001b[1;32m   1818\u001b[0m     \u001b[38;5;28;01mif\u001b[39;00m \u001b[38;5;129;01mnot\u001b[39;00m evt_handled:\n\u001b[0;32m-> 1819\u001b[0m         \u001b[38;5;28mself\u001b[39m\u001b[38;5;241m.\u001b[39mdialect\u001b[38;5;241m.\u001b[39mdo_execute(\n\u001b[1;32m   1820\u001b[0m             cursor, statement, parameters, context\n\u001b[1;32m   1821\u001b[0m         )\n\u001b[1;32m   1823\u001b[0m \u001b[38;5;28;01mif\u001b[39;00m \u001b[38;5;28mself\u001b[39m\u001b[38;5;241m.\u001b[39m_has_events \u001b[38;5;129;01mor\u001b[39;00m \u001b[38;5;28mself\u001b[39m\u001b[38;5;241m.\u001b[39mengine\u001b[38;5;241m.\u001b[39m_has_events:\n\u001b[1;32m   1824\u001b[0m     \u001b[38;5;28mself\u001b[39m\u001b[38;5;241m.\u001b[39mdispatch\u001b[38;5;241m.\u001b[39mafter_cursor_execute(\n\u001b[1;32m   1825\u001b[0m         \u001b[38;5;28mself\u001b[39m,\n\u001b[1;32m   1826\u001b[0m         cursor,\n\u001b[0;32m   (...)\u001b[0m\n\u001b[1;32m   1830\u001b[0m         context\u001b[38;5;241m.\u001b[39mexecutemany,\n\u001b[1;32m   1831\u001b[0m     )\n",
      "File \u001b[0;32m~/anaconda3/lib/python3.11/site-packages/sqlalchemy/engine/default.py:732\u001b[0m, in \u001b[0;36mDefaultDialect.do_execute\u001b[0;34m(self, cursor, statement, parameters, context)\u001b[0m\n\u001b[1;32m    731\u001b[0m \u001b[38;5;28;01mdef\u001b[39;00m \u001b[38;5;21mdo_execute\u001b[39m(\u001b[38;5;28mself\u001b[39m, cursor, statement, parameters, context\u001b[38;5;241m=\u001b[39m\u001b[38;5;28;01mNone\u001b[39;00m):\n\u001b[0;32m--> 732\u001b[0m     cursor\u001b[38;5;241m.\u001b[39mexecute(statement, parameters)\n",
      "\u001b[0;31mProgrammingError\u001b[0m: (psycopg2.errors.UndefinedColumn) column z.geometry does not exist\nLINE 2: ...n.created_date, n.incident_zip, n.complaint_type, z.geometry\n                                                             ^\n\n[SQL: \n    SELECT n.unique_key, n.created_date, n.incident_zip, n.complaint_type, z.geometry\n    FROM nyc_311 n\n    JOIN zip_codes z ON n.incident_zip = z.zipcode\n    WHERE n.created_date BETWEEN '2023-01-01' AND '2023-09-30'\n    AND ST_DistanceSphere(z.geometry, ST_MakePoint(part3q6的经度, 纬度)) <= 1000;\n    ]\n(Background on this error at: https://sqlalche.me/e/14/f405)"
     ]
    }
   ],
   "source": [
    "some_dataframe5 = get_data_for_visual_5()\n",
    "plot_recent_311_incidents(some_dataframe5)"
   ]
  },
  {
   "cell_type": "markdown",
   "id": "a19e835d",
   "metadata": {},
   "source": [
    "### Visualization 6"
   ]
  },
  {
   "cell_type": "code",
   "execution_count": 63,
   "id": "f601e1df",
   "metadata": {},
   "outputs": [],
   "source": [
    "def plot_trees_and_requests(tree_df, request_df):\n",
    "    fig, ax = plt.subplots(figsize=(10, 10))\n",
    "\n",
    "    tree_df.plot(ax=ax, marker='o', color='green', markersize=5, label='Trees')\n",
    "\n",
    "    request_df.plot(ax=ax, marker='x', color='red', markersize=5, label='New Tree Requests')\n",
    "    ax.legend()\n",
    "    ax.set_title('Trees and New Tree Requests in NYC')\n",
    "    \n",
    "    plt.show()"
   ]
  },
  {
   "cell_type": "code",
   "execution_count": 64,
   "id": "645125d5",
   "metadata": {},
   "outputs": [],
   "source": [
    "def get_data_for_visual_6():\n",
    "    V6_trees = \"\"\"\n",
    "    SELECT tree_id, geometry\n",
    "    FROM trees;\n",
    "    \"\"\"\n",
    "\n",
    "    V6_complaints = \"\"\"\n",
    "    SELECT n.unique_key, n.created_date, n.incident_zip, n.complaint_type, z.geometry\n",
    "    FROM nyc_311 n\n",
    "    JOIN zip_codes z ON n.incident_zip = z.zipcode\n",
    "    WHERE n.created_date BETWEEN '2023-01-01' AND '2023-09-30'\n",
    "    AND complaint_type = 'New Tree Request';\n",
    "    \"\"\"\n",
    "\n",
    "    with engine.connect() as conn:\n",
    "        trees_result = conn.execute(db.text(V6_trees))\n",
    "        complaints_result = conn.execute(db.text(V6_complaints))\n",
    "\n",
    "        trees_df = gpd.GeoDataFrame(trees_result.fetchall(), columns=trees_result.keys())\n",
    "        complaints_df = gpd.GeoDataFrame(complaints_result.fetchall(), columns=complaints_result.keys())\n",
    "\n",
    "    return trees_df, complaints_df"
   ]
  },
  {
   "cell_type": "code",
   "execution_count": 65,
   "id": "7f7c19ae",
   "metadata": {},
   "outputs": [
    {
     "ename": "ProgrammingError",
     "evalue": "(psycopg2.errors.UndefinedColumn) column \"geometry\" does not exist\nLINE 2:     SELECT tree_id, geometry\n                            ^\n\n[SQL: \n    SELECT tree_id, geometry\n    FROM trees;\n    ]\n(Background on this error at: https://sqlalche.me/e/14/f405)",
     "output_type": "error",
     "traceback": [
      "\u001b[0;31m---------------------------------------------------------------------------\u001b[0m",
      "\u001b[0;31mUndefinedColumn\u001b[0m                           Traceback (most recent call last)",
      "File \u001b[0;32m~/anaconda3/lib/python3.11/site-packages/sqlalchemy/engine/base.py:1819\u001b[0m, in \u001b[0;36mConnection._execute_context\u001b[0;34m(self, dialect, constructor, statement, parameters, execution_options, *args, **kw)\u001b[0m\n\u001b[1;32m   1818\u001b[0m     \u001b[38;5;28;01mif\u001b[39;00m \u001b[38;5;129;01mnot\u001b[39;00m evt_handled:\n\u001b[0;32m-> 1819\u001b[0m         \u001b[38;5;28mself\u001b[39m\u001b[38;5;241m.\u001b[39mdialect\u001b[38;5;241m.\u001b[39mdo_execute(\n\u001b[1;32m   1820\u001b[0m             cursor, statement, parameters, context\n\u001b[1;32m   1821\u001b[0m         )\n\u001b[1;32m   1823\u001b[0m \u001b[38;5;28;01mif\u001b[39;00m \u001b[38;5;28mself\u001b[39m\u001b[38;5;241m.\u001b[39m_has_events \u001b[38;5;129;01mor\u001b[39;00m \u001b[38;5;28mself\u001b[39m\u001b[38;5;241m.\u001b[39mengine\u001b[38;5;241m.\u001b[39m_has_events:\n",
      "File \u001b[0;32m~/anaconda3/lib/python3.11/site-packages/sqlalchemy/engine/default.py:732\u001b[0m, in \u001b[0;36mDefaultDialect.do_execute\u001b[0;34m(self, cursor, statement, parameters, context)\u001b[0m\n\u001b[1;32m    731\u001b[0m \u001b[38;5;28;01mdef\u001b[39;00m \u001b[38;5;21mdo_execute\u001b[39m(\u001b[38;5;28mself\u001b[39m, cursor, statement, parameters, context\u001b[38;5;241m=\u001b[39m\u001b[38;5;28;01mNone\u001b[39;00m):\n\u001b[0;32m--> 732\u001b[0m     cursor\u001b[38;5;241m.\u001b[39mexecute(statement, parameters)\n",
      "\u001b[0;31mUndefinedColumn\u001b[0m: column \"geometry\" does not exist\nLINE 2:     SELECT tree_id, geometry\n                            ^\n",
      "\nThe above exception was the direct cause of the following exception:\n",
      "\u001b[0;31mProgrammingError\u001b[0m                          Traceback (most recent call last)",
      "Cell \u001b[0;32mIn[65], line 1\u001b[0m\n\u001b[0;32m----> 1\u001b[0m some_dataframe6 \u001b[38;5;241m=\u001b[39m get_data_for_visual_6()\n\u001b[1;32m      2\u001b[0m plot_trees_and_requests(some_dataframe6)\n",
      "Cell \u001b[0;32mIn[64], line 16\u001b[0m, in \u001b[0;36mget_data_for_visual_6\u001b[0;34m()\u001b[0m\n\u001b[1;32m      7\u001b[0m V6_complaints \u001b[38;5;241m=\u001b[39m \u001b[38;5;124m\"\"\"\u001b[39m\n\u001b[1;32m      8\u001b[0m \u001b[38;5;124mSELECT n.unique_key, n.created_date, n.incident_zip, n.complaint_type, z.geometry\u001b[39m\n\u001b[1;32m      9\u001b[0m \u001b[38;5;124mFROM nyc_311 n\u001b[39m\n\u001b[0;32m   (...)\u001b[0m\n\u001b[1;32m     12\u001b[0m \u001b[38;5;124mAND complaint_type = \u001b[39m\u001b[38;5;124m'\u001b[39m\u001b[38;5;124mNew Tree Request\u001b[39m\u001b[38;5;124m'\u001b[39m\u001b[38;5;124m;\u001b[39m\n\u001b[1;32m     13\u001b[0m \u001b[38;5;124m\u001b[39m\u001b[38;5;124m\"\"\"\u001b[39m\n\u001b[1;32m     15\u001b[0m \u001b[38;5;28;01mwith\u001b[39;00m engine\u001b[38;5;241m.\u001b[39mconnect() \u001b[38;5;28;01mas\u001b[39;00m conn:\n\u001b[0;32m---> 16\u001b[0m     trees_result \u001b[38;5;241m=\u001b[39m conn\u001b[38;5;241m.\u001b[39mexecute(db\u001b[38;5;241m.\u001b[39mtext(V6_trees))\n\u001b[1;32m     17\u001b[0m     complaints_result \u001b[38;5;241m=\u001b[39m conn\u001b[38;5;241m.\u001b[39mexecute(db\u001b[38;5;241m.\u001b[39mtext(V6_complaints))\n\u001b[1;32m     19\u001b[0m     trees_df \u001b[38;5;241m=\u001b[39m gpd\u001b[38;5;241m.\u001b[39mGeoDataFrame(trees_result\u001b[38;5;241m.\u001b[39mfetchall(), columns\u001b[38;5;241m=\u001b[39mtrees_result\u001b[38;5;241m.\u001b[39mkeys())\n",
      "File \u001b[0;32m~/anaconda3/lib/python3.11/site-packages/sqlalchemy/engine/base.py:1306\u001b[0m, in \u001b[0;36mConnection.execute\u001b[0;34m(self, statement, *multiparams, **params)\u001b[0m\n\u001b[1;32m   1302\u001b[0m     util\u001b[38;5;241m.\u001b[39mraise_(\n\u001b[1;32m   1303\u001b[0m         exc\u001b[38;5;241m.\u001b[39mObjectNotExecutableError(statement), replace_context\u001b[38;5;241m=\u001b[39merr\n\u001b[1;32m   1304\u001b[0m     )\n\u001b[1;32m   1305\u001b[0m \u001b[38;5;28;01melse\u001b[39;00m:\n\u001b[0;32m-> 1306\u001b[0m     \u001b[38;5;28;01mreturn\u001b[39;00m meth(\u001b[38;5;28mself\u001b[39m, multiparams, params, _EMPTY_EXECUTION_OPTS)\n",
      "File \u001b[0;32m~/anaconda3/lib/python3.11/site-packages/sqlalchemy/sql/elements.py:332\u001b[0m, in \u001b[0;36mClauseElement._execute_on_connection\u001b[0;34m(self, connection, multiparams, params, execution_options, _force)\u001b[0m\n\u001b[1;32m    328\u001b[0m \u001b[38;5;28;01mdef\u001b[39;00m \u001b[38;5;21m_execute_on_connection\u001b[39m(\n\u001b[1;32m    329\u001b[0m     \u001b[38;5;28mself\u001b[39m, connection, multiparams, params, execution_options, _force\u001b[38;5;241m=\u001b[39m\u001b[38;5;28;01mFalse\u001b[39;00m\n\u001b[1;32m    330\u001b[0m ):\n\u001b[1;32m    331\u001b[0m     \u001b[38;5;28;01mif\u001b[39;00m _force \u001b[38;5;129;01mor\u001b[39;00m \u001b[38;5;28mself\u001b[39m\u001b[38;5;241m.\u001b[39msupports_execution:\n\u001b[0;32m--> 332\u001b[0m         \u001b[38;5;28;01mreturn\u001b[39;00m connection\u001b[38;5;241m.\u001b[39m_execute_clauseelement(\n\u001b[1;32m    333\u001b[0m             \u001b[38;5;28mself\u001b[39m, multiparams, params, execution_options\n\u001b[1;32m    334\u001b[0m         )\n\u001b[1;32m    335\u001b[0m     \u001b[38;5;28;01melse\u001b[39;00m:\n\u001b[1;32m    336\u001b[0m         \u001b[38;5;28;01mraise\u001b[39;00m exc\u001b[38;5;241m.\u001b[39mObjectNotExecutableError(\u001b[38;5;28mself\u001b[39m)\n",
      "File \u001b[0;32m~/anaconda3/lib/python3.11/site-packages/sqlalchemy/engine/base.py:1498\u001b[0m, in \u001b[0;36mConnection._execute_clauseelement\u001b[0;34m(self, elem, multiparams, params, execution_options)\u001b[0m\n\u001b[1;32m   1486\u001b[0m compiled_cache \u001b[38;5;241m=\u001b[39m execution_options\u001b[38;5;241m.\u001b[39mget(\n\u001b[1;32m   1487\u001b[0m     \u001b[38;5;124m\"\u001b[39m\u001b[38;5;124mcompiled_cache\u001b[39m\u001b[38;5;124m\"\u001b[39m, \u001b[38;5;28mself\u001b[39m\u001b[38;5;241m.\u001b[39mengine\u001b[38;5;241m.\u001b[39m_compiled_cache\n\u001b[1;32m   1488\u001b[0m )\n\u001b[1;32m   1490\u001b[0m compiled_sql, extracted_params, cache_hit \u001b[38;5;241m=\u001b[39m elem\u001b[38;5;241m.\u001b[39m_compile_w_cache(\n\u001b[1;32m   1491\u001b[0m     dialect\u001b[38;5;241m=\u001b[39mdialect,\n\u001b[1;32m   1492\u001b[0m     compiled_cache\u001b[38;5;241m=\u001b[39mcompiled_cache,\n\u001b[0;32m   (...)\u001b[0m\n\u001b[1;32m   1496\u001b[0m     linting\u001b[38;5;241m=\u001b[39m\u001b[38;5;28mself\u001b[39m\u001b[38;5;241m.\u001b[39mdialect\u001b[38;5;241m.\u001b[39mcompiler_linting \u001b[38;5;241m|\u001b[39m compiler\u001b[38;5;241m.\u001b[39mWARN_LINTING,\n\u001b[1;32m   1497\u001b[0m )\n\u001b[0;32m-> 1498\u001b[0m ret \u001b[38;5;241m=\u001b[39m \u001b[38;5;28mself\u001b[39m\u001b[38;5;241m.\u001b[39m_execute_context(\n\u001b[1;32m   1499\u001b[0m     dialect,\n\u001b[1;32m   1500\u001b[0m     dialect\u001b[38;5;241m.\u001b[39mexecution_ctx_cls\u001b[38;5;241m.\u001b[39m_init_compiled,\n\u001b[1;32m   1501\u001b[0m     compiled_sql,\n\u001b[1;32m   1502\u001b[0m     distilled_params,\n\u001b[1;32m   1503\u001b[0m     execution_options,\n\u001b[1;32m   1504\u001b[0m     compiled_sql,\n\u001b[1;32m   1505\u001b[0m     distilled_params,\n\u001b[1;32m   1506\u001b[0m     elem,\n\u001b[1;32m   1507\u001b[0m     extracted_params,\n\u001b[1;32m   1508\u001b[0m     cache_hit\u001b[38;5;241m=\u001b[39mcache_hit,\n\u001b[1;32m   1509\u001b[0m )\n\u001b[1;32m   1510\u001b[0m \u001b[38;5;28;01mif\u001b[39;00m has_events:\n\u001b[1;32m   1511\u001b[0m     \u001b[38;5;28mself\u001b[39m\u001b[38;5;241m.\u001b[39mdispatch\u001b[38;5;241m.\u001b[39mafter_execute(\n\u001b[1;32m   1512\u001b[0m         \u001b[38;5;28mself\u001b[39m,\n\u001b[1;32m   1513\u001b[0m         elem,\n\u001b[0;32m   (...)\u001b[0m\n\u001b[1;32m   1517\u001b[0m         ret,\n\u001b[1;32m   1518\u001b[0m     )\n",
      "File \u001b[0;32m~/anaconda3/lib/python3.11/site-packages/sqlalchemy/engine/base.py:1862\u001b[0m, in \u001b[0;36mConnection._execute_context\u001b[0;34m(self, dialect, constructor, statement, parameters, execution_options, *args, **kw)\u001b[0m\n\u001b[1;32m   1859\u001b[0m             branched\u001b[38;5;241m.\u001b[39mclose()\n\u001b[1;32m   1861\u001b[0m \u001b[38;5;28;01mexcept\u001b[39;00m \u001b[38;5;167;01mBaseException\u001b[39;00m \u001b[38;5;28;01mas\u001b[39;00m e:\n\u001b[0;32m-> 1862\u001b[0m     \u001b[38;5;28mself\u001b[39m\u001b[38;5;241m.\u001b[39m_handle_dbapi_exception(\n\u001b[1;32m   1863\u001b[0m         e, statement, parameters, cursor, context\n\u001b[1;32m   1864\u001b[0m     )\n\u001b[1;32m   1866\u001b[0m \u001b[38;5;28;01mreturn\u001b[39;00m result\n",
      "File \u001b[0;32m~/anaconda3/lib/python3.11/site-packages/sqlalchemy/engine/base.py:2043\u001b[0m, in \u001b[0;36mConnection._handle_dbapi_exception\u001b[0;34m(self, e, statement, parameters, cursor, context)\u001b[0m\n\u001b[1;32m   2041\u001b[0m     util\u001b[38;5;241m.\u001b[39mraise_(newraise, with_traceback\u001b[38;5;241m=\u001b[39mexc_info[\u001b[38;5;241m2\u001b[39m], from_\u001b[38;5;241m=\u001b[39me)\n\u001b[1;32m   2042\u001b[0m \u001b[38;5;28;01melif\u001b[39;00m should_wrap:\n\u001b[0;32m-> 2043\u001b[0m     util\u001b[38;5;241m.\u001b[39mraise_(\n\u001b[1;32m   2044\u001b[0m         sqlalchemy_exception, with_traceback\u001b[38;5;241m=\u001b[39mexc_info[\u001b[38;5;241m2\u001b[39m], from_\u001b[38;5;241m=\u001b[39me\n\u001b[1;32m   2045\u001b[0m     )\n\u001b[1;32m   2046\u001b[0m \u001b[38;5;28;01melse\u001b[39;00m:\n\u001b[1;32m   2047\u001b[0m     util\u001b[38;5;241m.\u001b[39mraise_(exc_info[\u001b[38;5;241m1\u001b[39m], with_traceback\u001b[38;5;241m=\u001b[39mexc_info[\u001b[38;5;241m2\u001b[39m])\n",
      "File \u001b[0;32m~/anaconda3/lib/python3.11/site-packages/sqlalchemy/util/compat.py:208\u001b[0m, in \u001b[0;36mraise_\u001b[0;34m(***failed resolving arguments***)\u001b[0m\n\u001b[1;32m    205\u001b[0m     exception\u001b[38;5;241m.\u001b[39m__cause__ \u001b[38;5;241m=\u001b[39m replace_context\n\u001b[1;32m    207\u001b[0m \u001b[38;5;28;01mtry\u001b[39;00m:\n\u001b[0;32m--> 208\u001b[0m     \u001b[38;5;28;01mraise\u001b[39;00m exception\n\u001b[1;32m    209\u001b[0m \u001b[38;5;28;01mfinally\u001b[39;00m:\n\u001b[1;32m    210\u001b[0m     \u001b[38;5;66;03m# credit to\u001b[39;00m\n\u001b[1;32m    211\u001b[0m     \u001b[38;5;66;03m# https://cosmicpercolator.com/2016/01/13/exception-leaks-in-python-2-and-3/\u001b[39;00m\n\u001b[1;32m    212\u001b[0m     \u001b[38;5;66;03m# as the __traceback__ object creates a cycle\u001b[39;00m\n\u001b[1;32m    213\u001b[0m     \u001b[38;5;28;01mdel\u001b[39;00m exception, replace_context, from_, with_traceback\n",
      "File \u001b[0;32m~/anaconda3/lib/python3.11/site-packages/sqlalchemy/engine/base.py:1819\u001b[0m, in \u001b[0;36mConnection._execute_context\u001b[0;34m(self, dialect, constructor, statement, parameters, execution_options, *args, **kw)\u001b[0m\n\u001b[1;32m   1817\u001b[0m                 \u001b[38;5;28;01mbreak\u001b[39;00m\n\u001b[1;32m   1818\u001b[0m     \u001b[38;5;28;01mif\u001b[39;00m \u001b[38;5;129;01mnot\u001b[39;00m evt_handled:\n\u001b[0;32m-> 1819\u001b[0m         \u001b[38;5;28mself\u001b[39m\u001b[38;5;241m.\u001b[39mdialect\u001b[38;5;241m.\u001b[39mdo_execute(\n\u001b[1;32m   1820\u001b[0m             cursor, statement, parameters, context\n\u001b[1;32m   1821\u001b[0m         )\n\u001b[1;32m   1823\u001b[0m \u001b[38;5;28;01mif\u001b[39;00m \u001b[38;5;28mself\u001b[39m\u001b[38;5;241m.\u001b[39m_has_events \u001b[38;5;129;01mor\u001b[39;00m \u001b[38;5;28mself\u001b[39m\u001b[38;5;241m.\u001b[39mengine\u001b[38;5;241m.\u001b[39m_has_events:\n\u001b[1;32m   1824\u001b[0m     \u001b[38;5;28mself\u001b[39m\u001b[38;5;241m.\u001b[39mdispatch\u001b[38;5;241m.\u001b[39mafter_cursor_execute(\n\u001b[1;32m   1825\u001b[0m         \u001b[38;5;28mself\u001b[39m,\n\u001b[1;32m   1826\u001b[0m         cursor,\n\u001b[0;32m   (...)\u001b[0m\n\u001b[1;32m   1830\u001b[0m         context\u001b[38;5;241m.\u001b[39mexecutemany,\n\u001b[1;32m   1831\u001b[0m     )\n",
      "File \u001b[0;32m~/anaconda3/lib/python3.11/site-packages/sqlalchemy/engine/default.py:732\u001b[0m, in \u001b[0;36mDefaultDialect.do_execute\u001b[0;34m(self, cursor, statement, parameters, context)\u001b[0m\n\u001b[1;32m    731\u001b[0m \u001b[38;5;28;01mdef\u001b[39;00m \u001b[38;5;21mdo_execute\u001b[39m(\u001b[38;5;28mself\u001b[39m, cursor, statement, parameters, context\u001b[38;5;241m=\u001b[39m\u001b[38;5;28;01mNone\u001b[39;00m):\n\u001b[0;32m--> 732\u001b[0m     cursor\u001b[38;5;241m.\u001b[39mexecute(statement, parameters)\n",
      "\u001b[0;31mProgrammingError\u001b[0m: (psycopg2.errors.UndefinedColumn) column \"geometry\" does not exist\nLINE 2:     SELECT tree_id, geometry\n                            ^\n\n[SQL: \n    SELECT tree_id, geometry\n    FROM trees;\n    ]\n(Background on this error at: https://sqlalche.me/e/14/f405)"
     ]
    }
   ],
   "source": [
    "some_dataframe6 = get_data_for_visual_6()\n",
    "plot_trees_and_requests(some_dataframe6)"
   ]
  },
  {
   "cell_type": "code",
   "execution_count": null,
   "id": "0cdfaf54",
   "metadata": {},
   "outputs": [],
   "source": []
  }
 ],
 "metadata": {
  "kernelspec": {
   "display_name": "Python 3 (ipykernel)",
   "language": "python",
   "name": "python3"
  },
  "language_info": {
   "codemirror_mode": {
    "name": "ipython",
    "version": 3
   },
   "file_extension": ".py",
   "mimetype": "text/x-python",
   "name": "python",
   "nbconvert_exporter": "python",
   "pygments_lexer": "ipython3",
   "version": "3.11.4"
  }
 },
 "nbformat": 4,
 "nbformat_minor": 5
}
