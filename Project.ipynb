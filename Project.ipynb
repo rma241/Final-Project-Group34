{
 "cells": [
  {
   "cell_type": "markdown",
   "id": "d4c5a136-e872-4846-9965-9ddc5251a0b3",
   "metadata": {},
   "source": [
    "# NYC Apartment Search\n",
    "\n",
    "_[Project prompt](https://docs.google.com/document/d/1BYVyFBDcTywdUlanH0ysfOrNWPgl7UkqXA7NeewTzxA/edit#heading=h.bpxu7uvknnbk)_\n",
    "\n",
    "_This scaffolding notebook may be used to help setup your final project. It's **totally optional** whether you make use of this or not._\n",
    "\n",
    "_If you do use this notebook, everything provided is optional as well - you may remove or add code as you wish._\n",
    "\n",
    "_**All code below should be consider \"pseudo-code\" - not functional by itself, and only an idea of a possible approach.**_"
   ]
  },
  {
   "cell_type": "markdown",
   "id": "bdf11fa0-4684-4f5e-8048-0f4cc5f4f243",
   "metadata": {},
   "source": [
    "## Setup"
   ]
  },
  {
   "cell_type": "code",
   "execution_count": 5,
   "id": "0f675d4b-794e-407c-aac9-b85c4a3975d2",
   "metadata": {},
   "outputs": [],
   "source": [
    "# All import statements needed for the project, for example:\n",
    "\n",
    "import json\n",
    "import pathlib\n",
    "import urllib.parse\n",
    "import geoalchemy2 as gdb\n",
    "from geoalchemy2 import WKTElement\n",
    "from geoalchemy2 import Geometry\n",
    "import geopandas as gpd\n",
    "import matplotlib.pyplot as plt\n",
    "import pandas as pd\n",
    "import requests\n",
    "import shapely\n",
    "import sqlalchemy as db\n",
    "from sqlalchemy import create_engine, text\n",
    "import numpy as np\n",
    "from shapely import wkt\n",
    "from shapely import wkb\n",
    "import psycopg2\n",
    "import binascii\n",
    "\n",
    "from sqlalchemy.orm import declarative_base"
   ]
  },
  {
   "cell_type": "code",
   "execution_count": 6,
   "id": "70a62277-51cf-48a2-81d2-9b2127088a7e",
   "metadata": {},
   "outputs": [],
   "source": [
    "# Any constants you might need; some have been added for you\n",
    "\n",
    "# Where data files will be read from/written to - this should already exist\n",
    "DATA_DIR = pathlib.Path(\"data\")\n",
    "#DATA_DIR = pathlib.Path(\"/Users/sun/Documents/GitHub/Final-Project-Group34/data\")\n",
    "ZIPCODE_DATA_FILE = DATA_DIR / \"nyc_zipcodes\" / \"nyc_zipcodes.shp\" \n",
    "ZILLOW_DATA_FILE = DATA_DIR / \"zillow_rent_data.csv\"\n",
    "\n",
    "\n",
    "NYC_DATA_APP_TOKEN = \"ViHT9fZpI3IQw23Bqm2tTgCVE\"\n",
    "BASE_NYC_DATA_URL = \"https://data.cityofnewyork.us/\"\n",
    "NYC_DATA_311 = \"erm2-nwe9.geojson\"\n",
    "NYC_DATA_TREES = \"5rq2-4hqu.geojson\"\n",
    "\n",
    "DB_NAME = \"Final_project\"\n",
    "DB_USER = \"postgres\"\n",
    "DB_PASSWORD = \"yq001018\"\n",
    "DB_HOST = \"localhost\"  \n",
    "DB_PORT = \"5432\" \n",
    "\n",
    "DB_URL = f\"postgresql://{DB_USER}:{DB_PASSWORD}@{DB_HOST}:{DB_PORT}/{DB_NAME}\"\n",
    "DB_SCHEMA_FILE = \"schema.sql\"\n",
    "\n",
    "# directory where DB queries for Part 3 will be saved\n",
    "#QUERY_DIR = pathlib.Path(\"/Users/sun/Documents/GitHub/Final-Project-Group34/queries\")\n",
    "QUERY_DIR = pathlib.Path(\"queries\")\n",
    "\n",
    "\n",
    "# 2015-01-01\n",
    "endpoint_311 = f\"{BASE_NYC_DATA_URL}resource/{NYC_DATA_311}?\"\\\n",
    "               \"$select= unique_key, created_date,incident_zip,complaint_type&\"\\\n",
    "               \"$where= created_date between '2022-10-01' and'2023-10-01'&$limit=3500000&\"\\\n",
    "               f\"$$app_token={NYC_DATA_APP_TOKEN}\"\n",
    "\n",
    "endpoint_311_2 = f\"{BASE_NYC_DATA_URL}resource/{NYC_DATA_311}?\"\\\n",
    "                 \"$select= unique_key, created_date,incident_zip,complaint_type&\"\\\n",
    "                 \"$where= created_date between '2015-01-01' and'2017-01-01'&$limit=5000000&\"\\\n",
    "                 f\"$$app_token={NYC_DATA_APP_TOKEN}\"\n",
    "\n",
    "endpoint_311_3 = f\"{BASE_NYC_DATA_URL}resource/{NYC_DATA_311}?\"\\\n",
    "                 \"$select= unique_key, created_date,incident_zip,complaint_type&\"\\\n",
    "                 \"$where= created_date between '2017-01-01' and'2019-01-01'&$limit=5300000&\"\\\n",
    "                 f\"$$app_token={NYC_DATA_APP_TOKEN}\"\n",
    "\n",
    "endpoint_311_4 = f\"{BASE_NYC_DATA_URL}resource/{NYC_DATA_311}?\"\\\n",
    "                 \"$select= unique_key, created_date,incident_zip,complaint_type&\"\\\n",
    "                 \"$where= created_date between '2019-10-01' and'2021-01-01'&$limit=5600000&\"\\\n",
    "                 f\"$$app_token={NYC_DATA_APP_TOKEN}\"\n",
    "\n",
    "endpoint_311_5 = f\"{BASE_NYC_DATA_URL}resource/{NYC_DATA_311}?\"\\\n",
    "                 \"$select= unique_key, created_date,incident_zip,complaint_type&\"\\\n",
    "                 \"$where= created_date between '2021-01-01' and'2022-10-01'&$limit=5700000&\"\\\n",
    "                 f\"$$app_token={NYC_DATA_APP_TOKEN}\"\n",
    "\n",
    "\n",
    "endpoint_trees = f\"{BASE_NYC_DATA_URL}resource/{NYC_DATA_TREES}?\"\\\n",
    "                 \"$select=tree_id,the_geom,zipcode,zip_city,health,spc_common&\"\\\n",
    "                 f\"$$app_token={NYC_DATA_APP_TOKEN}&$limit=65000 &$where= zip_city='New York'\""
   ]
  },
  {
   "cell_type": "markdown",
   "id": "52476a07-9bf2-4b7a-8cb7-93648bb4d303",
   "metadata": {},
   "source": [
    "## Part 1: Data Preprocessing"
   ]
  },
  {
   "cell_type": "code",
   "execution_count": null,
   "id": "ee245240-2fbb-45b8-9a92-4e2368f62c60",
   "metadata": {},
   "outputs": [],
   "source": [
    "def load_and_clean_zipcodes():\n",
    "    zipcodes_df = gpd.read_file(ZIPCODE_DATA_FILE)\n",
    "    zipcodes_df = zipcodes_df[zipcodes_df['PO_NAME'] == 'New York']\n",
    "    zipcodes_df[[\"ZIPCODE\",\"geometry\"]]\n",
    "    zipcodes_df.rename(columns={'ZIPCODE': 'zipcode'}, inplace=True)\n",
    "    zipcodes_df = zipcodes_df.to_crs(epsg=4326)\n",
    "    return zipcodes_df[[\"zipcode\",\"geometry\"]]"
   ]
  },
  {
   "cell_type": "code",
   "execution_count": null,
   "id": "eed2a5a9-1027-4c41-bbb5-039c32ce7e9b",
   "metadata": {},
   "outputs": [],
   "source": [
    "def download_and_clean_311_data():\n",
    "    content = requests.get(endpoint_311)\n",
    "    data_311 = gpd.read_file(content.text)\n",
    "    \n",
    "#     content = requests.get(endpoint_311_2)\n",
    "#     data_311_2 = gpd.read_file(content.text)\n",
    "    \n",
    "#     content = requests.get(endpoint_311_3)\n",
    "#     data_311_3 = gpd.read_file(content.text)\n",
    "    \n",
    "#     content = requests.get(endpoint_311_4)\n",
    "#     data_311_4 = gpd.read_file(content.text)\n",
    "    \n",
    "#     content = requests.get(endpoint_311_5)\n",
    "#     data_311_5 = gpd.read_file(content.text)\n",
    "    \n",
    "#     data_311 = pd.concat([data_311, data_311_2, data_311_3, data_311_4, data_311_5], axis=0)\n",
    "    data_311.rename(columns={data_311.columns[2]: 'zipcode'}, inplace=True) \n",
    "    \n",
    "    return data_311[[\"unique_key\",\"created_date\",\"zipcode\",\"complaint_type\"]]"
   ]
  },
  {
   "cell_type": "code",
   "execution_count": null,
   "id": "39c4b1bc-c841-4b87-8301-1dc2cafeccc7",
   "metadata": {},
   "outputs": [],
   "source": [
    "def download_and_clean_tree_data():\n",
    "    content = requests.get(endpoint_trees)\n",
    "    data_tree = gpd.read_file(content.text).reset_index()\n",
    "    data_tree.rename(columns={data_tree.columns[4]: 'species'}, inplace=True)\n",
    "    data_tree.rename(columns={data_tree.columns[6]: 'geometry'}, inplace=True)\n",
    "    return data_tree[[\"tree_id\",\"geometry\",\"zipcode\",\"health\",\"species\"]]"
   ]
  },
  {
   "cell_type": "code",
   "execution_count": null,
   "id": "747ff49f-a18b-4fc0-8da6-6834a10d11ce",
   "metadata": {},
   "outputs": [],
   "source": [
    "def load_and_clean_zillow_data():\n",
    "    zillow_df = gpd.read_file(ZILLOW_DATA_FILE)\n",
    "    zillow_df = zillow_df[zillow_df['City'] == 'New York']\n",
    "    date_columns = [col for col in zillow_df if col >= '2015-01-31' and col <= '2023-09-30']\n",
    "\n",
    "    for col in date_columns:\n",
    "        zillow_df[col] = pd.to_numeric(zillow_df[col], errors='coerce')\n",
    "    zillow_df.rename(columns={'RegionID': 'regionid'},inplace=True)\n",
    "    zillow_df.rename(columns={'RegionName': 'zipcode'},inplace=True)\n",
    "    return zillow_df[[\"regionid\",'zipcode'] + date_columns]"
   ]
  },
  {
   "cell_type": "code",
   "execution_count": null,
   "id": "345ebc2c-14f1-490c-9857-11f1e332e3bc",
   "metadata": {},
   "outputs": [],
   "source": [
    "def load_all_data():\n",
    "    geodf_zipcode_data = load_and_clean_zipcodes()\n",
    "    geodf_311_data = download_and_clean_311_data()\n",
    "    geodf_tree_data = download_and_clean_tree_data()\n",
    "    df_zillow_data = load_and_clean_zillow_data()\n",
    "    return (\n",
    "        geodf_zipcode_data,\n",
    "        geodf_311_data,\n",
    "        geodf_tree_data,\n",
    "        df_zillow_data\n",
    "    )"
   ]
  },
  {
   "cell_type": "code",
   "execution_count": null,
   "id": "f2768bc8-4130-4298-be28-13d4b250a666",
   "metadata": {},
   "outputs": [],
   "source": [
    "geodf_zipcode_data, geodf_311_data, geodf_tree_data, df_zillow_data = load_all_data()"
   ]
  },
  {
   "cell_type": "code",
   "execution_count": null,
   "id": "23ad8bbc-bf91-457e-97db-a945fabeee29",
   "metadata": {
    "scrolled": false
   },
   "outputs": [],
   "source": [
    "# Show basic info about each dataframe\n",
    "geodf_zipcode_data.info()"
   ]
  },
  {
   "cell_type": "code",
   "execution_count": null,
   "id": "ec68f4be-f365-46c1-91a1-ab75deb75ff4",
   "metadata": {},
   "outputs": [],
   "source": [
    "# Show first 5 entries about each dataframe\n",
    "geodf_zipcode_data.head()"
   ]
  },
  {
   "cell_type": "code",
   "execution_count": null,
   "id": "6a803b68-2f07-44b8-8b24-d4f16c9e03fe",
   "metadata": {},
   "outputs": [],
   "source": [
    "geodf_311_data.info()"
   ]
  },
  {
   "cell_type": "code",
   "execution_count": null,
   "id": "14705df9-ea77-4d57-ac8e-1845f80a216d",
   "metadata": {},
   "outputs": [],
   "source": [
    "geodf_311_data.head()"
   ]
  },
  {
   "cell_type": "code",
   "execution_count": null,
   "id": "e6006cd2-3a00-4660-8d2a-a660b9bfd91e",
   "metadata": {},
   "outputs": [],
   "source": [
    "geodf_tree_data.info()"
   ]
  },
  {
   "cell_type": "code",
   "execution_count": null,
   "id": "07f880ef-c5fc-4159-8174-21ccd44f492d",
   "metadata": {},
   "outputs": [],
   "source": [
    "geodf_tree_data.head()"
   ]
  },
  {
   "cell_type": "code",
   "execution_count": null,
   "id": "59724f74-5f1e-435c-b843-f381a875dd4a",
   "metadata": {},
   "outputs": [],
   "source": [
    "df_zillow_data.info()"
   ]
  },
  {
   "cell_type": "code",
   "execution_count": null,
   "id": "e29ae5d9-9768-4590-a2f2-dd63b07dd712",
   "metadata": {},
   "outputs": [],
   "source": [
    "df_zillow_data.head()"
   ]
  },
  {
   "cell_type": "markdown",
   "id": "e685942c-26dc-40db-84c2-a71aa3340806",
   "metadata": {},
   "source": [
    "## Part 2: Storing Data"
   ]
  },
  {
   "cell_type": "code",
   "execution_count": null,
   "id": "45155151",
   "metadata": {},
   "outputs": [],
   "source": [
    "#!createdb Final_project"
   ]
  },
  {
   "cell_type": "code",
   "execution_count": null,
   "id": "bfa95eb9",
   "metadata": {},
   "outputs": [],
   "source": [
    "#!psql --dbname Final_project -c 'CREATE EXTENSION postgis;'"
   ]
  },
  {
   "cell_type": "code",
   "execution_count": null,
   "id": "36c1017c",
   "metadata": {},
   "outputs": [],
   "source": [
    "# Connect to pgsl\n",
    "conn = psycopg2.connect(f\"dbname={DB_NAME} user={DB_USER}\")\n",
    "cur = conn.cursor()"
   ]
  },
  {
   "cell_type": "markdown",
   "id": "527a251c-f337-4b24-bb41-96ee4621a9bd",
   "metadata": {},
   "source": [
    "### Creating Tables\n",
    "\n",
    "\n",
    "These are just a couple of options to creating your tables; you can use one or the other, a different method, or a combination."
   ]
  },
  {
   "cell_type": "code",
   "execution_count": 7,
   "id": "e3d72390-3c2d-4856-82c0-3284e8ccb24e",
   "metadata": {
    "scrolled": true
   },
   "outputs": [],
   "source": [
    "engine = db.create_engine(DB_URL)"
   ]
  },
  {
   "cell_type": "code",
   "execution_count": null,
   "id": "490d0cc6-74b3-4d35-a454-57f647c9f8e3",
   "metadata": {},
   "outputs": [],
   "source": [
    "# if using SQL (as opposed to SQLAlchemy), define the SQL statements to create your 4 tables\n",
    "ZIPCODE_SCHEMA = \"\"\"\n",
    "    CREATE TABLE IF NOT EXISTS zip_codes (\n",
    "        zipcode VARCHAR,\n",
    "        the_geom GEOMETRY\n",
    "    )\n",
    "    \"\"\"\n",
    "\n",
    "NYC_311_SCHEMA = \"\"\"\n",
    "    CREATE TABLE IF NOT EXISTS nyc_311 (\n",
    "        unique_key INTEGER PRIMARY KEY,\n",
    "        created_date DATE,\n",
    "        zipcode VARCHAR,\n",
    "        complaint_type VARCHAR\n",
    "    )\n",
    "    \"\"\"\n",
    "\n",
    "NYC_TREE_SCHEMA = \"\"\"\n",
    "    CREATE TABLE IF NOT EXISTS trees (\n",
    "        tree_id INTEGER PRIMARY KEY,\n",
    "        zipcode VARCHAR,\n",
    "        the_geom GEOMETRY,\n",
    "        health VARCHAR,\n",
    "        species VARCHAR\n",
    "    )\n",
    "    \"\"\"\n",
    "\n",
    "date_col = [f'\"{col}\" REAL' for col in df_zillow_data.columns if col.startswith('20')]\n",
    "\n",
    "ZILLOW_SCHEMA = f\"\"\"\n",
    "CREATE TABLE IF NOT EXISTS rent (\n",
    "    regionid INTEGER PRIMARY KEY,\n",
    "    zipcode VARCHAR,\n",
    "    {', '.join(date_col)}\n",
    ")\n",
    "\"\"\""
   ]
  },
  {
   "cell_type": "code",
   "execution_count": null,
   "id": "f36d86f6-ff6e-4bb8-8fa2-df0d4282e959",
   "metadata": {},
   "outputs": [],
   "source": [
    "# create that required schema.sql file\n",
    "with open(DB_SCHEMA_FILE, \"w\") as f:\n",
    "    f.write(ZIPCODE_SCHEMA)\n",
    "    f.write(NYC_311_SCHEMA)\n",
    "    f.write(NYC_TREE_SCHEMA)\n",
    "    f.write(ZILLOW_SCHEMA)"
   ]
  },
  {
   "cell_type": "code",
   "execution_count": null,
   "id": "48eacd37-4fd7-4768-b689-88b07d5c234e",
   "metadata": {},
   "outputs": [],
   "source": [
    "# If using SQL (as opposed to SQLAlchemy), execute the schema files to create tables\n",
    "with cur:\n",
    "    cur.execute(ZIPCODE_SCHEMA)\n",
    "    cur.execute(NYC_311_SCHEMA)\n",
    "    cur.execute(NYC_TREE_SCHEMA)\n",
    "    cur.execute(ZILLOW_SCHEMA)\n",
    "\n",
    "conn.commit()"
   ]
  },
  {
   "cell_type": "markdown",
   "id": "2e88a50c-9528-4a5c-9a52-b96781ee8985",
   "metadata": {},
   "source": [
    "### Add Data to Database\n",
    "\n",
    "These are just a couple of options to write data to your tables; you can use one or the other, a different method, or a combination."
   ]
  },
  {
   "cell_type": "code",
   "execution_count": null,
   "id": "69e37800-cd95-44b5-9c21-eb7ac2b2e4ec",
   "metadata": {},
   "outputs": [],
   "source": [
    "def write_dataframes_to_table(tablename_to_dataframe):\n",
    "    for tablename, dataframe in tablename_to_dataframe.items():\n",
    "        if 'geometry' in dataframe.columns:\n",
    "            temp_df = dataframe\n",
    "            temp_df['the_geom'] = temp_df['geometry'].apply(lambda geom: WKTElement(geom.wkt, srid=4326) if geom is not None else None)\n",
    "            temp_df.drop('geometry',axis=1,inplace=True)\n",
    "            temp_df.to_sql(tablename, engine, if_exists='replace', index=False, \n",
    "                             dtype={'the_geom': Geometry('GEOMETRY', srid=4326)}) \n",
    "            \n",
    "        else:\n",
    "            dataframe.to_sql(tablename, engine, if_exists='replace', index=False)"
   ]
  },
  {
   "cell_type": "code",
   "execution_count": null,
   "id": "d1f042f5-8270-477d-929a-872f7d9a0bc8",
   "metadata": {},
   "outputs": [],
   "source": [
    "tablename_to_dataframe = {\n",
    "    \"zip_codes\": geodf_zipcode_data,\n",
    "    \"nyc_311\": geodf_311_data,\n",
    "    \"trees\": geodf_tree_data,\n",
    "    \"rent\": df_zillow_data,\n",
    "}"
   ]
  },
  {
   "cell_type": "code",
   "execution_count": null,
   "id": "9d052c50-1e43-4356-bcac-4f5abc7e714b",
   "metadata": {},
   "outputs": [],
   "source": [
    "write_dataframes_to_table(tablename_to_dataframe)"
   ]
  },
  {
   "cell_type": "markdown",
   "id": "eb63b553-0c64-4da8-9fc7-41555d89d853",
   "metadata": {},
   "source": [
    "## Part 3: Understanding the Data"
   ]
  },
  {
   "cell_type": "code",
   "execution_count": null,
   "id": "d6ce8548-4aba-4bf9-992c-dedd0f249db4",
   "metadata": {},
   "outputs": [],
   "source": [
    "# Helper function to write the queries to file\n",
    "def write_query_to_file(query, outfile):\n",
    "    with open(outfile, 'w') as file:\n",
    "        file.write(query)"
   ]
  },
  {
   "cell_type": "markdown",
   "id": "273ee903",
   "metadata": {},
   "source": [
    "### Query 1"
   ]
  },
  {
   "cell_type": "code",
   "execution_count": null,
   "id": "6605e6f3-ec42-4a8b-833c-5138c14b678b",
   "metadata": {},
   "outputs": [],
   "source": [
    "QUERY_1_FILENAME = QUERY_DIR / \"Q1_311compliants_per_zipcode.sql\"\n",
    "\n",
    "QUERY_1 = \"\"\"\n",
    "SELECT zipcode, COUNT(unique_key) as total_complaints\n",
    "FROM nyc_311\n",
    "WHERE created_date BETWEEN '2022-10-01' AND '2023-09-30'\n",
    "GROUP BY zipcode\n",
    "ORDER BY total_complaints DESC;\n",
    "\"\"\""
   ]
  },
  {
   "cell_type": "code",
   "execution_count": null,
   "id": "ce044adf-ecdf-4237-9b20-b7cdaaab0c6c",
   "metadata": {},
   "outputs": [],
   "source": [
    "with engine.connect() as conn:\n",
    "    result = conn.execute(db.text(QUERY_1))\n",
    "    for row in result:\n",
    "        print(row)"
   ]
  },
  {
   "cell_type": "code",
   "execution_count": null,
   "id": "4b7b2c3d-8961-4c7e-8eb1-fc973d0ab9c1",
   "metadata": {
    "scrolled": true
   },
   "outputs": [],
   "source": [
    "write_query_to_file(QUERY_1, QUERY_1_FILENAME)"
   ]
  },
  {
   "cell_type": "markdown",
   "id": "60cb5add",
   "metadata": {},
   "source": [
    "### Query 2"
   ]
  },
  {
   "cell_type": "code",
   "execution_count": null,
   "id": "508e0fd8",
   "metadata": {},
   "outputs": [],
   "source": [
    "QUERY_2_FILENAME = QUERY_DIR / \"Q2_10_zipcodes_have_the_most_trees.sql\"\n",
    "QUERY_2 = \"\"\"\n",
    "SELECT zipcode, COUNT(tree_id) AS total_trees\n",
    "FROM trees\n",
    "GROUP BY zipcode\n",
    "ORDER BY total_trees DESC\n",
    "LIMIT 10;\n",
    "\"\"\""
   ]
  },
  {
   "cell_type": "code",
   "execution_count": null,
   "id": "287d8c3f",
   "metadata": {},
   "outputs": [],
   "source": [
    "with engine.connect() as conn:\n",
    "    result = conn.execute(db.text(QUERY_2))\n",
    "    for row in result:\n",
    "        print(row)"
   ]
  },
  {
   "cell_type": "code",
   "execution_count": null,
   "id": "da0b4f8f",
   "metadata": {},
   "outputs": [],
   "source": [
    "write_query_to_file(QUERY_2, QUERY_2_FILENAME)"
   ]
  },
  {
   "cell_type": "markdown",
   "id": "05865bf1",
   "metadata": {},
   "source": [
    "### Query 3"
   ]
  },
  {
   "cell_type": "code",
   "execution_count": null,
   "id": "f4c4be62",
   "metadata": {},
   "outputs": [],
   "source": [
    "QUERY_3_FILENAME = QUERY_DIR / \"Q3_the_average_rent_of_top10_trees_zipcode .sql\"\n",
    "QUERY_3 = \"\"\"\n",
    "SELECT t.zipcode, \n",
    "       ROUND(CAST(r.\"2023-08-31\" AS NUMERIC), 2) AS August2023\n",
    "FROM trees t\n",
    "JOIN rent r ON t.zipcode = r.zipcode\n",
    "GROUP BY t.zipcode, r.\"2023-08-31\"\n",
    "ORDER BY COUNT(t.tree_id) DESC\n",
    "LIMIT 10;\n",
    "\"\"\""
   ]
  },
  {
   "cell_type": "code",
   "execution_count": null,
   "id": "df96bffc",
   "metadata": {},
   "outputs": [],
   "source": [
    "with engine.connect() as conn:\n",
    "    result = conn.execute(db.text(QUERY_3))\n",
    "    for row in result:\n",
    "        print(row)"
   ]
  },
  {
   "cell_type": "code",
   "execution_count": null,
   "id": "c99a8eef",
   "metadata": {},
   "outputs": [],
   "source": [
    "write_query_to_file(QUERY_3, QUERY_3_FILENAME)"
   ]
  },
  {
   "cell_type": "markdown",
   "id": "df2285c7",
   "metadata": {},
   "source": [
    "### Query 4"
   ]
  },
  {
   "cell_type": "code",
   "execution_count": null,
   "id": "367b7a6c",
   "metadata": {},
   "outputs": [],
   "source": [
    "QUERY_4_FILENAME = QUERY_DIR / \"Q4_top&bottom5_zipcodes_by_rent_with_trees_compliants_count.sql\"\n",
    "\n",
    "QUERY_4 = \"\"\"\n",
    "(SELECT rent.zipcode, rent.\"2015-01-31\", total_trees, total_complaints\n",
    "FROM rent\n",
    "JOIN (SELECT nyc_311.zipcode, COUNT(nyc_311.unique_key) as total_complaints\n",
    "            FROM nyc_311\n",
    "            WHERE created_date BETWEEN '2023-01-01' AND '2023-01-31'\n",
    "            GROUP BY nyc_311.zipcode\n",
    ") nyc_311\n",
    "ON rent.zipcode = nyc_311.zipcode\n",
    "JOIN (SELECT trees.zipcode, COUNT(trees.tree_id) as total_trees\n",
    "            FROM trees\n",
    "            GROUP BY trees.zipcode\n",
    ") trees\n",
    "ON rent.zipcode = trees.zipcode\n",
    "WHERE rent.\"2015-01-31\" IS NOT NULL\n",
    "ORDER BY rent.\"2015-01-31\" DESC\n",
    "LIMIT 5)\n",
    "UNION\n",
    "(SELECT rent.zipcode, rent.\"2015-01-31\", total_trees, total_complaints\n",
    "FROM rent\n",
    "JOIN (SELECT nyc_311.zipcode, COUNT(nyc_311.unique_key) as total_complaints\n",
    "            FROM nyc_311\n",
    "            WHERE created_date BETWEEN '2023-01-01' AND '2023-01-31'\n",
    "            GROUP BY nyc_311.zipcode\n",
    ") nyc_311\n",
    "ON rent.zipcode = nyc_311.zipcode\n",
    "JOIN (SELECT trees.zipcode, COUNT(trees.tree_id) as total_trees\n",
    "            FROM trees\n",
    "            GROUP BY trees.zipcode\n",
    ") trees\n",
    "ON rent.zipcode = trees.zipcode\n",
    "WHERE rent.\"2015-01-31\" IS NOT NULL\n",
    "ORDER BY rent.\"2015-01-31\" ASC\n",
    "LIMIT 5)\n",
    "\"\"\""
   ]
  },
  {
   "cell_type": "code",
   "execution_count": null,
   "id": "548e5396",
   "metadata": {},
   "outputs": [],
   "source": [
    "with engine.connect() as conn:\n",
    "    result = conn.execute(db.text(QUERY_4))\n",
    "    for row in result:\n",
    "        print(row)"
   ]
  },
  {
   "cell_type": "code",
   "execution_count": null,
   "id": "4aedcbbf",
   "metadata": {},
   "outputs": [],
   "source": [
    "write_query_to_file(QUERY_4, QUERY_4_FILENAME)"
   ]
  },
  {
   "cell_type": "markdown",
   "id": "a59b3a9b",
   "metadata": {},
   "source": [
    "### Query 5"
   ]
  },
  {
   "cell_type": "code",
   "execution_count": null,
   "id": "ed8bcd59",
   "metadata": {},
   "outputs": [],
   "source": [
    "QUERY_5_FILENAME = QUERY_DIR / \"Q5_most_greenery.sql\"\n",
    "QUERY_5 = \"\"\"\n",
    "SELECT t.zipcode, COUNT(t.tree_id) AS total_trees\n",
    "FROM trees t\n",
    "LEFT JOIN zip_codes z ON ST_Contains(z.the_geom, t.the_geom)\n",
    "GROUP BY t.zipcode\n",
    "ORDER BY total_trees DESC\n",
    "LIMIT 10;\n",
    "\"\"\""
   ]
  },
  {
   "cell_type": "code",
   "execution_count": null,
   "id": "a198bdac",
   "metadata": {},
   "outputs": [],
   "source": [
    "with engine.connect() as conn:\n",
    "    result = conn.execute(db.text(QUERY_5))\n",
    "    for row in result:\n",
    "        print(row)"
   ]
  },
  {
   "cell_type": "code",
   "execution_count": null,
   "id": "6ecde12e",
   "metadata": {},
   "outputs": [],
   "source": [
    "write_query_to_file(QUERY_5, QUERY_5_FILENAME)"
   ]
  },
  {
   "cell_type": "markdown",
   "id": "4f697618",
   "metadata": {},
   "source": [
    "### Query 6"
   ]
  },
  {
   "cell_type": "code",
   "execution_count": null,
   "id": "54c417ea",
   "metadata": {},
   "outputs": [],
   "source": [
    "QUERY_6_FILENAME = QUERY_DIR / \"Q6_trees_within_0.5miles.sql\"\n",
    "QUERY_6 = \"\"\"\n",
    "SELECT tree_id, species, health, the_geom\n",
    "FROM trees\n",
    "WHERE ST_DWithin(ST_GeomFromText('POINT(-73.96253174434912 40.80737875669467)',4326), the_geom::geography, 804.672)\n",
    "\"\"\"\n",
    "\n",
    "# ST_DWithin uses meters as units. 0.5 miles = 804.672 meters\n",
    "# altitude 40.80737875669467 longtitude -73.96253174434912"
   ]
  },
  {
   "cell_type": "code",
   "execution_count": null,
   "id": "fb7dc8f6",
   "metadata": {},
   "outputs": [],
   "source": [
    "with engine.connect() as conn:\n",
    "    result = conn.execute(db.text(QUERY_6))\n",
    "    for row in result:\n",
    "        print(row)"
   ]
  },
  {
   "cell_type": "code",
   "execution_count": null,
   "id": "25d85415",
   "metadata": {},
   "outputs": [],
   "source": [
    "write_query_to_file(QUERY_6, QUERY_6_FILENAME)"
   ]
  },
  {
   "cell_type": "markdown",
   "id": "75223ce5-6ab5-4613-b6af-fa8e33bcc7d5",
   "metadata": {},
   "source": [
    "## Part 4: Visualizing the Data"
   ]
  },
  {
   "cell_type": "markdown",
   "id": "f3050660",
   "metadata": {},
   "source": [
    "### Visualization 1"
   ]
  },
  {
   "cell_type": "code",
   "execution_count": null,
   "id": "5b902037",
   "metadata": {},
   "outputs": [],
   "source": [
    "def plot_top_3_complaints(dataframe1):\n",
    "    figure, axes = plt.subplots(figsize=(20, 10))\n",
    "    axes.bar(dataframe1['complaint_type'], dataframe1['complaint_count'])\n",
    "\n",
    "    axes.set_title(\"Top 3 Complaint Types for October 1st, 2022 to September 30th, 2023 \")\n",
    "    axes.set_xlabel(\"Complaint Type\")\n",
    "    axes.set_ylabel(\"Complaint Count\")\n",
    "    \n",
    "    plt.show()"
   ]
  },
  {
   "cell_type": "code",
   "execution_count": null,
   "id": "69a54456",
   "metadata": {},
   "outputs": [],
   "source": [
    "def get_data_for_visual_1():\n",
    "    V1 = \"\"\"\n",
    "    SELECT complaint_type, COUNT(unique_key) AS complaint_count\n",
    "    FROM nyc_311\n",
    "    WHERE created_date BETWEEN '2022-10-01' AND '2023-09-30'\n",
    "    GROUP BY complaint_type\n",
    "    ORDER BY complaint_count DESC\n",
    "    LIMIT 3;\n",
    "    \"\"\"\n",
    "    with engine.connect() as conn:\n",
    "        result = conn.execute(db.text(V1))\n",
    "        dataframe1 = pd.DataFrame(result.fetchall(), columns=result.keys())\n",
    "    return dataframe1"
   ]
  },
  {
   "cell_type": "code",
   "execution_count": null,
   "id": "858802fa",
   "metadata": {},
   "outputs": [],
   "source": [
    "some_dataframe1 = get_data_for_visual_1()\n",
    "plot_top_3_complaints(some_dataframe1)"
   ]
  },
  {
   "cell_type": "markdown",
   "id": "b21fcfed-ddbb-4908-a60e-ed7cbc6d5b00",
   "metadata": {},
   "source": [
    "### Visualization 2"
   ]
  },
  {
   "cell_type": "code",
   "execution_count": null,
   "id": "6f0e2cde-e43b-407b-ab93-ff85a2dba469",
   "metadata": {},
   "outputs": [],
   "source": [
    "def plot_top_10_complaints(dataframe2):\n",
    "    figure, axes = plt.subplots(figsize=(20, 10))\n",
    "    \n",
    "    complaint_types = dataframe2['complaint_type']\n",
    "    complaint_counts = dataframe2['complaint_count']\n",
    "    axes.bar(complaint_types, complaint_counts)\n",
    "    axes.set_title('Top 10 Complaints in Zip Code 10027')\n",
    "    axes.set_xlabel('Complaint Type')\n",
    "    axes.set_ylabel('Complaint Count')\n",
    "    \n",
    "    plt.show()"
   ]
  },
  {
   "cell_type": "code",
   "execution_count": null,
   "id": "ed80755f-d1e1-4e53-8ef8-f5295c59a3fe",
   "metadata": {},
   "outputs": [],
   "source": [
    "def get_data_for_visual_2():\n",
    "    V2 = \"\"\"\n",
    "    SELECT complaint_type, COUNT(unique_key) AS complaint_count\n",
    "    FROM nyc_311\n",
    "    WHERE zipcode = '10027' AND created_date BETWEEN '2018-10-01' AND '2023-09-30'\n",
    "    GROUP BY complaint_type\n",
    "    ORDER BY complaint_count DESC\n",
    "    LIMIT 10;\n",
    "    \"\"\"\n",
    "    with engine.connect() as conn:\n",
    "        result = conn.execute(db.text(V2))\n",
    "        dataframe2 = pd.DataFrame(result.fetchall(), columns=result.keys())\n",
    "    return dataframe2"
   ]
  },
  {
   "cell_type": "code",
   "execution_count": null,
   "id": "f6a2632a-b516-4a6e-8b67-97116ab6fce4",
   "metadata": {},
   "outputs": [],
   "source": [
    "some_dataframe2 = get_data_for_visual_2()\n",
    "plot_top_10_complaints(some_dataframe2)"
   ]
  },
  {
   "cell_type": "markdown",
   "id": "6fdf14b3",
   "metadata": {},
   "source": [
    "### Visualization 3"
   ]
  },
  {
   "cell_type": "code",
   "execution_count": null,
   "id": "a330bfff",
   "metadata": {},
   "outputs": [],
   "source": [
    "def plot_rent_trees_complaints(dataframe3):\n",
    "    fig, (ax1, ax2) = plt.subplots(2, 1, figsize=(20, 20), sharex=True)\n",
    "\n",
    "    # Rent & Tree Count\n",
    "    ax1.scatter(dataframe3['AverageRent'], dataframe3['TreeCount'])\n",
    "    ax1.set_title(\"Average Rent vs Tree Count\")\n",
    "    ax1.set_xlabel(\"Average Rent\")\n",
    "    ax1.set_ylabel(\"Tree Count\")\n",
    "\n",
    "    # Rent & Number of Complaints\n",
    "    ax2.scatter(dataframe3['AverageRent'], dataframe3['ComplaintCount'])\n",
    "    ax2.set_title(\"Average Rent vs Number of Complaints\")\n",
    "    ax2.set_xlabel(\"Average Rent\")\n",
    "    ax2.set_ylabel(\"Complaint Count\")\n",
    "\n",
    "    plt.show()"
   ]
  },
  {
   "cell_type": "code",
   "execution_count": null,
   "id": "07b9eb2a",
   "metadata": {},
   "outputs": [],
   "source": [
    "conn = psycopg2.connect(f\"dbname={DB_NAME} user={DB_USER}\")\n",
    "cur = conn.cursor()\n",
    "Temp = \"\"\"\n",
    "    CREATE OR REPLACE FUNCTION TransformRentData()\n",
    "    RETURNS TABLE(regionid INT, zipcode VARCHAR, month VARCHAR, average_rent NUMERIC) AS $$\n",
    "    DECLARE\n",
    "        start_date DATE := '2015-01-01';\n",
    "        end_date DATE := '2023-09-01';\n",
    "        current_date DATE := start_date;\n",
    "    BEGIN\n",
    "        CREATE TEMPORARY TABLE TempRentData (\n",
    "            regionid INT,\n",
    "            zipcode VARCHAR,\n",
    "            month VARCHAR,\n",
    "            average_rent NUMERIC\n",
    "        );\n",
    "\n",
    "        WHILE current_date <= end_date LOOP\n",
    "            EXECUTE FORMAT(\n",
    "                'INSERT INTO TempRentData (regionid, zipcode, month, average_rent) '\n",
    "                'SELECT regionid, zipcode, %L, \"%s\" FROM rent;',\n",
    "                TO_CHAR(current_date, 'YYYY-MM'), TO_CHAR(current_date, 'YYYY-MM')\n",
    "            );\n",
    "\n",
    "            current_date := current_date + INTERVAL '1 month';\n",
    "        END LOOP;\n",
    "\n",
    "        RETURN QUERY SELECT * FROM TempRentData;\n",
    "\n",
    "        DROP TABLE TempRentData;\n",
    "    END;\n",
    "    $$ LANGUAGE plpgsql;\n",
    "\n",
    "\"\"\"\n",
    "with cur:\n",
    "    cur.execute(Temp)\n",
    "\n",
    "conn.commit()"
   ]
  },
  {
   "cell_type": "code",
   "execution_count": null,
   "id": "5da3f1eb",
   "metadata": {},
   "outputs": [],
   "source": [
    "def get_data_for_visual_3():\n",
    "    V3 = \"\"\"\n",
    "    CALL TransformRentData();\n",
    "\n",
    "    WITH AggregatedTrees AS (\n",
    "        SELECT zipcode, COUNT(*) AS TreeCount\n",
    "        FROM trees\n",
    "        GROUP BY zipcode\n",
    "    ),\n",
    "\n",
    "    AggregatedComplaints AS (\n",
    "        SELECT zipcode, COUNT(*) AS ComplaintCount\n",
    "        FROM nyc_311\n",
    "        GROUP BY zipcode\n",
    "    )\n",
    "\n",
    "    SELECT \n",
    "        tr.zipcode, \n",
    "        tr.month, \n",
    "        tr.average_rent, \n",
    "        at.TreeCount, \n",
    "        ac.ComplaintCount\n",
    "    FROM \n",
    "        TempRentData tr\n",
    "    LEFT JOIN \n",
    "        AggregatedTrees at ON tr.zipcode = at.zipcode\n",
    "    LEFT JOIN \n",
    "        AggregatedComplaints ac ON tr.zipcode = ac.zipcode\n",
    "    ORDER BY\n",
    "        tr.zipcode, tr.month;\n",
    "    \"\"\"\n",
    "   \n",
    "    with engine.connect() as conn:\n",
    "        result = conn.execute(db.text(V3))\n",
    "        dataframe3 = pd.DataFrame(result.fetchall(), columns=result.keys())\n",
    "    return dataframe3\n"
   ]
  },
  {
   "cell_type": "code",
   "execution_count": null,
   "id": "567ad63e",
   "metadata": {},
   "outputs": [],
   "source": [
    "some_dataframe3 = get_data_for_visual_3()\n",
    "plot_rent_trees_complaints(some_dataframe3)"
   ]
  },
  {
   "cell_type": "markdown",
   "id": "114bed18",
   "metadata": {},
   "source": [
    "### Visualization 4"
   ]
  },
  {
   "cell_type": "code",
   "execution_count": 20,
   "id": "97ae08e9",
   "metadata": {},
   "outputs": [],
   "source": [
    "def plot_rent_vs_complaints(dataframe4):\n",
    "    dataframe4['RentBin'] = pd.cut(dataframe4['rent'], bins=range(0, int(dataframe4['rent'].max()) + 1000, 1000))\n",
    "    \n",
    "    plt.figure(figsize=(30, 30))\n",
    "    boxplot = dataframe4.boxplot(column='complaint_count', by='RentBin', showfliers=False)\n",
    "    \n",
    "    plt.title('Number of 311 Complaints vs. Average Rent Bins')\n",
    "    plt.suptitle('')\n",
    "    plt.xlabel('Average Rent')\n",
    "    plt.ylabel('Number of Complaints')\n",
    "    plt.xticks(fontsize=7)\n",
    "    \n",
    "    plt.show()"
   ]
  },
  {
   "cell_type": "code",
   "execution_count": 21,
   "id": "b064c789",
   "metadata": {},
   "outputs": [],
   "source": [
    "def get_data_for_visual_4():\n",
    "    V4 = \"\"\"\n",
    "    SELECT r.zipcode, r.\"2023-09-30\" AS Rent, COUNT(n.unique_key) AS complaint_count\n",
    "    FROM nyc_311 n\n",
    "    JOIN rent r ON n.zipcode = r.zipcode\n",
    "    WHERE n.created_date BETWEEN '2022-10-01' AND '2023-09-30'\n",
    "    GROUP BY r.zipcode, r.\"2023-09-30\"\n",
    "    ORDER BY r.\"2023-09-30\";\n",
    "    \"\"\"\n",
    "    \n",
    "    with engine.connect() as conn:\n",
    "        result = conn.execute(db.text(V4))\n",
    "        dataframe4 = pd.DataFrame(result.fetchall(), columns=result.keys())\n",
    "\n",
    "    return dataframe4"
   ]
  },
  {
   "cell_type": "code",
   "execution_count": 22,
   "id": "f1285841",
   "metadata": {},
   "outputs": [
    {
     "data": {
      "text/plain": [
       "<Figure size 3000x3000 with 0 Axes>"
      ]
     },
     "metadata": {},
     "output_type": "display_data"
    },
    {
     "data": {
      "image/png": "[encoded data removed]",
      "text/plain": [
       "<Figure size 640x480 with 1 Axes>"
      ]
     },
     "metadata": {},
     "output_type": "display_data"
    }
   ],
   "source": [
    "some_dataframe4 = get_data_for_visual_4()\n",
    "plot_rent_vs_complaints(some_dataframe4)"
   ]
  },
  {
   "cell_type": "markdown",
   "id": "34e130cc",
   "metadata": {},
   "source": [
    "### Visualization 5"
   ]
  },
  {
   "cell_type": "code",
   "execution_count": null,
   "id": "d039282e",
   "metadata": {},
   "outputs": [],
   "source": [
    "def plot_recent_311_incidents(dataframe5):\n",
    "    # Convert WKB to shapely geometries\n",
    "    dataframe5['geometry'] = dataframe5['the_geom'].apply(lambda x: wkb.loads(binascii.unhexlify(x)))\n",
    "    # Extract longitude and latitude for each geometry\n",
    "    dataframe5['longitude'] = dataframe5['geometry'].apply(lambda geom: geom.centroid.x)\n",
    "    dataframe5['latitude'] = dataframe5['geometry'].apply(lambda geom: geom.centroid.y)\n",
    "\n",
    "    plt.figure(figsize=(10, 10))\n",
    "    plt.scatter(dataframe5['longitude'], dataframe5['latitude'], marker='o', color='blue', alpha=0.5)\n",
    "    plt.title(\"Recent 311 Incidents in Immediate Area\")\n",
    "    plt.xlabel(\"Longitude\")\n",
    "    plt.ylabel(\"Latitude\")\n",
    "    plt.grid(True)\n",
    "    plt.show()"
   ]
  },
  {
   "cell_type": "code",
   "execution_count": 9,
   "id": "74afa6ce",
   "metadata": {},
   "outputs": [],
   "source": [
    "def get_data_for_visual_5():\n",
    "    V5 = \"\"\"\n",
    "    SELECT n.unique_key, n.created_date, n.zipcode, n.complaint_type, z.the_geom\n",
    "    FROM nyc_311 n\n",
    "    JOIN zip_codes z ON n.zipcode = z.zipcode\n",
    "    WHERE n.created_date BETWEEN '2023-01-01' AND '2023-09-30'\n",
    "    AND ST_DistanceSphere(z.the_geom, ST_MakePoint(-73.96253174434912,40.80737875669467)) <= 1000;\n",
    "    \"\"\"\n",
    "    \n",
    "    with engine.connect() as conn:\n",
    "        result = conn.execute(db.text(V5))\n",
    "        dataframe5 = pd.DataFrame(result.fetchall(), columns=result.keys())\n",
    "\n",
    "    return dataframe5"
   ]
  },
  {
   "cell_type": "code",
   "execution_count": 10,
   "id": "dd49f73f",
   "metadata": {},
   "outputs": [
    {
     "ename": "NameError",
     "evalue": "name 'plot_recent_311_incidents' is not defined",
     "output_type": "error",
     "traceback": [
      "\u001b[0;31m---------------------------------------------------------------------------\u001b[0m",
      "\u001b[0;31mNameError\u001b[0m                                 Traceback (most recent call last)",
      "Cell \u001b[0;32mIn[10], line 2\u001b[0m\n\u001b[1;32m      1\u001b[0m some_dataframe5 \u001b[38;5;241m=\u001b[39m get_data_for_visual_5()\n\u001b[0;32m----> 2\u001b[0m plot_recent_311_incidents(some_dataframe5)\n",
      "\u001b[0;31mNameError\u001b[0m: name 'plot_recent_311_incidents' is not defined"
     ]
    }
   ],
   "source": [
    "some_dataframe5 = get_data_for_visual_5()\n",
    "plot_recent_311_incidents(some_dataframe5)"
   ]
  },
  {
   "cell_type": "markdown",
   "id": "a19e835d",
   "metadata": {},
   "source": [
    "### Visualization 6"
   ]
  },
  {
   "cell_type": "code",
   "execution_count": null,
   "id": "f601e1df",
   "metadata": {},
   "outputs": [],
   "source": [
    "def plot_trees_and_complaints(tree_df, complaints_df):   \n",
    "\n",
    "    # Create the plot\n",
    "    fig, ax = plt.subplots(figsize=(15, 15))\n",
    "    \n",
    "    temp_tree = tree_df\n",
    "    temp_complaints = complaints_df\n",
    "    \n",
    "    temp_tree['g'] = temp_tree['the_geom'].apply(lambda x: wkb.loads(binascii.unhexlify(x)))\n",
    "    temp_tree['longitude'] = temp_tree['g'].apply(lambda geom: geom.centroid.x)\n",
    "    temp_tree['latitude'] = temp_tree['g'].apply(lambda geom: geom.centroid.y)\n",
    "\n",
    "    temp_complaints['g'] = temp_complaints['the_geom'].apply(lambda x: wkb.loads(binascii.unhexlify(x)))\n",
    "    temp_complaints['longitude'] = temp_complaints['g'].apply(lambda geom: geom.centroid.x)\n",
    "    temp_complaints['latitude'] = temp_complaints['g'].apply(lambda geom: geom.centroid.y)\n",
    "    \n",
    "    # Scatter plot for trees\n",
    "    plt.scatter(tree_df['longitude'], tree_df['latitude'], marker='o', color='blue', label='Trees')\n",
    "    plt.scatter(complaints_df['longitude'], complaints_df['latitude'], marker='x', color='red', label='New Tree Requests')\n",
    "    \n",
    "    ax.legend()\n",
    "    ax.set_title('Trees and New Tree Requests in NYC')\n",
    "    plt.xlabel(\"Longitude\")\n",
    "    plt.ylabel(\"Latitude\")\n",
    "\n",
    "    plt.show()\n"
   ]
  },
  {
   "cell_type": "code",
   "execution_count": 8,
   "id": "645125d5",
   "metadata": {},
   "outputs": [],
   "source": [
    "def get_data_for_visual_6():\n",
    "    #2018-10-01 to 2023-09-30\n",
    "    V6_trees = \"\"\"\n",
    "    SELECT tree_id, the_geom\n",
    "    FROM trees;\n",
    "    \"\"\"\n",
    "\n",
    "    V6_complaints = \"\"\"\n",
    "    SELECT n.unique_key, n.created_date, n.zipcode, n.complaint_type, z.the_geom\n",
    "    FROM nyc_311 n\n",
    "    JOIN zip_codes z ON n.zipcode = z.zipcode\n",
    "    WHERE n.created_date BETWEEN '2022-10-01' AND '2023-10-01'\n",
    "    AND complaint_type = 'New Tree Request';\n",
    "    \"\"\"\n",
    "\n",
    "    with engine.connect() as conn:\n",
    "        trees_result = conn.execute(db.text(V6_trees))\n",
    "        complaints_result = conn.execute(db.text(V6_complaints))\n",
    "\n",
    "        trees_df = gpd.GeoDataFrame(trees_result.fetchall(), columns=trees_result.keys())\n",
    "        complaints_df = gpd.GeoDataFrame(complaints_result.fetchall(), columns=complaints_result.keys())\n",
    "\n",
    "    return trees_df, complaints_df"
   ]
  },
  {
   "cell_type": "code",
   "execution_count": null,
   "id": "7f7c19ae",
   "metadata": {},
   "outputs": [],
   "source": [
    "some_trees_df, some_complaints_df = get_data_for_visual_6()  \n",
    "plot_trees_and_complaints(some_trees_df, some_complaints_df)"
   ]
  },
  {
   "cell_type": "code",
   "execution_count": null,
   "id": "0cdfaf54",
   "metadata": {},
   "outputs": [],
   "source": []
  }
 ],
 "metadata": {
  "kernelspec": {
   "display_name": "Python 3 (ipykernel)",
   "language": "python",
   "name": "python3"
  },
  "language_info": {
   "codemirror_mode": {
    "name": "ipython",
    "version": 3
   },
   "file_extension": ".py",
   "mimetype": "text/x-python",
   "name": "python",
   "nbconvert_exporter": "python",
   "pygments_lexer": "ipython3",
   "version": "3.11.4"
  }
 },
 "nbformat": 4,
 "nbformat_minor": 5
}
